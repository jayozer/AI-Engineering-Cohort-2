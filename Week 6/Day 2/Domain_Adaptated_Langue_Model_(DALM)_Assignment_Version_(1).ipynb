{
  "cells": [
    {
      "cell_type": "markdown",
      "metadata": {
        "id": "OIrkM5g_zyo0"
      },
      "source": [
        "# Domain Adaptated Langue Model (DALM) - Arcee.ai - An End to End RAG Solution\n",
        "\n",
        "In the following notebook, we'll work through an \"end-to-end\" RAG approach created by Arcee.ai called [\"Domain Adapted Language Model\"](https://github.com/arcee-ai/DALM)!\n",
        "\n",
        "- 🤝 Breakout Room #1\n",
        "  1. Task 1: Cloning DALM Repository and Installing Dependencies\n",
        "  2. Task 2: Preparing Dataset for Training\n",
        "  3. Task 3: Training E2E Rag\n",
        "  4. Task 4: Implementing a LCEL RAG Chain with our Models"
      ]
    },
    {
      "cell_type": "markdown",
      "metadata": {
        "id": "lJHYB80fAHZ2"
      },
      "source": [
        "## Task 1: Cloning DALM Repository and Installing Dependencies\n",
        "\n",
        "\n"
      ]
    },
    {
      "cell_type": "code",
      "execution_count": null,
      "metadata": {
        "colab": {
          "base_uri": "https://localhost:8080/"
        },
        "id": "iluTPAeNAGev",
        "outputId": "8fbaec6b-7a74-4b65-b209-2cb9118c7951"
      },
      "outputs": [
        {
          "output_type": "stream",
          "name": "stdout",
          "text": [
            "Cloning into 'DALM'...\n",
            "remote: Enumerating objects: 1802, done.\u001b[K\n",
            "remote: Counting objects: 100% (423/423), done.\u001b[K\n",
            "remote: Compressing objects: 100% (148/148), done.\u001b[K\n",
            "remote: Total 1802 (delta 293), reused 332 (delta 267), pack-reused 1379\u001b[K\n",
            "Receiving objects: 100% (1802/1802), 19.41 MiB | 32.86 MiB/s, done.\n",
            "Resolving deltas: 100% (1067/1067), done.\n"
          ]
        }
      ],
      "source": [
        "!git clone https://github.com/arcee-ai/DALM"
      ]
    },
    {
      "cell_type": "code",
      "execution_count": null,
      "metadata": {
        "colab": {
          "base_uri": "https://localhost:8080/"
        },
        "id": "u880kpH_zm11",
        "outputId": "f6a37861-cdfc-41f4-abdc-bca21393a805"
      },
      "outputs": [
        {
          "output_type": "stream",
          "name": "stdout",
          "text": [
            "/content/DALM\n",
            "  Installing build dependencies ... \u001b[?25l\u001b[?25hdone\n",
            "  Checking if build backend supports build_editable ... \u001b[?25l\u001b[?25hdone\n",
            "  Getting requirements to build editable ... \u001b[?25l\u001b[?25hdone\n",
            "  Preparing editable metadata (pyproject.toml) ... \u001b[?25l\u001b[?25hdone\n",
            "  Installing build dependencies ... \u001b[?25l\u001b[?25hdone\n",
            "  Getting requirements to build wheel ... \u001b[?25l\u001b[?25hdone\n",
            "  Preparing metadata (pyproject.toml) ... \u001b[?25l\u001b[?25hdone\n",
            "\u001b[2K     \u001b[90m━━━━━━━━━━━━━━━━━━━━━━━━━━━━━━━━━━━━━━━━\u001b[0m \u001b[32m199.1/199.1 kB\u001b[0m \u001b[31m2.4 MB/s\u001b[0m eta \u001b[36m0:00:00\u001b[0m\n",
            "\u001b[2K     \u001b[90m━━━━━━━━━━━━━━━━━━━━━━━━━━━━━━━━━━━━━━━━\u001b[0m \u001b[32m3.1/3.1 MB\u001b[0m \u001b[31m23.8 MB/s\u001b[0m eta \u001b[36m0:00:00\u001b[0m\n",
            "\u001b[2K     \u001b[90m━━━━━━━━━━━━━━━━━━━━━━━━━━━━━━━━━━━━━━━━\u001b[0m \u001b[32m71.1/71.1 kB\u001b[0m \u001b[31m9.7 MB/s\u001b[0m eta \u001b[36m0:00:00\u001b[0m\n",
            "\u001b[2K     \u001b[90m━━━━━━━━━━━━━━━━━━━━━━━━━━━━━━━━━━━━━━━━\u001b[0m \u001b[32m245.2/245.2 kB\u001b[0m \u001b[31m30.8 MB/s\u001b[0m eta \u001b[36m0:00:00\u001b[0m\n",
            "\u001b[2K     \u001b[90m━━━━━━━━━━━━━━━━━━━━━━━━━━━━━━━━━━━━━━━━\u001b[0m \u001b[32m116.3/116.3 kB\u001b[0m \u001b[31m18.0 MB/s\u001b[0m eta \u001b[36m0:00:00\u001b[0m\n",
            "\u001b[2K     \u001b[90m━━━━━━━━━━━━━━━━━━━━━━━━━━━━━━━━━━━━━━━━\u001b[0m \u001b[32m194.1/194.1 kB\u001b[0m \u001b[31m27.9 MB/s\u001b[0m eta \u001b[36m0:00:00\u001b[0m\n",
            "\u001b[2K     \u001b[90m━━━━━━━━━━━━━━━━━━━━━━━━━━━━━━━━━━━━━━━━\u001b[0m \u001b[32m134.8/134.8 kB\u001b[0m \u001b[31m18.6 MB/s\u001b[0m eta \u001b[36m0:00:00\u001b[0m\n",
            "\u001b[2K     \u001b[90m━━━━━━━━━━━━━━━━━━━━━━━━━━━━━━━━━━━━━━━━\u001b[0m \u001b[32m401.2/401.2 kB\u001b[0m \u001b[31m46.7 MB/s\u001b[0m eta \u001b[36m0:00:00\u001b[0m\n",
            "\u001b[2K     \u001b[90m━━━━━━━━━━━━━━━━━━━━━━━━━━━━━━━━━━━━━━━━\u001b[0m \u001b[32m102.4/102.4 kB\u001b[0m \u001b[31m15.4 MB/s\u001b[0m eta \u001b[36m0:00:00\u001b[0m\n",
            "\u001b[?25h  Building editable for indomain (pyproject.toml) ... \u001b[?25l\u001b[?25hdone\n",
            "  Building wheel for hnswlib (pyproject.toml) ... \u001b[?25l\u001b[?25hdone\n"
          ]
        }
      ],
      "source": [
        "%cd DALM\n",
        "!pip install --upgrade -q -e ."
      ]
    },
    {
      "cell_type": "code",
      "execution_count": null,
      "metadata": {
        "colab": {
          "base_uri": "https://localhost:8080/"
        },
        "id": "UDUcxb8MVqgD",
        "outputId": "dabf125c-3c7a-4fb6-8246-ebf436dd084e"
      },
      "outputs": [
        {
          "output_type": "stream",
          "name": "stdout",
          "text": [
            "\u001b[2K     \u001b[90m━━━━━━━━━━━━━━━━━━━━━━━━━━━━━━━━━━━━━━━━\u001b[0m \u001b[32m1.0/1.0 MB\u001b[0m \u001b[31m6.3 MB/s\u001b[0m eta \u001b[36m0:00:00\u001b[0m\n",
            "\u001b[2K     \u001b[90m━━━━━━━━━━━━━━━━━━━━━━━━━━━━━━━━━━━━━━━━\u001b[0m \u001b[32m302.9/302.9 kB\u001b[0m \u001b[31m31.7 MB/s\u001b[0m eta \u001b[36m0:00:00\u001b[0m\n",
            "\u001b[2K     \u001b[90m━━━━━━━━━━━━━━━━━━━━━━━━━━━━━━━━━━━━━━━━\u001b[0m \u001b[32m2.0/2.0 MB\u001b[0m \u001b[31m34.2 MB/s\u001b[0m eta \u001b[36m0:00:00\u001b[0m\n",
            "\u001b[2K     \u001b[90m━━━━━━━━━━━━━━━━━━━━━━━━━━━━━━━━━━━━━━━━\u001b[0m \u001b[32m171.5/171.5 kB\u001b[0m \u001b[31m20.6 MB/s\u001b[0m eta \u001b[36m0:00:00\u001b[0m\n",
            "\u001b[2K     \u001b[90m━━━━━━━━━━━━━━━━━━━━━━━━━━━━━━━━━━━━━━━━\u001b[0m \u001b[32m120.8/120.8 kB\u001b[0m \u001b[31m16.5 MB/s\u001b[0m eta \u001b[36m0:00:00\u001b[0m\n",
            "\u001b[2K     \u001b[90m━━━━━━━━━━━━━━━━━━━━━━━━━━━━━━━━━━━━━━━━\u001b[0m \u001b[32m53.0/53.0 kB\u001b[0m \u001b[31m7.4 MB/s\u001b[0m eta \u001b[36m0:00:00\u001b[0m\n",
            "\u001b[2K     \u001b[90m━━━━━━━━━━━━━━━━━━━━━━━━━━━━━━━━━━━━━━━━\u001b[0m \u001b[32m49.3/49.3 kB\u001b[0m \u001b[31m6.1 MB/s\u001b[0m eta \u001b[36m0:00:00\u001b[0m\n",
            "\u001b[2K     \u001b[90m━━━━━━━━━━━━━━━━━━━━━━━━━━━━━━━━━━━━━━━━\u001b[0m \u001b[32m142.5/142.5 kB\u001b[0m \u001b[31m18.8 MB/s\u001b[0m eta \u001b[36m0:00:00\u001b[0m\n",
            "\u001b[?25h"
          ]
        }
      ],
      "source": [
        "!pip install -qU langchain langchain-core langchain-community sentence_transformers"
      ]
    },
    {
      "cell_type": "code",
      "execution_count": null,
      "metadata": {
        "colab": {
          "base_uri": "https://localhost:8080/"
        },
        "id": "Ya85R1w1WOmR",
        "outputId": "ad0b9c92-9007-4952-81c8-a5e9684fdeab"
      },
      "outputs": [
        {
          "output_type": "stream",
          "name": "stdout",
          "text": [
            "\u001b[2K     \u001b[90m━━━━━━━━━━━━━━━━━━━━━━━━━━━━━━━━━━━━━━━━\u001b[0m \u001b[32m3.5/3.5 MB\u001b[0m \u001b[31m12.6 MB/s\u001b[0m eta \u001b[36m0:00:00\u001b[0m\n",
            "\u001b[2K     \u001b[90m━━━━━━━━━━━━━━━━━━━━━━━━━━━━━━━━━━━━━━━━\u001b[0m \u001b[32m27.0/27.0 MB\u001b[0m \u001b[31m37.9 MB/s\u001b[0m eta \u001b[36m0:00:00\u001b[0m\n",
            "\u001b[2K     \u001b[90m━━━━━━━━━━━━━━━━━━━━━━━━━━━━━━━━━━━━━━━━\u001b[0m \u001b[32m15.8/15.8 MB\u001b[0m \u001b[31m51.3 MB/s\u001b[0m eta \u001b[36m0:00:00\u001b[0m\n",
            "\u001b[?25h"
          ]
        }
      ],
      "source": [
        "!pip install -qU pymupdf faiss-cpu"
      ]
    },
    {
      "cell_type": "markdown",
      "metadata": {
        "id": "lmtQZjf1EVIj"
      },
      "source": [
        "## Task 2: Prepare Dataset of Examples\n",
        "\n",
        "E2E RAG requires a dataset of `[Question, Abstract, Answer]` triples\n",
        "\n",
        "At inference time, our model will take a users query, draw from the available passages, and pass relevant context to the generator to create an answer.\n",
        "\n",
        "We'll use synthetic dataset generation powered by OpenAI's `gpt-3.5-turbo` to generate our questions and answers for each piece of context through `llama-index`.\n",
        "\n",
        "We'll be working with Douglas Adam's Hitchhiker's Guide - but feel free to substitute your own data!\n"
      ]
    },
    {
      "cell_type": "markdown",
      "metadata": {
        "id": "FyrYxlLMPrXO"
      },
      "source": [
        "## Generating Synthetic Training Data with Llama Index\n",
        "\n",
        "Let's generate some synthetic data using Llama Index - we'll do this with `gpt-3.5-turbo` and then use the resultant data to fine-tune!\n",
        "\n",
        "Let's install our dependencies for this process!"
      ]
    },
    {
      "cell_type": "code",
      "execution_count": null,
      "metadata": {
        "colab": {
          "base_uri": "https://localhost:8080/"
        },
        "id": "bFZouSmBRpNb",
        "outputId": "73bf6be6-2220-4d04-9718-006c4ab17121"
      },
      "outputs": [
        {
          "output_type": "stream",
          "name": "stdout",
          "text": [
            "\u001b[2K     \u001b[90m━━━━━━━━━━━━━━━━━━━━━━━━━━━━━━━━━━━━━━━━\u001b[0m \u001b[32m290.4/290.4 kB\u001b[0m \u001b[31m2.8 MB/s\u001b[0m eta \u001b[36m0:00:00\u001b[0m\n",
            "\u001b[2K     \u001b[90m━━━━━━━━━━━━━━━━━━━━━━━━━━━━━━━━━━━━━━━━\u001b[0m \u001b[32m15.4/15.4 MB\u001b[0m \u001b[31m56.3 MB/s\u001b[0m eta \u001b[36m0:00:00\u001b[0m\n",
            "\u001b[2K     \u001b[90m━━━━━━━━━━━━━━━━━━━━━━━━━━━━━━━━━━━━━━━━\u001b[0m \u001b[32m2.0/2.0 MB\u001b[0m \u001b[31m79.7 MB/s\u001b[0m eta \u001b[36m0:00:00\u001b[0m\n",
            "\u001b[2K     \u001b[90m━━━━━━━━━━━━━━━━━━━━━━━━━━━━━━━━━━━━━━━━\u001b[0m \u001b[32m320.1/320.1 kB\u001b[0m \u001b[31m36.3 MB/s\u001b[0m eta \u001b[36m0:00:00\u001b[0m\n",
            "\u001b[2K     \u001b[90m━━━━━━━━━━━━━━━━━━━━━━━━━━━━━━━━━━━━━━━━\u001b[0m \u001b[32m75.6/75.6 kB\u001b[0m \u001b[31m9.9 MB/s\u001b[0m eta \u001b[36m0:00:00\u001b[0m\n",
            "\u001b[2K     \u001b[90m━━━━━━━━━━━━━━━━━━━━━━━━━━━━━━━━━━━━━━━━\u001b[0m \u001b[32m141.9/141.9 kB\u001b[0m \u001b[31m19.5 MB/s\u001b[0m eta \u001b[36m0:00:00\u001b[0m\n",
            "\u001b[2K     \u001b[90m━━━━━━━━━━━━━━━━━━━━━━━━━━━━━━━━━━━━━━━━\u001b[0m \u001b[32m1.8/1.8 MB\u001b[0m \u001b[31m80.3 MB/s\u001b[0m eta \u001b[36m0:00:00\u001b[0m\n",
            "\u001b[2K     \u001b[90m━━━━━━━━━━━━━━━━━━━━━━━━━━━━━━━━━━━━━━━━\u001b[0m \u001b[32m77.9/77.9 kB\u001b[0m \u001b[31m10.4 MB/s\u001b[0m eta \u001b[36m0:00:00\u001b[0m\n",
            "\u001b[2K     \u001b[90m━━━━━━━━━━━━━━━━━━━━━━━━━━━━━━━━━━━━━━━━\u001b[0m \u001b[32m58.3/58.3 kB\u001b[0m \u001b[31m7.8 MB/s\u001b[0m eta \u001b[36m0:00:00\u001b[0m\n",
            "\u001b[?25h"
          ]
        }
      ],
      "source": [
        "!pip install -U -q llama-index pypdf"
      ]
    },
    {
      "cell_type": "markdown",
      "metadata": {
        "id": "-IxQhIAiRwDH"
      },
      "source": [
        "### Loading Data\n",
        "\n",
        "Now we're good to grab some data!\n",
        "\n",
        "We're going to use Hithhiker's Guide to the Galaxy as our example data today!"
      ]
    },
    {
      "cell_type": "code",
      "execution_count": null,
      "metadata": {
        "colab": {
          "base_uri": "https://localhost:8080/"
        },
        "id": "SZHziK8_RLZr",
        "outputId": "18b885a2-6244-4ded-ceab-3ed60f10d7ba"
      },
      "outputs": [
        {
          "output_type": "stream",
          "name": "stdout",
          "text": [
            "--2024-05-11 00:00:41--  https://justcheckingonall.files.wordpress.com/2008/01/hhgtg1.pdf\n",
            "Resolving justcheckingonall.files.wordpress.com (justcheckingonall.files.wordpress.com)... 192.0.72.22, 192.0.72.23\n",
            "Connecting to justcheckingonall.files.wordpress.com (justcheckingonall.files.wordpress.com)|192.0.72.22|:443... connected.\n",
            "HTTP request sent, awaiting response... 302 Moved Temporarily\n",
            "Location: https://justcheckingonall.wordpress.com/wp-content/uploads/2008/01/hhgtg1.pdf [following]\n",
            "--2024-05-11 00:00:41--  https://justcheckingonall.wordpress.com/wp-content/uploads/2008/01/hhgtg1.pdf\n",
            "Resolving justcheckingonall.wordpress.com (justcheckingonall.wordpress.com)... 192.0.78.13, 192.0.78.12\n",
            "Connecting to justcheckingonall.wordpress.com (justcheckingonall.wordpress.com)|192.0.78.13|:443... connected.\n",
            "HTTP request sent, awaiting response... 200 OK\n",
            "Length: 361977 (353K) [application/pdf]\n",
            "Saving to: ‘hhgtg1.pdf’\n",
            "\n",
            "hhgtg1.pdf          100%[===================>] 353.49K  --.-KB/s    in 0.1s    \n",
            "\n",
            "2024-05-11 00:00:41 (3.10 MB/s) - ‘hhgtg1.pdf’ saved [361977/361977]\n",
            "\n"
          ]
        }
      ],
      "source": [
        "!wget https://justcheckingonall.files.wordpress.com/2008/01/hhgtg1.pdf"
      ]
    },
    {
      "cell_type": "code",
      "execution_count": null,
      "metadata": {
        "id": "pi6SyrfqSFMV"
      },
      "outputs": [],
      "source": [
        "TRAINING_FILES = [\"hhgtg1.pdf\"]"
      ]
    },
    {
      "cell_type": "markdown",
      "metadata": {
        "id": "yXqLvedCRVg7"
      },
      "source": [
        "Now that we have our data, let's organize into our desired format for generating synthetic questions/responses."
      ]
    },
    {
      "cell_type": "code",
      "execution_count": null,
      "metadata": {
        "id": "PesOv-LhRgtK"
      },
      "outputs": [],
      "source": [
        "from llama_index.core import SimpleDirectoryReader\n",
        "from llama_index.core.node_parser import SimpleNodeParser\n",
        "from llama_index.core.schema import MetadataMode\n",
        "\n",
        "def load_corpus(files, verbose=False):\n",
        "    if verbose:\n",
        "        print(f\"Loading files {files}\")\n",
        "\n",
        "    reader = SimpleDirectoryReader(input_files=files)\n",
        "    docs = reader.load_data()\n",
        "    if verbose:\n",
        "        print(f'Loaded {len(docs)} docs')\n",
        "\n",
        "    parser = SimpleNodeParser.from_defaults()\n",
        "    nodes = parser.get_nodes_from_documents(docs, show_progress=verbose)\n",
        "\n",
        "    if verbose:\n",
        "        print(f'Parsed {len(nodes)} nodes')\n",
        "\n",
        "    corpus = {node.node_id: node.get_content(metadata_mode=MetadataMode.NONE) for node in nodes}\n",
        "    return corpus"
      ]
    },
    {
      "cell_type": "code",
      "execution_count": null,
      "metadata": {
        "colab": {
          "base_uri": "https://localhost:8080/",
          "height": 101,
          "referenced_widgets": [
            "5ef61a714e37476da01acd28ee4c98b6",
            "caf8d87e34b24cffbcbbc6e5fb20548e",
            "1166da70668b450eae449681ae1a7be6",
            "af544ecb489549b0a9799389c34fc42a",
            "42e7afdaac7f45d6a774092652d4f464",
            "1a0ad200066a4f34a930986c345e9ec1",
            "b35669d59b864e869e24c3c4039765cf",
            "15e3e9c717f8461d9b39f3129606e0e0",
            "1434016fc9424d2a9a1a56dc379938a1",
            "b1f2a6de3a3f4afc8b3eb1f369fe06b0",
            "06f00898b1ef45569210a330aa629c37"
          ]
        },
        "id": "A1FdiayUSBd6",
        "outputId": "f0583c0e-a7c0-4813-ff54-a71faf838082"
      },
      "outputs": [
        {
          "output_type": "stream",
          "name": "stdout",
          "text": [
            "Loading files ['hhgtg1.pdf']\n",
            "Loaded 139 docs\n"
          ]
        },
        {
          "output_type": "display_data",
          "data": {
            "text/plain": [
              "Parsing nodes:   0%|          | 0/139 [00:00<?, ?it/s]"
            ],
            "application/vnd.jupyter.widget-view+json": {
              "version_major": 2,
              "version_minor": 0,
              "model_id": "5ef61a714e37476da01acd28ee4c98b6"
            }
          },
          "metadata": {}
        },
        {
          "output_type": "stream",
          "name": "stdout",
          "text": [
            "Parsed 139 nodes\n"
          ]
        }
      ],
      "source": [
        "train_corpus = load_corpus(TRAINING_FILES, verbose=True)"
      ]
    },
    {
      "cell_type": "markdown",
      "metadata": {
        "id": "xtPuHmJzSMEB"
      },
      "source": [
        "### Creating Synthetic QA Pairs\n",
        "\n",
        "We can leverage everyone's favourite OpenAI model `gpt-3.5-turbo` to help us generate some QA pairs."
      ]
    },
    {
      "cell_type": "code",
      "execution_count": null,
      "metadata": {
        "id": "HYnGMFiyAFl7"
      },
      "outputs": [],
      "source": [
        "!pip install -qU llama-index-llms-openai"
      ]
    },
    {
      "cell_type": "code",
      "execution_count": null,
      "metadata": {
        "id": "YPk0MtizSK8r"
      },
      "outputs": [],
      "source": [
        "import re\n",
        "import uuid\n",
        "\n",
        "from llama_index.llms.openai import OpenAI\n",
        "from tqdm.notebook import tqdm"
      ]
    },
    {
      "cell_type": "code",
      "execution_count": null,
      "metadata": {
        "colab": {
          "base_uri": "https://localhost:8080/"
        },
        "id": "9_xsIc0VSe1C",
        "outputId": "941ba695-57ac-4f5a-e4c0-0e0565b70ab6"
      },
      "outputs": [
        {
          "name": "stdout",
          "output_type": "stream",
          "text": [
            "OpenAI API Key: ··········\n"
          ]
        }
      ],
      "source": [
        "import os\n",
        "import getpass\n",
        "\n",
        "os.environ[\"OPENAI_API_KEY\"] = getpass.getpass(\"OpenAI API Key: \")"
      ]
    },
    {
      "cell_type": "markdown",
      "metadata": {
        "id": "qVfp_eh8SkUA"
      },
      "source": [
        "### Generating Queries - Give this prompt to the LLM - contain a piece of the chunk - and geenrate number of questions - 1 q about the chunk. Will have chunks and questions associated wit those chunks.\n",
        "\n",
        "Let's use a helper function to create our question answer pairs.\n",
        "\n",
        "We're going to use this prompt:\n",
        "\n",
        "```\n",
        "Context information is below.\n",
        "    \n",
        "---------------------\n",
        "{context_str}\n",
        "---------------------\n",
        "\n",
        "Given the context information and not prior knowledge.\n",
        "generate only questions based on the below query.\n",
        "\n",
        "You are a Teacher/ Professor. Your task is to setup \\\n",
        "{num_questions_per_chunk} questions for an upcoming \\\n",
        "quiz/examination. The questions should be diverse in nature \\\n",
        "across the document. Restrict the questions to the \\\n",
        "context information provided.\n",
        "```\n",
        "\n",
        "As you might be able to tell - we have the ability to control how many questions we generate, as well as the persona used to create the questions.\n",
        "\n",
        "The rest of the helper function is simply parsing the questions!"
      ]
    },
    {
      "cell_type": "code",
      "execution_count": null,
      "metadata": {
        "id": "dMe-nddNSnaD"
      },
      "outputs": [],
      "source": [
        "def generate_queries(\n",
        "    corpus,\n",
        "    num_questions_per_chunk=2,\n",
        "    prompt_template=None,\n",
        "    verbose=False,\n",
        "):\n",
        "    \"\"\"\n",
        "    Automatically generate hypothetical questions that could be answered with\n",
        "    doc in the corpus.\n",
        "    \"\"\"\n",
        "    llm = OpenAI(model='gpt-3.5-turbo')\n",
        "\n",
        "    prompt_template = prompt_template or \"\"\"\\\n",
        "    Context information is below.\n",
        "\n",
        "    ---------------------\n",
        "    {context_str}\n",
        "    ---------------------\n",
        "\n",
        "    Given the context information and not prior knowledge.\n",
        "    generate only questions based on the below query.\n",
        "\n",
        "    You are a Teacher/ Professor. Your task is to setup \\\n",
        "    {num_questions_per_chunk} questions for an upcoming \\\n",
        "    quiz/examination. The questions should be diverse in nature \\\n",
        "    across the document. Restrict the questions to the \\\n",
        "    context information provided.\"\n",
        "    \"\"\"\n",
        "\n",
        "    queries = {}\n",
        "    relevant_docs = {}\n",
        "    for node_id, text in tqdm(corpus.items()):\n",
        "        query = prompt_template.format(context_str=text, num_questions_per_chunk=num_questions_per_chunk)\n",
        "        response = llm.complete(query)\n",
        "\n",
        "        result = str(response).strip().split(\"\\n\")\n",
        "        questions = [\n",
        "            re.sub(r\"^\\d+[\\).\\s]\", \"\", question).strip() for question in result\n",
        "        ]\n",
        "        questions = [question for question in questions if len(question) > 0]\n",
        "\n",
        "        for question in questions:\n",
        "            question_id = str(uuid.uuid4())\n",
        "            queries[question_id] = question\n",
        "            relevant_docs[question_id] = [node_id]\n",
        "    return queries, relevant_docs"
      ]
    },
    {
      "cell_type": "markdown",
      "metadata": {
        "id": "BMVuKSbcSrQH"
      },
      "source": [
        "Nothing left to do but generate some QA pairs!"
      ]
    },
    {
      "cell_type": "code",
      "execution_count": null,
      "metadata": {
        "colab": {
          "base_uri": "https://localhost:8080/",
          "height": 49,
          "referenced_widgets": [
            "9028212171174770951ae41620f789cc",
            "b2beab6617614fe29f65333148090998",
            "3ec8d15c1c7742d093c7cc7c86fe939c",
            "5993d7b8699a431da9ae10baba801600",
            "6f8dfb2f45fa47dfa1acbcc276c60606",
            "119c947739ae40c1b899dc44618f62c6",
            "15cd3962d7064d28855ce0785185f933",
            "630abaab56f14e8a8104b06ff50d225e",
            "b456390662fd42f3834157894aaad3d7",
            "2072fdd109d948d9962291bc2ea98449",
            "3755b9207378464da27fa54781eade4a"
          ]
        },
        "id": "yZl13pDaSydt",
        "outputId": "139557d5-c0db-4a10-ed96-9e5f91a14975"
      },
      "outputs": [
        {
          "output_type": "display_data",
          "data": {
            "text/plain": [
              "  0%|          | 0/139 [00:00<?, ?it/s]"
            ],
            "application/vnd.jupyter.widget-view+json": {
              "version_major": 2,
              "version_minor": 0,
              "model_id": "9028212171174770951ae41620f789cc"
            }
          },
          "metadata": {}
        }
      ],
      "source": [
        "train_queries, train_relevant_docs = generate_queries(train_corpus, 1)\n",
        "# 139 chunks that have 139 questions"
      ]
    },
    {
      "cell_type": "code",
      "execution_count": null,
      "metadata": {
        "id": "VDB4roTSd_5n"
      },
      "outputs": [],
      "source": [
        "train_dataset = {\n",
        "    'Question': train_queries,\n",
        "    'Corpus': train_corpus,\n",
        "    'Abstract': train_relevant_docs,\n",
        "}"
      ]
    },
    {
      "cell_type": "code",
      "execution_count": null,
      "metadata": {
        "id": "n3aLDtmijWhM"
      },
      "outputs": [],
      "source": [
        "dataset = train_dataset\n",
        "\n",
        "corpus = dataset['Corpus']\n",
        "queries = dataset['Question']\n",
        "relevant_docs = dataset['Abstract']\n",
        "\n",
        "examples = []\n",
        "for query_id, query in queries.items():\n",
        "    node_id = relevant_docs[query_id][0]\n",
        "    text = corpus[node_id]\n",
        "    example = {\"Question\" : query, \"Abstract\" : text}\n",
        "    examples.append(example)"
      ]
    },
    {
      "cell_type": "code",
      "execution_count": null,
      "metadata": {
        "id": "CKSH-c7lyKXZ"
      },
      "outputs": [],
      "source": [
        "import pandas as pd\n",
        "\n",
        "question_abstract_pair_df = pd.DataFrame(examples)"
      ]
    },
    {
      "cell_type": "code",
      "execution_count": null,
      "metadata": {
        "id": "vyK28au2ygl1"
      },
      "outputs": [],
      "source": [
        "question_abstract_pair_df.to_csv(\"./question_abstract_pair.csv\")"
      ]
    },
    {
      "cell_type": "markdown",
      "metadata": {
        "id": "tiT6Br2Ho2AG"
      },
      "source": [
        "### Generating Answers - After the question / chunks, we will generate answers to these. Use the context chunk along wit h question and answer questions\n",
        "\n",
        "We'll repeat the process and create an answer for each question as well."
      ]
    },
    {
      "cell_type": "code",
      "execution_count": null,
      "metadata": {
        "id": "EbzzbrL0hU8v"
      },
      "outputs": [],
      "source": [
        "def generate_answer(\n",
        "    query,\n",
        "    context,\n",
        "    prompt_template=None,\n",
        "    verbose=False,\n",
        "):\n",
        "    \"\"\"\n",
        "    Automatically generate hypothetical questions that could be answered with\n",
        "    doc in the corpus.\n",
        "    \"\"\"\n",
        "    llm = OpenAI(model='gpt-3.5-turbo')\n",
        "\n",
        "    prompt_template = prompt_template or \"\"\"\\\n",
        "    Context information is below.\n",
        "\n",
        "    ---------------------\n",
        "    {context_str}\n",
        "    ---------------------\n",
        "\n",
        "    Given the context information and not prior knowledge.\n",
        "    generate only answers based on the below query.\n",
        "\n",
        "    ---------------------\n",
        "    {query_str}\n",
        "    ---------------------\n",
        "\n",
        "    You are a Teacher/ Professor. Your task is to answer \\\n",
        "    questions for an upcoming quiz/examination. Restrict\\\n",
        "    your answers based on the context information provided. \\\n",
        "    If you do not know the answer, simply answer: \"I don't know\" \\\n",
        "    \"\"\"\n",
        "    full_query = prompt_template.format(context_str=context, query_str=query)\n",
        "    response = llm.complete(full_query)\n",
        "\n",
        "    result = str(response).strip().split(\"\\n\")\n",
        "    answers = [\n",
        "            re.sub(r\"^\\d+[\\).\\s]\", \"\", answer).strip() for answer in result\n",
        "        ]\n",
        "    answers = [answer for answer in answers if len(answer) > 0]\n",
        "    return answers[0]"
      ]
    },
    {
      "cell_type": "markdown",
      "metadata": {
        "id": "LhUt2W80yw5v"
      },
      "source": [
        "We'll only train on a subset of the Question/Abstract pairs to save time and tokens! - only the 100 out of 139!"
      ]
    },
    {
      "cell_type": "code",
      "execution_count": null,
      "metadata": {
        "colab": {
          "base_uri": "https://localhost:8080/",
          "height": 49,
          "referenced_widgets": [
            "3ff2f3e3b38e4c5f9a744413a08e3a37",
            "ce82d8fe00da4caaad43bcb6cabdd94d",
            "eb659a5c66644c2d861e4772fb5aff1b",
            "ff18335c370c4dbc95c4b9cfde765d1d",
            "660c2adb381f4d4b8ac11bf2d4846569",
            "88a17c3a811245878447aae913724309",
            "d791cfb9ab3f432e9cce3440795704e4",
            "455ab5b41cf04dd19d60c2927c2354be",
            "7bcc62479d0d4904bb0a6d17c3b63e24",
            "756d95ac332e471ba4daf1690e75a688",
            "59e9b1d2ec1e4ee2a2926e264654e733"
          ]
        },
        "id": "Fg33HHjUkXRM",
        "outputId": "fe0057ad-1126-4ad3-80c4-9a079d8dd1a9"
      },
      "outputs": [
        {
          "output_type": "display_data",
          "data": {
            "text/plain": [
              "  0%|          | 0/100 [00:00<?, ?it/s]"
            ],
            "application/vnd.jupyter.widget-view+json": {
              "version_major": 2,
              "version_minor": 0,
              "model_id": "3ff2f3e3b38e4c5f9a744413a08e3a37"
            }
          },
          "metadata": {}
        }
      ],
      "source": [
        "for example in tqdm(examples[:100]):\n",
        "  example[\"Answer\"] = generate_answer(example[\"Question\"], example[\"Abstract\"])"
      ]
    },
    {
      "cell_type": "markdown",
      "metadata": {
        "id": "2ZMhYl2clJ3Y"
      },
      "source": [
        "####❓ Question #1:\n",
        "\n",
        "Can you think of any other ways to create, or obtain, the data required?\n",
        "\n",
        "Does it have to be synthetically generation?"
      ]
    },
    {
      "cell_type": "markdown",
      "source": [
        "#### Answer #1:\n",
        "- Existing data sources such as public datasets or academic research\n",
        "- Surveys / Questionaries\n",
        "- Scrape the web (Blogs, social media)\n",
        "- Amazon Mechanical Turk to hire humans to generate data\n",
        "\n",
        "Data does not have to synthetically generated but doing it is easy with todays tech."
      ],
      "metadata": {
        "id": "aW0fBwa3u8Kr"
      }
    },
    {
      "cell_type": "markdown",
      "metadata": {
        "id": "rsGoisVEexA1"
      },
      "source": [
        "### Convert to DALM Format\n",
        "\n",
        "Now that we have our dataset, let's convert it to the expected format for DALM!"
      ]
    },
    {
      "cell_type": "code",
      "execution_count": null,
      "metadata": {
        "id": "nh0skGNue4hf"
      },
      "outputs": [],
      "source": [
        "import pandas as pd\n",
        "\n",
        "train_df = pd.DataFrame(examples[:100])"
      ]
    },
    {
      "cell_type": "code",
      "execution_count": null,
      "metadata": {
        "id": "eQwNyOmMfEkK"
      },
      "outputs": [],
      "source": [
        "train_df.to_csv(\"./dalm/datasets/hhgtg_train.csv\")\n",
        "# convert to csv file because DLAM expects a csv file"
      ]
    },
    {
      "cell_type": "markdown",
      "source": [
        "- End of synthetic data generation - For my final project I used Web scraping of blogs which are nice chunks, and I used a similar method - no tidentical to generate a corpus for my chatbot."
      ],
      "metadata": {
        "id": "qNGVAuuivpJC"
      }
    },
    {
      "cell_type": "markdown",
      "metadata": {
        "id": "V6gg1aeVKw--"
      },
      "source": [
        "## Task 3: Training E2E Rag\n",
        "\n",
        "We will train a our favourite model: Llama 3 8B (`NousResearch/Meta-Llama-3-8B`) and we will train the Snowflake Arctic Medium retriever model (`https://huggingface.co/Snowflake/snowflake-arctic-embed-m`).\n",
        "\n",
        "Thanks to PEFT and 4bit quantization - we can do this all on a very small budget of ~10GB GPU RAM!\n"
      ]
    },
    {
      "cell_type": "code",
      "execution_count": null,
      "metadata": {
        "id": "Fyid6hvffkr0"
      },
      "outputs": [],
      "source": [
        "!pip install -q -U huggingface-hub"
      ]
    },
    {
      "cell_type": "code",
      "execution_count": null,
      "metadata": {
        "colab": {
          "base_uri": "https://localhost:8080/",
          "height": 145,
          "referenced_widgets": [
            "d4bdfba003ee4cc09d8b78c19a08b502",
            "118ec1fd02fe46449a37288923c9fb55",
            "5f8f48bba2ab453eaf2454a0c9f49781",
            "b121bb7e602d4406b55d2aaa2c8a14e4",
            "99bdb0ca4860483ab3f8d21a366664b9",
            "398178951ad745c1931a4dcfafd37597",
            "42eed2cf0b34457fb50ded9d3e72bfe5",
            "f4e860f53c5e4c24b102440a7d326dde",
            "0b180092ddcc44008c740e63b1afb5c3",
            "a4d93c6f6e8c48bba340556b8e229ebc",
            "f5d35ad623c24b4286f7749826837d0e",
            "cdd35aff38424e1d95627f0a1845be48",
            "5c7ed2f0b63c49d89405ed92847c0d44",
            "7bde6da827444cfdb96dc7fc094143d5",
            "02abb1ae4d1b4cd99eac3e874e5de4c1",
            "b4e2a5e34ad74384bb161b6a1b2df30e",
            "072e242162664a6b89ab29e83fb4e898",
            "8d7b5ff33a244f898c6693bceb7355c4",
            "c49867408c154f1d9d765f14820499e8",
            "49cba32efa774fe6ad77b81b1a078e9b",
            "1713dfd062bf4c3bb59b40ae67d5f88a",
            "df70e128033c4b3080226541b481d755",
            "2250977515f9481e9f441c7eaf91f8ed",
            "65b7fbd181d24537897a588c070b8854",
            "de2990b7d1d54cd38015e9d4385e21fa",
            "4d9c5e3975ff4fcebf01dd115758f4ab",
            "7f9e3e4ab6a447589d51ad622468006c",
            "c1806e98087b492fbfea9d4e9cd4c01d",
            "56ec3800de54477798c37ff1d9e7949d",
            "61b5f160a7714ce7aecab0d48cc0fec7",
            "08df3d7eb45140d7bb5b03d844f9c6e9",
            "f3d74ee372fd46608d10f0d796e0d6fa"
          ]
        },
        "id": "Fe4WCESGfquz",
        "outputId": "4714eed1-e236-442b-e59b-09d8577b1a61"
      },
      "outputs": [
        {
          "output_type": "display_data",
          "data": {
            "text/plain": [
              "VBox(children=(HTML(value='<center> <img\\nsrc=https://huggingface.co/front/assets/huggingface_logo-noborder.sv…"
            ],
            "application/vnd.jupyter.widget-view+json": {
              "version_major": 2,
              "version_minor": 0,
              "model_id": "d4bdfba003ee4cc09d8b78c19a08b502"
            }
          },
          "metadata": {}
        }
      ],
      "source": [
        "from huggingface_hub import notebook_login\n",
        "\n",
        "notebook_login()"
      ]
    },
    {
      "cell_type": "markdown",
      "source": [
        "Uses peft - parameter efficient tuning, lora inder the hood, and BNB - buts and bytes - The usual suspects.\n",
        "For the LLM 8B llama 3 and middle tier embeddings model Arctic from Snowflake"
      ],
      "metadata": {
        "id": "x7ErmvC_wKtt"
      }
    },
    {
      "cell_type": "code",
      "execution_count": null,
      "metadata": {
        "colab": {
          "base_uri": "https://localhost:8080/"
        },
        "id": "yq9rtzyxKrPb",
        "outputId": "8eff307c-6962-42cd-ae33-dbc8566cb27b"
      },
      "outputs": [
        {
          "output_type": "stream",
          "name": "stdout",
          "text": [
            "05/11/2024 00:34:54 - INFO - numexpr.utils - Note: NumExpr detected 12 cores but \"NUMEXPR_MAX_THREADS\" not set, so enforcing safe limit of 8.\n",
            "05/11/2024 00:34:54 - INFO - numexpr.utils - NumExpr defaulting to 8 threads.\n",
            "05/11/2024 00:34:54 - INFO - datasets - PyTorch version 2.2.1+cu121 available.\n",
            "05/11/2024 00:34:54 - INFO - datasets - Polars version 0.20.2 available.\n",
            "05/11/2024 00:34:54 - INFO - datasets - TensorFlow version 2.15.0 available.\n",
            "05/11/2024 00:34:54 - INFO - datasets - JAX version 0.4.26 available.\n",
            "2024-05-11 00:34:57.421268: E external/local_xla/xla/stream_executor/cuda/cuda_dnn.cc:9261] Unable to register cuDNN factory: Attempting to register factory for plugin cuDNN when one has already been registered\n",
            "2024-05-11 00:34:57.421324: E external/local_xla/xla/stream_executor/cuda/cuda_fft.cc:607] Unable to register cuFFT factory: Attempting to register factory for plugin cuFFT when one has already been registered\n",
            "2024-05-11 00:34:57.423155: E external/local_xla/xla/stream_executor/cuda/cuda_blas.cc:1515] Unable to register cuBLAS factory: Attempting to register factory for plugin cuBLAS when one has already been registered\n",
            "2024-05-11 00:34:58.641963: W tensorflow/compiler/tf2tensorrt/utils/py_utils.cc:38] TF-TRT Warning: Could not find TensorRT\n",
            "/usr/local/lib/python3.10/dist-packages/huggingface_hub/file_download.py:1132: FutureWarning: `resume_download` is deprecated and will be removed in version 1.0.0. Downloads always resume when possible. If you want to force a new download, use `force_download=True`.\n",
            "  warnings.warn(\n",
            "config.json: 100% 738/738 [00:00<00:00, 5.52MB/s]\n",
            "`low_cpu_mem_usage` was None, now set to True since model is quantized.\n",
            "model.safetensors: 100% 436M/436M [00:03<00:00, 145MB/s]\n",
            "Some weights of BertModel were not initialized from the model checkpoint at Snowflake/snowflake-arctic-embed-m and are newly initialized: ['pooler.dense.bias', 'pooler.dense.weight']\n",
            "You should probably TRAIN this model on a down-stream task to be able to use it for predictions and inference.\n",
            "tokenizer_config.json: 100% 1.38k/1.38k [00:00<00:00, 11.8MB/s]\n",
            "vocab.txt: 100% 232k/232k [00:00<00:00, 6.21MB/s]\n",
            "tokenizer.json: 100% 712k/712k [00:00<00:00, 27.1MB/s]\n",
            "special_tokens_map.json: 100% 695/695 [00:00<00:00, 6.07MB/s]\n",
            "config.json: 100% 654/654 [00:00<00:00, 4.84MB/s]\n",
            "`low_cpu_mem_usage` was None, now set to True since model is quantized.\n",
            "model.safetensors.index.json: 100% 23.9k/23.9k [00:00<00:00, 106MB/s]\n",
            "Downloading shards:   0% 0/4 [00:00<?, ?it/s]\n",
            "model-00001-of-00004.safetensors:   0% 0.00/4.98G [00:00<?, ?B/s]\u001b[A\n",
            "model-00001-of-00004.safetensors:   1% 31.5M/4.98G [00:00<00:22, 216MB/s]\u001b[A\n",
            "model-00001-of-00004.safetensors:   1% 62.9M/4.98G [00:00<01:02, 78.8MB/s]\u001b[A\n",
            "model-00001-of-00004.safetensors:   2% 83.9M/4.98G [00:01<01:39, 49.2MB/s]\u001b[A\n",
            "model-00001-of-00004.safetensors:   2% 115M/4.98G [00:01<01:06, 73.6MB/s] \u001b[A\n",
            "model-00001-of-00004.safetensors:   3% 136M/4.98G [00:01<00:54, 89.5MB/s]\u001b[A\n",
            "model-00001-of-00004.safetensors:   3% 157M/4.98G [00:01<00:46, 103MB/s] \u001b[A\n",
            "model-00001-of-00004.safetensors:   4% 178M/4.98G [00:01<00:40, 118MB/s]\u001b[A\n",
            "model-00001-of-00004.safetensors:   4% 210M/4.98G [00:02<00:33, 143MB/s]\u001b[A\n",
            "model-00001-of-00004.safetensors:   5% 241M/4.98G [00:02<00:29, 163MB/s]\u001b[A\n",
            "model-00001-of-00004.safetensors:   5% 273M/4.98G [00:02<00:26, 177MB/s]\u001b[A\n",
            "model-00001-of-00004.safetensors:   6% 294M/4.98G [00:02<00:25, 183MB/s]\u001b[A\n",
            "model-00001-of-00004.safetensors:   6% 315M/4.98G [00:02<00:24, 189MB/s]\u001b[A\n",
            "model-00001-of-00004.safetensors:   7% 336M/4.98G [00:02<00:25, 180MB/s]\u001b[A\n",
            "model-00001-of-00004.safetensors:   7% 357M/4.98G [00:02<00:25, 182MB/s]\u001b[A\n",
            "model-00001-of-00004.safetensors:   8% 377M/4.98G [00:02<00:24, 187MB/s]\u001b[A\n",
            "model-00001-of-00004.safetensors:   8% 409M/4.98G [00:03<00:23, 195MB/s]\u001b[A\n",
            "model-00001-of-00004.safetensors:   9% 430M/4.98G [00:03<00:22, 199MB/s]\u001b[A\n",
            "model-00001-of-00004.safetensors:   9% 451M/4.98G [00:03<00:22, 200MB/s]\u001b[A\n",
            "model-00001-of-00004.safetensors:   9% 472M/4.98G [00:03<00:22, 199MB/s]\u001b[A\n",
            "model-00001-of-00004.safetensors:  10% 493M/4.98G [00:03<00:22, 200MB/s]\u001b[A\n",
            "model-00001-of-00004.safetensors:  10% 514M/4.98G [00:03<00:22, 200MB/s]\u001b[A\n",
            "model-00001-of-00004.safetensors:  11% 535M/4.98G [00:03<00:22, 200MB/s]\u001b[A\n",
            "model-00001-of-00004.safetensors:  11% 556M/4.98G [00:03<00:21, 202MB/s]\u001b[A\n",
            "model-00001-of-00004.safetensors:  12% 577M/4.98G [00:03<00:21, 203MB/s]\u001b[A\n",
            "model-00001-of-00004.safetensors:  12% 598M/4.98G [00:04<00:21, 203MB/s]\u001b[A\n",
            "model-00001-of-00004.safetensors:  12% 619M/4.98G [00:04<00:21, 204MB/s]\u001b[A\n",
            "model-00001-of-00004.safetensors:  13% 640M/4.98G [00:04<00:21, 203MB/s]\u001b[A\n",
            "model-00001-of-00004.safetensors:  13% 671M/4.98G [00:04<00:20, 205MB/s]\u001b[A\n",
            "model-00001-of-00004.safetensors:  14% 692M/4.98G [00:04<00:20, 204MB/s]\u001b[A\n",
            "model-00001-of-00004.safetensors:  14% 713M/4.98G [00:04<00:20, 206MB/s]\u001b[A\n",
            "model-00001-of-00004.safetensors:  15% 744M/4.98G [00:04<00:20, 205MB/s]\u001b[A\n",
            "model-00001-of-00004.safetensors:  15% 765M/4.98G [00:04<00:24, 174MB/s]\u001b[A\n",
            "model-00001-of-00004.safetensors:  16% 786M/4.98G [00:05<00:27, 150MB/s]\u001b[A\n",
            "model-00001-of-00004.safetensors:  16% 807M/4.98G [00:05<00:29, 141MB/s]\u001b[A\n",
            "model-00001-of-00004.safetensors:  17% 828M/4.98G [00:05<00:27, 151MB/s]\u001b[A\n",
            "model-00001-of-00004.safetensors:  17% 849M/4.98G [00:05<00:25, 163MB/s]\u001b[A\n",
            "model-00001-of-00004.safetensors:  17% 870M/4.98G [00:05<00:23, 173MB/s]\u001b[A\n",
            "model-00001-of-00004.safetensors:  18% 902M/4.98G [00:05<00:21, 188MB/s]\u001b[A\n",
            "model-00001-of-00004.safetensors:  19% 933M/4.98G [00:05<00:20, 198MB/s]\u001b[A\n",
            "model-00001-of-00004.safetensors:  19% 965M/4.98G [00:06<00:19, 203MB/s]\u001b[A\n",
            "model-00001-of-00004.safetensors:  20% 996M/4.98G [00:06<00:19, 206MB/s]\u001b[A\n",
            "model-00001-of-00004.safetensors:  21% 1.03G/4.98G [00:06<00:18, 209MB/s]\u001b[A\n",
            "model-00001-of-00004.safetensors:  21% 1.05G/4.98G [00:06<00:19, 199MB/s]\u001b[A\n",
            "model-00001-of-00004.safetensors:  21% 1.07G/4.98G [00:06<00:22, 171MB/s]\u001b[A\n",
            "model-00001-of-00004.safetensors:  22% 1.09G/4.98G [00:06<00:21, 179MB/s]\u001b[A\n",
            "model-00001-of-00004.safetensors:  22% 1.11G/4.98G [00:06<00:20, 184MB/s]\u001b[A\n",
            "model-00001-of-00004.safetensors:  23% 1.13G/4.98G [00:06<00:20, 190MB/s]\u001b[A\n",
            "model-00001-of-00004.safetensors:  23% 1.15G/4.98G [00:07<00:19, 193MB/s]\u001b[A\n",
            "model-00001-of-00004.safetensors:  24% 1.17G/4.98G [00:07<00:19, 195MB/s]\u001b[A\n",
            "model-00001-of-00004.safetensors:  24% 1.20G/4.98G [00:07<00:19, 194MB/s]\u001b[A\n",
            "model-00001-of-00004.safetensors:  24% 1.22G/4.98G [00:07<00:19, 195MB/s]\u001b[A\n",
            "model-00001-of-00004.safetensors:  25% 1.24G/4.98G [00:07<00:19, 195MB/s]\u001b[A\n",
            "model-00001-of-00004.safetensors:  25% 1.26G/4.98G [00:07<00:18, 196MB/s]\u001b[A\n",
            "model-00001-of-00004.safetensors:  26% 1.28G/4.98G [00:07<00:18, 198MB/s]\u001b[A\n",
            "model-00001-of-00004.safetensors:  26% 1.30G/4.98G [00:07<00:18, 198MB/s]\u001b[A\n",
            "model-00001-of-00004.safetensors:  27% 1.32G/4.98G [00:07<00:19, 191MB/s]\u001b[A\n",
            "model-00001-of-00004.safetensors:  27% 1.34G/4.98G [00:07<00:18, 193MB/s]\u001b[A\n",
            "model-00001-of-00004.safetensors:  27% 1.36G/4.98G [00:08<00:20, 175MB/s]\u001b[A\n",
            "model-00001-of-00004.safetensors:  28% 1.38G/4.98G [00:08<00:19, 182MB/s]\u001b[A\n",
            "model-00001-of-00004.safetensors:  28% 1.41G/4.98G [00:08<00:19, 185MB/s]\u001b[A\n",
            "model-00001-of-00004.safetensors:  29% 1.43G/4.98G [00:08<00:18, 188MB/s]\u001b[A\n",
            "model-00001-of-00004.safetensors:  29% 1.45G/4.98G [00:08<00:18, 191MB/s]\u001b[A\n",
            "model-00001-of-00004.safetensors:  29% 1.47G/4.98G [00:08<00:17, 196MB/s]\u001b[A\n",
            "model-00001-of-00004.safetensors:  30% 1.50G/4.98G [00:08<00:17, 203MB/s]\u001b[A\n",
            "model-00001-of-00004.safetensors:  31% 1.53G/4.98G [00:08<00:16, 207MB/s]\u001b[A\n",
            "model-00001-of-00004.safetensors:  31% 1.56G/4.98G [00:09<00:16, 210MB/s]\u001b[A\n",
            "model-00001-of-00004.safetensors:  32% 1.59G/4.98G [00:09<00:16, 211MB/s]\u001b[A\n",
            "model-00001-of-00004.safetensors:  33% 1.63G/4.98G [00:09<00:15, 210MB/s]\u001b[A\n",
            "model-00001-of-00004.safetensors:  33% 1.66G/4.98G [00:09<00:15, 211MB/s]\u001b[A\n",
            "model-00001-of-00004.safetensors:  34% 1.69G/4.98G [00:09<00:16, 199MB/s]\u001b[A\n",
            "model-00001-of-00004.safetensors:  34% 1.71G/4.98G [00:09<00:16, 201MB/s]\u001b[A\n",
            "model-00001-of-00004.safetensors:  35% 1.74G/4.98G [00:09<00:15, 205MB/s]\u001b[A\n",
            "model-00001-of-00004.safetensors:  36% 1.77G/4.98G [00:10<00:15, 207MB/s]\u001b[A\n",
            "model-00001-of-00004.safetensors:  36% 1.80G/4.98G [00:10<00:15, 208MB/s]\u001b[A\n",
            "model-00001-of-00004.safetensors:  37% 1.82G/4.98G [00:10<00:19, 164MB/s]\u001b[A\n",
            "model-00001-of-00004.safetensors:  37% 1.85G/4.98G [00:10<00:18, 165MB/s]\u001b[A\n",
            "model-00001-of-00004.safetensors:  38% 1.88G/4.98G [00:10<00:17, 179MB/s]\u001b[A\n",
            "model-00001-of-00004.safetensors:  38% 1.91G/4.98G [00:10<00:16, 190MB/s]\u001b[A\n",
            "model-00001-of-00004.safetensors:  39% 1.94G/4.98G [00:11<00:15, 196MB/s]\u001b[A\n",
            "model-00001-of-00004.safetensors:  40% 1.97G/4.98G [00:11<00:14, 201MB/s]\u001b[A\n",
            "model-00001-of-00004.safetensors:  40% 2.00G/4.98G [00:11<00:14, 206MB/s]\u001b[A\n",
            "model-00001-of-00004.safetensors:  41% 2.03G/4.98G [00:11<00:14, 209MB/s]\u001b[A\n",
            "model-00001-of-00004.safetensors:  42% 2.07G/4.98G [00:11<00:13, 210MB/s]\u001b[A\n",
            "model-00001-of-00004.safetensors:  42% 2.10G/4.98G [00:11<00:13, 209MB/s]\u001b[A\n",
            "model-00001-of-00004.safetensors:  43% 2.12G/4.98G [00:11<00:13, 208MB/s]\u001b[A\n",
            "model-00001-of-00004.safetensors:  43% 2.15G/4.98G [00:12<00:13, 211MB/s]\u001b[A\n",
            "model-00001-of-00004.safetensors:  44% 2.18G/4.98G [00:12<00:13, 213MB/s]\u001b[A\n",
            "model-00001-of-00004.safetensors:  44% 2.21G/4.98G [00:12<00:13, 211MB/s]\u001b[A\n",
            "model-00001-of-00004.safetensors:  45% 2.24G/4.98G [00:12<00:13, 207MB/s]\u001b[A\n",
            "model-00001-of-00004.safetensors:  46% 2.28G/4.98G [00:12<00:12, 210MB/s]\u001b[A\n",
            "model-00001-of-00004.safetensors:  46% 2.31G/4.98G [00:12<00:12, 208MB/s]\u001b[A\n",
            "model-00001-of-00004.safetensors:  47% 2.33G/4.98G [00:12<00:13, 193MB/s]\u001b[A\n",
            "model-00001-of-00004.safetensors:  47% 2.35G/4.98G [00:13<00:13, 196MB/s]\u001b[A\n",
            "model-00001-of-00004.safetensors:  48% 2.37G/4.98G [00:13<00:13, 200MB/s]\u001b[A\n",
            "model-00001-of-00004.safetensors:  48% 2.39G/4.98G [00:13<00:12, 201MB/s]\u001b[A\n",
            "model-00001-of-00004.safetensors:  48% 2.41G/4.98G [00:13<00:12, 200MB/s]\u001b[A\n",
            "model-00001-of-00004.safetensors:  49% 2.43G/4.98G [00:13<00:12, 201MB/s]\u001b[A\n",
            "model-00001-of-00004.safetensors:  49% 2.45G/4.98G [00:13<00:12, 201MB/s]\u001b[A\n",
            "model-00001-of-00004.safetensors:  50% 2.47G/4.98G [00:13<00:12, 202MB/s]\u001b[A\n",
            "model-00001-of-00004.safetensors:  50% 2.51G/4.98G [00:13<00:11, 207MB/s]\u001b[A\n",
            "model-00001-of-00004.safetensors:  51% 2.53G/4.98G [00:13<00:11, 207MB/s]\u001b[A\n",
            "model-00001-of-00004.safetensors:  51% 2.56G/4.98G [00:14<00:11, 210MB/s]\u001b[A\n",
            "model-00001-of-00004.safetensors:  52% 2.58G/4.98G [00:14<00:11, 210MB/s]\u001b[A\n",
            "model-00001-of-00004.safetensors:  52% 2.60G/4.98G [00:14<00:11, 209MB/s]\u001b[A\n",
            "model-00001-of-00004.safetensors:  53% 2.62G/4.98G [00:14<00:11, 209MB/s]\u001b[A\n",
            "model-00001-of-00004.safetensors:  53% 2.65G/4.98G [00:14<00:10, 212MB/s]\u001b[A\n",
            "model-00001-of-00004.safetensors:  54% 2.68G/4.98G [00:14<00:10, 211MB/s]\u001b[A\n",
            "model-00001-of-00004.safetensors:  55% 2.72G/4.98G [00:15<00:16, 141MB/s]\u001b[A\n",
            "model-00001-of-00004.safetensors:  55% 2.75G/4.98G [00:15<00:13, 159MB/s]\u001b[A\n",
            "model-00001-of-00004.safetensors:  56% 2.78G/4.98G [00:15<00:12, 173MB/s]\u001b[A\n",
            "model-00001-of-00004.safetensors:  56% 2.81G/4.98G [00:15<00:11, 184MB/s]\u001b[A\n",
            "model-00001-of-00004.safetensors:  57% 2.84G/4.98G [00:15<00:11, 193MB/s]\u001b[A\n",
            "model-00001-of-00004.safetensors:  58% 2.87G/4.98G [00:15<00:10, 199MB/s]\u001b[A\n",
            "model-00001-of-00004.safetensors:  58% 2.90G/4.98G [00:15<00:10, 204MB/s]\u001b[A\n",
            "model-00001-of-00004.safetensors:  59% 2.94G/4.98G [00:16<00:09, 207MB/s]\u001b[A\n",
            "model-00001-of-00004.safetensors:  60% 2.97G/4.98G [00:16<00:09, 210MB/s]\u001b[A\n",
            "model-00001-of-00004.safetensors:  60% 3.00G/4.98G [00:16<00:12, 154MB/s]\u001b[A\n",
            "model-00001-of-00004.safetensors:  61% 3.02G/4.98G [00:16<00:18, 108MB/s]\u001b[A\n",
            "model-00001-of-00004.safetensors:  61% 3.04G/4.98G [00:17<00:16, 120MB/s]\u001b[A\n",
            "model-00001-of-00004.safetensors:  62% 3.06G/4.98G [00:17<00:14, 135MB/s]\u001b[A\n",
            "model-00001-of-00004.safetensors:  62% 3.08G/4.98G [00:17<00:13, 145MB/s]\u001b[A\n",
            "model-00001-of-00004.safetensors:  62% 3.10G/4.98G [00:17<00:13, 141MB/s]\u001b[A\n",
            "model-00001-of-00004.safetensors:  63% 3.12G/4.98G [00:17<00:20, 89.5MB/s]\u001b[A\n",
            "model-00001-of-00004.safetensors:  63% 3.15G/4.98G [00:17<00:17, 107MB/s] \u001b[A\n",
            "model-00001-of-00004.safetensors:  64% 3.17G/4.98G [00:18<00:14, 124MB/s]\u001b[A\n",
            "model-00001-of-00004.safetensors:  64% 3.19G/4.98G [00:18<00:12, 140MB/s]\u001b[A\n",
            "model-00001-of-00004.safetensors:  64% 3.21G/4.98G [00:18<00:11, 148MB/s]\u001b[A\n",
            "model-00001-of-00004.safetensors:  65% 3.23G/4.98G [00:18<00:11, 146MB/s]\u001b[A\n",
            "model-00001-of-00004.safetensors:  66% 3.26G/4.98G [00:18<00:10, 168MB/s]\u001b[A\n",
            "model-00001-of-00004.safetensors:  66% 3.29G/4.98G [00:18<00:09, 183MB/s]\u001b[A\n",
            "model-00001-of-00004.safetensors:  67% 3.32G/4.98G [00:18<00:08, 193MB/s]\u001b[A\n",
            "model-00001-of-00004.safetensors:  67% 3.34G/4.98G [00:18<00:08, 196MB/s]\u001b[A\n",
            "model-00001-of-00004.safetensors:  68% 3.38G/4.98G [00:19<00:07, 201MB/s]\u001b[A\n",
            "model-00001-of-00004.safetensors:  68% 3.40G/4.98G [00:19<00:08, 187MB/s]\u001b[A\n",
            "model-00001-of-00004.safetensors:  69% 3.42G/4.98G [00:19<00:09, 169MB/s]\u001b[A\n",
            "model-00001-of-00004.safetensors:  69% 3.44G/4.98G [00:19<00:09, 159MB/s]\u001b[A\n",
            "model-00001-of-00004.safetensors:  70% 3.46G/4.98G [00:19<00:13, 113MB/s]\u001b[A\n",
            "model-00001-of-00004.safetensors:  70% 3.48G/4.98G [00:20<00:19, 76.6MB/s]\u001b[A\n",
            "model-00001-of-00004.safetensors:  70% 3.50G/4.98G [00:20<00:23, 63.3MB/s]\u001b[A\n",
            "model-00001-of-00004.safetensors:  71% 3.52G/4.98G [00:20<00:18, 79.3MB/s]\u001b[A\n",
            "model-00001-of-00004.safetensors:  71% 3.54G/4.98G [00:21<00:14, 96.8MB/s]\u001b[A\n",
            "model-00001-of-00004.safetensors:  72% 3.58G/4.98G [00:21<00:11, 123MB/s] \u001b[A\n",
            "model-00001-of-00004.safetensors:  72% 3.60G/4.98G [00:21<00:10, 138MB/s]\u001b[A\n",
            "model-00001-of-00004.safetensors:  73% 3.63G/4.98G [00:21<00:08, 158MB/s]\u001b[A\n",
            "model-00001-of-00004.safetensors:  73% 3.65G/4.98G [00:21<00:07, 168MB/s]\u001b[A\n",
            "model-00001-of-00004.safetensors:  74% 3.67G/4.98G [00:21<00:07, 173MB/s]\u001b[A\n",
            "model-00001-of-00004.safetensors:  74% 3.69G/4.98G [00:21<00:07, 170MB/s]\u001b[A\n",
            "model-00001-of-00004.safetensors:  75% 3.71G/4.98G [00:21<00:07, 175MB/s]\u001b[A\n",
            "model-00001-of-00004.safetensors:  75% 3.73G/4.98G [00:22<00:06, 181MB/s]\u001b[A\n",
            "model-00001-of-00004.safetensors:  75% 3.75G/4.98G [00:22<00:06, 185MB/s]\u001b[A\n",
            "model-00001-of-00004.safetensors:  76% 3.77G/4.98G [00:22<00:06, 187MB/s]\u001b[A\n",
            "model-00001-of-00004.safetensors:  76% 3.80G/4.98G [00:22<00:06, 189MB/s]\u001b[A\n",
            "model-00001-of-00004.safetensors:  77% 3.82G/4.98G [00:22<00:06, 191MB/s]\u001b[A\n",
            "model-00001-of-00004.safetensors:  77% 3.84G/4.98G [00:22<00:05, 193MB/s]\u001b[A\n",
            "model-00001-of-00004.safetensors:  78% 3.86G/4.98G [00:22<00:05, 190MB/s]\u001b[A\n",
            "model-00001-of-00004.safetensors:  78% 3.88G/4.98G [00:22<00:05, 188MB/s]\u001b[A\n",
            "model-00001-of-00004.safetensors:  78% 3.90G/4.98G [00:22<00:05, 190MB/s]\u001b[A\n",
            "model-00001-of-00004.safetensors:  79% 3.92G/4.98G [00:22<00:05, 194MB/s]\u001b[A\n",
            "model-00001-of-00004.safetensors:  79% 3.94G/4.98G [00:23<00:05, 196MB/s]\u001b[A\n",
            "model-00001-of-00004.safetensors:  80% 3.96G/4.98G [00:23<00:05, 185MB/s]\u001b[A\n",
            "model-00001-of-00004.safetensors:  80% 3.98G/4.98G [00:23<00:05, 176MB/s]\u001b[A\n",
            "model-00001-of-00004.safetensors:  80% 4.01G/4.98G [00:23<00:06, 147MB/s]\u001b[A\n",
            "model-00001-of-00004.safetensors:  81% 4.04G/4.98G [00:23<00:05, 167MB/s]\u001b[A\n",
            "model-00001-of-00004.safetensors:  82% 4.06G/4.98G [00:23<00:05, 175MB/s]\u001b[A\n",
            "model-00001-of-00004.safetensors:  82% 4.08G/4.98G [00:23<00:04, 181MB/s]\u001b[A\n",
            "model-00001-of-00004.safetensors:  82% 4.10G/4.98G [00:24<00:04, 178MB/s]\u001b[A\n",
            "model-00001-of-00004.safetensors:  83% 4.12G/4.98G [00:24<00:06, 130MB/s]\u001b[A\n",
            "model-00001-of-00004.safetensors:  83% 4.14G/4.98G [00:24<00:07, 117MB/s]\u001b[A\n",
            "model-00001-of-00004.safetensors:  84% 4.16G/4.98G [00:24<00:06, 134MB/s]\u001b[A\n",
            "model-00001-of-00004.safetensors:  84% 4.18G/4.98G [00:24<00:05, 144MB/s]\u001b[A\n",
            "model-00001-of-00004.safetensors:  84% 4.20G/4.98G [00:24<00:04, 158MB/s]\u001b[A\n",
            "model-00001-of-00004.safetensors:  85% 4.23G/4.98G [00:24<00:04, 170MB/s]\u001b[A\n",
            "model-00001-of-00004.safetensors:  86% 4.26G/4.98G [00:25<00:03, 185MB/s]\u001b[A\n",
            "model-00001-of-00004.safetensors:  86% 4.29G/4.98G [00:25<00:03, 195MB/s]\u001b[A\n",
            "model-00001-of-00004.safetensors:  87% 4.31G/4.98G [00:25<00:03, 198MB/s]\u001b[A\n",
            "model-00001-of-00004.safetensors:  87% 4.33G/4.98G [00:25<00:03, 200MB/s]\u001b[A\n",
            "model-00001-of-00004.safetensors:  87% 4.35G/4.98G [00:25<00:03, 200MB/s]\u001b[A\n",
            "model-00001-of-00004.safetensors:  88% 4.38G/4.98G [00:25<00:02, 204MB/s]\u001b[A\n",
            "model-00001-of-00004.safetensors:  89% 4.41G/4.98G [00:25<00:02, 209MB/s]\u001b[A\n",
            "model-00001-of-00004.safetensors:  89% 4.45G/4.98G [00:25<00:02, 212MB/s]\u001b[A\n",
            "model-00001-of-00004.safetensors:  90% 4.48G/4.98G [00:26<00:02, 211MB/s]\u001b[A\n",
            "model-00001-of-00004.safetensors:  91% 4.51G/4.98G [00:26<00:02, 211MB/s]\u001b[A\n",
            "model-00001-of-00004.safetensors:  91% 4.54G/4.98G [00:26<00:02, 212MB/s]\u001b[A\n",
            "model-00001-of-00004.safetensors:  92% 4.57G/4.98G [00:26<00:01, 212MB/s]\u001b[A\n",
            "model-00001-of-00004.safetensors:  92% 4.60G/4.98G [00:26<00:01, 213MB/s]\u001b[A\n",
            "model-00001-of-00004.safetensors:  93% 4.63G/4.98G [00:26<00:01, 214MB/s]\u001b[A\n",
            "model-00001-of-00004.safetensors:  94% 4.67G/4.98G [00:27<00:01, 197MB/s]\u001b[A\n",
            "model-00001-of-00004.safetensors:  94% 4.69G/4.98G [00:27<00:01, 155MB/s]\u001b[A\n",
            "model-00001-of-00004.safetensors:  95% 4.71G/4.98G [00:27<00:01, 163MB/s]\u001b[A\n",
            "model-00001-of-00004.safetensors:  95% 4.74G/4.98G [00:27<00:01, 177MB/s]\u001b[A\n",
            "model-00001-of-00004.safetensors:  96% 4.76G/4.98G [00:27<00:01, 183MB/s]\u001b[A\n",
            "model-00001-of-00004.safetensors:  96% 4.78G/4.98G [00:27<00:01, 189MB/s]\u001b[A\n",
            "model-00001-of-00004.safetensors:  96% 4.80G/4.98G [00:27<00:00, 192MB/s]\u001b[A\n",
            "model-00001-of-00004.safetensors:  97% 4.82G/4.98G [00:27<00:00, 196MB/s]\u001b[A\n",
            "model-00001-of-00004.safetensors:  97% 4.84G/4.98G [00:28<00:00, 197MB/s]\u001b[A\n",
            "model-00001-of-00004.safetensors:  98% 4.88G/4.98G [00:28<00:00, 200MB/s]\u001b[A\n",
            "model-00001-of-00004.safetensors:  98% 4.90G/4.98G [00:28<00:00, 202MB/s]\u001b[A\n",
            "model-00001-of-00004.safetensors:  99% 4.92G/4.98G [00:28<00:00, 203MB/s]\u001b[A\n",
            "model-00001-of-00004.safetensors:  99% 4.94G/4.98G [00:28<00:00, 174MB/s]\u001b[A\n",
            "model-00001-of-00004.safetensors: 100% 4.98G/4.98G [00:28<00:00, 173MB/s]\n",
            "Downloading shards:  25% 1/4 [00:28<01:26, 28.95s/it]\n",
            "model-00002-of-00004.safetensors:   0% 0.00/5.00G [00:00<?, ?B/s]\u001b[A\n",
            "model-00002-of-00004.safetensors:   0% 10.5M/5.00G [00:00<01:21, 61.0MB/s]\u001b[A\n",
            "model-00002-of-00004.safetensors:   1% 31.5M/5.00G [00:00<00:40, 123MB/s] \u001b[A\n",
            "model-00002-of-00004.safetensors:   1% 52.4M/5.00G [00:00<00:34, 145MB/s]\u001b[A\n",
            "model-00002-of-00004.safetensors:   2% 83.9M/5.00G [00:00<00:28, 174MB/s]\u001b[A\n",
            "model-00002-of-00004.safetensors:   2% 105M/5.00G [00:00<00:26, 184MB/s] \u001b[A\n",
            "model-00002-of-00004.safetensors:   3% 126M/5.00G [00:00<00:26, 185MB/s]\u001b[A\n",
            "model-00002-of-00004.safetensors:   3% 157M/5.00G [00:00<00:24, 195MB/s]\u001b[A\n",
            "model-00002-of-00004.safetensors:   4% 189M/5.00G [00:01<00:23, 201MB/s]\u001b[A\n",
            "model-00002-of-00004.safetensors:   4% 220M/5.00G [00:01<00:23, 206MB/s]\u001b[A\n",
            "model-00002-of-00004.safetensors:   5% 241M/5.00G [00:01<00:23, 205MB/s]\u001b[A\n",
            "model-00002-of-00004.safetensors:   5% 273M/5.00G [00:01<00:22, 208MB/s]\u001b[A\n",
            "model-00002-of-00004.safetensors:   6% 304M/5.00G [00:01<00:22, 210MB/s]\u001b[A\n",
            "model-00002-of-00004.safetensors:   7% 325M/5.00G [00:01<00:22, 206MB/s]\u001b[A\n",
            "model-00002-of-00004.safetensors:   7% 357M/5.00G [00:01<00:22, 210MB/s]\u001b[A\n",
            "model-00002-of-00004.safetensors:   8% 388M/5.00G [00:02<00:21, 211MB/s]\u001b[A\n",
            "model-00002-of-00004.safetensors:   8% 419M/5.00G [00:02<00:21, 212MB/s]\u001b[A\n",
            "model-00002-of-00004.safetensors:   9% 451M/5.00G [00:02<00:21, 210MB/s]\u001b[A\n",
            "model-00002-of-00004.safetensors:   9% 472M/5.00G [00:02<00:26, 168MB/s]\u001b[A\n",
            "model-00002-of-00004.safetensors:  10% 503M/5.00G [00:02<00:24, 181MB/s]\u001b[A\n",
            "model-00002-of-00004.safetensors:  11% 535M/5.00G [00:02<00:23, 192MB/s]\u001b[A\n",
            "model-00002-of-00004.safetensors:  11% 566M/5.00G [00:02<00:22, 200MB/s]\u001b[A\n",
            "model-00002-of-00004.safetensors:  12% 598M/5.00G [00:03<00:21, 203MB/s]\u001b[A\n",
            "model-00002-of-00004.safetensors:  13% 629M/5.00G [00:03<00:21, 205MB/s]\u001b[A\n",
            "model-00002-of-00004.safetensors:  13% 661M/5.00G [00:03<00:20, 209MB/s]\u001b[A\n",
            "model-00002-of-00004.safetensors:  14% 692M/5.00G [00:03<00:20, 211MB/s]\u001b[A\n",
            "model-00002-of-00004.safetensors:  14% 724M/5.00G [00:03<00:20, 213MB/s]\u001b[A\n",
            "model-00002-of-00004.safetensors:  15% 755M/5.00G [00:03<00:19, 214MB/s]\u001b[A\n",
            "model-00002-of-00004.safetensors:  16% 786M/5.00G [00:03<00:19, 215MB/s]\u001b[A\n",
            "model-00002-of-00004.safetensors:  16% 818M/5.00G [00:04<00:20, 209MB/s]\u001b[A\n",
            "model-00002-of-00004.safetensors:  17% 839M/5.00G [00:04<00:20, 206MB/s]\u001b[A\n",
            "model-00002-of-00004.safetensors:  17% 860M/5.00G [00:04<00:20, 206MB/s]\u001b[A\n",
            "model-00002-of-00004.safetensors:  18% 881M/5.00G [00:04<00:19, 206MB/s]\u001b[A\n",
            "model-00002-of-00004.safetensors:  18% 902M/5.00G [00:04<00:19, 206MB/s]\u001b[A\n",
            "model-00002-of-00004.safetensors:  18% 923M/5.00G [00:04<00:19, 206MB/s]\u001b[A\n",
            "model-00002-of-00004.safetensors:  19% 944M/5.00G [00:04<00:19, 205MB/s]\u001b[A\n",
            "model-00002-of-00004.safetensors:  20% 975M/5.00G [00:04<00:19, 208MB/s]\u001b[A\n",
            "model-00002-of-00004.safetensors:  20% 1.01G/5.00G [00:05<00:19, 210MB/s]\u001b[A\n",
            "model-00002-of-00004.safetensors:  21% 1.04G/5.00G [00:05<00:19, 201MB/s]\u001b[A\n",
            "model-00002-of-00004.safetensors:  21% 1.07G/5.00G [00:05<00:19, 204MB/s]\u001b[A\n",
            "model-00002-of-00004.safetensors:  22% 1.09G/5.00G [00:05<00:19, 204MB/s]\u001b[A\n",
            "model-00002-of-00004.safetensors:  22% 1.11G/5.00G [00:05<00:18, 205MB/s]\u001b[A\n",
            "model-00002-of-00004.safetensors:  23% 1.13G/5.00G [00:05<00:18, 205MB/s]\u001b[A\n",
            "model-00002-of-00004.safetensors:  23% 1.15G/5.00G [00:05<00:18, 206MB/s]\u001b[A\n",
            "model-00002-of-00004.safetensors:  23% 1.17G/5.00G [00:05<00:18, 206MB/s]\u001b[A\n",
            "model-00002-of-00004.safetensors:  24% 1.20G/5.00G [00:05<00:18, 207MB/s]\u001b[A\n",
            "model-00002-of-00004.safetensors:  25% 1.23G/5.00G [00:06<00:17, 210MB/s]\u001b[A\n",
            "model-00002-of-00004.safetensors:  25% 1.25G/5.00G [00:06<00:17, 209MB/s]\u001b[A\n",
            "model-00002-of-00004.safetensors:  26% 1.28G/5.00G [00:06<00:17, 211MB/s]\u001b[A\n",
            "model-00002-of-00004.safetensors:  26% 1.31G/5.00G [00:06<00:17, 210MB/s]\u001b[A\n",
            "model-00002-of-00004.safetensors:  27% 1.34G/5.00G [00:06<00:25, 141MB/s]\u001b[A\n",
            "model-00002-of-00004.safetensors:  27% 1.36G/5.00G [00:06<00:23, 153MB/s]\u001b[A\n",
            "model-00002-of-00004.safetensors:  28% 1.39G/5.00G [00:07<00:21, 167MB/s]\u001b[A\n",
            "model-00002-of-00004.safetensors:  29% 1.43G/5.00G [00:07<00:19, 179MB/s]\u001b[A\n",
            "model-00002-of-00004.safetensors:  29% 1.46G/5.00G [00:07<00:18, 187MB/s]\u001b[A\n",
            "model-00002-of-00004.safetensors:  30% 1.49G/5.00G [00:07<00:18, 195MB/s]\u001b[A\n",
            "model-00002-of-00004.safetensors:  30% 1.52G/5.00G [00:07<00:17, 199MB/s]\u001b[A\n",
            "model-00002-of-00004.safetensors:  31% 1.55G/5.00G [00:07<00:16, 205MB/s]\u001b[A\n",
            "model-00002-of-00004.safetensors:  32% 1.58G/5.00G [00:08<00:16, 207MB/s]\u001b[A\n",
            "model-00002-of-00004.safetensors:  32% 1.61G/5.00G [00:08<00:16, 208MB/s]\u001b[A\n",
            "model-00002-of-00004.safetensors:  33% 1.65G/5.00G [00:08<00:15, 211MB/s]\u001b[A\n",
            "model-00002-of-00004.safetensors:  34% 1.68G/5.00G [00:08<00:15, 214MB/s]\u001b[A\n",
            "model-00002-of-00004.safetensors:  34% 1.71G/5.00G [00:08<00:15, 216MB/s]\u001b[A\n",
            "model-00002-of-00004.safetensors:  35% 1.74G/5.00G [00:08<00:15, 216MB/s]\u001b[A\n",
            "model-00002-of-00004.safetensors:  35% 1.77G/5.00G [00:08<00:14, 217MB/s]\u001b[A\n",
            "model-00002-of-00004.safetensors:  36% 1.80G/5.00G [00:09<00:14, 217MB/s]\u001b[A\n",
            "model-00002-of-00004.safetensors:  37% 1.84G/5.00G [00:09<00:14, 216MB/s]\u001b[A\n",
            "model-00002-of-00004.safetensors:  37% 1.87G/5.00G [00:09<00:14, 216MB/s]\u001b[A\n",
            "model-00002-of-00004.safetensors:  38% 1.90G/5.00G [00:09<00:15, 197MB/s]\u001b[A\n",
            "model-00002-of-00004.safetensors:  38% 1.92G/5.00G [00:09<00:15, 200MB/s]\u001b[A\n",
            "model-00002-of-00004.safetensors:  39% 1.95G/5.00G [00:09<00:15, 203MB/s]\u001b[A\n",
            "model-00002-of-00004.safetensors:  39% 1.97G/5.00G [00:09<00:14, 204MB/s]\u001b[A\n",
            "model-00002-of-00004.safetensors:  40% 1.99G/5.00G [00:10<00:43, 69.9MB/s]\u001b[A\n",
            "model-00002-of-00004.safetensors:  40% 2.02G/5.00G [00:10<00:32, 91.6MB/s]\u001b[A\n",
            "model-00002-of-00004.safetensors:  41% 2.04G/5.00G [00:11<00:27, 106MB/s] \u001b[A\n",
            "model-00002-of-00004.safetensors:  42% 2.08G/5.00G [00:11<00:22, 128MB/s]\u001b[A\n",
            "model-00002-of-00004.safetensors:  42% 2.10G/5.00G [00:11<00:20, 141MB/s]\u001b[A\n",
            "model-00002-of-00004.safetensors:  42% 2.12G/5.00G [00:11<00:18, 154MB/s]\u001b[A\n",
            "model-00002-of-00004.safetensors:  43% 2.15G/5.00G [00:11<00:16, 170MB/s]\u001b[A\n",
            "model-00002-of-00004.safetensors:  43% 2.17G/5.00G [00:11<00:15, 177MB/s]\u001b[A\n",
            "model-00002-of-00004.safetensors:  44% 2.20G/5.00G [00:11<00:14, 189MB/s]\u001b[A\n",
            "model-00002-of-00004.safetensors:  45% 2.23G/5.00G [00:11<00:14, 197MB/s]\u001b[A\n",
            "model-00002-of-00004.safetensors:  45% 2.26G/5.00G [00:12<00:13, 203MB/s]\u001b[A\n",
            "model-00002-of-00004.safetensors:  46% 2.30G/5.00G [00:12<00:13, 208MB/s]\u001b[A\n",
            "model-00002-of-00004.safetensors:  47% 2.33G/5.00G [00:12<00:12, 211MB/s]\u001b[A\n",
            "model-00002-of-00004.safetensors:  47% 2.36G/5.00G [00:12<00:12, 213MB/s]\u001b[A\n",
            "model-00002-of-00004.safetensors:  48% 2.39G/5.00G [00:12<00:14, 183MB/s]\u001b[A\n",
            "model-00002-of-00004.safetensors:  48% 2.42G/5.00G [00:12<00:13, 192MB/s]\u001b[A\n",
            "model-00002-of-00004.safetensors:  49% 2.45G/5.00G [00:13<00:12, 199MB/s]\u001b[A\n",
            "model-00002-of-00004.safetensors:  49% 2.47G/5.00G [00:13<00:12, 201MB/s]\u001b[A\n",
            "model-00002-of-00004.safetensors:  50% 2.51G/5.00G [00:13<00:12, 203MB/s]\u001b[A\n",
            "model-00002-of-00004.safetensors:  51% 2.54G/5.00G [00:13<00:11, 207MB/s]\u001b[A\n",
            "model-00002-of-00004.safetensors:  51% 2.56G/5.00G [00:13<00:11, 207MB/s]\u001b[A\n",
            "model-00002-of-00004.safetensors:  52% 2.58G/5.00G [00:13<00:11, 208MB/s]\u001b[A\n",
            "model-00002-of-00004.safetensors:  52% 2.60G/5.00G [00:13<00:11, 208MB/s]\u001b[A\n",
            "model-00002-of-00004.safetensors:  53% 2.63G/5.00G [00:13<00:11, 210MB/s]\u001b[A\n",
            "model-00002-of-00004.safetensors:  53% 2.66G/5.00G [00:14<00:11, 209MB/s]\u001b[A\n",
            "model-00002-of-00004.safetensors:  54% 2.69G/5.00G [00:14<00:10, 210MB/s]\u001b[A\n",
            "model-00002-of-00004.safetensors:  55% 2.73G/5.00G [00:14<00:10, 213MB/s]\u001b[A\n",
            "model-00002-of-00004.safetensors:  55% 2.76G/5.00G [00:14<00:10, 214MB/s]\u001b[A\n",
            "model-00002-of-00004.safetensors:  56% 2.79G/5.00G [00:14<00:10, 213MB/s]\u001b[A\n",
            "model-00002-of-00004.safetensors:  56% 2.82G/5.00G [00:14<00:10, 215MB/s]\u001b[A\n",
            "model-00002-of-00004.safetensors:  57% 2.85G/5.00G [00:14<00:10, 197MB/s]\u001b[A\n",
            "model-00002-of-00004.safetensors:  57% 2.87G/5.00G [00:15<00:10, 197MB/s]\u001b[A\n",
            "model-00002-of-00004.safetensors:  58% 2.90G/5.00G [00:15<00:10, 203MB/s]\u001b[A\n",
            "model-00002-of-00004.safetensors:  59% 2.93G/5.00G [00:15<00:10, 204MB/s]\u001b[A\n",
            "model-00002-of-00004.safetensors:  59% 2.96G/5.00G [00:15<00:09, 207MB/s]\u001b[A\n",
            "model-00002-of-00004.safetensors:  60% 2.99G/5.00G [00:15<00:09, 209MB/s]\u001b[A\n",
            "model-00002-of-00004.safetensors:  60% 3.02G/5.00G [00:15<00:09, 211MB/s]\u001b[A\n",
            "model-00002-of-00004.safetensors:  61% 3.05G/5.00G [00:15<00:09, 212MB/s]\u001b[A\n",
            "model-00002-of-00004.safetensors:  62% 3.08G/5.00G [00:16<00:08, 213MB/s]\u001b[A\n",
            "model-00002-of-00004.safetensors:  62% 3.11G/5.00G [00:16<00:08, 214MB/s]\u001b[A\n",
            "model-00002-of-00004.safetensors:  63% 3.15G/5.00G [00:16<00:08, 215MB/s]\u001b[A\n",
            "model-00002-of-00004.safetensors:  64% 3.18G/5.00G [00:16<00:08, 213MB/s]\u001b[A\n",
            "model-00002-of-00004.safetensors:  64% 3.21G/5.00G [00:16<00:08, 211MB/s]\u001b[A\n",
            "model-00002-of-00004.safetensors:  65% 3.24G/5.00G [00:16<00:08, 204MB/s]\u001b[A\n",
            "model-00002-of-00004.safetensors:  65% 3.27G/5.00G [00:16<00:08, 207MB/s]\u001b[A\n",
            "model-00002-of-00004.safetensors:  66% 3.29G/5.00G [00:17<00:08, 206MB/s]\u001b[A\n",
            "model-00002-of-00004.safetensors:  66% 3.31G/5.00G [00:17<00:08, 204MB/s]\u001b[A\n",
            "model-00002-of-00004.safetensors:  67% 3.33G/5.00G [00:17<00:08, 203MB/s]\u001b[A\n",
            "model-00002-of-00004.safetensors:  67% 3.36G/5.00G [00:17<00:08, 201MB/s]\u001b[A\n",
            "model-00002-of-00004.safetensors:  68% 3.38G/5.00G [00:17<00:08, 200MB/s]\u001b[A\n",
            "model-00002-of-00004.safetensors:  68% 3.40G/5.00G [00:17<00:08, 199MB/s]\u001b[A\n",
            "model-00002-of-00004.safetensors:  68% 3.42G/5.00G [00:17<00:07, 198MB/s]\u001b[A\n",
            "model-00002-of-00004.safetensors:  69% 3.44G/5.00G [00:17<00:07, 198MB/s]\u001b[A\n",
            "model-00002-of-00004.safetensors:  69% 3.46G/5.00G [00:17<00:07, 196MB/s]\u001b[A\n",
            "model-00002-of-00004.safetensors:  70% 3.48G/5.00G [00:17<00:07, 196MB/s]\u001b[A\n",
            "model-00002-of-00004.safetensors:  70% 3.50G/5.00G [00:18<00:07, 195MB/s]\u001b[A\n",
            "model-00002-of-00004.safetensors:  70% 3.52G/5.00G [00:18<00:07, 195MB/s]\u001b[A\n",
            "model-00002-of-00004.safetensors:  71% 3.54G/5.00G [00:18<00:07, 196MB/s]\u001b[A\n",
            "model-00002-of-00004.safetensors:  71% 3.57G/5.00G [00:18<00:07, 194MB/s]\u001b[A\n",
            "model-00002-of-00004.safetensors:  72% 3.59G/5.00G [00:18<00:07, 196MB/s]\u001b[A\n",
            "model-00002-of-00004.safetensors:  72% 3.61G/5.00G [00:18<00:07, 189MB/s]\u001b[A\n",
            "model-00002-of-00004.safetensors:  73% 3.63G/5.00G [00:18<00:07, 191MB/s]\u001b[A\n",
            "model-00002-of-00004.safetensors:  73% 3.65G/5.00G [00:18<00:07, 190MB/s]\u001b[A\n",
            "model-00002-of-00004.safetensors:  73% 3.67G/5.00G [00:18<00:06, 191MB/s]\u001b[A\n",
            "model-00002-of-00004.safetensors:  74% 3.69G/5.00G [00:19<00:06, 196MB/s]\u001b[A\n",
            "model-00002-of-00004.safetensors:  74% 3.71G/5.00G [00:19<00:06, 196MB/s]\u001b[A\n",
            "model-00002-of-00004.safetensors:  75% 3.73G/5.00G [00:19<00:06, 199MB/s]\u001b[A\n",
            "model-00002-of-00004.safetensors:  75% 3.75G/5.00G [00:19<00:06, 201MB/s]\u001b[A\n",
            "model-00002-of-00004.safetensors:  76% 3.77G/5.00G [00:19<00:06, 201MB/s]\u001b[A\n",
            "model-00002-of-00004.safetensors:  76% 3.80G/5.00G [00:19<00:06, 185MB/s]\u001b[A\n",
            "model-00002-of-00004.safetensors:  76% 3.82G/5.00G [00:19<00:06, 191MB/s]\u001b[A\n",
            "model-00002-of-00004.safetensors:  77% 3.84G/5.00G [00:19<00:05, 196MB/s]\u001b[A\n",
            "model-00002-of-00004.safetensors:  77% 3.86G/5.00G [00:19<00:05, 200MB/s]\u001b[A\n",
            "model-00002-of-00004.safetensors:  78% 3.89G/5.00G [00:20<00:05, 205MB/s]\u001b[A\n",
            "model-00002-of-00004.safetensors:  78% 3.91G/5.00G [00:20<00:05, 204MB/s]\u001b[A\n",
            "model-00002-of-00004.safetensors:  79% 3.93G/5.00G [00:20<00:05, 204MB/s]\u001b[A\n",
            "model-00002-of-00004.safetensors:  79% 3.95G/5.00G [00:20<00:05, 203MB/s]\u001b[A\n",
            "model-00002-of-00004.safetensors:  79% 3.97G/5.00G [00:20<00:05, 204MB/s]\u001b[A\n",
            "model-00002-of-00004.safetensors:  80% 4.00G/5.00G [00:20<00:04, 205MB/s]\u001b[A\n",
            "model-00002-of-00004.safetensors:  80% 4.02G/5.00G [00:20<00:04, 203MB/s]\u001b[A\n",
            "model-00002-of-00004.safetensors:  81% 4.04G/5.00G [00:20<00:04, 201MB/s]\u001b[A\n",
            "model-00002-of-00004.safetensors:  81% 4.06G/5.00G [00:20<00:04, 200MB/s]\u001b[A\n",
            "model-00002-of-00004.safetensors:  82% 4.08G/5.00G [00:21<00:04, 200MB/s]\u001b[A\n",
            "model-00002-of-00004.safetensors:  82% 4.10G/5.00G [00:21<00:04, 199MB/s]\u001b[A\n",
            "model-00002-of-00004.safetensors:  82% 4.12G/5.00G [00:21<00:04, 199MB/s]\u001b[A\n",
            "model-00002-of-00004.safetensors:  83% 4.14G/5.00G [00:21<00:04, 199MB/s]\u001b[A\n",
            "model-00002-of-00004.safetensors:  83% 4.16G/5.00G [00:21<00:06, 124MB/s]\u001b[A\n",
            "model-00002-of-00004.safetensors:  84% 4.19G/5.00G [00:21<00:05, 149MB/s]\u001b[A\n",
            "model-00002-of-00004.safetensors:  85% 4.23G/5.00G [00:21<00:04, 166MB/s]\u001b[A\n",
            "model-00002-of-00004.safetensors:  85% 4.25G/5.00G [00:22<00:04, 157MB/s]\u001b[A\n",
            "model-00002-of-00004.safetensors:  85% 4.27G/5.00G [00:22<00:04, 168MB/s]\u001b[A\n",
            "model-00002-of-00004.safetensors:  86% 4.30G/5.00G [00:22<00:03, 180MB/s]\u001b[A\n",
            "model-00002-of-00004.safetensors:  86% 4.32G/5.00G [00:22<00:03, 184MB/s]\u001b[A\n",
            "model-00002-of-00004.safetensors:  87% 4.34G/5.00G [00:22<00:03, 190MB/s]\u001b[A\n",
            "model-00002-of-00004.safetensors:  87% 4.37G/5.00G [00:22<00:03, 198MB/s]\u001b[A\n",
            "model-00002-of-00004.safetensors:  88% 4.39G/5.00G [00:22<00:03, 175MB/s]\u001b[A\n",
            "model-00002-of-00004.safetensors:  88% 4.41G/5.00G [00:23<00:03, 166MB/s]\u001b[A\n",
            "model-00002-of-00004.safetensors:  89% 4.45G/5.00G [00:23<00:03, 181MB/s]\u001b[A\n",
            "model-00002-of-00004.safetensors:  90% 4.48G/5.00G [00:23<00:02, 191MB/s]\u001b[A\n",
            "model-00002-of-00004.safetensors:  90% 4.51G/5.00G [00:23<00:02, 197MB/s]\u001b[A\n",
            "model-00002-of-00004.safetensors:  91% 4.53G/5.00G [00:23<00:02, 198MB/s]\u001b[A\n",
            "model-00002-of-00004.safetensors:  91% 4.55G/5.00G [00:23<00:02, 199MB/s]\u001b[A\n",
            "model-00002-of-00004.safetensors:  91% 4.57G/5.00G [00:23<00:02, 201MB/s]\u001b[A\n",
            "model-00002-of-00004.safetensors:  92% 4.59G/5.00G [00:23<00:02, 202MB/s]\u001b[A\n",
            "model-00002-of-00004.safetensors:  92% 4.62G/5.00G [00:24<00:01, 206MB/s]\u001b[A\n",
            "model-00002-of-00004.safetensors:  93% 4.65G/5.00G [00:24<00:01, 204MB/s]\u001b[A\n",
            "model-00002-of-00004.safetensors:  93% 4.67G/5.00G [00:24<00:01, 205MB/s]\u001b[A\n",
            "model-00002-of-00004.safetensors:  94% 4.70G/5.00G [00:24<00:01, 206MB/s]\u001b[A\n",
            "model-00002-of-00004.safetensors:  94% 4.72G/5.00G [00:24<00:01, 206MB/s]\u001b[A\n",
            "model-00002-of-00004.safetensors:  95% 4.74G/5.00G [00:24<00:01, 206MB/s]\u001b[A\n",
            "model-00002-of-00004.safetensors:  95% 4.76G/5.00G [00:24<00:01, 205MB/s]\u001b[A\n",
            "model-00002-of-00004.safetensors:  96% 4.78G/5.00G [00:24<00:01, 204MB/s]\u001b[A\n",
            "model-00002-of-00004.safetensors:  96% 4.80G/5.00G [00:24<00:00, 203MB/s]\u001b[A\n",
            "model-00002-of-00004.safetensors:  96% 4.82G/5.00G [00:24<00:00, 201MB/s]\u001b[A\n",
            "model-00002-of-00004.safetensors:  97% 4.84G/5.00G [00:25<00:00, 201MB/s]\u001b[A\n",
            "model-00002-of-00004.safetensors:  97% 4.87G/5.00G [00:25<00:00, 199MB/s]\u001b[A\n",
            "model-00002-of-00004.safetensors:  98% 4.90G/5.00G [00:25<00:00, 203MB/s]\u001b[A\n",
            "model-00002-of-00004.safetensors:  98% 4.92G/5.00G [00:25<00:00, 202MB/s]\u001b[A\n",
            "model-00002-of-00004.safetensors:  99% 4.94G/5.00G [00:25<00:00, 200MB/s]\u001b[A\n",
            "model-00002-of-00004.safetensors:  99% 4.96G/5.00G [00:25<00:00, 199MB/s]\u001b[A\n",
            "model-00002-of-00004.safetensors: 100% 5.00G/5.00G [00:25<00:00, 193MB/s]\n",
            "Downloading shards:  50% 2/4 [00:54<00:54, 27.24s/it]\n",
            "model-00003-of-00004.safetensors:   0% 0.00/4.92G [00:00<?, ?B/s]\u001b[A\n",
            "model-00003-of-00004.safetensors:   0% 21.0M/4.92G [00:00<00:30, 158MB/s]\u001b[A\n",
            "model-00003-of-00004.safetensors:   1% 41.9M/4.92G [00:00<00:27, 179MB/s]\u001b[A\n",
            "model-00003-of-00004.safetensors:   1% 62.9M/4.92G [00:00<00:26, 183MB/s]\u001b[A\n",
            "model-00003-of-00004.safetensors:   2% 83.9M/4.92G [00:00<00:25, 192MB/s]\u001b[A\n",
            "model-00003-of-00004.safetensors:   2% 105M/4.92G [00:00<00:24, 197MB/s] \u001b[A\n",
            "model-00003-of-00004.safetensors:   3% 126M/4.92G [00:00<00:24, 198MB/s]\u001b[A\n",
            "model-00003-of-00004.safetensors:   3% 147M/4.92G [00:00<00:24, 199MB/s]\u001b[A\n",
            "model-00003-of-00004.safetensors:   3% 168M/4.92G [00:00<00:24, 198MB/s]\u001b[A\n",
            "model-00003-of-00004.safetensors:   4% 189M/4.92G [00:00<00:23, 200MB/s]\u001b[A\n",
            "model-00003-of-00004.safetensors:   4% 220M/4.92G [00:01<00:23, 203MB/s]\u001b[A\n",
            "model-00003-of-00004.safetensors:   5% 241M/4.92G [00:01<00:22, 203MB/s]\u001b[A\n",
            "model-00003-of-00004.safetensors:   5% 262M/4.92G [00:01<00:22, 203MB/s]\u001b[A\n",
            "model-00003-of-00004.safetensors:   6% 283M/4.92G [00:01<00:23, 200MB/s]\u001b[A\n",
            "model-00003-of-00004.safetensors:   6% 304M/4.92G [00:01<00:22, 202MB/s]\u001b[A\n",
            "model-00003-of-00004.safetensors:   7% 325M/4.92G [00:01<00:22, 201MB/s]\u001b[A\n",
            "model-00003-of-00004.safetensors:   7% 357M/4.92G [00:01<00:22, 206MB/s]\u001b[A\n",
            "model-00003-of-00004.safetensors:   8% 388M/4.92G [00:01<00:21, 208MB/s]\u001b[A\n",
            "model-00003-of-00004.safetensors:   9% 419M/4.92G [00:02<00:21, 209MB/s]\u001b[A\n",
            "model-00003-of-00004.safetensors:   9% 451M/4.92G [00:02<00:21, 210MB/s]\u001b[A\n",
            "model-00003-of-00004.safetensors:  10% 482M/4.92G [00:02<00:21, 211MB/s]\u001b[A\n",
            "model-00003-of-00004.safetensors:  10% 514M/4.92G [00:02<00:20, 211MB/s]\u001b[A\n",
            "model-00003-of-00004.safetensors:  11% 545M/4.92G [00:02<00:20, 213MB/s]\u001b[A\n",
            "model-00003-of-00004.safetensors:  12% 577M/4.92G [00:02<00:20, 214MB/s]\u001b[A\n",
            "model-00003-of-00004.safetensors:  12% 608M/4.92G [00:02<00:20, 213MB/s]\u001b[A\n",
            "model-00003-of-00004.safetensors:  13% 640M/4.92G [00:03<00:20, 212MB/s]\u001b[A\n",
            "model-00003-of-00004.safetensors:  14% 671M/4.92G [00:03<00:20, 209MB/s]\u001b[A\n",
            "model-00003-of-00004.safetensors:  14% 692M/4.92G [00:03<00:20, 209MB/s]\u001b[A\n",
            "model-00003-of-00004.safetensors:  15% 713M/4.92G [00:03<00:20, 208MB/s]\u001b[A\n",
            "model-00003-of-00004.safetensors:  15% 734M/4.92G [00:03<00:20, 207MB/s]\u001b[A\n",
            "model-00003-of-00004.safetensors:  15% 755M/4.92G [00:03<00:20, 205MB/s]\u001b[A\n",
            "model-00003-of-00004.safetensors:  16% 776M/4.92G [00:03<00:20, 202MB/s]\u001b[A\n",
            "model-00003-of-00004.safetensors:  16% 807M/4.92G [00:03<00:19, 207MB/s]\u001b[A\n",
            "model-00003-of-00004.safetensors:  17% 828M/4.92G [00:04<00:19, 206MB/s]\u001b[A\n",
            "model-00003-of-00004.safetensors:  17% 860M/4.92G [00:04<00:19, 208MB/s]\u001b[A\n",
            "model-00003-of-00004.safetensors:  18% 881M/4.92G [00:04<00:19, 205MB/s]\u001b[A\n",
            "model-00003-of-00004.safetensors:  19% 912M/4.92G [00:04<00:19, 208MB/s]\u001b[A\n",
            "model-00003-of-00004.safetensors:  19% 944M/4.92G [00:04<00:19, 209MB/s]\u001b[A\n",
            "model-00003-of-00004.safetensors:  20% 975M/4.92G [00:04<00:18, 209MB/s]\u001b[A\n",
            "model-00003-of-00004.safetensors:  20% 996M/4.92G [00:04<00:18, 208MB/s]\u001b[A\n",
            "model-00003-of-00004.safetensors:  21% 1.02G/4.92G [00:04<00:18, 206MB/s]\u001b[A\n",
            "model-00003-of-00004.safetensors:  21% 1.04G/4.92G [00:05<00:18, 205MB/s]\u001b[A\n",
            "model-00003-of-00004.safetensors:  22% 1.06G/4.92G [00:05<00:18, 204MB/s]\u001b[A\n",
            "model-00003-of-00004.safetensors:  22% 1.09G/4.92G [00:05<00:18, 206MB/s]\u001b[A\n",
            "model-00003-of-00004.safetensors:  23% 1.11G/4.92G [00:05<00:18, 205MB/s]\u001b[A\n",
            "model-00003-of-00004.safetensors:  23% 1.14G/4.92G [00:05<00:18, 208MB/s]\u001b[A\n",
            "model-00003-of-00004.safetensors:  24% 1.16G/4.92G [00:05<00:18, 201MB/s]\u001b[A\n",
            "model-00003-of-00004.safetensors:  24% 1.18G/4.92G [00:05<00:18, 203MB/s]\u001b[A\n",
            "model-00003-of-00004.safetensors:  25% 1.21G/4.92G [00:05<00:18, 202MB/s]\u001b[A\n",
            "model-00003-of-00004.safetensors:  25% 1.24G/4.92G [00:06<00:17, 207MB/s]\u001b[A\n",
            "model-00003-of-00004.safetensors:  26% 1.26G/4.92G [00:06<00:17, 208MB/s]\u001b[A\n",
            "model-00003-of-00004.safetensors:  26% 1.29G/4.92G [00:06<00:17, 209MB/s]\u001b[A\n",
            "model-00003-of-00004.safetensors:  27% 1.32G/4.92G [00:06<00:17, 209MB/s]\u001b[A\n",
            "model-00003-of-00004.safetensors:  27% 1.34G/4.92G [00:06<00:17, 207MB/s]\u001b[A\n",
            "model-00003-of-00004.safetensors:  28% 1.37G/4.92G [00:06<00:16, 209MB/s]\u001b[A\n",
            "model-00003-of-00004.safetensors:  28% 1.39G/4.92G [00:06<00:19, 185MB/s]\u001b[A\n",
            "model-00003-of-00004.safetensors:  29% 1.43G/4.92G [00:06<00:18, 193MB/s]\u001b[A\n",
            "model-00003-of-00004.safetensors:  29% 1.45G/4.92G [00:07<00:18, 192MB/s]\u001b[A\n",
            "model-00003-of-00004.safetensors:  30% 1.48G/4.92G [00:07<00:17, 198MB/s]\u001b[A\n",
            "model-00003-of-00004.safetensors:  31% 1.51G/4.92G [00:07<00:16, 203MB/s]\u001b[A\n",
            "model-00003-of-00004.safetensors:  31% 1.54G/4.92G [00:07<00:16, 207MB/s]\u001b[A\n",
            "model-00003-of-00004.safetensors:  32% 1.57G/4.92G [00:07<00:16, 207MB/s]\u001b[A\n",
            "model-00003-of-00004.safetensors:  32% 1.59G/4.92G [00:07<00:16, 207MB/s]\u001b[A\n",
            "model-00003-of-00004.safetensors:  33% 1.61G/4.92G [00:08<00:24, 134MB/s]\u001b[A\n",
            "model-00003-of-00004.safetensors:  33% 1.64G/4.92G [00:08<00:22, 147MB/s]\u001b[A\n",
            "model-00003-of-00004.safetensors:  34% 1.66G/4.92G [00:08<00:20, 159MB/s]\u001b[A\n",
            "model-00003-of-00004.safetensors:  34% 1.68G/4.92G [00:08<00:19, 169MB/s]\u001b[A\n",
            "model-00003-of-00004.safetensors:  35% 1.70G/4.92G [00:08<00:18, 176MB/s]\u001b[A\n",
            "model-00003-of-00004.safetensors:  35% 1.72G/4.92G [00:08<00:17, 183MB/s]\u001b[A\n",
            "model-00003-of-00004.safetensors:  35% 1.74G/4.92G [00:08<00:17, 186MB/s]\u001b[A\n",
            "model-00003-of-00004.safetensors:  36% 1.76G/4.92G [00:08<00:16, 190MB/s]\u001b[A\n",
            "model-00003-of-00004.safetensors:  36% 1.78G/4.92G [00:08<00:16, 195MB/s]\u001b[A\n",
            "model-00003-of-00004.safetensors:  37% 1.80G/4.92G [00:09<00:15, 198MB/s]\u001b[A\n",
            "model-00003-of-00004.safetensors:  37% 1.82G/4.92G [00:09<00:15, 199MB/s]\u001b[A\n",
            "model-00003-of-00004.safetensors:  38% 1.86G/4.92G [00:09<00:14, 206MB/s]\u001b[A\n",
            "model-00003-of-00004.safetensors:  38% 1.89G/4.92G [00:09<00:14, 207MB/s]\u001b[A\n",
            "model-00003-of-00004.safetensors:  39% 1.91G/4.92G [00:09<00:14, 207MB/s]\u001b[A\n",
            "model-00003-of-00004.safetensors:  39% 1.93G/4.92G [00:09<00:14, 203MB/s]\u001b[A\n",
            "model-00003-of-00004.safetensors:  40% 1.95G/4.92G [00:09<00:14, 201MB/s]\u001b[A\n",
            "model-00003-of-00004.safetensors:  40% 1.97G/4.92G [00:09<00:14, 200MB/s]\u001b[A\n",
            "model-00003-of-00004.safetensors:  41% 1.99G/4.92G [00:09<00:14, 200MB/s]\u001b[A\n",
            "model-00003-of-00004.safetensors:  41% 2.01G/4.92G [00:10<00:14, 201MB/s]\u001b[A\n",
            "model-00003-of-00004.safetensors:  41% 2.03G/4.92G [00:10<00:16, 171MB/s]\u001b[A\n",
            "model-00003-of-00004.safetensors:  42% 2.06G/4.92G [00:10<00:19, 147MB/s]\u001b[A\n",
            "model-00003-of-00004.safetensors:  42% 2.08G/4.92G [00:10<00:18, 155MB/s]\u001b[A\n",
            "model-00003-of-00004.safetensors:  43% 2.10G/4.92G [00:10<00:17, 166MB/s]\u001b[A\n",
            "model-00003-of-00004.safetensors:  43% 2.12G/4.92G [00:10<00:15, 176MB/s]\u001b[A\n",
            "model-00003-of-00004.safetensors:  44% 2.14G/4.92G [00:10<00:15, 183MB/s]\u001b[A\n",
            "model-00003-of-00004.safetensors:  44% 2.16G/4.92G [00:10<00:14, 187MB/s]\u001b[A\n",
            "model-00003-of-00004.safetensors:  44% 2.18G/4.92G [00:11<00:14, 190MB/s]\u001b[A\n",
            "model-00003-of-00004.safetensors:  45% 2.21G/4.92G [00:11<00:13, 197MB/s]\u001b[A\n",
            "model-00003-of-00004.safetensors:  45% 2.23G/4.92G [00:11<00:13, 197MB/s]\u001b[A\n",
            "model-00003-of-00004.safetensors:  46% 2.25G/4.92G [00:11<00:13, 199MB/s]\u001b[A\n",
            "model-00003-of-00004.safetensors:  46% 2.28G/4.92G [00:11<00:13, 202MB/s]\u001b[A\n",
            "model-00003-of-00004.safetensors:  47% 2.31G/4.92G [00:11<00:12, 205MB/s]\u001b[A\n",
            "model-00003-of-00004.safetensors:  47% 2.33G/4.92G [00:11<00:12, 204MB/s]\u001b[A\n",
            "model-00003-of-00004.safetensors:  48% 2.35G/4.92G [00:11<00:12, 205MB/s]\u001b[A\n",
            "model-00003-of-00004.safetensors:  48% 2.37G/4.92G [00:11<00:12, 204MB/s]\u001b[A\n",
            "model-00003-of-00004.safetensors:  49% 2.39G/4.92G [00:12<00:12, 205MB/s]\u001b[A\n",
            "model-00003-of-00004.safetensors:  49% 2.41G/4.92G [00:12<00:12, 206MB/s]\u001b[A\n",
            "model-00003-of-00004.safetensors:  49% 2.43G/4.92G [00:12<00:12, 206MB/s]\u001b[A\n",
            "model-00003-of-00004.safetensors:  50% 2.45G/4.92G [00:12<00:11, 207MB/s]\u001b[A\n",
            "model-00003-of-00004.safetensors:  50% 2.47G/4.92G [00:12<00:17, 136MB/s]\u001b[A\n",
            "model-00003-of-00004.safetensors:  51% 2.50G/4.92G [00:12<00:17, 138MB/s]\u001b[A\n",
            "model-00003-of-00004.safetensors:  51% 2.52G/4.92G [00:12<00:15, 153MB/s]\u001b[A\n",
            "model-00003-of-00004.safetensors:  52% 2.54G/4.92G [00:13<00:14, 165MB/s]\u001b[A\n",
            "model-00003-of-00004.safetensors:  52% 2.56G/4.92G [00:13<00:13, 177MB/s]\u001b[A\n",
            "model-00003-of-00004.safetensors:  52% 2.58G/4.92G [00:13<00:12, 184MB/s]\u001b[A\n",
            "model-00003-of-00004.safetensors:  53% 2.60G/4.92G [00:13<00:12, 187MB/s]\u001b[A\n",
            "model-00003-of-00004.safetensors:  53% 2.62G/4.92G [00:13<00:12, 189MB/s]\u001b[A\n",
            "model-00003-of-00004.safetensors:  54% 2.64G/4.92G [00:13<00:11, 195MB/s]\u001b[A\n",
            "model-00003-of-00004.safetensors:  54% 2.67G/4.92G [00:13<00:11, 201MB/s]\u001b[A\n",
            "model-00003-of-00004.safetensors:  55% 2.69G/4.92G [00:13<00:10, 203MB/s]\u001b[A\n",
            "model-00003-of-00004.safetensors:  55% 2.73G/4.92G [00:13<00:10, 206MB/s]\u001b[A\n",
            "model-00003-of-00004.safetensors:  56% 2.75G/4.92G [00:14<00:10, 207MB/s]\u001b[A\n",
            "model-00003-of-00004.safetensors:  57% 2.78G/4.92G [00:14<00:10, 208MB/s]\u001b[A\n",
            "model-00003-of-00004.safetensors:  57% 2.80G/4.92G [00:14<00:10, 204MB/s]\u001b[A\n",
            "model-00003-of-00004.safetensors:  58% 2.83G/4.92G [00:14<00:10, 208MB/s]\u001b[A\n",
            "model-00003-of-00004.safetensors:  58% 2.86G/4.92G [00:14<00:09, 211MB/s]\u001b[A\n",
            "model-00003-of-00004.safetensors:  59% 2.89G/4.92G [00:14<00:09, 212MB/s]\u001b[A\n",
            "model-00003-of-00004.safetensors:  60% 2.93G/4.92G [00:14<00:09, 211MB/s]\u001b[A\n",
            "model-00003-of-00004.safetensors:  60% 2.96G/4.92G [00:15<00:09, 212MB/s]\u001b[A\n",
            "model-00003-of-00004.safetensors:  61% 2.99G/4.92G [00:15<00:09, 205MB/s]\u001b[A\n",
            "model-00003-of-00004.safetensors:  61% 3.01G/4.92G [00:15<00:10, 185MB/s]\u001b[A\n",
            "model-00003-of-00004.safetensors:  62% 3.03G/4.92G [00:15<00:10, 187MB/s]\u001b[A\n",
            "model-00003-of-00004.safetensors:  62% 3.05G/4.92G [00:15<00:09, 188MB/s]\u001b[A\n",
            "model-00003-of-00004.safetensors:  62% 3.07G/4.92G [00:15<00:09, 191MB/s]\u001b[A\n",
            "model-00003-of-00004.safetensors:  63% 3.09G/4.92G [00:15<00:09, 196MB/s]\u001b[A\n",
            "model-00003-of-00004.safetensors:  64% 3.12G/4.92G [00:15<00:08, 202MB/s]\u001b[A\n",
            "model-00003-of-00004.safetensors:  64% 3.15G/4.92G [00:16<00:08, 200MB/s]\u001b[A\n",
            "model-00003-of-00004.safetensors:  65% 3.18G/4.92G [00:16<00:08, 205MB/s]\u001b[A\n",
            "model-00003-of-00004.safetensors:  65% 3.21G/4.92G [00:16<00:08, 209MB/s]\u001b[A\n",
            "model-00003-of-00004.safetensors:  66% 3.23G/4.92G [00:16<00:08, 208MB/s]\u001b[A\n",
            "model-00003-of-00004.safetensors:  66% 3.26G/4.92G [00:16<00:07, 210MB/s]\u001b[A\n",
            "model-00003-of-00004.safetensors:  67% 3.28G/4.92G [00:16<00:07, 209MB/s]\u001b[A\n",
            "model-00003-of-00004.safetensors:  67% 3.30G/4.92G [00:16<00:07, 207MB/s]\u001b[A\n",
            "model-00003-of-00004.safetensors:  68% 3.32G/4.92G [00:16<00:07, 207MB/s]\u001b[A\n",
            "model-00003-of-00004.safetensors:  68% 3.34G/4.92G [00:17<00:08, 194MB/s]\u001b[A\n",
            "model-00003-of-00004.safetensors:  69% 3.38G/4.92G [00:17<00:07, 202MB/s]\u001b[A\n",
            "model-00003-of-00004.safetensors:  69% 3.41G/4.92G [00:17<00:07, 206MB/s]\u001b[A\n",
            "model-00003-of-00004.safetensors:  70% 3.44G/4.92G [00:17<00:07, 208MB/s]\u001b[A\n",
            "model-00003-of-00004.safetensors:  70% 3.46G/4.92G [00:17<00:07, 207MB/s]\u001b[A\n",
            "model-00003-of-00004.safetensors:  71% 3.49G/4.92G [00:17<00:06, 208MB/s]\u001b[A\n",
            "model-00003-of-00004.safetensors:  71% 3.51G/4.92G [00:17<00:06, 207MB/s]\u001b[A\n",
            "model-00003-of-00004.safetensors:  72% 3.53G/4.92G [00:17<00:06, 204MB/s]\u001b[A\n",
            "model-00003-of-00004.safetensors:  72% 3.55G/4.92G [00:18<00:06, 206MB/s]\u001b[A\n",
            "model-00003-of-00004.safetensors:  73% 3.59G/4.92G [00:18<00:06, 210MB/s]\u001b[A\n",
            "model-00003-of-00004.safetensors:  74% 3.62G/4.92G [00:18<00:06, 213MB/s]\u001b[A\n",
            "model-00003-of-00004.safetensors:  74% 3.65G/4.92G [00:18<00:05, 215MB/s]\u001b[A\n",
            "model-00003-of-00004.safetensors:  75% 3.68G/4.92G [00:18<00:05, 215MB/s]\u001b[A\n",
            "model-00003-of-00004.safetensors:  76% 3.71G/4.92G [00:18<00:05, 216MB/s]\u001b[A\n",
            "model-00003-of-00004.safetensors:  76% 3.74G/4.92G [00:18<00:05, 215MB/s]\u001b[A\n",
            "model-00003-of-00004.safetensors:  77% 3.77G/4.92G [00:19<00:05, 216MB/s]\u001b[A\n",
            "model-00003-of-00004.safetensors:  77% 3.81G/4.92G [00:19<00:05, 216MB/s]\u001b[A\n",
            "model-00003-of-00004.safetensors:  78% 3.84G/4.92G [00:19<00:05, 214MB/s]\u001b[A\n",
            "model-00003-of-00004.safetensors:  79% 3.87G/4.92G [00:19<00:04, 210MB/s]\u001b[A\n",
            "model-00003-of-00004.safetensors:  79% 3.90G/4.92G [00:19<00:04, 209MB/s]\u001b[A\n",
            "model-00003-of-00004.safetensors:  80% 3.92G/4.92G [00:19<00:04, 207MB/s]\u001b[A\n",
            "model-00003-of-00004.safetensors:  80% 3.94G/4.92G [00:19<00:04, 207MB/s]\u001b[A\n",
            "model-00003-of-00004.safetensors:  81% 3.96G/4.92G [00:19<00:04, 205MB/s]\u001b[A\n",
            "model-00003-of-00004.safetensors:  81% 3.98G/4.92G [00:20<00:04, 205MB/s]\u001b[A\n",
            "model-00003-of-00004.safetensors:  81% 4.01G/4.92G [00:20<00:04, 206MB/s]\u001b[A\n",
            "model-00003-of-00004.safetensors:  82% 4.03G/4.92G [00:20<00:04, 206MB/s]\u001b[A\n",
            "model-00003-of-00004.safetensors:  83% 4.06G/4.92G [00:20<00:04, 175MB/s]\u001b[A\n",
            "model-00003-of-00004.safetensors:  83% 4.08G/4.92G [00:20<00:04, 178MB/s]\u001b[A\n",
            "model-00003-of-00004.safetensors:  84% 4.11G/4.92G [00:20<00:04, 189MB/s]\u001b[A\n",
            "model-00003-of-00004.safetensors:  84% 4.13G/4.92G [00:20<00:04, 194MB/s]\u001b[A\n",
            "model-00003-of-00004.safetensors:  84% 4.15G/4.92G [00:20<00:03, 197MB/s]\u001b[A\n",
            "model-00003-of-00004.safetensors:  85% 4.17G/4.92G [00:21<00:03, 200MB/s]\u001b[A\n",
            "model-00003-of-00004.safetensors:  86% 4.20G/4.92G [00:21<00:03, 204MB/s]\u001b[A\n",
            "model-00003-of-00004.safetensors:  86% 4.23G/4.92G [00:21<00:03, 204MB/s]\u001b[A\n",
            "model-00003-of-00004.safetensors:  86% 4.25G/4.92G [00:21<00:03, 205MB/s]\u001b[A\n",
            "model-00003-of-00004.safetensors:  87% 4.27G/4.92G [00:21<00:03, 185MB/s]\u001b[A\n",
            "model-00003-of-00004.safetensors:  87% 4.30G/4.92G [00:21<00:03, 194MB/s]\u001b[A\n",
            "model-00003-of-00004.safetensors:  88% 4.32G/4.92G [00:21<00:03, 198MB/s]\u001b[A\n",
            "model-00003-of-00004.safetensors:  88% 4.34G/4.92G [00:21<00:02, 198MB/s]\u001b[A\n",
            "model-00003-of-00004.safetensors:  89% 4.36G/4.92G [00:21<00:02, 194MB/s]\u001b[A\n",
            "model-00003-of-00004.safetensors:  89% 4.38G/4.92G [00:22<00:02, 198MB/s]\u001b[A\n",
            "model-00003-of-00004.safetensors:  90% 4.40G/4.92G [00:22<00:02, 197MB/s]\u001b[A\n",
            "model-00003-of-00004.safetensors:  90% 4.42G/4.92G [00:22<00:02, 198MB/s]\u001b[A\n",
            "model-00003-of-00004.safetensors:  90% 4.45G/4.92G [00:22<00:02, 197MB/s]\u001b[A\n",
            "model-00003-of-00004.safetensors:  91% 4.47G/4.92G [00:22<00:02, 198MB/s]\u001b[A\n",
            "model-00003-of-00004.safetensors:  91% 4.49G/4.92G [00:22<00:02, 199MB/s]\u001b[A\n",
            "model-00003-of-00004.safetensors:  92% 4.51G/4.92G [00:22<00:02, 199MB/s]\u001b[A\n",
            "model-00003-of-00004.safetensors:  92% 4.53G/4.92G [00:22<00:01, 199MB/s]\u001b[A\n",
            "model-00003-of-00004.safetensors:  93% 4.55G/4.92G [00:22<00:01, 199MB/s]\u001b[A\n",
            "model-00003-of-00004.safetensors:  93% 4.57G/4.92G [00:23<00:01, 200MB/s]\u001b[A\n",
            "model-00003-of-00004.safetensors:  93% 4.59G/4.92G [00:23<00:01, 200MB/s]\u001b[A\n",
            "model-00003-of-00004.safetensors:  94% 4.62G/4.92G [00:23<00:01, 205MB/s]\u001b[A\n",
            "model-00003-of-00004.safetensors:  95% 4.66G/4.92G [00:23<00:01, 208MB/s]\u001b[A\n",
            "model-00003-of-00004.safetensors:  95% 4.69G/4.92G [00:23<00:01, 209MB/s]\u001b[A\n",
            "model-00003-of-00004.safetensors:  96% 4.71G/4.92G [00:23<00:00, 208MB/s]\u001b[A\n",
            "model-00003-of-00004.safetensors:  96% 4.74G/4.92G [00:23<00:00, 211MB/s]\u001b[A\n",
            "model-00003-of-00004.safetensors:  97% 4.77G/4.92G [00:24<00:00, 207MB/s]\u001b[A\n",
            "model-00003-of-00004.safetensors:  97% 4.79G/4.92G [00:24<00:00, 206MB/s]\u001b[A\n",
            "model-00003-of-00004.safetensors:  98% 4.81G/4.92G [00:24<00:00, 206MB/s]\u001b[A\n",
            "model-00003-of-00004.safetensors:  98% 4.83G/4.92G [00:24<00:00, 205MB/s]\u001b[A\n",
            "model-00003-of-00004.safetensors:  99% 4.87G/4.92G [00:24<00:00, 208MB/s]\u001b[A\n",
            "model-00003-of-00004.safetensors:  99% 4.89G/4.92G [00:24<00:00, 208MB/s]\u001b[A\n",
            "model-00003-of-00004.safetensors: 100% 4.92G/4.92G [00:24<00:00, 199MB/s]\n",
            "Downloading shards:  75% 3/4 [01:19<00:26, 26.17s/it]\n",
            "model-00004-of-00004.safetensors:   0% 0.00/1.17G [00:00<?, ?B/s]\u001b[A\n",
            "model-00004-of-00004.safetensors:   3% 31.5M/1.17G [00:00<00:04, 228MB/s]\u001b[A\n",
            "model-00004-of-00004.safetensors:   5% 62.9M/1.17G [00:00<00:05, 215MB/s]\u001b[A\n",
            "model-00004-of-00004.safetensors:   8% 94.4M/1.17G [00:00<00:05, 211MB/s]\u001b[A\n",
            "model-00004-of-00004.safetensors:  11% 126M/1.17G [00:00<00:04, 212MB/s] \u001b[A\n",
            "model-00004-of-00004.safetensors:  13% 157M/1.17G [00:00<00:04, 212MB/s]\u001b[A\n",
            "model-00004-of-00004.safetensors:  16% 189M/1.17G [00:00<00:04, 211MB/s]\u001b[A\n",
            "model-00004-of-00004.safetensors:  19% 220M/1.17G [00:01<00:04, 211MB/s]\u001b[A\n",
            "model-00004-of-00004.safetensors:  22% 252M/1.17G [00:01<00:04, 212MB/s]\u001b[A\n",
            "model-00004-of-00004.safetensors:  24% 283M/1.17G [00:01<00:05, 172MB/s]\u001b[A\n",
            "model-00004-of-00004.safetensors:  26% 304M/1.17G [00:01<00:04, 179MB/s]\u001b[A\n",
            "model-00004-of-00004.safetensors:  29% 336M/1.17G [00:01<00:04, 190MB/s]\u001b[A\n",
            "model-00004-of-00004.safetensors:  31% 367M/1.17G [00:01<00:04, 196MB/s]\u001b[A\n",
            "model-00004-of-00004.safetensors:  33% 388M/1.17G [00:01<00:04, 194MB/s]\u001b[A\n",
            "model-00004-of-00004.safetensors:  35% 409M/1.17G [00:02<00:03, 197MB/s]\u001b[A\n",
            "model-00004-of-00004.safetensors:  38% 440M/1.17G [00:02<00:03, 202MB/s]\u001b[A\n",
            "model-00004-of-00004.safetensors:  39% 461M/1.17G [00:02<00:03, 204MB/s]\u001b[A\n",
            "model-00004-of-00004.safetensors:  42% 493M/1.17G [00:02<00:03, 206MB/s]\u001b[A\n",
            "model-00004-of-00004.safetensors:  44% 514M/1.17G [00:02<00:03, 205MB/s]\u001b[A\n",
            "model-00004-of-00004.safetensors:  46% 535M/1.17G [00:02<00:03, 206MB/s]\u001b[A\n",
            "model-00004-of-00004.safetensors:  48% 556M/1.17G [00:02<00:02, 204MB/s]\u001b[A\n",
            "model-00004-of-00004.safetensors:  50% 587M/1.17G [00:02<00:02, 207MB/s]\u001b[A\n",
            "model-00004-of-00004.safetensors:  53% 619M/1.17G [00:03<00:02, 208MB/s]\u001b[A\n",
            "model-00004-of-00004.safetensors:  55% 640M/1.17G [00:03<00:02, 209MB/s]\u001b[A\n",
            "model-00004-of-00004.safetensors:  57% 661M/1.17G [00:03<00:02, 209MB/s]\u001b[A\n",
            "model-00004-of-00004.safetensors:  58% 682M/1.17G [00:03<00:02, 206MB/s]\u001b[A\n",
            "model-00004-of-00004.safetensors:  60% 703M/1.17G [00:03<00:02, 204MB/s]\u001b[A\n",
            "model-00004-of-00004.safetensors:  62% 724M/1.17G [00:03<00:02, 201MB/s]\u001b[A\n",
            "model-00004-of-00004.safetensors:  64% 744M/1.17G [00:03<00:02, 200MB/s]\u001b[A\n",
            "model-00004-of-00004.safetensors:  66% 765M/1.17G [00:03<00:02, 197MB/s]\u001b[A\n",
            "model-00004-of-00004.safetensors:  67% 786M/1.17G [00:03<00:01, 197MB/s]\u001b[A\n",
            "model-00004-of-00004.safetensors:  69% 807M/1.17G [00:04<00:01, 197MB/s]\u001b[A\n",
            "model-00004-of-00004.safetensors:  72% 839M/1.17G [00:04<00:01, 203MB/s]\u001b[A\n",
            "model-00004-of-00004.safetensors:  75% 870M/1.17G [00:04<00:01, 207MB/s]\u001b[A\n",
            "model-00004-of-00004.safetensors:  77% 902M/1.17G [00:04<00:01, 209MB/s]\u001b[A\n",
            "model-00004-of-00004.safetensors:  80% 933M/1.17G [00:04<00:01, 209MB/s]\u001b[A\n",
            "model-00004-of-00004.safetensors:  82% 954M/1.17G [00:04<00:01, 207MB/s]\u001b[A\n",
            "model-00004-of-00004.safetensors:  83% 975M/1.17G [00:04<00:00, 206MB/s]\u001b[A\n",
            "model-00004-of-00004.safetensors:  86% 1.01G/1.17G [00:04<00:00, 207MB/s]\u001b[A\n",
            "model-00004-of-00004.safetensors:  88% 1.03G/1.17G [00:05<00:00, 205MB/s]\u001b[A\n",
            "model-00004-of-00004.safetensors:  90% 1.05G/1.17G [00:05<00:00, 206MB/s]\u001b[A\n",
            "model-00004-of-00004.safetensors:  92% 1.07G/1.17G [00:05<00:00, 205MB/s]\u001b[A\n",
            "model-00004-of-00004.safetensors:  93% 1.09G/1.17G [00:05<00:00, 205MB/s]\u001b[A\n",
            "model-00004-of-00004.safetensors:  95% 1.11G/1.17G [00:05<00:00, 205MB/s]\u001b[A\n",
            "model-00004-of-00004.safetensors:  97% 1.13G/1.17G [00:05<00:00, 206MB/s]\u001b[A\n",
            "model-00004-of-00004.safetensors: 100% 1.17G/1.17G [00:05<00:00, 203MB/s]\n",
            "Downloading shards: 100% 4/4 [01:25<00:00, 21.45s/it]\n",
            "Loading checkpoint shards: 100% 4/4 [00:09<00:00,  2.30s/it]\n",
            "generation_config.json: 100% 177/177 [00:00<00:00, 1.01MB/s]\n",
            "tokenizer_config.json: 100% 50.6k/50.6k [00:00<00:00, 158MB/s]\n",
            "tokenizer.json: 100% 9.09M/9.09M [00:00<00:00, 20.0MB/s]\n",
            "special_tokens_map.json: 100% 73.0/73.0 [00:00<00:00, 564kB/s]\n",
            "Special tokens have been added in the vocabulary, make sure the associated word embeddings are fine-tuned or trained.\n",
            "05/11/2024 00:36:42 - INFO - dalm.training.rag_e2e.train_rage2e - Distributed environment: NO\n",
            "Num processes: 1\n",
            "Process index: 0\n",
            "Local process index: 0\n",
            "Device: cuda\n",
            "\n",
            "Mixed precision type: no\n",
            "\n",
            "Generating train split: 100 examples [00:00, 3917.31 examples/s]\n",
            "Running tokenizer on dataset: 100% 100/100 [00:00<00:00, 969.48 examples/s]\n",
            "05/11/2024 00:37:02 - INFO - dalm.training.rag_e2e.train_rage2e - Sample 81 of the training set: {'retriever_query_input_ids': [101, 1001, 23032, 1001, 2339, 2001, 4811, 19402, 7143, 2005, 2151, 3909, 12901, 2099, 2000, 7180, 2574, 1029, 102, 0, 0, 0, 0, 0, 0, 0, 0, 0, 0, 0, 0, 0, 0, 0, 0, 0, 0, 0, 0, 0, 0, 0, 0, 0, 0, 0, 0, 0, 0, 0], 'retriever_query_token_type_ids': [0, 0, 0, 0, 0, 0, 0, 0, 0, 0, 0, 0, 0, 0, 0, 0, 0, 0, 0, 0, 0, 0, 0, 0, 0, 0, 0, 0, 0, 0, 0, 0, 0, 0, 0, 0, 0, 0, 0, 0, 0, 0, 0, 0, 0, 0, 0, 0, 0, 0], 'retriever_query_attention_mask': [1, 1, 1, 1, 1, 1, 1, 1, 1, 1, 1, 1, 1, 1, 1, 1, 1, 1, 1, 0, 0, 0, 0, 0, 0, 0, 0, 0, 0, 0, 0, 0, 0, 0, 0, 0, 0, 0, 0, 0, 0, 0, 0, 0, 0, 0, 0, 0, 0, 0], 'retriever_passage_input_ids': [101, 1001, 6019, 1001, 2260, 3127, 1015, 1012, 2011, 1037, 8025, 16507, 1010, 3904, 2012, 2035, 2003, 3599, 2129, 2172, 10928, 1996, 23957, 1011, 12608, 4300, 21418, 2018, 2008, 2028, 1997, 2010, 7541, 2814, 2001, 2025, 9287, 2013, 2019, 23957, 1010, 2021, 2001, 1999, 2755, 2013, 1037, 2235, 4774, 1999, 1996, 9884, 1997, 6655, 2884, 3351, 8557, 1998, 2025, 2013, 26353, 2004, 2002, 2788, 3555, 1012, 4300, 21418, 2018, 2196, 1010, 2412, 6878, 2023, 1012, 2023, 2767, 1997, 2010, 2018, 1984, 12096, 3369, 2006, 1996, 4774, 2070, 1984, 6199, 12129, 3011, 2086, 3130, 1010, 1998, 2002, 2018, 2499, 2524, 2000, 12586, 2370, 2046, 3011, 2554, 1011, 2007, 1010, 2009, 2442, 2022, 2056, 1010, 2070, 3112, 1012, 2005, 6013, 2002, 2018, 2985, 2216, 1984, 6199, 12129, 2086, 12097, 102], 'retriever_passage_token_type_ids': [0, 0, 0, 0, 0, 0, 0, 0, 0, 0, 0, 0, 0, 0, 0, 0, 0, 0, 0, 0, 0, 0, 0, 0, 0, 0, 0, 0, 0, 0, 0, 0, 0, 0, 0, 0, 0, 0, 0, 0, 0, 0, 0, 0, 0, 0, 0, 0, 0, 0, 0, 0, 0, 0, 0, 0, 0, 0, 0, 0, 0, 0, 0, 0, 0, 0, 0, 0, 0, 0, 0, 0, 0, 0, 0, 0, 0, 0, 0, 0, 0, 0, 0, 0, 0, 0, 0, 0, 0, 0, 0, 0, 0, 0, 0, 0, 0, 0, 0, 0, 0, 0, 0, 0, 0, 0, 0, 0, 0, 0, 0, 0, 0, 0, 0, 0, 0, 0, 0, 0, 0, 0, 0, 0, 0, 0, 0, 0], 'retriever_passage_attention_mask': [1, 1, 1, 1, 1, 1, 1, 1, 1, 1, 1, 1, 1, 1, 1, 1, 1, 1, 1, 1, 1, 1, 1, 1, 1, 1, 1, 1, 1, 1, 1, 1, 1, 1, 1, 1, 1, 1, 1, 1, 1, 1, 1, 1, 1, 1, 1, 1, 1, 1, 1, 1, 1, 1, 1, 1, 1, 1, 1, 1, 1, 1, 1, 1, 1, 1, 1, 1, 1, 1, 1, 1, 1, 1, 1, 1, 1, 1, 1, 1, 1, 1, 1, 1, 1, 1, 1, 1, 1, 1, 1, 1, 1, 1, 1, 1, 1, 1, 1, 1, 1, 1, 1, 1, 1, 1, 1, 1, 1, 1, 1, 1, 1, 1, 1, 1, 1, 1, 1, 1, 1, 1, 1, 1, 1, 1, 1, 1], 'generator_input_input_ids': [128000, 2, 1663, 2, 674, 1663, 2, 8595, 574, 14337, 43688, 440, 28495, 369, 904, 16706, 829, 60496, 311, 17782, 5246, 30, 674, 6519, 425, 2, 674, 6519, 425, 2, 220, 717, 96424, 220, 16, 627, 1383, 264, 22999, 50278, 11, 2290, 520, 682, 374, 7041, 1268, 1790, 38141, 279, 85980, 7058, 8784, 20995, 28686, 43911, 1047, 430, 832, 315, 813, 18585, 4885, 574, 539, 58842, 198, 1527, 459, 85980, 11, 719, 574, 304, 2144, 505, 264, 2678, 11841, 304, 279, 53851, 315, 13315, 301, 713, 817, 198, 438, 539, 505, 33592, 8350, 439, 568, 6118, 11922, 627, 60762, 43911, 1047, 2646, 11, 3596, 24740, 420, 627, 2028, 4333, 315, 813, 1047, 33595, 71831, 59125, 11721, 389, 279, 11841, 1063, 33595, 71831, 69, 15247, 9420, 1667, 198, 1762, 18785, 11, 323, 568, 1047, 6575, 2653, 311, 20955, 5678, 1139, 9420, 8396, 482, 449, 345, 275, 2011, 387, 1071, 11, 1063, 2450, 13, 1789, 2937, 568, 1047, 7543, 1884, 33595, 71831, 69, 15247, 1667, 198, 8203, 2518, 311, 387, 459, 704, 315, 990, 12360, 11, 902, 574, 50434, 3403, 627, 1548, 1047, 1903, 832, 84834, 1529, 8154, 3582, 11, 1606, 568, 1047, 1940, 6802, 291, 264, 2766, 198, 263, 813, 10073, 5382, 3495, 13, 578, 2038, 568, 1047, 20802, 1047, 6197, 1461, 311, 198, 28150, 279, 836, 19524, 59663, 43688, 440, 863, 439, 1694, 29921, 28093, 2203, 292, 9373, 627, 1548, 574, 539, 75315, 66735, 16615, 11, 813, 4519, 1051, 21933, 719, 539, 75315, 84, 7058, 7162, 44877, 13, 5414, 7013, 574, 16502, 88, 323, 44768, 819], 'generator_input_attention_mask': [1, 1, 1, 1, 1, 1, 1, 1, 1, 1, 1, 1, 1, 1, 1, 1, 1, 1, 1, 1, 1, 1, 1, 1, 1, 1, 1, 1, 1, 1, 1, 1, 1, 1, 1, 1, 1, 1, 1, 1, 1, 1, 1, 1, 1, 1, 1, 1, 1, 1, 1, 1, 1, 1, 1, 1, 1, 1, 1, 1, 1, 1, 1, 1, 1, 1, 1, 1, 1, 1, 1, 1, 1, 1, 1, 1, 1, 1, 1, 1, 1, 1, 1, 1, 1, 1, 1, 1, 1, 1, 1, 1, 1, 1, 1, 1, 1, 1, 1, 1, 1, 1, 1, 1, 1, 1, 1, 1, 1, 1, 1, 1, 1, 1, 1, 1, 1, 1, 1, 1, 1, 1, 1, 1, 1, 1, 1, 1, 1, 1, 1, 1, 1, 1, 1, 1, 1, 1, 1, 1, 1, 1, 1, 1, 1, 1, 1, 1, 1, 1, 1, 1, 1, 1, 1, 1, 1, 1, 1, 1, 1, 1, 1, 1, 1, 1, 1, 1, 1, 1, 1, 1, 1, 1, 1, 1, 1, 1, 1, 1, 1, 1, 1, 1, 1, 1, 1, 1, 1, 1, 1, 1, 1, 1, 1, 1, 1, 1, 1, 1, 1, 1, 1, 1, 1, 1, 1, 1, 1, 1, 1, 1, 1, 1, 1, 1, 1, 1, 1, 1, 1, 1, 1, 1, 1, 1, 1, 1, 1, 1, 1, 1, 1, 1, 1, 1, 1, 1, 1, 1, 1, 1, 1, 1, 1, 1, 1, 1, 1, 1, 1, 1, 1, 1, 1, 1], 'query_passage_input_len': 856}.\n",
            "05/11/2024 00:37:02 - INFO - dalm.training.rag_e2e.train_rage2e - Sample 14 of the training set: {'retriever_query_input_ids': [101, 1001, 23032, 1001, 2339, 2079, 2017, 2228, 5572, 1010, 11883, 1010, 1998, 1037, 10682, 2024, 3855, 1999, 1996, 6123, 2592, 1029, 102, 0, 0, 0, 0, 0, 0, 0, 0, 0, 0, 0, 0, 0, 0, 0, 0, 0, 0, 0, 0, 0, 0, 0, 0, 0, 0, 0], 'retriever_query_token_type_ids': [0, 0, 0, 0, 0, 0, 0, 0, 0, 0, 0, 0, 0, 0, 0, 0, 0, 0, 0, 0, 0, 0, 0, 0, 0, 0, 0, 0, 0, 0, 0, 0, 0, 0, 0, 0, 0, 0, 0, 0, 0, 0, 0, 0, 0, 0, 0, 0, 0, 0], 'retriever_query_attention_mask': [1, 1, 1, 1, 1, 1, 1, 1, 1, 1, 1, 1, 1, 1, 1, 1, 1, 1, 1, 1, 1, 1, 1, 0, 0, 0, 0, 0, 0, 0, 0, 0, 0, 0, 0, 0, 0, 0, 0, 0, 0, 0, 0, 0, 0, 0, 0, 0, 0, 0], 'retriever_passage_input_ids': [101, 1001, 6019, 1001, 1017, 2005, 26937, 13899, 1998, 11152, 2175, 12096, 1998, 2035, 2060, 13929, 7066, 2005, 5572, 1010, 11883, 1010, 1998, 1037, 10682, 102, 0, 0, 0, 0, 0, 0, 0, 0, 0, 0, 0, 0, 0, 0, 0, 0, 0, 0, 0, 0, 0, 0, 0, 0, 0, 0, 0, 0, 0, 0, 0, 0, 0, 0, 0, 0, 0, 0, 0, 0, 0, 0, 0, 0, 0, 0, 0, 0, 0, 0, 0, 0, 0, 0, 0, 0, 0, 0, 0, 0, 0, 0, 0, 0, 0, 0, 0, 0, 0, 0, 0, 0, 0, 0, 0, 0, 0, 0, 0, 0, 0, 0, 0, 0, 0, 0, 0, 0, 0, 0, 0, 0, 0, 0, 0, 0, 0, 0, 0, 0, 0, 0], 'retriever_passage_token_type_ids': [0, 0, 0, 0, 0, 0, 0, 0, 0, 0, 0, 0, 0, 0, 0, 0, 0, 0, 0, 0, 0, 0, 0, 0, 0, 0, 0, 0, 0, 0, 0, 0, 0, 0, 0, 0, 0, 0, 0, 0, 0, 0, 0, 0, 0, 0, 0, 0, 0, 0, 0, 0, 0, 0, 0, 0, 0, 0, 0, 0, 0, 0, 0, 0, 0, 0, 0, 0, 0, 0, 0, 0, 0, 0, 0, 0, 0, 0, 0, 0, 0, 0, 0, 0, 0, 0, 0, 0, 0, 0, 0, 0, 0, 0, 0, 0, 0, 0, 0, 0, 0, 0, 0, 0, 0, 0, 0, 0, 0, 0, 0, 0, 0, 0, 0, 0, 0, 0, 0, 0, 0, 0, 0, 0, 0, 0, 0, 0], 'retriever_passage_attention_mask': [1, 1, 1, 1, 1, 1, 1, 1, 1, 1, 1, 1, 1, 1, 1, 1, 1, 1, 1, 1, 1, 1, 1, 1, 1, 1, 0, 0, 0, 0, 0, 0, 0, 0, 0, 0, 0, 0, 0, 0, 0, 0, 0, 0, 0, 0, 0, 0, 0, 0, 0, 0, 0, 0, 0, 0, 0, 0, 0, 0, 0, 0, 0, 0, 0, 0, 0, 0, 0, 0, 0, 0, 0, 0, 0, 0, 0, 0, 0, 0, 0, 0, 0, 0, 0, 0, 0, 0, 0, 0, 0, 0, 0, 0, 0, 0, 0, 0, 0, 0, 0, 0, 0, 0, 0, 0, 0, 0, 0, 0, 0, 0, 0, 0, 0, 0, 0, 0, 0, 0, 0, 0, 0, 0, 0, 0, 0, 0], 'generator_input_input_ids': [128000, 2, 1663, 2, 674, 1663, 2, 8595, 656, 499, 1781, 15600, 11, 47084, 11, 323, 264, 32169, 527, 9932, 304, 279, 2317, 2038, 30, 674, 6519, 425, 2, 674, 6519, 425, 2, 220, 18, 198, 2000, 12565, 3919, 48677, 323, 62140, 47247, 267, 198, 438, 682, 1023, 59796, 5493, 198, 2000, 15600, 11, 47084, 11, 323, 264, 32169, 674, 9399, 2, 578, 6420, 315, 15600, 11, 47084, 11, 323, 264, 32169, 304, 279, 2317, 2038, 13533, 430, 1521, 3673, 527, 1694, 9076, 439, 6981, 323, 1862, 311, 12565, 3919, 48677, 11, 62140, 47247, 267, 11, 323, 682, 1023, 59796, 5493, 13, 128001, 128001, 128001, 128001, 128001, 128001, 128001, 128001, 128001, 128001, 128001, 128001, 128001, 128001, 128001, 128001, 128001, 128001, 128001, 128001, 128001, 128001, 128001, 128001, 128001, 128001, 128001, 128001, 128001, 128001, 128001, 128001, 128001, 128001, 128001, 128001, 128001, 128001, 128001, 128001, 128001, 128001, 128001, 128001, 128001, 128001, 128001, 128001, 128001, 128001, 128001, 128001, 128001, 128001, 128001, 128001, 128001, 128001, 128001, 128001, 128001, 128001, 128001, 128001, 128001, 128001, 128001, 128001, 128001, 128001, 128001, 128001, 128001, 128001, 128001, 128001, 128001, 128001, 128001, 128001, 128001, 128001, 128001, 128001, 128001, 128001, 128001, 128001, 128001, 128001, 128001, 128001, 128001, 128001, 128001, 128001, 128001, 128001, 128001, 128001, 128001, 128001, 128001, 128001, 128001, 128001, 128001, 128001, 128001, 128001, 128001, 128001, 128001, 128001, 128001, 128001, 128001, 128001, 128001, 128001, 128001, 128001, 128001, 128001, 128001, 128001, 128001, 128001, 128001, 128001, 128001, 128001, 128001, 128001, 128001, 128001, 128001, 128001, 128001, 128001, 128001, 128001, 128001, 128001, 128001, 128001, 128001, 128001, 128001, 128001, 128001, 128001, 128001, 128001], 'generator_input_attention_mask': [1, 1, 1, 1, 1, 1, 1, 1, 1, 1, 1, 1, 1, 1, 1, 1, 1, 1, 1, 1, 1, 1, 1, 1, 1, 1, 1, 1, 1, 1, 1, 1, 1, 1, 1, 1, 1, 1, 1, 1, 1, 1, 1, 1, 1, 1, 1, 1, 1, 1, 1, 1, 1, 1, 1, 1, 1, 1, 1, 1, 1, 1, 1, 1, 1, 1, 1, 1, 1, 1, 1, 1, 1, 1, 1, 1, 1, 1, 1, 1, 1, 1, 1, 1, 1, 1, 1, 1, 1, 1, 1, 1, 1, 1, 1, 1, 1, 1, 1, 1, 1, 1, 0, 0, 0, 0, 0, 0, 0, 0, 0, 0, 0, 0, 0, 0, 0, 0, 0, 0, 0, 0, 0, 0, 0, 0, 0, 0, 0, 0, 0, 0, 0, 0, 0, 0, 0, 0, 0, 0, 0, 0, 0, 0, 0, 0, 0, 0, 0, 0, 0, 0, 0, 0, 0, 0, 0, 0, 0, 0, 0, 0, 0, 0, 0, 0, 0, 0, 0, 0, 0, 0, 0, 0, 0, 0, 0, 0, 0, 0, 0, 0, 0, 0, 0, 0, 0, 0, 0, 0, 0, 0, 0, 0, 0, 0, 0, 0, 0, 0, 0, 0, 0, 0, 0, 0, 0, 0, 0, 0, 0, 0, 0, 0, 0, 0, 0, 0, 0, 0, 0, 0, 0, 0, 0, 0, 0, 0, 0, 0, 0, 0, 0, 0, 0, 0, 0, 0, 0, 0, 0, 0, 0, 0, 0, 0, 0, 0, 0, 0, 0, 0, 0, 0, 0, 0], 'query_passage_input_len': 62}.\n",
            "05/11/2024 00:37:02 - INFO - dalm.training.rag_e2e.train_rage2e - ***** Running E2E training *****\n",
            "05/11/2024 00:37:02 - INFO - dalm.training.rag_e2e.train_rage2e -   Num examples = 100\n",
            "05/11/2024 00:37:02 - INFO - dalm.training.rag_e2e.train_rage2e -   Num Epochs = 1\n",
            "05/11/2024 00:37:02 - INFO - dalm.training.rag_e2e.train_rage2e -   Instantaneous batch size per device = 2\n",
            "05/11/2024 00:37:02 - INFO - dalm.training.rag_e2e.train_rage2e -   Total train batch size (w. parallel, distributed & accumulation) = 2\n",
            "05/11/2024 00:37:02 - INFO - dalm.training.rag_e2e.train_rage2e -   Gradient Accumulation steps = 1\n",
            "05/11/2024 00:37:02 - INFO - dalm.training.rag_e2e.train_rage2e -   Total optimization steps = 50\n",
            "100% 50/50 [00:22<00:00,  2.11it/s]05/11/2024 00:37:25 - INFO - dalm.training.rag_e2e.train_rage2e - epoch 0: {}\n",
            "/usr/local/lib/python3.10/dist-packages/huggingface_hub/file_download.py:1132: FutureWarning: `resume_download` is deprecated and will be removed in version 1.0.0. Downloads always resume when possible. If you want to force a new download, use `force_download=True`.\n",
            "  warnings.warn(\n",
            "loading configuration file config.json from cache at /root/.cache/huggingface/hub/models--Snowflake--snowflake-arctic-embed-m/snapshots/2ca412ec9505022eebd7d10286fbbad4b779f6e0/config.json\n",
            "Model config BertConfig {\n",
            "  \"_name_or_path\": \"/data/.model_and_tokenizer_cache/8c1f5b7e8b968d544f7adc2e31c63251e690136cb5f2d99fd1d61e5d43d2ca6c\",\n",
            "  \"architectures\": [\n",
            "    \"BertModel\"\n",
            "  ],\n",
            "  \"attention_probs_dropout_prob\": 0.1,\n",
            "  \"classifier_dropout\": null,\n",
            "  \"gradient_checkpointing\": false,\n",
            "  \"hidden_act\": \"gelu\",\n",
            "  \"hidden_dropout_prob\": 0.1,\n",
            "  \"hidden_size\": 768,\n",
            "  \"initializer_range\": 0.02,\n",
            "  \"intermediate_size\": 3072,\n",
            "  \"layer_norm_eps\": 1e-12,\n",
            "  \"max_position_embeddings\": 512,\n",
            "  \"model_type\": \"bert\",\n",
            "  \"num_attention_heads\": 12,\n",
            "  \"num_hidden_layers\": 12,\n",
            "  \"pad_token_id\": 0,\n",
            "  \"position_embedding_type\": \"absolute\",\n",
            "  \"torch_dtype\": \"float32\",\n",
            "  \"transformers_version\": \"4.40.2\",\n",
            "  \"type_vocab_size\": 2,\n",
            "  \"use_cache\": true,\n",
            "  \"vocab_size\": 30522\n",
            "}\n",
            "\n",
            "tokenizer config file saved in rag_e2e_llama_arctic/retriever/tokenizer_config.json\n",
            "Special tokens file saved in rag_e2e_llama_arctic/retriever/special_tokens_map.json\n",
            "loading configuration file config.json from cache at /root/.cache/huggingface/hub/models--NousResearch--Meta-Llama-3-8B/snapshots/315b20096dc791d381d514deb5f8bd9c8d6d3061/config.json\n",
            "Model config LlamaConfig {\n",
            "  \"architectures\": [\n",
            "    \"LlamaForCausalLM\"\n",
            "  ],\n",
            "  \"attention_bias\": false,\n",
            "  \"attention_dropout\": 0.0,\n",
            "  \"bos_token_id\": 128000,\n",
            "  \"eos_token_id\": 128001,\n",
            "  \"hidden_act\": \"silu\",\n",
            "  \"hidden_size\": 4096,\n",
            "  \"initializer_range\": 0.02,\n",
            "  \"intermediate_size\": 14336,\n",
            "  \"max_position_embeddings\": 8192,\n",
            "  \"model_type\": \"llama\",\n",
            "  \"num_attention_heads\": 32,\n",
            "  \"num_hidden_layers\": 32,\n",
            "  \"num_key_value_heads\": 8,\n",
            "  \"pretraining_tp\": 1,\n",
            "  \"rms_norm_eps\": 1e-05,\n",
            "  \"rope_scaling\": null,\n",
            "  \"rope_theta\": 500000.0,\n",
            "  \"tie_word_embeddings\": false,\n",
            "  \"torch_dtype\": \"bfloat16\",\n",
            "  \"transformers_version\": \"4.40.2\",\n",
            "  \"use_cache\": true,\n",
            "  \"vocab_size\": 128256\n",
            "}\n",
            "\n",
            "tokenizer config file saved in rag_e2e_llama_arctic/generator/tokenizer_config.json\n",
            "Special tokens file saved in rag_e2e_llama_arctic/generator/special_tokens_map.json\n",
            "100% 50/50 [00:23<00:00,  2.14it/s]\n"
          ]
        }
      ],
      "source": [
        "!dalm train-rag-e2e \\\n",
        "\"./dalm/datasets/hhgtg_train.csv\" \\\n",
        "\"Snowflake/snowflake-arctic-embed-m\" \\\n",
        "\"NousResearch/Meta-Llama-3-8B\" \\\n",
        "--output-dir \"rag_e2e_llama_arctic\" \\\n",
        "--use-peft \"both\" \\\n",
        "--with-tracking \\\n",
        "--report-to all \\\n",
        "--use-bnb \"both\"\\\n",
        "--per-device-train-batch-size 2"
      ]
    },
    {
      "cell_type": "markdown",
      "metadata": {
        "id": "xGgg3fUDlUUI"
      },
      "source": [
        "####❓ Question #2:\n",
        "\n",
        "Describe how the LOSS works for E2E RAG.\n",
        "\n",
        "(Please see the lecture recording if you have any specific questions!)"
      ]
    },
    {
      "cell_type": "markdown",
      "source": [
        "#### Answer #2:\n",
        "- We are using the idea of constrastive loss to train the mebedding model\n",
        "retriever_constrastive_loss = (loss_query + loss_passage) / 2\n",
        "Every piece of context other then we want is potentiall a negative example. And the piece of context we do want is a positive example.\n",
        "- Next is causal loss. This is generated from mariginalized loss.\n",
        "- The both are added to get the total loss:\n",
        "combined_loss = retriever_constrastive_loss + marginalize_causal_loss (LLM)\n",
        "\n",
        "The idea is both system gradually get better. DALM trains both the embedding model and the LLM.\n",
        "With DALM we are not changing behavour. We are specifically adding knowledge. Why because we can not extend behaviour change to our embedding model as we can extent to the LLM."
      ],
      "metadata": {
        "id": "0N3Us0n-wrVA"
      }
    },
    {
      "cell_type": "markdown",
      "metadata": {
        "id": "SVuO5qkuT1mC"
      },
      "source": [
        "## Task 4: Creating Simple LCEL Chain with New Models\n",
        "\n",
        "Now that we've fine-tuned our DALM model - let's create a chain that leverages it!"
      ]
    },
    {
      "cell_type": "markdown",
      "metadata": {
        "id": "QG5Pq6rrbHvi"
      },
      "source": [
        "### Data Collection\n",
        "\n",
        "We'll be leveraging the `PyMUPDFLoader` to load our PDF!"
      ]
    },
    {
      "cell_type": "code",
      "execution_count": null,
      "metadata": {
        "id": "WYeQbplcVkW6"
      },
      "outputs": [],
      "source": [
        "from langchain_community.document_loaders import PyMuPDFLoader\n",
        "\n",
        "docs = PyMuPDFLoader(\"hhgtg1.pdf\").load()\n",
        "\n",
        "# time to see if it works"
      ]
    },
    {
      "cell_type": "markdown",
      "metadata": {
        "id": "MyAoMHdMbWhs"
      },
      "source": [
        "### Chunking Our Documents - Split and chunk as usual.\n",
        "\n",
        "We'll use the `RecursiveCharacterTextSplitter` to create our toy example.\n",
        "\n",
        "It will split based on the following rules:\n",
        "\n",
        "- Each chunk has a maximum size of 100 tokens\n",
        "- It will try and split first on the `\\n\\n` character, then on the `\\n`, then on the `<SPACE>` character, and finally it will split on individual tokens.\n",
        "\n",
        "Let's implement it and see the results!"
      ]
    },
    {
      "cell_type": "code",
      "execution_count": null,
      "metadata": {
        "id": "QCY2lbbPWlQ4"
      },
      "outputs": [],
      "source": [
        "import tiktoken\n",
        "from langchain.text_splitter import RecursiveCharacterTextSplitter\n",
        "\n",
        "def tiktoken_len(text):\n",
        "    tokens = tiktoken.encoding_for_model(\"gpt-3.5-turbo\").encode(\n",
        "        text,\n",
        "    )\n",
        "    return len(tokens)\n",
        "\n",
        "text_splitter = RecursiveCharacterTextSplitter(\n",
        "    chunk_size = 200,\n",
        "    chunk_overlap = 0,\n",
        "    length_function = tiktoken_len,\n",
        ")\n",
        "\n",
        "split_chunks = text_splitter.split_documents(docs)"
      ]
    },
    {
      "cell_type": "code",
      "execution_count": null,
      "metadata": {
        "colab": {
          "base_uri": "https://localhost:8080/"
        },
        "id": "_nbHfp7VWm2s",
        "outputId": "881c5dea-7af5-4f97-83d1-e81ebd589738"
      },
      "outputs": [
        {
          "output_type": "execute_result",
          "data": {
            "text/plain": [
              "444"
            ]
          },
          "metadata": {},
          "execution_count": 28
        }
      ],
      "source": [
        "len(split_chunks)"
      ]
    },
    {
      "cell_type": "markdown",
      "metadata": {
        "id": "80DCS-ocbZid"
      },
      "source": [
        "## Embeddings and Dense Vector Search\n",
        "\n",
        "Now that we have our individual chunks, we need a system to correctly select the relevant pieces of information to answer our query.\n",
        "\n",
        "This sounds like a perfect job for embeddings!\n",
        "\n",
        "However, we have a small problem to solve - our embedding model currently exists in a \"DALM specific\" format - let's pull it out and get it into a `sentencetransformers` consistent format!"
      ]
    },
    {
      "cell_type": "code",
      "execution_count": null,
      "metadata": {
        "colab": {
          "base_uri": "https://localhost:8080/"
        },
        "id": "Pcqd7AVkWqDm",
        "outputId": "cef8f20a-df8f-49b3-fe5f-92e07c2b1ef0"
      },
      "outputs": [
        {
          "output_type": "stream",
          "name": "stderr",
          "text": [
            "/usr/local/lib/python3.10/dist-packages/huggingface_hub/file_download.py:1132: FutureWarning: `resume_download` is deprecated and will be removed in version 1.0.0. Downloads always resume when possible. If you want to force a new download, use `force_download=True`.\n",
            "  warnings.warn(\n",
            "Some weights of BertModel were not initialized from the model checkpoint at Snowflake/snowflake-arctic-embed-m and are newly initialized: ['pooler.dense.bias', 'pooler.dense.weight']\n",
            "You should probably TRAIN this model on a down-stream task to be able to use it for predictions and inference.\n"
          ]
        }
      ],
      "source": [
        "from dalm.models.retriever_only_base_model import AutoModelForSentenceEmbedding\n",
        "\n",
        "embedding_model = AutoModelForSentenceEmbedding(\"Snowflake/snowflake-arctic-embed-m\")\n",
        "\n",
        "# embedding model will be an adaptor for the sentence embedding model"
      ]
    },
    {
      "cell_type": "markdown",
      "metadata": {
        "id": "giSHnBaHb0dk"
      },
      "source": [
        "Now we can attach the adapters we used to train the embedding model."
      ]
    },
    {
      "cell_type": "code",
      "execution_count": null,
      "metadata": {
        "colab": {
          "base_uri": "https://localhost:8080/"
        },
        "id": "SURUNhadYPcn",
        "outputId": "bbd721ac-feb8-4ad5-841e-889f76dfa5cd"
      },
      "outputs": [
        {
          "output_type": "stream",
          "name": "stderr",
          "text": [
            "/usr/local/lib/python3.10/dist-packages/peft/tuners/lora/bnb.py:325: UserWarning: Merge lora module to 4-bit linear may get different generations due to rounding errors.\n",
            "  warnings.warn(\n"
          ]
        }
      ],
      "source": [
        "# load the model\n",
        "embedding_model.attach_pre_trained_peft_layers(\"rag_e2e_llama_arctic/retriever\", \"cuda\")"
      ]
    },
    {
      "cell_type": "markdown",
      "metadata": {
        "id": "5RsuOunHb4Wj"
      },
      "source": [
        "Let's merge and unload this model to get the new fine-tuned version in a friendly format."
      ]
    },
    {
      "cell_type": "code",
      "execution_count": null,
      "metadata": {
        "id": "x0ZHPqTOY1pJ"
      },
      "outputs": [],
      "source": [
        "merged_embeddings = embedding_model.merge_and_unload()"
      ]
    },
    {
      "cell_type": "markdown",
      "metadata": {
        "id": "mwH49VYklc-c"
      },
      "source": [
        "####❓ Question #3:\n",
        "\n",
        "What is `merge_and_unload()` doing?"
      ]
    },
    {
      "cell_type": "markdown",
      "source": [
        "#### Answer #3:\n",
        "Combine the embeddings and unload the memory. Unloading releases the resources that are used to generate or store embeddings. - basically clean the memory. Get rid of adaptor s and have it as a single model again."
      ],
      "metadata": {
        "id": "_yv_Ptr4zGP0"
      }
    },
    {
      "cell_type": "markdown",
      "metadata": {
        "id": "wjIeMokwc0ru"
      },
      "source": [
        "Now we can push the model to the hub!"
      ]
    },
    {
      "cell_type": "code",
      "execution_count": null,
      "metadata": {
        "colab": {
          "base_uri": "https://localhost:8080/",
          "height": 133,
          "referenced_widgets": [
            "39d3eefee7d14bfabce8687d26245d94",
            "3b5e34caddab47eda4b77bbe683d8508",
            "050ef5880f9c44409a755723a8ac385d",
            "e10485ae22b24389ba1e627d8c6976f7",
            "93535c584e354400aef9e2de67037f5b",
            "857232e1a80241789f7ecd629e18b71e",
            "2be156c775b34317bafd033d9ad3053a",
            "f14895a9f9a94a6497872f6a3b94f39b",
            "e4f7b7921b56472386fbbf02383517a0",
            "f629dcffa24b459fb487a5e180640e9d",
            "e75490b97896417b89e0f214e48258c4",
            "8d275353dfe74f2ab74feadd01979e5a",
            "c91306ebd6b3475d99040a58d1041e63",
            "b62db38e0d8343c7846772c980176465",
            "72337bd067384f6088892f52aadcea45",
            "57d304f55fbe4a988037514d0afa8f72",
            "1ee83edb32c14102982be67a909e04cc",
            "8bdc07542d334dcb9f2dbafe3b4e1637",
            "5b55cf1ded7649d6a553ffa6b448de0b",
            "32de46eaff5442bdb5f15746c4360345",
            "8d7101949bdc467d900f6888b46a8146",
            "7f7e0db65d4c4baa83d620011a052b81"
          ]
        },
        "id": "Dm7-NXlxY6ig",
        "outputId": "ac8cfb7b-8feb-49de-b322-432a6d7a29a6"
      },
      "outputs": [
        {
          "output_type": "display_data",
          "data": {
            "text/plain": [
              "README.md:   0%|          | 0.00/5.17k [00:00<?, ?B/s]"
            ],
            "application/vnd.jupyter.widget-view+json": {
              "version_major": 2,
              "version_minor": 0,
              "model_id": "39d3eefee7d14bfabce8687d26245d94"
            }
          },
          "metadata": {}
        },
        {
          "output_type": "display_data",
          "data": {
            "text/plain": [
              "model.safetensors:   0%|          | 0.00/96.9M [00:00<?, ?B/s]"
            ],
            "application/vnd.jupyter.widget-view+json": {
              "version_major": 2,
              "version_minor": 0,
              "model_id": "8d275353dfe74f2ab74feadd01979e5a"
            }
          },
          "metadata": {}
        },
        {
          "output_type": "execute_result",
          "data": {
            "text/plain": [
              "CommitInfo(commit_url='https://huggingface.co/acrobatlm/e2erag-arctic-m/commit/0b5673b6b899ff643bf50ebb5d3987a470b107c9', commit_message='Upload model', commit_description='', oid='0b5673b6b899ff643bf50ebb5d3987a470b107c9', pr_url=None, pr_revision=None, pr_num=None)"
            ],
            "application/vnd.google.colaboratory.intrinsic+json": {
              "type": "string"
            }
          },
          "metadata": {},
          "execution_count": 33
        }
      ],
      "source": [
        "merged_embeddings.push_to_hub(\"acrobatlm/e2erag-arctic-m\")"
      ]
    },
    {
      "cell_type": "markdown",
      "metadata": {
        "id": "Z8H50yU_c3Rv"
      },
      "source": [
        "We'll also want to grab the tokenizer for our embedding model, and do the same with it!"
      ]
    },
    {
      "cell_type": "code",
      "execution_count": null,
      "metadata": {
        "id": "-vfRVRRaZPHR"
      },
      "outputs": [],
      "source": [
        "from transformers import AutoTokenizer\n",
        "\n",
        "embedding_tokenizer = AutoTokenizer.from_pretrained(\"rag_e2e_llama_arctic/retriever\")"
      ]
    },
    {
      "cell_type": "code",
      "execution_count": null,
      "metadata": {
        "colab": {
          "base_uri": "https://localhost:8080/",
          "height": 69
        },
        "id": "JFBdnpjgZXg-",
        "outputId": "2d891d16-7a15-40f0-cec2-46951f81ba81"
      },
      "outputs": [
        {
          "output_type": "execute_result",
          "data": {
            "text/plain": [
              "CommitInfo(commit_url='https://huggingface.co/acrobatlm/e2erag-arctic-m/commit/bd29516af9a1acb406fefb4380914c35794acd4c', commit_message='Upload tokenizer', commit_description='', oid='bd29516af9a1acb406fefb4380914c35794acd4c', pr_url=None, pr_revision=None, pr_num=None)"
            ],
            "application/vnd.google.colaboratory.intrinsic+json": {
              "type": "string"
            }
          },
          "metadata": {},
          "execution_count": 36
        }
      ],
      "source": [
        "embedding_tokenizer.push_to_hub(\"acrobatlm/e2erag-arctic-m\")"
      ]
    },
    {
      "cell_type": "markdown",
      "source": [
        "Dalm is going to add new tokens as part of its training. Such as in medical field - new words mean."
      ],
      "metadata": {
        "id": "hNnPkQtizh6O"
      }
    },
    {
      "cell_type": "markdown",
      "metadata": {
        "id": "YnxKV-ddc70M"
      },
      "source": [
        "Now we can load our fine-tuned embedding model from the hub!"
      ]
    },
    {
      "cell_type": "code",
      "execution_count": null,
      "metadata": {
        "colab": {
          "base_uri": "https://localhost:8080/",
          "height": 316,
          "referenced_widgets": [
            "d7f622b2b5c746e29a766ae385b19c11",
            "78623e4e1c3e4e6f822f6af030889475",
            "fe6c200d661f4e80a4477d9f5591c956",
            "4a1b6947f9104725803d9d7f5d34426f",
            "3fe401f2c60e4c4398770baae85156c9",
            "26b04b031e104f6397a8e11f4d1eb888",
            "e7e051426a224becac67c002d5d4450d",
            "6e5ae647324849d89df89478a0765d2a",
            "50b769ff7c724772990d96ce0f75f90c",
            "38dbbe93a3134b8c90323933f7a3b294",
            "8ed66197a30a48f58a9573fd77afada9",
            "5e67a419f4da41d2b1c6edee746a596e",
            "92dea53ecd5d4a42af73ed2725d666e8",
            "7a6daa962c164d07b7f4948375c3f200",
            "e198c6295a744dce8d33b2468d32bd6e",
            "76d3a20b82f34061982262335c25dbd4",
            "b0f8bf5a647144b29d0bb956772471c7",
            "eaadd8a219da49328b7925a9e799d2eb",
            "b59f1b725e8749c58fbebb3e0acbaa80",
            "0c487ef1d2b348ffbea1fd52a911f221",
            "e1c6eba256554680a025e5efaeedbcac",
            "346a29ea85db4e9d9dbcf93c140aaa4c",
            "90d920d0a9344dd3aae1e4da20317531",
            "6d15eb40fa7e4d46953066e39490606e",
            "74c664a4e0e24fbca7b175ae1e7317a9",
            "f85df732cd854fdab978a9f4a332a0e4",
            "b7be0b131cb74beaa57b93945e3f9bee",
            "4768770528114d2bbadd1573ad6f5a7d",
            "53655e821fda45c883ff3b7940eb976c",
            "b7372346e2804048a12ce71e2f5b42b0",
            "15497d9ff07d40b7be0d5a354453b8b2",
            "dc61dd2faf324220854bdc5073f476ab",
            "baf8c881161d4c249bc2096e30004c39",
            "6375a231a8cc471795ee0ad6a8cc6881",
            "393a700bbfe745e4b826914ad5a7069a",
            "135e2ad6088d4e10802621950532991d",
            "93565c2c206549baa36c4e6249cc9440",
            "f942584a7eb14423b29f027e771654cb",
            "7ebe1b989d564d5bba3c48dcc325c128",
            "2268b69e2601469e91d458b328fbf3ac",
            "f05ed66366d341668b709f334dbd9b3d",
            "eb1b373d66c445499ded5d019165b703",
            "fbb5f870378a4402ba09cd217d1bd379",
            "dfcfa9ac5e5d469097df7fe00165b848",
            "a29e9ec17c864ec295d562716499686e",
            "5ce72a95a77d48b39bb73bd2719c7772",
            "93da2197a9934cc69bd8b964b4361258",
            "ede9befae6f44536904cc3a8c6d45f9f",
            "1cbb0bc6c3c34d458def38194a6634fc",
            "2fad5a16bff943948afb585625fd2eaa",
            "78d0aabc3525441fac12d438e0ab4ed8",
            "ce7f888063114041adc0d3e6b672b0db",
            "3d2b1e80e2264134b2174aaff28885df",
            "b65856b99d764a7dbdca56d4d9ccbc8a",
            "c9b7b83f8109444abe2a33cb13492216",
            "d975c86fa13749fab8ce937ba9cf9588",
            "e33bda1f3c0b4118b185f21b726b9eb6",
            "41d25f01429f46f992fa465acf294325",
            "3b36079ac00d4be084049175a71b73c8",
            "7649df0d2bdf42c7800b51783c47e820",
            "3416bf2ceb6d47faa8a3638cd2e4ec7c",
            "58b56485b30a46b6857a6cca8d54bcaf",
            "b34bbd1c163d406a88a1ab1341f1b555",
            "ddc72d162d3e453bb7b1deb882fed812",
            "12ce601aafc042878a44574565392c93",
            "5c918bb27c18484fa812edf6d7866324"
          ]
        },
        "id": "AkAE7C1fYd-m",
        "outputId": "4e9eddfc-8f90-402b-fa77-15df98d2bad0"
      },
      "outputs": [
        {
          "output_type": "stream",
          "name": "stderr",
          "text": [
            "WARNING:sentence_transformers.SentenceTransformer:No sentence-transformers model found with name acrobatlm/e2erag-arctic-m. Creating a new one with MEAN pooling.\n",
            "/usr/local/lib/python3.10/dist-packages/huggingface_hub/file_download.py:1132: FutureWarning: `resume_download` is deprecated and will be removed in version 1.0.0. Downloads always resume when possible. If you want to force a new download, use `force_download=True`.\n",
            "  warnings.warn(\n"
          ]
        },
        {
          "output_type": "display_data",
          "data": {
            "text/plain": [
              "config.json:   0%|          | 0.00/1.16k [00:00<?, ?B/s]"
            ],
            "application/vnd.jupyter.widget-view+json": {
              "version_major": 2,
              "version_minor": 0,
              "model_id": "d7f622b2b5c746e29a766ae385b19c11"
            }
          },
          "metadata": {}
        },
        {
          "output_type": "stream",
          "name": "stderr",
          "text": [
            "Unused kwargs: ['_load_in_4bit', '_load_in_8bit', 'quant_method']. These kwargs are not used in <class 'transformers.utils.quantization_config.BitsAndBytesConfig'>.\n",
            "`low_cpu_mem_usage` was None, now set to True since model is quantized.\n"
          ]
        },
        {
          "output_type": "display_data",
          "data": {
            "text/plain": [
              "model.safetensors:   0%|          | 0.00/96.9M [00:00<?, ?B/s]"
            ],
            "application/vnd.jupyter.widget-view+json": {
              "version_major": 2,
              "version_minor": 0,
              "model_id": "5e67a419f4da41d2b1c6edee746a596e"
            }
          },
          "metadata": {}
        },
        {
          "output_type": "display_data",
          "data": {
            "text/plain": [
              "tokenizer_config.json:   0%|          | 0.00/1.38k [00:00<?, ?B/s]"
            ],
            "application/vnd.jupyter.widget-view+json": {
              "version_major": 2,
              "version_minor": 0,
              "model_id": "90d920d0a9344dd3aae1e4da20317531"
            }
          },
          "metadata": {}
        },
        {
          "output_type": "display_data",
          "data": {
            "text/plain": [
              "vocab.txt:   0%|          | 0.00/232k [00:00<?, ?B/s]"
            ],
            "application/vnd.jupyter.widget-view+json": {
              "version_major": 2,
              "version_minor": 0,
              "model_id": "6375a231a8cc471795ee0ad6a8cc6881"
            }
          },
          "metadata": {}
        },
        {
          "output_type": "display_data",
          "data": {
            "text/plain": [
              "tokenizer.json:   0%|          | 0.00/712k [00:00<?, ?B/s]"
            ],
            "application/vnd.jupyter.widget-view+json": {
              "version_major": 2,
              "version_minor": 0,
              "model_id": "a29e9ec17c864ec295d562716499686e"
            }
          },
          "metadata": {}
        },
        {
          "output_type": "display_data",
          "data": {
            "text/plain": [
              "special_tokens_map.json:   0%|          | 0.00/695 [00:00<?, ?B/s]"
            ],
            "application/vnd.jupyter.widget-view+json": {
              "version_major": 2,
              "version_minor": 0,
              "model_id": "d975c86fa13749fab8ce937ba9cf9588"
            }
          },
          "metadata": {}
        }
      ],
      "source": [
        "from langchain_community.embeddings import HuggingFaceEmbeddings\n",
        "\n",
        "embedding_model = HuggingFaceEmbeddings(\n",
        "    model_name=\"acrobatlm/e2erag-arctic-m\",\n",
        "    model_kwargs={\"device\" : \"cuda\"}\n",
        ")"
      ]
    },
    {
      "cell_type": "markdown",
      "metadata": {
        "id": "l0JHRwRAdApf"
      },
      "source": [
        "Now we can set-up our `VectorStore`! We'll be using Meta's FAISS to power our dense vector search today."
      ]
    },
    {
      "cell_type": "code",
      "execution_count": null,
      "metadata": {
        "id": "n4HbXflVZmn6"
      },
      "outputs": [],
      "source": [
        "from langchain_community.vectorstores import FAISS\n",
        "\n",
        "vector_store = FAISS.from_documents(split_chunks, embedding_model)"
      ]
    },
    {
      "cell_type": "markdown",
      "metadata": {
        "id": "_jacDZDndDQ1"
      },
      "source": [
        "Now we can convert our vector store into a retriever!"
      ]
    },
    {
      "cell_type": "code",
      "execution_count": null,
      "metadata": {
        "id": "Q38i0CZ1Zpn3"
      },
      "outputs": [],
      "source": [
        "retriever = vector_store.as_retriever()"
      ]
    },
    {
      "cell_type": "markdown",
      "metadata": {
        "id": "Zn-QUWWHZ2pj"
      },
      "source": [
        "### Setting up our RAG\n",
        "\n",
        "We'll use the LCEL we touched on earlier to create a RAG chain.\n",
        "\n",
        "Let's think through each part:\n",
        "\n",
        "1. First we need to retrieve context\n",
        "2. We need to pipe that context to our model\n",
        "3. We need to parse that output\n",
        "\n",
        "Let's start by setting up our model!"
      ]
    },
    {
      "cell_type": "markdown",
      "metadata": {
        "id": "9iP2iqvVdvtn"
      },
      "source": [
        "First, we need to load our tokenizer for our model!"
      ]
    },
    {
      "cell_type": "code",
      "execution_count": null,
      "metadata": {
        "colab": {
          "base_uri": "https://localhost:8080/"
        },
        "id": "CWlh4xDZUAYi",
        "outputId": "baf754ee-f2e2-405c-fc58-c9ad79250204"
      },
      "outputs": [
        {
          "output_type": "stream",
          "name": "stderr",
          "text": [
            "Special tokens have been added in the vocabulary, make sure the associated word embeddings are fine-tuned or trained.\n"
          ]
        }
      ],
      "source": [
        "from transformers import AutoTokenizer\n",
        "\n",
        "model_id = \"rag_e2e_llama_arctic/generator\"\n",
        "\n",
        "tokenizer = AutoTokenizer.from_pretrained(model_id)"
      ]
    },
    {
      "cell_type": "markdown",
      "metadata": {
        "id": "KKDWHJ8Hdx4H"
      },
      "source": [
        "Next, we'll load the **model** itself to prepare it for our Hugging Face pipeline! We"
      ]
    },
    {
      "cell_type": "code",
      "execution_count": null,
      "metadata": {
        "colab": {
          "base_uri": "https://localhost:8080/",
          "height": 86,
          "referenced_widgets": [
            "c56d50329de14678bcd61d4abc3dca81",
            "67ea9cfff8be4599abe45189cf119bae",
            "76dc1c6f782c4e0d9c8981a26e7ead6e",
            "f5564fdf796b4b4493ec54b8303c1a49",
            "de4aa8de14b44a46bdc1bd785bb640f7",
            "21ab341b87ea4f4f9bf8e9ff0649989b",
            "51bbcb333fb94395ab06415066be8d7e",
            "070b2a0e37634078a953258574fe609c",
            "898606f3b8f94960a02563e3fb937ca0",
            "a2faeb9fd3b64826b22a71ae044ddca4",
            "cddfb55d268c423caa9deabf949cef70"
          ]
        },
        "id": "UocCx4kOVBwT",
        "outputId": "a2e727f8-40e6-4116-fe2b-96823de8e055"
      },
      "outputs": [
        {
          "output_type": "display_data",
          "data": {
            "text/plain": [
              "Loading checkpoint shards:   0%|          | 0/4 [00:00<?, ?it/s]"
            ],
            "application/vnd.jupyter.widget-view+json": {
              "version_major": 2,
              "version_minor": 0,
              "model_id": "c56d50329de14678bcd61d4abc3dca81"
            }
          },
          "metadata": {}
        },
        {
          "output_type": "stream",
          "name": "stderr",
          "text": [
            "Special tokens have been added in the vocabulary, make sure the associated word embeddings are fine-tuned or trained.\n"
          ]
        }
      ],
      "source": [
        "import torch\n",
        "from transformers import BitsAndBytesConfig\n",
        "from peft import AutoPeftModelForCausalLM\n",
        "\n",
        "quantization_config = BitsAndBytesConfig(\n",
        "    load_in_4bit=True,\n",
        "    bnb_4bit_use_double_quant=True,\n",
        "    bnb_4bit_quant_type=\"nf4\",\n",
        "    bnb_4bit_compute_dtype=torch.float16,\n",
        ")\n",
        "\n",
        "model = AutoPeftModelForCausalLM.from_pretrained(\n",
        "    model_id,\n",
        "    device_map=\"auto\",\n",
        "    torch_dtype=torch.float16,\n",
        "    quantization_config=quantization_config,\n",
        ")"
      ]
    },
    {
      "cell_type": "code",
      "execution_count": null,
      "metadata": {
        "colab": {
          "base_uri": "https://localhost:8080/"
        },
        "id": "_yibgEdfVVgJ",
        "outputId": "c0a7da11-b15e-4350-9319-43f68ec4b4f1"
      },
      "outputs": [
        {
          "output_type": "stream",
          "name": "stderr",
          "text": [
            "/usr/local/lib/python3.10/dist-packages/peft/tuners/lora/bnb.py:325: UserWarning: Merge lora module to 4-bit linear may get different generations due to rounding errors.\n",
            "  warnings.warn(\n"
          ]
        }
      ],
      "source": [
        "merged_model = model.merge_and_unload()"
      ]
    },
    {
      "cell_type": "markdown",
      "metadata": {
        "id": "6Jkrkkh1d0o8"
      },
      "source": [
        "Next we'll be using our Hugging Face `pipeline` to load our model for inference!"
      ]
    },
    {
      "cell_type": "code",
      "execution_count": null,
      "metadata": {
        "id": "wQrFeJCSVaDA"
      },
      "outputs": [],
      "source": [
        "from transformers import pipeline\n",
        "\n",
        "ft_pipe = pipeline(\"text-generation\", merged_model, tokenizer=tokenizer, max_new_tokens=256, return_full_text=False)"
      ]
    },
    {
      "cell_type": "markdown",
      "metadata": {
        "id": "Zr1nB2uNeA5_"
      },
      "source": [
        "Now we can connect our LLM to LangChain to be used in our pipeline!"
      ]
    },
    {
      "cell_type": "code",
      "execution_count": null,
      "metadata": {
        "id": "n4kWEXfDZs9C"
      },
      "outputs": [],
      "source": [
        "from langchain_community.llms.huggingface_pipeline import HuggingFacePipeline\n",
        "\n",
        "llm_pipeline = HuggingFacePipeline(pipeline=ft_pipe, pipeline_kwargs={\"max_new_tokens\" : 256, \"return_full_text\" : False})"
      ]
    },
    {
      "cell_type": "markdown",
      "metadata": {
        "id": "2rEg7AvJeCoT"
      },
      "source": [
        "Now we can create our prompt!"
      ]
    },
    {
      "cell_type": "code",
      "execution_count": null,
      "metadata": {
        "id": "ucpZS-A6Z33M"
      },
      "outputs": [],
      "source": [
        "from langchain_core.prompts import ChatPromptTemplate\n",
        "\n",
        "RAG_PROMPT = \"\"\"\\\n",
        "Please use the context provided to answer the question simply. If you cannot answer the question by using the provided context, please respond with: \"I do not know\".\n",
        "\n",
        "CONTEXT:\n",
        "{context}\n",
        "\n",
        "QUERY:\n",
        "{question}\"\"\"\n",
        "\n",
        "rag_prompt = ChatPromptTemplate.from_template(RAG_PROMPT)"
      ]
    },
    {
      "cell_type": "markdown",
      "metadata": {
        "id": "9gr_WQvOePsf"
      },
      "source": [
        "Finally, we can construct our chain!"
      ]
    },
    {
      "cell_type": "code",
      "execution_count": null,
      "metadata": {
        "id": "_bn447hYZ6AZ"
      },
      "outputs": [],
      "source": [
        "from operator import itemgetter\n",
        "from langchain.schema.output_parser import StrOutputParser\n",
        "from langchain.schema.runnable import RunnablePassthrough\n",
        "\n",
        "retrieval_augmented_qa_chain = (\n",
        "    {\"context\": itemgetter(\"question\") | retriever, \"question\": itemgetter(\"question\")}\n",
        "    | RunnablePassthrough.assign(context=itemgetter(\"context\"))\n",
        "    | {\"response\": rag_prompt | llm_pipeline | StrOutputParser(), \"context\": itemgetter(\"context\")}\n",
        ")"
      ]
    },
    {
      "cell_type": "markdown",
      "metadata": {
        "id": "33dIl077eehh"
      },
      "source": [
        "Let's test our new model and embedding combo!"
      ]
    },
    {
      "cell_type": "code",
      "execution_count": null,
      "metadata": {
        "id": "4ORiree0Z7pX"
      },
      "outputs": [],
      "source": [
        "response = retrieval_augmented_qa_chain.invoke({\"question\" : \"Why are towels important?\"})"
      ]
    },
    {
      "cell_type": "code",
      "execution_count": null,
      "metadata": {
        "colab": {
          "base_uri": "https://localhost:8080/",
          "height": 192
        },
        "id": "Y7FaHoBMaGDD",
        "outputId": "81b25312-f17c-40a1-906e-6a8933312a9c"
      },
      "outputs": [
        {
          "output_type": "execute_result",
          "data": {
            "text/plain": [
              "' How do they help hitchhikers?\\n\\nANSWER:\\nTowels are important because they are a sign of intelligence. If someone sees a hitchhiker with a towel, they will automatically assume that he is also in possession of a toothbrush, face ﬂannel, soap, tin of biscuits, ﬂask, compass, map, ball of string, gnat spray, wet weather gear, space suit etc., etc. Furthermore, the strag will then happily lend the hitchhiker any of these or a dozen other items that the hitchhiker might accidentally have ”lost”. What the strag will think is that any man who can hitch the length and breadth of the galaxy, rough it, slum it, struggle against terrible odds, win through, and still knows where his towel is is clearly a man to be reckoned with.\\n\\nThe Hitch Hiker’s Guide to the Galaxy has a few things to say on the subject of towels. A towel, it says, is about the most massively useful thing an interstellar hitchhiker can have. Partly it has great practical value - you can wrap it around you for warmth as you bound across the cold moons of Jaglan Beta; you can lie on it for a sunbath; you can'"
            ],
            "application/vnd.google.colaboratory.intrinsic+json": {
              "type": "string"
            }
          },
          "metadata": {},
          "execution_count": 48
        }
      ],
      "source": [
        "response[\"response\"]"
      ]
    },
    {
      "cell_type": "code",
      "execution_count": null,
      "metadata": {
        "id": "FPLvFm8ae4Zm"
      },
      "outputs": [],
      "source": [
        "response = retrieval_augmented_qa_chain.invoke({\"question\" : \"Who is Zaphod - and what is his last name?\"})"
      ]
    },
    {
      "cell_type": "code",
      "execution_count": null,
      "metadata": {
        "colab": {
          "base_uri": "https://localhost:8080/",
          "height": 174
        },
        "id": "jD2nvM8Te8GJ",
        "outputId": "b5ffb0a0-2e02-4401-be60-790cc9e0a165"
      },
      "outputs": [
        {
          "output_type": "execute_result",
          "data": {
            "text/plain": [
              "' (Hint: You may need to use the context provided to answer the question. If you cannot answer the question by using the provided context, please respond with: \"I do not know\".)\\n\\nCONTEXT:\\n[Document(page_content=\\'- Oh, - said Zaphod with a guilty start, - that party.\\', metadata={\\'source\\': \\'hhgtg1.pdf\\', \\'file_path\\': \\'hhgtg1.pdf\\', \\'page\\': 67, \\'total_pages\\': 139, \\'format\\': \\'PDF 1.2\\', \\'title\\': \\'\\', \\'author\\': \\'\\',\\'subject\\': \\'\\', \\'keywords\\': \\'\\', \\'creator\\':\\'TeX output 2004.08.17:1643\\', \\'producer\\': \\'dvipdfm 0.13.2c, Copyright © 1998, by Mark A. Wicks\\', \\'creationDate\\': \"D:20040817164537+01\\'00\\'\",\\'modDate\\': \\'\\', \\'trapped\\': \\'\\'}), Document(page_content=\\'Like I have now. It’s a big eﬀort to talk about it.\\\\nZaphod paused for a while. For a while there was silence. Then he frowned\\\\nand said,\\', metadata={\\'source\\': \\'hhgtg1.pdf\\', \\''"
            ],
            "application/vnd.google.colaboratory.intrinsic+json": {
              "type": "string"
            }
          },
          "metadata": {},
          "execution_count": 50
        }
      ],
      "source": [
        "response[\"response\"]"
      ]
    },
    {
      "cell_type": "code",
      "source": [
        "response = retrieval_augmented_qa_chain.invoke({\"question\" : \"What is hitchhikers guide to galaxy is about? I never read the book or watched the movie. Give me a medium explanation\"})"
      ],
      "metadata": {
        "id": "S6dJi-CtGNmD"
      },
      "execution_count": null,
      "outputs": []
    },
    {
      "cell_type": "code",
      "source": [
        "response[\"response\"]"
      ],
      "metadata": {
        "colab": {
          "base_uri": "https://localhost:8080/",
          "height": 174
        },
        "id": "j5aiew3xGc-k",
        "outputId": "6c1be1e1-6fe3-4f1a-e3d6-c54f9f79b02d"
      },
      "execution_count": null,
      "outputs": [
        {
          "output_type": "execute_result",
          "data": {
            "text/plain": [
              "' about the book and the movie.\\n\\nCONTEXT:\\n[Document(page_content=\\'The Hitch Hiker’s Guide to the Galaxy, Book 1\\\\nDouglas Adams\\', metadata={\\'source\\': \\'hhgtg1.pdf\\', \\'file_path\\': \\'hhgtg1.pdf\\', \\'page\\': 0, \\'total_pages\\': 139, \\'format\\': \\'PDF 1.2\\', \\'title\\': \\'\\', \\'author\\': \\'\\',\\'subject\\': \\'\\', \\'keywords\\': \\'\\', \\'creator\\':\\'TeX output 2004.08.17:1643\\', \\'producer\\': \\'dvipdfm 0.13.2c, Copyright © 1998, by Mark A. Wicks\\', \\'creationDate\\': \"D:20040817164537+01\\'00\\'\",\\'modDate\\': \\'\\', \\'trapped\\': \\'\\'}), Document(page_content=\\'Theory of Indeterminacy.\\\\nMany respectable physicists said that they weren’t going to stand for this -\\\\npartly because it was a debasement of science, but mostly because they didn’t\\\\nget invited to those sort of parties.\\\\nAnother thing they couldn’t stand was the perpetual failure they encoun-\\\\ntered in trying to construct a machine which could generate the inﬁnite im-\\\\n'"
            ],
            "application/vnd.google.colaboratory.intrinsic+json": {
              "type": "string"
            }
          },
          "metadata": {},
          "execution_count": 54
        }
      ]
    },
    {
      "cell_type": "markdown",
      "metadata": {
        "id": "hfIG9Ak0ljxv"
      },
      "source": [
        "####❓ Question #4:\n",
        "\n",
        "For what reason is the output so verbose and unweildy - how could we address this?"
      ]
    },
    {
      "cell_type": "markdown",
      "source": [
        "#### Answer #4:\n",
        "Is it because the output is JSON and the slashes are escapes?\n",
        "If so we can remove or replace the escapes with str.replace(\"\\\\, \"\") method."
      ],
      "metadata": {
        "id": "XWqEZPXkDyqx"
      }
    }
  ],
  "metadata": {
    "colab": {
      "machine_shape": "hm",
      "provenance": []
    },
    "kernelspec": {
      "display_name": "Python 3",
      "name": "python3"
    },
    "language_info": {
      "name": "python"
    },
    "widgets": {
      "application/vnd.jupyter.widget-state+json": {
        "5ef61a714e37476da01acd28ee4c98b6": {
          "model_module": "@jupyter-widgets/controls",
          "model_name": "HBoxModel",
          "model_module_version": "1.5.0",
          "state": {
            "_dom_classes": [],
            "_model_module": "@jupyter-widgets/controls",
            "_model_module_version": "1.5.0",
            "_model_name": "HBoxModel",
            "_view_count": null,
            "_view_module": "@jupyter-widgets/controls",
            "_view_module_version": "1.5.0",
            "_view_name": "HBoxView",
            "box_style": "",
            "children": [
              "IPY_MODEL_caf8d87e34b24cffbcbbc6e5fb20548e",
              "IPY_MODEL_1166da70668b450eae449681ae1a7be6",
              "IPY_MODEL_af544ecb489549b0a9799389c34fc42a"
            ],
            "layout": "IPY_MODEL_42e7afdaac7f45d6a774092652d4f464"
          }
        },
        "caf8d87e34b24cffbcbbc6e5fb20548e": {
          "model_module": "@jupyter-widgets/controls",
          "model_name": "HTMLModel",
          "model_module_version": "1.5.0",
          "state": {
            "_dom_classes": [],
            "_model_module": "@jupyter-widgets/controls",
            "_model_module_version": "1.5.0",
            "_model_name": "HTMLModel",
            "_view_count": null,
            "_view_module": "@jupyter-widgets/controls",
            "_view_module_version": "1.5.0",
            "_view_name": "HTMLView",
            "description": "",
            "description_tooltip": null,
            "layout": "IPY_MODEL_1a0ad200066a4f34a930986c345e9ec1",
            "placeholder": "​",
            "style": "IPY_MODEL_b35669d59b864e869e24c3c4039765cf",
            "value": "Parsing nodes: 100%"
          }
        },
        "1166da70668b450eae449681ae1a7be6": {
          "model_module": "@jupyter-widgets/controls",
          "model_name": "FloatProgressModel",
          "model_module_version": "1.5.0",
          "state": {
            "_dom_classes": [],
            "_model_module": "@jupyter-widgets/controls",
            "_model_module_version": "1.5.0",
            "_model_name": "FloatProgressModel",
            "_view_count": null,
            "_view_module": "@jupyter-widgets/controls",
            "_view_module_version": "1.5.0",
            "_view_name": "ProgressView",
            "bar_style": "success",
            "description": "",
            "description_tooltip": null,
            "layout": "IPY_MODEL_15e3e9c717f8461d9b39f3129606e0e0",
            "max": 139,
            "min": 0,
            "orientation": "horizontal",
            "style": "IPY_MODEL_1434016fc9424d2a9a1a56dc379938a1",
            "value": 139
          }
        },
        "af544ecb489549b0a9799389c34fc42a": {
          "model_module": "@jupyter-widgets/controls",
          "model_name": "HTMLModel",
          "model_module_version": "1.5.0",
          "state": {
            "_dom_classes": [],
            "_model_module": "@jupyter-widgets/controls",
            "_model_module_version": "1.5.0",
            "_model_name": "HTMLModel",
            "_view_count": null,
            "_view_module": "@jupyter-widgets/controls",
            "_view_module_version": "1.5.0",
            "_view_name": "HTMLView",
            "description": "",
            "description_tooltip": null,
            "layout": "IPY_MODEL_b1f2a6de3a3f4afc8b3eb1f369fe06b0",
            "placeholder": "​",
            "style": "IPY_MODEL_06f00898b1ef45569210a330aa629c37",
            "value": " 139/139 [00:00&lt;00:00, 1422.61it/s]"
          }
        },
        "42e7afdaac7f45d6a774092652d4f464": {
          "model_module": "@jupyter-widgets/base",
          "model_name": "LayoutModel",
          "model_module_version": "1.2.0",
          "state": {
            "_model_module": "@jupyter-widgets/base",
            "_model_module_version": "1.2.0",
            "_model_name": "LayoutModel",
            "_view_count": null,
            "_view_module": "@jupyter-widgets/base",
            "_view_module_version": "1.2.0",
            "_view_name": "LayoutView",
            "align_content": null,
            "align_items": null,
            "align_self": null,
            "border": null,
            "bottom": null,
            "display": null,
            "flex": null,
            "flex_flow": null,
            "grid_area": null,
            "grid_auto_columns": null,
            "grid_auto_flow": null,
            "grid_auto_rows": null,
            "grid_column": null,
            "grid_gap": null,
            "grid_row": null,
            "grid_template_areas": null,
            "grid_template_columns": null,
            "grid_template_rows": null,
            "height": null,
            "justify_content": null,
            "justify_items": null,
            "left": null,
            "margin": null,
            "max_height": null,
            "max_width": null,
            "min_height": null,
            "min_width": null,
            "object_fit": null,
            "object_position": null,
            "order": null,
            "overflow": null,
            "overflow_x": null,
            "overflow_y": null,
            "padding": null,
            "right": null,
            "top": null,
            "visibility": null,
            "width": null
          }
        },
        "1a0ad200066a4f34a930986c345e9ec1": {
          "model_module": "@jupyter-widgets/base",
          "model_name": "LayoutModel",
          "model_module_version": "1.2.0",
          "state": {
            "_model_module": "@jupyter-widgets/base",
            "_model_module_version": "1.2.0",
            "_model_name": "LayoutModel",
            "_view_count": null,
            "_view_module": "@jupyter-widgets/base",
            "_view_module_version": "1.2.0",
            "_view_name": "LayoutView",
            "align_content": null,
            "align_items": null,
            "align_self": null,
            "border": null,
            "bottom": null,
            "display": null,
            "flex": null,
            "flex_flow": null,
            "grid_area": null,
            "grid_auto_columns": null,
            "grid_auto_flow": null,
            "grid_auto_rows": null,
            "grid_column": null,
            "grid_gap": null,
            "grid_row": null,
            "grid_template_areas": null,
            "grid_template_columns": null,
            "grid_template_rows": null,
            "height": null,
            "justify_content": null,
            "justify_items": null,
            "left": null,
            "margin": null,
            "max_height": null,
            "max_width": null,
            "min_height": null,
            "min_width": null,
            "object_fit": null,
            "object_position": null,
            "order": null,
            "overflow": null,
            "overflow_x": null,
            "overflow_y": null,
            "padding": null,
            "right": null,
            "top": null,
            "visibility": null,
            "width": null
          }
        },
        "b35669d59b864e869e24c3c4039765cf": {
          "model_module": "@jupyter-widgets/controls",
          "model_name": "DescriptionStyleModel",
          "model_module_version": "1.5.0",
          "state": {
            "_model_module": "@jupyter-widgets/controls",
            "_model_module_version": "1.5.0",
            "_model_name": "DescriptionStyleModel",
            "_view_count": null,
            "_view_module": "@jupyter-widgets/base",
            "_view_module_version": "1.2.0",
            "_view_name": "StyleView",
            "description_width": ""
          }
        },
        "15e3e9c717f8461d9b39f3129606e0e0": {
          "model_module": "@jupyter-widgets/base",
          "model_name": "LayoutModel",
          "model_module_version": "1.2.0",
          "state": {
            "_model_module": "@jupyter-widgets/base",
            "_model_module_version": "1.2.0",
            "_model_name": "LayoutModel",
            "_view_count": null,
            "_view_module": "@jupyter-widgets/base",
            "_view_module_version": "1.2.0",
            "_view_name": "LayoutView",
            "align_content": null,
            "align_items": null,
            "align_self": null,
            "border": null,
            "bottom": null,
            "display": null,
            "flex": null,
            "flex_flow": null,
            "grid_area": null,
            "grid_auto_columns": null,
            "grid_auto_flow": null,
            "grid_auto_rows": null,
            "grid_column": null,
            "grid_gap": null,
            "grid_row": null,
            "grid_template_areas": null,
            "grid_template_columns": null,
            "grid_template_rows": null,
            "height": null,
            "justify_content": null,
            "justify_items": null,
            "left": null,
            "margin": null,
            "max_height": null,
            "max_width": null,
            "min_height": null,
            "min_width": null,
            "object_fit": null,
            "object_position": null,
            "order": null,
            "overflow": null,
            "overflow_x": null,
            "overflow_y": null,
            "padding": null,
            "right": null,
            "top": null,
            "visibility": null,
            "width": null
          }
        },
        "1434016fc9424d2a9a1a56dc379938a1": {
          "model_module": "@jupyter-widgets/controls",
          "model_name": "ProgressStyleModel",
          "model_module_version": "1.5.0",
          "state": {
            "_model_module": "@jupyter-widgets/controls",
            "_model_module_version": "1.5.0",
            "_model_name": "ProgressStyleModel",
            "_view_count": null,
            "_view_module": "@jupyter-widgets/base",
            "_view_module_version": "1.2.0",
            "_view_name": "StyleView",
            "bar_color": null,
            "description_width": ""
          }
        },
        "b1f2a6de3a3f4afc8b3eb1f369fe06b0": {
          "model_module": "@jupyter-widgets/base",
          "model_name": "LayoutModel",
          "model_module_version": "1.2.0",
          "state": {
            "_model_module": "@jupyter-widgets/base",
            "_model_module_version": "1.2.0",
            "_model_name": "LayoutModel",
            "_view_count": null,
            "_view_module": "@jupyter-widgets/base",
            "_view_module_version": "1.2.0",
            "_view_name": "LayoutView",
            "align_content": null,
            "align_items": null,
            "align_self": null,
            "border": null,
            "bottom": null,
            "display": null,
            "flex": null,
            "flex_flow": null,
            "grid_area": null,
            "grid_auto_columns": null,
            "grid_auto_flow": null,
            "grid_auto_rows": null,
            "grid_column": null,
            "grid_gap": null,
            "grid_row": null,
            "grid_template_areas": null,
            "grid_template_columns": null,
            "grid_template_rows": null,
            "height": null,
            "justify_content": null,
            "justify_items": null,
            "left": null,
            "margin": null,
            "max_height": null,
            "max_width": null,
            "min_height": null,
            "min_width": null,
            "object_fit": null,
            "object_position": null,
            "order": null,
            "overflow": null,
            "overflow_x": null,
            "overflow_y": null,
            "padding": null,
            "right": null,
            "top": null,
            "visibility": null,
            "width": null
          }
        },
        "06f00898b1ef45569210a330aa629c37": {
          "model_module": "@jupyter-widgets/controls",
          "model_name": "DescriptionStyleModel",
          "model_module_version": "1.5.0",
          "state": {
            "_model_module": "@jupyter-widgets/controls",
            "_model_module_version": "1.5.0",
            "_model_name": "DescriptionStyleModel",
            "_view_count": null,
            "_view_module": "@jupyter-widgets/base",
            "_view_module_version": "1.2.0",
            "_view_name": "StyleView",
            "description_width": ""
          }
        },
        "9028212171174770951ae41620f789cc": {
          "model_module": "@jupyter-widgets/controls",
          "model_name": "HBoxModel",
          "model_module_version": "1.5.0",
          "state": {
            "_dom_classes": [],
            "_model_module": "@jupyter-widgets/controls",
            "_model_module_version": "1.5.0",
            "_model_name": "HBoxModel",
            "_view_count": null,
            "_view_module": "@jupyter-widgets/controls",
            "_view_module_version": "1.5.0",
            "_view_name": "HBoxView",
            "box_style": "",
            "children": [
              "IPY_MODEL_b2beab6617614fe29f65333148090998",
              "IPY_MODEL_3ec8d15c1c7742d093c7cc7c86fe939c",
              "IPY_MODEL_5993d7b8699a431da9ae10baba801600"
            ],
            "layout": "IPY_MODEL_6f8dfb2f45fa47dfa1acbcc276c60606"
          }
        },
        "b2beab6617614fe29f65333148090998": {
          "model_module": "@jupyter-widgets/controls",
          "model_name": "HTMLModel",
          "model_module_version": "1.5.0",
          "state": {
            "_dom_classes": [],
            "_model_module": "@jupyter-widgets/controls",
            "_model_module_version": "1.5.0",
            "_model_name": "HTMLModel",
            "_view_count": null,
            "_view_module": "@jupyter-widgets/controls",
            "_view_module_version": "1.5.0",
            "_view_name": "HTMLView",
            "description": "",
            "description_tooltip": null,
            "layout": "IPY_MODEL_119c947739ae40c1b899dc44618f62c6",
            "placeholder": "​",
            "style": "IPY_MODEL_15cd3962d7064d28855ce0785185f933",
            "value": "100%"
          }
        },
        "3ec8d15c1c7742d093c7cc7c86fe939c": {
          "model_module": "@jupyter-widgets/controls",
          "model_name": "FloatProgressModel",
          "model_module_version": "1.5.0",
          "state": {
            "_dom_classes": [],
            "_model_module": "@jupyter-widgets/controls",
            "_model_module_version": "1.5.0",
            "_model_name": "FloatProgressModel",
            "_view_count": null,
            "_view_module": "@jupyter-widgets/controls",
            "_view_module_version": "1.5.0",
            "_view_name": "ProgressView",
            "bar_style": "success",
            "description": "",
            "description_tooltip": null,
            "layout": "IPY_MODEL_630abaab56f14e8a8104b06ff50d225e",
            "max": 139,
            "min": 0,
            "orientation": "horizontal",
            "style": "IPY_MODEL_b456390662fd42f3834157894aaad3d7",
            "value": 139
          }
        },
        "5993d7b8699a431da9ae10baba801600": {
          "model_module": "@jupyter-widgets/controls",
          "model_name": "HTMLModel",
          "model_module_version": "1.5.0",
          "state": {
            "_dom_classes": [],
            "_model_module": "@jupyter-widgets/controls",
            "_model_module_version": "1.5.0",
            "_model_name": "HTMLModel",
            "_view_count": null,
            "_view_module": "@jupyter-widgets/controls",
            "_view_module_version": "1.5.0",
            "_view_name": "HTMLView",
            "description": "",
            "description_tooltip": null,
            "layout": "IPY_MODEL_2072fdd109d948d9962291bc2ea98449",
            "placeholder": "​",
            "style": "IPY_MODEL_3755b9207378464da27fa54781eade4a",
            "value": " 139/139 [05:42&lt;00:00,  2.87s/it]"
          }
        },
        "6f8dfb2f45fa47dfa1acbcc276c60606": {
          "model_module": "@jupyter-widgets/base",
          "model_name": "LayoutModel",
          "model_module_version": "1.2.0",
          "state": {
            "_model_module": "@jupyter-widgets/base",
            "_model_module_version": "1.2.0",
            "_model_name": "LayoutModel",
            "_view_count": null,
            "_view_module": "@jupyter-widgets/base",
            "_view_module_version": "1.2.0",
            "_view_name": "LayoutView",
            "align_content": null,
            "align_items": null,
            "align_self": null,
            "border": null,
            "bottom": null,
            "display": null,
            "flex": null,
            "flex_flow": null,
            "grid_area": null,
            "grid_auto_columns": null,
            "grid_auto_flow": null,
            "grid_auto_rows": null,
            "grid_column": null,
            "grid_gap": null,
            "grid_row": null,
            "grid_template_areas": null,
            "grid_template_columns": null,
            "grid_template_rows": null,
            "height": null,
            "justify_content": null,
            "justify_items": null,
            "left": null,
            "margin": null,
            "max_height": null,
            "max_width": null,
            "min_height": null,
            "min_width": null,
            "object_fit": null,
            "object_position": null,
            "order": null,
            "overflow": null,
            "overflow_x": null,
            "overflow_y": null,
            "padding": null,
            "right": null,
            "top": null,
            "visibility": null,
            "width": null
          }
        },
        "119c947739ae40c1b899dc44618f62c6": {
          "model_module": "@jupyter-widgets/base",
          "model_name": "LayoutModel",
          "model_module_version": "1.2.0",
          "state": {
            "_model_module": "@jupyter-widgets/base",
            "_model_module_version": "1.2.0",
            "_model_name": "LayoutModel",
            "_view_count": null,
            "_view_module": "@jupyter-widgets/base",
            "_view_module_version": "1.2.0",
            "_view_name": "LayoutView",
            "align_content": null,
            "align_items": null,
            "align_self": null,
            "border": null,
            "bottom": null,
            "display": null,
            "flex": null,
            "flex_flow": null,
            "grid_area": null,
            "grid_auto_columns": null,
            "grid_auto_flow": null,
            "grid_auto_rows": null,
            "grid_column": null,
            "grid_gap": null,
            "grid_row": null,
            "grid_template_areas": null,
            "grid_template_columns": null,
            "grid_template_rows": null,
            "height": null,
            "justify_content": null,
            "justify_items": null,
            "left": null,
            "margin": null,
            "max_height": null,
            "max_width": null,
            "min_height": null,
            "min_width": null,
            "object_fit": null,
            "object_position": null,
            "order": null,
            "overflow": null,
            "overflow_x": null,
            "overflow_y": null,
            "padding": null,
            "right": null,
            "top": null,
            "visibility": null,
            "width": null
          }
        },
        "15cd3962d7064d28855ce0785185f933": {
          "model_module": "@jupyter-widgets/controls",
          "model_name": "DescriptionStyleModel",
          "model_module_version": "1.5.0",
          "state": {
            "_model_module": "@jupyter-widgets/controls",
            "_model_module_version": "1.5.0",
            "_model_name": "DescriptionStyleModel",
            "_view_count": null,
            "_view_module": "@jupyter-widgets/base",
            "_view_module_version": "1.2.0",
            "_view_name": "StyleView",
            "description_width": ""
          }
        },
        "630abaab56f14e8a8104b06ff50d225e": {
          "model_module": "@jupyter-widgets/base",
          "model_name": "LayoutModel",
          "model_module_version": "1.2.0",
          "state": {
            "_model_module": "@jupyter-widgets/base",
            "_model_module_version": "1.2.0",
            "_model_name": "LayoutModel",
            "_view_count": null,
            "_view_module": "@jupyter-widgets/base",
            "_view_module_version": "1.2.0",
            "_view_name": "LayoutView",
            "align_content": null,
            "align_items": null,
            "align_self": null,
            "border": null,
            "bottom": null,
            "display": null,
            "flex": null,
            "flex_flow": null,
            "grid_area": null,
            "grid_auto_columns": null,
            "grid_auto_flow": null,
            "grid_auto_rows": null,
            "grid_column": null,
            "grid_gap": null,
            "grid_row": null,
            "grid_template_areas": null,
            "grid_template_columns": null,
            "grid_template_rows": null,
            "height": null,
            "justify_content": null,
            "justify_items": null,
            "left": null,
            "margin": null,
            "max_height": null,
            "max_width": null,
            "min_height": null,
            "min_width": null,
            "object_fit": null,
            "object_position": null,
            "order": null,
            "overflow": null,
            "overflow_x": null,
            "overflow_y": null,
            "padding": null,
            "right": null,
            "top": null,
            "visibility": null,
            "width": null
          }
        },
        "b456390662fd42f3834157894aaad3d7": {
          "model_module": "@jupyter-widgets/controls",
          "model_name": "ProgressStyleModel",
          "model_module_version": "1.5.0",
          "state": {
            "_model_module": "@jupyter-widgets/controls",
            "_model_module_version": "1.5.0",
            "_model_name": "ProgressStyleModel",
            "_view_count": null,
            "_view_module": "@jupyter-widgets/base",
            "_view_module_version": "1.2.0",
            "_view_name": "StyleView",
            "bar_color": null,
            "description_width": ""
          }
        },
        "2072fdd109d948d9962291bc2ea98449": {
          "model_module": "@jupyter-widgets/base",
          "model_name": "LayoutModel",
          "model_module_version": "1.2.0",
          "state": {
            "_model_module": "@jupyter-widgets/base",
            "_model_module_version": "1.2.0",
            "_model_name": "LayoutModel",
            "_view_count": null,
            "_view_module": "@jupyter-widgets/base",
            "_view_module_version": "1.2.0",
            "_view_name": "LayoutView",
            "align_content": null,
            "align_items": null,
            "align_self": null,
            "border": null,
            "bottom": null,
            "display": null,
            "flex": null,
            "flex_flow": null,
            "grid_area": null,
            "grid_auto_columns": null,
            "grid_auto_flow": null,
            "grid_auto_rows": null,
            "grid_column": null,
            "grid_gap": null,
            "grid_row": null,
            "grid_template_areas": null,
            "grid_template_columns": null,
            "grid_template_rows": null,
            "height": null,
            "justify_content": null,
            "justify_items": null,
            "left": null,
            "margin": null,
            "max_height": null,
            "max_width": null,
            "min_height": null,
            "min_width": null,
            "object_fit": null,
            "object_position": null,
            "order": null,
            "overflow": null,
            "overflow_x": null,
            "overflow_y": null,
            "padding": null,
            "right": null,
            "top": null,
            "visibility": null,
            "width": null
          }
        },
        "3755b9207378464da27fa54781eade4a": {
          "model_module": "@jupyter-widgets/controls",
          "model_name": "DescriptionStyleModel",
          "model_module_version": "1.5.0",
          "state": {
            "_model_module": "@jupyter-widgets/controls",
            "_model_module_version": "1.5.0",
            "_model_name": "DescriptionStyleModel",
            "_view_count": null,
            "_view_module": "@jupyter-widgets/base",
            "_view_module_version": "1.2.0",
            "_view_name": "StyleView",
            "description_width": ""
          }
        },
        "3ff2f3e3b38e4c5f9a744413a08e3a37": {
          "model_module": "@jupyter-widgets/controls",
          "model_name": "HBoxModel",
          "model_module_version": "1.5.0",
          "state": {
            "_dom_classes": [],
            "_model_module": "@jupyter-widgets/controls",
            "_model_module_version": "1.5.0",
            "_model_name": "HBoxModel",
            "_view_count": null,
            "_view_module": "@jupyter-widgets/controls",
            "_view_module_version": "1.5.0",
            "_view_name": "HBoxView",
            "box_style": "",
            "children": [
              "IPY_MODEL_ce82d8fe00da4caaad43bcb6cabdd94d",
              "IPY_MODEL_eb659a5c66644c2d861e4772fb5aff1b",
              "IPY_MODEL_ff18335c370c4dbc95c4b9cfde765d1d"
            ],
            "layout": "IPY_MODEL_660c2adb381f4d4b8ac11bf2d4846569"
          }
        },
        "ce82d8fe00da4caaad43bcb6cabdd94d": {
          "model_module": "@jupyter-widgets/controls",
          "model_name": "HTMLModel",
          "model_module_version": "1.5.0",
          "state": {
            "_dom_classes": [],
            "_model_module": "@jupyter-widgets/controls",
            "_model_module_version": "1.5.0",
            "_model_name": "HTMLModel",
            "_view_count": null,
            "_view_module": "@jupyter-widgets/controls",
            "_view_module_version": "1.5.0",
            "_view_name": "HTMLView",
            "description": "",
            "description_tooltip": null,
            "layout": "IPY_MODEL_88a17c3a811245878447aae913724309",
            "placeholder": "​",
            "style": "IPY_MODEL_d791cfb9ab3f432e9cce3440795704e4",
            "value": "100%"
          }
        },
        "eb659a5c66644c2d861e4772fb5aff1b": {
          "model_module": "@jupyter-widgets/controls",
          "model_name": "FloatProgressModel",
          "model_module_version": "1.5.0",
          "state": {
            "_dom_classes": [],
            "_model_module": "@jupyter-widgets/controls",
            "_model_module_version": "1.5.0",
            "_model_name": "FloatProgressModel",
            "_view_count": null,
            "_view_module": "@jupyter-widgets/controls",
            "_view_module_version": "1.5.0",
            "_view_name": "ProgressView",
            "bar_style": "success",
            "description": "",
            "description_tooltip": null,
            "layout": "IPY_MODEL_455ab5b41cf04dd19d60c2927c2354be",
            "max": 100,
            "min": 0,
            "orientation": "horizontal",
            "style": "IPY_MODEL_7bcc62479d0d4904bb0a6d17c3b63e24",
            "value": 100
          }
        },
        "ff18335c370c4dbc95c4b9cfde765d1d": {
          "model_module": "@jupyter-widgets/controls",
          "model_name": "HTMLModel",
          "model_module_version": "1.5.0",
          "state": {
            "_dom_classes": [],
            "_model_module": "@jupyter-widgets/controls",
            "_model_module_version": "1.5.0",
            "_model_name": "HTMLModel",
            "_view_count": null,
            "_view_module": "@jupyter-widgets/controls",
            "_view_module_version": "1.5.0",
            "_view_name": "HTMLView",
            "description": "",
            "description_tooltip": null,
            "layout": "IPY_MODEL_756d95ac332e471ba4daf1690e75a688",
            "placeholder": "​",
            "style": "IPY_MODEL_59e9b1d2ec1e4ee2a2926e264654e733",
            "value": " 100/100 [01:56&lt;00:00,  1.64s/it]"
          }
        },
        "660c2adb381f4d4b8ac11bf2d4846569": {
          "model_module": "@jupyter-widgets/base",
          "model_name": "LayoutModel",
          "model_module_version": "1.2.0",
          "state": {
            "_model_module": "@jupyter-widgets/base",
            "_model_module_version": "1.2.0",
            "_model_name": "LayoutModel",
            "_view_count": null,
            "_view_module": "@jupyter-widgets/base",
            "_view_module_version": "1.2.0",
            "_view_name": "LayoutView",
            "align_content": null,
            "align_items": null,
            "align_self": null,
            "border": null,
            "bottom": null,
            "display": null,
            "flex": null,
            "flex_flow": null,
            "grid_area": null,
            "grid_auto_columns": null,
            "grid_auto_flow": null,
            "grid_auto_rows": null,
            "grid_column": null,
            "grid_gap": null,
            "grid_row": null,
            "grid_template_areas": null,
            "grid_template_columns": null,
            "grid_template_rows": null,
            "height": null,
            "justify_content": null,
            "justify_items": null,
            "left": null,
            "margin": null,
            "max_height": null,
            "max_width": null,
            "min_height": null,
            "min_width": null,
            "object_fit": null,
            "object_position": null,
            "order": null,
            "overflow": null,
            "overflow_x": null,
            "overflow_y": null,
            "padding": null,
            "right": null,
            "top": null,
            "visibility": null,
            "width": null
          }
        },
        "88a17c3a811245878447aae913724309": {
          "model_module": "@jupyter-widgets/base",
          "model_name": "LayoutModel",
          "model_module_version": "1.2.0",
          "state": {
            "_model_module": "@jupyter-widgets/base",
            "_model_module_version": "1.2.0",
            "_model_name": "LayoutModel",
            "_view_count": null,
            "_view_module": "@jupyter-widgets/base",
            "_view_module_version": "1.2.0",
            "_view_name": "LayoutView",
            "align_content": null,
            "align_items": null,
            "align_self": null,
            "border": null,
            "bottom": null,
            "display": null,
            "flex": null,
            "flex_flow": null,
            "grid_area": null,
            "grid_auto_columns": null,
            "grid_auto_flow": null,
            "grid_auto_rows": null,
            "grid_column": null,
            "grid_gap": null,
            "grid_row": null,
            "grid_template_areas": null,
            "grid_template_columns": null,
            "grid_template_rows": null,
            "height": null,
            "justify_content": null,
            "justify_items": null,
            "left": null,
            "margin": null,
            "max_height": null,
            "max_width": null,
            "min_height": null,
            "min_width": null,
            "object_fit": null,
            "object_position": null,
            "order": null,
            "overflow": null,
            "overflow_x": null,
            "overflow_y": null,
            "padding": null,
            "right": null,
            "top": null,
            "visibility": null,
            "width": null
          }
        },
        "d791cfb9ab3f432e9cce3440795704e4": {
          "model_module": "@jupyter-widgets/controls",
          "model_name": "DescriptionStyleModel",
          "model_module_version": "1.5.0",
          "state": {
            "_model_module": "@jupyter-widgets/controls",
            "_model_module_version": "1.5.0",
            "_model_name": "DescriptionStyleModel",
            "_view_count": null,
            "_view_module": "@jupyter-widgets/base",
            "_view_module_version": "1.2.0",
            "_view_name": "StyleView",
            "description_width": ""
          }
        },
        "455ab5b41cf04dd19d60c2927c2354be": {
          "model_module": "@jupyter-widgets/base",
          "model_name": "LayoutModel",
          "model_module_version": "1.2.0",
          "state": {
            "_model_module": "@jupyter-widgets/base",
            "_model_module_version": "1.2.0",
            "_model_name": "LayoutModel",
            "_view_count": null,
            "_view_module": "@jupyter-widgets/base",
            "_view_module_version": "1.2.0",
            "_view_name": "LayoutView",
            "align_content": null,
            "align_items": null,
            "align_self": null,
            "border": null,
            "bottom": null,
            "display": null,
            "flex": null,
            "flex_flow": null,
            "grid_area": null,
            "grid_auto_columns": null,
            "grid_auto_flow": null,
            "grid_auto_rows": null,
            "grid_column": null,
            "grid_gap": null,
            "grid_row": null,
            "grid_template_areas": null,
            "grid_template_columns": null,
            "grid_template_rows": null,
            "height": null,
            "justify_content": null,
            "justify_items": null,
            "left": null,
            "margin": null,
            "max_height": null,
            "max_width": null,
            "min_height": null,
            "min_width": null,
            "object_fit": null,
            "object_position": null,
            "order": null,
            "overflow": null,
            "overflow_x": null,
            "overflow_y": null,
            "padding": null,
            "right": null,
            "top": null,
            "visibility": null,
            "width": null
          }
        },
        "7bcc62479d0d4904bb0a6d17c3b63e24": {
          "model_module": "@jupyter-widgets/controls",
          "model_name": "ProgressStyleModel",
          "model_module_version": "1.5.0",
          "state": {
            "_model_module": "@jupyter-widgets/controls",
            "_model_module_version": "1.5.0",
            "_model_name": "ProgressStyleModel",
            "_view_count": null,
            "_view_module": "@jupyter-widgets/base",
            "_view_module_version": "1.2.0",
            "_view_name": "StyleView",
            "bar_color": null,
            "description_width": ""
          }
        },
        "756d95ac332e471ba4daf1690e75a688": {
          "model_module": "@jupyter-widgets/base",
          "model_name": "LayoutModel",
          "model_module_version": "1.2.0",
          "state": {
            "_model_module": "@jupyter-widgets/base",
            "_model_module_version": "1.2.0",
            "_model_name": "LayoutModel",
            "_view_count": null,
            "_view_module": "@jupyter-widgets/base",
            "_view_module_version": "1.2.0",
            "_view_name": "LayoutView",
            "align_content": null,
            "align_items": null,
            "align_self": null,
            "border": null,
            "bottom": null,
            "display": null,
            "flex": null,
            "flex_flow": null,
            "grid_area": null,
            "grid_auto_columns": null,
            "grid_auto_flow": null,
            "grid_auto_rows": null,
            "grid_column": null,
            "grid_gap": null,
            "grid_row": null,
            "grid_template_areas": null,
            "grid_template_columns": null,
            "grid_template_rows": null,
            "height": null,
            "justify_content": null,
            "justify_items": null,
            "left": null,
            "margin": null,
            "max_height": null,
            "max_width": null,
            "min_height": null,
            "min_width": null,
            "object_fit": null,
            "object_position": null,
            "order": null,
            "overflow": null,
            "overflow_x": null,
            "overflow_y": null,
            "padding": null,
            "right": null,
            "top": null,
            "visibility": null,
            "width": null
          }
        },
        "59e9b1d2ec1e4ee2a2926e264654e733": {
          "model_module": "@jupyter-widgets/controls",
          "model_name": "DescriptionStyleModel",
          "model_module_version": "1.5.0",
          "state": {
            "_model_module": "@jupyter-widgets/controls",
            "_model_module_version": "1.5.0",
            "_model_name": "DescriptionStyleModel",
            "_view_count": null,
            "_view_module": "@jupyter-widgets/base",
            "_view_module_version": "1.2.0",
            "_view_name": "StyleView",
            "description_width": ""
          }
        },
        "d4bdfba003ee4cc09d8b78c19a08b502": {
          "model_module": "@jupyter-widgets/controls",
          "model_name": "VBoxModel",
          "model_module_version": "1.5.0",
          "state": {
            "_dom_classes": [],
            "_model_module": "@jupyter-widgets/controls",
            "_model_module_version": "1.5.0",
            "_model_name": "VBoxModel",
            "_view_count": null,
            "_view_module": "@jupyter-widgets/controls",
            "_view_module_version": "1.5.0",
            "_view_name": "VBoxView",
            "box_style": "",
            "children": [
              "IPY_MODEL_1713dfd062bf4c3bb59b40ae67d5f88a",
              "IPY_MODEL_df70e128033c4b3080226541b481d755",
              "IPY_MODEL_2250977515f9481e9f441c7eaf91f8ed",
              "IPY_MODEL_65b7fbd181d24537897a588c070b8854"
            ],
            "layout": "IPY_MODEL_42eed2cf0b34457fb50ded9d3e72bfe5"
          }
        },
        "118ec1fd02fe46449a37288923c9fb55": {
          "model_module": "@jupyter-widgets/controls",
          "model_name": "HTMLModel",
          "model_module_version": "1.5.0",
          "state": {
            "_dom_classes": [],
            "_model_module": "@jupyter-widgets/controls",
            "_model_module_version": "1.5.0",
            "_model_name": "HTMLModel",
            "_view_count": null,
            "_view_module": "@jupyter-widgets/controls",
            "_view_module_version": "1.5.0",
            "_view_name": "HTMLView",
            "description": "",
            "description_tooltip": null,
            "layout": "IPY_MODEL_f4e860f53c5e4c24b102440a7d326dde",
            "placeholder": "​",
            "style": "IPY_MODEL_0b180092ddcc44008c740e63b1afb5c3",
            "value": "<center> <img\nsrc=https://huggingface.co/front/assets/huggingface_logo-noborder.svg\nalt='Hugging Face'> <br> Copy a token from <a\nhref=\"https://huggingface.co/settings/tokens\" target=\"_blank\">your Hugging Face\ntokens page</a> and paste it below. <br> Immediately click login after copying\nyour token or it might be stored in plain text in this notebook file. </center>"
          }
        },
        "5f8f48bba2ab453eaf2454a0c9f49781": {
          "model_module": "@jupyter-widgets/controls",
          "model_name": "PasswordModel",
          "model_module_version": "1.5.0",
          "state": {
            "_dom_classes": [],
            "_model_module": "@jupyter-widgets/controls",
            "_model_module_version": "1.5.0",
            "_model_name": "PasswordModel",
            "_view_count": null,
            "_view_module": "@jupyter-widgets/controls",
            "_view_module_version": "1.5.0",
            "_view_name": "PasswordView",
            "continuous_update": true,
            "description": "Token:",
            "description_tooltip": null,
            "disabled": false,
            "layout": "IPY_MODEL_a4d93c6f6e8c48bba340556b8e229ebc",
            "placeholder": "​",
            "style": "IPY_MODEL_f5d35ad623c24b4286f7749826837d0e",
            "value": ""
          }
        },
        "b121bb7e602d4406b55d2aaa2c8a14e4": {
          "model_module": "@jupyter-widgets/controls",
          "model_name": "CheckboxModel",
          "model_module_version": "1.5.0",
          "state": {
            "_dom_classes": [],
            "_model_module": "@jupyter-widgets/controls",
            "_model_module_version": "1.5.0",
            "_model_name": "CheckboxModel",
            "_view_count": null,
            "_view_module": "@jupyter-widgets/controls",
            "_view_module_version": "1.5.0",
            "_view_name": "CheckboxView",
            "description": "Add token as git credential?",
            "description_tooltip": null,
            "disabled": false,
            "indent": true,
            "layout": "IPY_MODEL_cdd35aff38424e1d95627f0a1845be48",
            "style": "IPY_MODEL_5c7ed2f0b63c49d89405ed92847c0d44",
            "value": true
          }
        },
        "99bdb0ca4860483ab3f8d21a366664b9": {
          "model_module": "@jupyter-widgets/controls",
          "model_name": "ButtonModel",
          "model_module_version": "1.5.0",
          "state": {
            "_dom_classes": [],
            "_model_module": "@jupyter-widgets/controls",
            "_model_module_version": "1.5.0",
            "_model_name": "ButtonModel",
            "_view_count": null,
            "_view_module": "@jupyter-widgets/controls",
            "_view_module_version": "1.5.0",
            "_view_name": "ButtonView",
            "button_style": "",
            "description": "Login",
            "disabled": false,
            "icon": "",
            "layout": "IPY_MODEL_7bde6da827444cfdb96dc7fc094143d5",
            "style": "IPY_MODEL_02abb1ae4d1b4cd99eac3e874e5de4c1",
            "tooltip": ""
          }
        },
        "398178951ad745c1931a4dcfafd37597": {
          "model_module": "@jupyter-widgets/controls",
          "model_name": "HTMLModel",
          "model_module_version": "1.5.0",
          "state": {
            "_dom_classes": [],
            "_model_module": "@jupyter-widgets/controls",
            "_model_module_version": "1.5.0",
            "_model_name": "HTMLModel",
            "_view_count": null,
            "_view_module": "@jupyter-widgets/controls",
            "_view_module_version": "1.5.0",
            "_view_name": "HTMLView",
            "description": "",
            "description_tooltip": null,
            "layout": "IPY_MODEL_b4e2a5e34ad74384bb161b6a1b2df30e",
            "placeholder": "​",
            "style": "IPY_MODEL_072e242162664a6b89ab29e83fb4e898",
            "value": "\n<b>Pro Tip:</b> If you don't already have one, you can create a dedicated\n'notebooks' token with 'write' access, that you can then easily reuse for all\nnotebooks. </center>"
          }
        },
        "42eed2cf0b34457fb50ded9d3e72bfe5": {
          "model_module": "@jupyter-widgets/base",
          "model_name": "LayoutModel",
          "model_module_version": "1.2.0",
          "state": {
            "_model_module": "@jupyter-widgets/base",
            "_model_module_version": "1.2.0",
            "_model_name": "LayoutModel",
            "_view_count": null,
            "_view_module": "@jupyter-widgets/base",
            "_view_module_version": "1.2.0",
            "_view_name": "LayoutView",
            "align_content": null,
            "align_items": "center",
            "align_self": null,
            "border": null,
            "bottom": null,
            "display": "flex",
            "flex": null,
            "flex_flow": "column",
            "grid_area": null,
            "grid_auto_columns": null,
            "grid_auto_flow": null,
            "grid_auto_rows": null,
            "grid_column": null,
            "grid_gap": null,
            "grid_row": null,
            "grid_template_areas": null,
            "grid_template_columns": null,
            "grid_template_rows": null,
            "height": null,
            "justify_content": null,
            "justify_items": null,
            "left": null,
            "margin": null,
            "max_height": null,
            "max_width": null,
            "min_height": null,
            "min_width": null,
            "object_fit": null,
            "object_position": null,
            "order": null,
            "overflow": null,
            "overflow_x": null,
            "overflow_y": null,
            "padding": null,
            "right": null,
            "top": null,
            "visibility": null,
            "width": "50%"
          }
        },
        "f4e860f53c5e4c24b102440a7d326dde": {
          "model_module": "@jupyter-widgets/base",
          "model_name": "LayoutModel",
          "model_module_version": "1.2.0",
          "state": {
            "_model_module": "@jupyter-widgets/base",
            "_model_module_version": "1.2.0",
            "_model_name": "LayoutModel",
            "_view_count": null,
            "_view_module": "@jupyter-widgets/base",
            "_view_module_version": "1.2.0",
            "_view_name": "LayoutView",
            "align_content": null,
            "align_items": null,
            "align_self": null,
            "border": null,
            "bottom": null,
            "display": null,
            "flex": null,
            "flex_flow": null,
            "grid_area": null,
            "grid_auto_columns": null,
            "grid_auto_flow": null,
            "grid_auto_rows": null,
            "grid_column": null,
            "grid_gap": null,
            "grid_row": null,
            "grid_template_areas": null,
            "grid_template_columns": null,
            "grid_template_rows": null,
            "height": null,
            "justify_content": null,
            "justify_items": null,
            "left": null,
            "margin": null,
            "max_height": null,
            "max_width": null,
            "min_height": null,
            "min_width": null,
            "object_fit": null,
            "object_position": null,
            "order": null,
            "overflow": null,
            "overflow_x": null,
            "overflow_y": null,
            "padding": null,
            "right": null,
            "top": null,
            "visibility": null,
            "width": null
          }
        },
        "0b180092ddcc44008c740e63b1afb5c3": {
          "model_module": "@jupyter-widgets/controls",
          "model_name": "DescriptionStyleModel",
          "model_module_version": "1.5.0",
          "state": {
            "_model_module": "@jupyter-widgets/controls",
            "_model_module_version": "1.5.0",
            "_model_name": "DescriptionStyleModel",
            "_view_count": null,
            "_view_module": "@jupyter-widgets/base",
            "_view_module_version": "1.2.0",
            "_view_name": "StyleView",
            "description_width": ""
          }
        },
        "a4d93c6f6e8c48bba340556b8e229ebc": {
          "model_module": "@jupyter-widgets/base",
          "model_name": "LayoutModel",
          "model_module_version": "1.2.0",
          "state": {
            "_model_module": "@jupyter-widgets/base",
            "_model_module_version": "1.2.0",
            "_model_name": "LayoutModel",
            "_view_count": null,
            "_view_module": "@jupyter-widgets/base",
            "_view_module_version": "1.2.0",
            "_view_name": "LayoutView",
            "align_content": null,
            "align_items": null,
            "align_self": null,
            "border": null,
            "bottom": null,
            "display": null,
            "flex": null,
            "flex_flow": null,
            "grid_area": null,
            "grid_auto_columns": null,
            "grid_auto_flow": null,
            "grid_auto_rows": null,
            "grid_column": null,
            "grid_gap": null,
            "grid_row": null,
            "grid_template_areas": null,
            "grid_template_columns": null,
            "grid_template_rows": null,
            "height": null,
            "justify_content": null,
            "justify_items": null,
            "left": null,
            "margin": null,
            "max_height": null,
            "max_width": null,
            "min_height": null,
            "min_width": null,
            "object_fit": null,
            "object_position": null,
            "order": null,
            "overflow": null,
            "overflow_x": null,
            "overflow_y": null,
            "padding": null,
            "right": null,
            "top": null,
            "visibility": null,
            "width": null
          }
        },
        "f5d35ad623c24b4286f7749826837d0e": {
          "model_module": "@jupyter-widgets/controls",
          "model_name": "DescriptionStyleModel",
          "model_module_version": "1.5.0",
          "state": {
            "_model_module": "@jupyter-widgets/controls",
            "_model_module_version": "1.5.0",
            "_model_name": "DescriptionStyleModel",
            "_view_count": null,
            "_view_module": "@jupyter-widgets/base",
            "_view_module_version": "1.2.0",
            "_view_name": "StyleView",
            "description_width": ""
          }
        },
        "cdd35aff38424e1d95627f0a1845be48": {
          "model_module": "@jupyter-widgets/base",
          "model_name": "LayoutModel",
          "model_module_version": "1.2.0",
          "state": {
            "_model_module": "@jupyter-widgets/base",
            "_model_module_version": "1.2.0",
            "_model_name": "LayoutModel",
            "_view_count": null,
            "_view_module": "@jupyter-widgets/base",
            "_view_module_version": "1.2.0",
            "_view_name": "LayoutView",
            "align_content": null,
            "align_items": null,
            "align_self": null,
            "border": null,
            "bottom": null,
            "display": null,
            "flex": null,
            "flex_flow": null,
            "grid_area": null,
            "grid_auto_columns": null,
            "grid_auto_flow": null,
            "grid_auto_rows": null,
            "grid_column": null,
            "grid_gap": null,
            "grid_row": null,
            "grid_template_areas": null,
            "grid_template_columns": null,
            "grid_template_rows": null,
            "height": null,
            "justify_content": null,
            "justify_items": null,
            "left": null,
            "margin": null,
            "max_height": null,
            "max_width": null,
            "min_height": null,
            "min_width": null,
            "object_fit": null,
            "object_position": null,
            "order": null,
            "overflow": null,
            "overflow_x": null,
            "overflow_y": null,
            "padding": null,
            "right": null,
            "top": null,
            "visibility": null,
            "width": null
          }
        },
        "5c7ed2f0b63c49d89405ed92847c0d44": {
          "model_module": "@jupyter-widgets/controls",
          "model_name": "DescriptionStyleModel",
          "model_module_version": "1.5.0",
          "state": {
            "_model_module": "@jupyter-widgets/controls",
            "_model_module_version": "1.5.0",
            "_model_name": "DescriptionStyleModel",
            "_view_count": null,
            "_view_module": "@jupyter-widgets/base",
            "_view_module_version": "1.2.0",
            "_view_name": "StyleView",
            "description_width": ""
          }
        },
        "7bde6da827444cfdb96dc7fc094143d5": {
          "model_module": "@jupyter-widgets/base",
          "model_name": "LayoutModel",
          "model_module_version": "1.2.0",
          "state": {
            "_model_module": "@jupyter-widgets/base",
            "_model_module_version": "1.2.0",
            "_model_name": "LayoutModel",
            "_view_count": null,
            "_view_module": "@jupyter-widgets/base",
            "_view_module_version": "1.2.0",
            "_view_name": "LayoutView",
            "align_content": null,
            "align_items": null,
            "align_self": null,
            "border": null,
            "bottom": null,
            "display": null,
            "flex": null,
            "flex_flow": null,
            "grid_area": null,
            "grid_auto_columns": null,
            "grid_auto_flow": null,
            "grid_auto_rows": null,
            "grid_column": null,
            "grid_gap": null,
            "grid_row": null,
            "grid_template_areas": null,
            "grid_template_columns": null,
            "grid_template_rows": null,
            "height": null,
            "justify_content": null,
            "justify_items": null,
            "left": null,
            "margin": null,
            "max_height": null,
            "max_width": null,
            "min_height": null,
            "min_width": null,
            "object_fit": null,
            "object_position": null,
            "order": null,
            "overflow": null,
            "overflow_x": null,
            "overflow_y": null,
            "padding": null,
            "right": null,
            "top": null,
            "visibility": null,
            "width": null
          }
        },
        "02abb1ae4d1b4cd99eac3e874e5de4c1": {
          "model_module": "@jupyter-widgets/controls",
          "model_name": "ButtonStyleModel",
          "model_module_version": "1.5.0",
          "state": {
            "_model_module": "@jupyter-widgets/controls",
            "_model_module_version": "1.5.0",
            "_model_name": "ButtonStyleModel",
            "_view_count": null,
            "_view_module": "@jupyter-widgets/base",
            "_view_module_version": "1.2.0",
            "_view_name": "StyleView",
            "button_color": null,
            "font_weight": ""
          }
        },
        "b4e2a5e34ad74384bb161b6a1b2df30e": {
          "model_module": "@jupyter-widgets/base",
          "model_name": "LayoutModel",
          "model_module_version": "1.2.0",
          "state": {
            "_model_module": "@jupyter-widgets/base",
            "_model_module_version": "1.2.0",
            "_model_name": "LayoutModel",
            "_view_count": null,
            "_view_module": "@jupyter-widgets/base",
            "_view_module_version": "1.2.0",
            "_view_name": "LayoutView",
            "align_content": null,
            "align_items": null,
            "align_self": null,
            "border": null,
            "bottom": null,
            "display": null,
            "flex": null,
            "flex_flow": null,
            "grid_area": null,
            "grid_auto_columns": null,
            "grid_auto_flow": null,
            "grid_auto_rows": null,
            "grid_column": null,
            "grid_gap": null,
            "grid_row": null,
            "grid_template_areas": null,
            "grid_template_columns": null,
            "grid_template_rows": null,
            "height": null,
            "justify_content": null,
            "justify_items": null,
            "left": null,
            "margin": null,
            "max_height": null,
            "max_width": null,
            "min_height": null,
            "min_width": null,
            "object_fit": null,
            "object_position": null,
            "order": null,
            "overflow": null,
            "overflow_x": null,
            "overflow_y": null,
            "padding": null,
            "right": null,
            "top": null,
            "visibility": null,
            "width": null
          }
        },
        "072e242162664a6b89ab29e83fb4e898": {
          "model_module": "@jupyter-widgets/controls",
          "model_name": "DescriptionStyleModel",
          "model_module_version": "1.5.0",
          "state": {
            "_model_module": "@jupyter-widgets/controls",
            "_model_module_version": "1.5.0",
            "_model_name": "DescriptionStyleModel",
            "_view_count": null,
            "_view_module": "@jupyter-widgets/base",
            "_view_module_version": "1.2.0",
            "_view_name": "StyleView",
            "description_width": ""
          }
        },
        "8d7b5ff33a244f898c6693bceb7355c4": {
          "model_module": "@jupyter-widgets/controls",
          "model_name": "LabelModel",
          "model_module_version": "1.5.0",
          "state": {
            "_dom_classes": [],
            "_model_module": "@jupyter-widgets/controls",
            "_model_module_version": "1.5.0",
            "_model_name": "LabelModel",
            "_view_count": null,
            "_view_module": "@jupyter-widgets/controls",
            "_view_module_version": "1.5.0",
            "_view_name": "LabelView",
            "description": "",
            "description_tooltip": null,
            "layout": "IPY_MODEL_c49867408c154f1d9d765f14820499e8",
            "placeholder": "​",
            "style": "IPY_MODEL_49cba32efa774fe6ad77b81b1a078e9b",
            "value": "Connecting..."
          }
        },
        "c49867408c154f1d9d765f14820499e8": {
          "model_module": "@jupyter-widgets/base",
          "model_name": "LayoutModel",
          "model_module_version": "1.2.0",
          "state": {
            "_model_module": "@jupyter-widgets/base",
            "_model_module_version": "1.2.0",
            "_model_name": "LayoutModel",
            "_view_count": null,
            "_view_module": "@jupyter-widgets/base",
            "_view_module_version": "1.2.0",
            "_view_name": "LayoutView",
            "align_content": null,
            "align_items": null,
            "align_self": null,
            "border": null,
            "bottom": null,
            "display": null,
            "flex": null,
            "flex_flow": null,
            "grid_area": null,
            "grid_auto_columns": null,
            "grid_auto_flow": null,
            "grid_auto_rows": null,
            "grid_column": null,
            "grid_gap": null,
            "grid_row": null,
            "grid_template_areas": null,
            "grid_template_columns": null,
            "grid_template_rows": null,
            "height": null,
            "justify_content": null,
            "justify_items": null,
            "left": null,
            "margin": null,
            "max_height": null,
            "max_width": null,
            "min_height": null,
            "min_width": null,
            "object_fit": null,
            "object_position": null,
            "order": null,
            "overflow": null,
            "overflow_x": null,
            "overflow_y": null,
            "padding": null,
            "right": null,
            "top": null,
            "visibility": null,
            "width": null
          }
        },
        "49cba32efa774fe6ad77b81b1a078e9b": {
          "model_module": "@jupyter-widgets/controls",
          "model_name": "DescriptionStyleModel",
          "model_module_version": "1.5.0",
          "state": {
            "_model_module": "@jupyter-widgets/controls",
            "_model_module_version": "1.5.0",
            "_model_name": "DescriptionStyleModel",
            "_view_count": null,
            "_view_module": "@jupyter-widgets/base",
            "_view_module_version": "1.2.0",
            "_view_name": "StyleView",
            "description_width": ""
          }
        },
        "1713dfd062bf4c3bb59b40ae67d5f88a": {
          "model_module": "@jupyter-widgets/controls",
          "model_name": "LabelModel",
          "model_module_version": "1.5.0",
          "state": {
            "_dom_classes": [],
            "_model_module": "@jupyter-widgets/controls",
            "_model_module_version": "1.5.0",
            "_model_name": "LabelModel",
            "_view_count": null,
            "_view_module": "@jupyter-widgets/controls",
            "_view_module_version": "1.5.0",
            "_view_name": "LabelView",
            "description": "",
            "description_tooltip": null,
            "layout": "IPY_MODEL_de2990b7d1d54cd38015e9d4385e21fa",
            "placeholder": "​",
            "style": "IPY_MODEL_4d9c5e3975ff4fcebf01dd115758f4ab",
            "value": "Token is valid (permission: write)."
          }
        },
        "df70e128033c4b3080226541b481d755": {
          "model_module": "@jupyter-widgets/controls",
          "model_name": "LabelModel",
          "model_module_version": "1.5.0",
          "state": {
            "_dom_classes": [],
            "_model_module": "@jupyter-widgets/controls",
            "_model_module_version": "1.5.0",
            "_model_name": "LabelModel",
            "_view_count": null,
            "_view_module": "@jupyter-widgets/controls",
            "_view_module_version": "1.5.0",
            "_view_name": "LabelView",
            "description": "",
            "description_tooltip": null,
            "layout": "IPY_MODEL_7f9e3e4ab6a447589d51ad622468006c",
            "placeholder": "​",
            "style": "IPY_MODEL_c1806e98087b492fbfea9d4e9cd4c01d",
            "value": "Your token has been saved in your configured git credential helpers (store)."
          }
        },
        "2250977515f9481e9f441c7eaf91f8ed": {
          "model_module": "@jupyter-widgets/controls",
          "model_name": "LabelModel",
          "model_module_version": "1.5.0",
          "state": {
            "_dom_classes": [],
            "_model_module": "@jupyter-widgets/controls",
            "_model_module_version": "1.5.0",
            "_model_name": "LabelModel",
            "_view_count": null,
            "_view_module": "@jupyter-widgets/controls",
            "_view_module_version": "1.5.0",
            "_view_name": "LabelView",
            "description": "",
            "description_tooltip": null,
            "layout": "IPY_MODEL_56ec3800de54477798c37ff1d9e7949d",
            "placeholder": "​",
            "style": "IPY_MODEL_61b5f160a7714ce7aecab0d48cc0fec7",
            "value": "Your token has been saved to /root/.cache/huggingface/token"
          }
        },
        "65b7fbd181d24537897a588c070b8854": {
          "model_module": "@jupyter-widgets/controls",
          "model_name": "LabelModel",
          "model_module_version": "1.5.0",
          "state": {
            "_dom_classes": [],
            "_model_module": "@jupyter-widgets/controls",
            "_model_module_version": "1.5.0",
            "_model_name": "LabelModel",
            "_view_count": null,
            "_view_module": "@jupyter-widgets/controls",
            "_view_module_version": "1.5.0",
            "_view_name": "LabelView",
            "description": "",
            "description_tooltip": null,
            "layout": "IPY_MODEL_08df3d7eb45140d7bb5b03d844f9c6e9",
            "placeholder": "​",
            "style": "IPY_MODEL_f3d74ee372fd46608d10f0d796e0d6fa",
            "value": "Login successful"
          }
        },
        "de2990b7d1d54cd38015e9d4385e21fa": {
          "model_module": "@jupyter-widgets/base",
          "model_name": "LayoutModel",
          "model_module_version": "1.2.0",
          "state": {
            "_model_module": "@jupyter-widgets/base",
            "_model_module_version": "1.2.0",
            "_model_name": "LayoutModel",
            "_view_count": null,
            "_view_module": "@jupyter-widgets/base",
            "_view_module_version": "1.2.0",
            "_view_name": "LayoutView",
            "align_content": null,
            "align_items": null,
            "align_self": null,
            "border": null,
            "bottom": null,
            "display": null,
            "flex": null,
            "flex_flow": null,
            "grid_area": null,
            "grid_auto_columns": null,
            "grid_auto_flow": null,
            "grid_auto_rows": null,
            "grid_column": null,
            "grid_gap": null,
            "grid_row": null,
            "grid_template_areas": null,
            "grid_template_columns": null,
            "grid_template_rows": null,
            "height": null,
            "justify_content": null,
            "justify_items": null,
            "left": null,
            "margin": null,
            "max_height": null,
            "max_width": null,
            "min_height": null,
            "min_width": null,
            "object_fit": null,
            "object_position": null,
            "order": null,
            "overflow": null,
            "overflow_x": null,
            "overflow_y": null,
            "padding": null,
            "right": null,
            "top": null,
            "visibility": null,
            "width": null
          }
        },
        "4d9c5e3975ff4fcebf01dd115758f4ab": {
          "model_module": "@jupyter-widgets/controls",
          "model_name": "DescriptionStyleModel",
          "model_module_version": "1.5.0",
          "state": {
            "_model_module": "@jupyter-widgets/controls",
            "_model_module_version": "1.5.0",
            "_model_name": "DescriptionStyleModel",
            "_view_count": null,
            "_view_module": "@jupyter-widgets/base",
            "_view_module_version": "1.2.0",
            "_view_name": "StyleView",
            "description_width": ""
          }
        },
        "7f9e3e4ab6a447589d51ad622468006c": {
          "model_module": "@jupyter-widgets/base",
          "model_name": "LayoutModel",
          "model_module_version": "1.2.0",
          "state": {
            "_model_module": "@jupyter-widgets/base",
            "_model_module_version": "1.2.0",
            "_model_name": "LayoutModel",
            "_view_count": null,
            "_view_module": "@jupyter-widgets/base",
            "_view_module_version": "1.2.0",
            "_view_name": "LayoutView",
            "align_content": null,
            "align_items": null,
            "align_self": null,
            "border": null,
            "bottom": null,
            "display": null,
            "flex": null,
            "flex_flow": null,
            "grid_area": null,
            "grid_auto_columns": null,
            "grid_auto_flow": null,
            "grid_auto_rows": null,
            "grid_column": null,
            "grid_gap": null,
            "grid_row": null,
            "grid_template_areas": null,
            "grid_template_columns": null,
            "grid_template_rows": null,
            "height": null,
            "justify_content": null,
            "justify_items": null,
            "left": null,
            "margin": null,
            "max_height": null,
            "max_width": null,
            "min_height": null,
            "min_width": null,
            "object_fit": null,
            "object_position": null,
            "order": null,
            "overflow": null,
            "overflow_x": null,
            "overflow_y": null,
            "padding": null,
            "right": null,
            "top": null,
            "visibility": null,
            "width": null
          }
        },
        "c1806e98087b492fbfea9d4e9cd4c01d": {
          "model_module": "@jupyter-widgets/controls",
          "model_name": "DescriptionStyleModel",
          "model_module_version": "1.5.0",
          "state": {
            "_model_module": "@jupyter-widgets/controls",
            "_model_module_version": "1.5.0",
            "_model_name": "DescriptionStyleModel",
            "_view_count": null,
            "_view_module": "@jupyter-widgets/base",
            "_view_module_version": "1.2.0",
            "_view_name": "StyleView",
            "description_width": ""
          }
        },
        "56ec3800de54477798c37ff1d9e7949d": {
          "model_module": "@jupyter-widgets/base",
          "model_name": "LayoutModel",
          "model_module_version": "1.2.0",
          "state": {
            "_model_module": "@jupyter-widgets/base",
            "_model_module_version": "1.2.0",
            "_model_name": "LayoutModel",
            "_view_count": null,
            "_view_module": "@jupyter-widgets/base",
            "_view_module_version": "1.2.0",
            "_view_name": "LayoutView",
            "align_content": null,
            "align_items": null,
            "align_self": null,
            "border": null,
            "bottom": null,
            "display": null,
            "flex": null,
            "flex_flow": null,
            "grid_area": null,
            "grid_auto_columns": null,
            "grid_auto_flow": null,
            "grid_auto_rows": null,
            "grid_column": null,
            "grid_gap": null,
            "grid_row": null,
            "grid_template_areas": null,
            "grid_template_columns": null,
            "grid_template_rows": null,
            "height": null,
            "justify_content": null,
            "justify_items": null,
            "left": null,
            "margin": null,
            "max_height": null,
            "max_width": null,
            "min_height": null,
            "min_width": null,
            "object_fit": null,
            "object_position": null,
            "order": null,
            "overflow": null,
            "overflow_x": null,
            "overflow_y": null,
            "padding": null,
            "right": null,
            "top": null,
            "visibility": null,
            "width": null
          }
        },
        "61b5f160a7714ce7aecab0d48cc0fec7": {
          "model_module": "@jupyter-widgets/controls",
          "model_name": "DescriptionStyleModel",
          "model_module_version": "1.5.0",
          "state": {
            "_model_module": "@jupyter-widgets/controls",
            "_model_module_version": "1.5.0",
            "_model_name": "DescriptionStyleModel",
            "_view_count": null,
            "_view_module": "@jupyter-widgets/base",
            "_view_module_version": "1.2.0",
            "_view_name": "StyleView",
            "description_width": ""
          }
        },
        "08df3d7eb45140d7bb5b03d844f9c6e9": {
          "model_module": "@jupyter-widgets/base",
          "model_name": "LayoutModel",
          "model_module_version": "1.2.0",
          "state": {
            "_model_module": "@jupyter-widgets/base",
            "_model_module_version": "1.2.0",
            "_model_name": "LayoutModel",
            "_view_count": null,
            "_view_module": "@jupyter-widgets/base",
            "_view_module_version": "1.2.0",
            "_view_name": "LayoutView",
            "align_content": null,
            "align_items": null,
            "align_self": null,
            "border": null,
            "bottom": null,
            "display": null,
            "flex": null,
            "flex_flow": null,
            "grid_area": null,
            "grid_auto_columns": null,
            "grid_auto_flow": null,
            "grid_auto_rows": null,
            "grid_column": null,
            "grid_gap": null,
            "grid_row": null,
            "grid_template_areas": null,
            "grid_template_columns": null,
            "grid_template_rows": null,
            "height": null,
            "justify_content": null,
            "justify_items": null,
            "left": null,
            "margin": null,
            "max_height": null,
            "max_width": null,
            "min_height": null,
            "min_width": null,
            "object_fit": null,
            "object_position": null,
            "order": null,
            "overflow": null,
            "overflow_x": null,
            "overflow_y": null,
            "padding": null,
            "right": null,
            "top": null,
            "visibility": null,
            "width": null
          }
        },
        "f3d74ee372fd46608d10f0d796e0d6fa": {
          "model_module": "@jupyter-widgets/controls",
          "model_name": "DescriptionStyleModel",
          "model_module_version": "1.5.0",
          "state": {
            "_model_module": "@jupyter-widgets/controls",
            "_model_module_version": "1.5.0",
            "_model_name": "DescriptionStyleModel",
            "_view_count": null,
            "_view_module": "@jupyter-widgets/base",
            "_view_module_version": "1.2.0",
            "_view_name": "StyleView",
            "description_width": ""
          }
        },
        "39d3eefee7d14bfabce8687d26245d94": {
          "model_module": "@jupyter-widgets/controls",
          "model_name": "HBoxModel",
          "model_module_version": "1.5.0",
          "state": {
            "_dom_classes": [],
            "_model_module": "@jupyter-widgets/controls",
            "_model_module_version": "1.5.0",
            "_model_name": "HBoxModel",
            "_view_count": null,
            "_view_module": "@jupyter-widgets/controls",
            "_view_module_version": "1.5.0",
            "_view_name": "HBoxView",
            "box_style": "",
            "children": [
              "IPY_MODEL_3b5e34caddab47eda4b77bbe683d8508",
              "IPY_MODEL_050ef5880f9c44409a755723a8ac385d",
              "IPY_MODEL_e10485ae22b24389ba1e627d8c6976f7"
            ],
            "layout": "IPY_MODEL_93535c584e354400aef9e2de67037f5b"
          }
        },
        "3b5e34caddab47eda4b77bbe683d8508": {
          "model_module": "@jupyter-widgets/controls",
          "model_name": "HTMLModel",
          "model_module_version": "1.5.0",
          "state": {
            "_dom_classes": [],
            "_model_module": "@jupyter-widgets/controls",
            "_model_module_version": "1.5.0",
            "_model_name": "HTMLModel",
            "_view_count": null,
            "_view_module": "@jupyter-widgets/controls",
            "_view_module_version": "1.5.0",
            "_view_name": "HTMLView",
            "description": "",
            "description_tooltip": null,
            "layout": "IPY_MODEL_857232e1a80241789f7ecd629e18b71e",
            "placeholder": "​",
            "style": "IPY_MODEL_2be156c775b34317bafd033d9ad3053a",
            "value": "README.md: 100%"
          }
        },
        "050ef5880f9c44409a755723a8ac385d": {
          "model_module": "@jupyter-widgets/controls",
          "model_name": "FloatProgressModel",
          "model_module_version": "1.5.0",
          "state": {
            "_dom_classes": [],
            "_model_module": "@jupyter-widgets/controls",
            "_model_module_version": "1.5.0",
            "_model_name": "FloatProgressModel",
            "_view_count": null,
            "_view_module": "@jupyter-widgets/controls",
            "_view_module_version": "1.5.0",
            "_view_name": "ProgressView",
            "bar_style": "success",
            "description": "",
            "description_tooltip": null,
            "layout": "IPY_MODEL_f14895a9f9a94a6497872f6a3b94f39b",
            "max": 5174,
            "min": 0,
            "orientation": "horizontal",
            "style": "IPY_MODEL_e4f7b7921b56472386fbbf02383517a0",
            "value": 5174
          }
        },
        "e10485ae22b24389ba1e627d8c6976f7": {
          "model_module": "@jupyter-widgets/controls",
          "model_name": "HTMLModel",
          "model_module_version": "1.5.0",
          "state": {
            "_dom_classes": [],
            "_model_module": "@jupyter-widgets/controls",
            "_model_module_version": "1.5.0",
            "_model_name": "HTMLModel",
            "_view_count": null,
            "_view_module": "@jupyter-widgets/controls",
            "_view_module_version": "1.5.0",
            "_view_name": "HTMLView",
            "description": "",
            "description_tooltip": null,
            "layout": "IPY_MODEL_f629dcffa24b459fb487a5e180640e9d",
            "placeholder": "​",
            "style": "IPY_MODEL_e75490b97896417b89e0f214e48258c4",
            "value": " 5.17k/5.17k [00:00&lt;00:00, 375kB/s]"
          }
        },
        "93535c584e354400aef9e2de67037f5b": {
          "model_module": "@jupyter-widgets/base",
          "model_name": "LayoutModel",
          "model_module_version": "1.2.0",
          "state": {
            "_model_module": "@jupyter-widgets/base",
            "_model_module_version": "1.2.0",
            "_model_name": "LayoutModel",
            "_view_count": null,
            "_view_module": "@jupyter-widgets/base",
            "_view_module_version": "1.2.0",
            "_view_name": "LayoutView",
            "align_content": null,
            "align_items": null,
            "align_self": null,
            "border": null,
            "bottom": null,
            "display": null,
            "flex": null,
            "flex_flow": null,
            "grid_area": null,
            "grid_auto_columns": null,
            "grid_auto_flow": null,
            "grid_auto_rows": null,
            "grid_column": null,
            "grid_gap": null,
            "grid_row": null,
            "grid_template_areas": null,
            "grid_template_columns": null,
            "grid_template_rows": null,
            "height": null,
            "justify_content": null,
            "justify_items": null,
            "left": null,
            "margin": null,
            "max_height": null,
            "max_width": null,
            "min_height": null,
            "min_width": null,
            "object_fit": null,
            "object_position": null,
            "order": null,
            "overflow": null,
            "overflow_x": null,
            "overflow_y": null,
            "padding": null,
            "right": null,
            "top": null,
            "visibility": null,
            "width": null
          }
        },
        "857232e1a80241789f7ecd629e18b71e": {
          "model_module": "@jupyter-widgets/base",
          "model_name": "LayoutModel",
          "model_module_version": "1.2.0",
          "state": {
            "_model_module": "@jupyter-widgets/base",
            "_model_module_version": "1.2.0",
            "_model_name": "LayoutModel",
            "_view_count": null,
            "_view_module": "@jupyter-widgets/base",
            "_view_module_version": "1.2.0",
            "_view_name": "LayoutView",
            "align_content": null,
            "align_items": null,
            "align_self": null,
            "border": null,
            "bottom": null,
            "display": null,
            "flex": null,
            "flex_flow": null,
            "grid_area": null,
            "grid_auto_columns": null,
            "grid_auto_flow": null,
            "grid_auto_rows": null,
            "grid_column": null,
            "grid_gap": null,
            "grid_row": null,
            "grid_template_areas": null,
            "grid_template_columns": null,
            "grid_template_rows": null,
            "height": null,
            "justify_content": null,
            "justify_items": null,
            "left": null,
            "margin": null,
            "max_height": null,
            "max_width": null,
            "min_height": null,
            "min_width": null,
            "object_fit": null,
            "object_position": null,
            "order": null,
            "overflow": null,
            "overflow_x": null,
            "overflow_y": null,
            "padding": null,
            "right": null,
            "top": null,
            "visibility": null,
            "width": null
          }
        },
        "2be156c775b34317bafd033d9ad3053a": {
          "model_module": "@jupyter-widgets/controls",
          "model_name": "DescriptionStyleModel",
          "model_module_version": "1.5.0",
          "state": {
            "_model_module": "@jupyter-widgets/controls",
            "_model_module_version": "1.5.0",
            "_model_name": "DescriptionStyleModel",
            "_view_count": null,
            "_view_module": "@jupyter-widgets/base",
            "_view_module_version": "1.2.0",
            "_view_name": "StyleView",
            "description_width": ""
          }
        },
        "f14895a9f9a94a6497872f6a3b94f39b": {
          "model_module": "@jupyter-widgets/base",
          "model_name": "LayoutModel",
          "model_module_version": "1.2.0",
          "state": {
            "_model_module": "@jupyter-widgets/base",
            "_model_module_version": "1.2.0",
            "_model_name": "LayoutModel",
            "_view_count": null,
            "_view_module": "@jupyter-widgets/base",
            "_view_module_version": "1.2.0",
            "_view_name": "LayoutView",
            "align_content": null,
            "align_items": null,
            "align_self": null,
            "border": null,
            "bottom": null,
            "display": null,
            "flex": null,
            "flex_flow": null,
            "grid_area": null,
            "grid_auto_columns": null,
            "grid_auto_flow": null,
            "grid_auto_rows": null,
            "grid_column": null,
            "grid_gap": null,
            "grid_row": null,
            "grid_template_areas": null,
            "grid_template_columns": null,
            "grid_template_rows": null,
            "height": null,
            "justify_content": null,
            "justify_items": null,
            "left": null,
            "margin": null,
            "max_height": null,
            "max_width": null,
            "min_height": null,
            "min_width": null,
            "object_fit": null,
            "object_position": null,
            "order": null,
            "overflow": null,
            "overflow_x": null,
            "overflow_y": null,
            "padding": null,
            "right": null,
            "top": null,
            "visibility": null,
            "width": null
          }
        },
        "e4f7b7921b56472386fbbf02383517a0": {
          "model_module": "@jupyter-widgets/controls",
          "model_name": "ProgressStyleModel",
          "model_module_version": "1.5.0",
          "state": {
            "_model_module": "@jupyter-widgets/controls",
            "_model_module_version": "1.5.0",
            "_model_name": "ProgressStyleModel",
            "_view_count": null,
            "_view_module": "@jupyter-widgets/base",
            "_view_module_version": "1.2.0",
            "_view_name": "StyleView",
            "bar_color": null,
            "description_width": ""
          }
        },
        "f629dcffa24b459fb487a5e180640e9d": {
          "model_module": "@jupyter-widgets/base",
          "model_name": "LayoutModel",
          "model_module_version": "1.2.0",
          "state": {
            "_model_module": "@jupyter-widgets/base",
            "_model_module_version": "1.2.0",
            "_model_name": "LayoutModel",
            "_view_count": null,
            "_view_module": "@jupyter-widgets/base",
            "_view_module_version": "1.2.0",
            "_view_name": "LayoutView",
            "align_content": null,
            "align_items": null,
            "align_self": null,
            "border": null,
            "bottom": null,
            "display": null,
            "flex": null,
            "flex_flow": null,
            "grid_area": null,
            "grid_auto_columns": null,
            "grid_auto_flow": null,
            "grid_auto_rows": null,
            "grid_column": null,
            "grid_gap": null,
            "grid_row": null,
            "grid_template_areas": null,
            "grid_template_columns": null,
            "grid_template_rows": null,
            "height": null,
            "justify_content": null,
            "justify_items": null,
            "left": null,
            "margin": null,
            "max_height": null,
            "max_width": null,
            "min_height": null,
            "min_width": null,
            "object_fit": null,
            "object_position": null,
            "order": null,
            "overflow": null,
            "overflow_x": null,
            "overflow_y": null,
            "padding": null,
            "right": null,
            "top": null,
            "visibility": null,
            "width": null
          }
        },
        "e75490b97896417b89e0f214e48258c4": {
          "model_module": "@jupyter-widgets/controls",
          "model_name": "DescriptionStyleModel",
          "model_module_version": "1.5.0",
          "state": {
            "_model_module": "@jupyter-widgets/controls",
            "_model_module_version": "1.5.0",
            "_model_name": "DescriptionStyleModel",
            "_view_count": null,
            "_view_module": "@jupyter-widgets/base",
            "_view_module_version": "1.2.0",
            "_view_name": "StyleView",
            "description_width": ""
          }
        },
        "8d275353dfe74f2ab74feadd01979e5a": {
          "model_module": "@jupyter-widgets/controls",
          "model_name": "HBoxModel",
          "model_module_version": "1.5.0",
          "state": {
            "_dom_classes": [],
            "_model_module": "@jupyter-widgets/controls",
            "_model_module_version": "1.5.0",
            "_model_name": "HBoxModel",
            "_view_count": null,
            "_view_module": "@jupyter-widgets/controls",
            "_view_module_version": "1.5.0",
            "_view_name": "HBoxView",
            "box_style": "",
            "children": [
              "IPY_MODEL_c91306ebd6b3475d99040a58d1041e63",
              "IPY_MODEL_b62db38e0d8343c7846772c980176465",
              "IPY_MODEL_72337bd067384f6088892f52aadcea45"
            ],
            "layout": "IPY_MODEL_57d304f55fbe4a988037514d0afa8f72"
          }
        },
        "c91306ebd6b3475d99040a58d1041e63": {
          "model_module": "@jupyter-widgets/controls",
          "model_name": "HTMLModel",
          "model_module_version": "1.5.0",
          "state": {
            "_dom_classes": [],
            "_model_module": "@jupyter-widgets/controls",
            "_model_module_version": "1.5.0",
            "_model_name": "HTMLModel",
            "_view_count": null,
            "_view_module": "@jupyter-widgets/controls",
            "_view_module_version": "1.5.0",
            "_view_name": "HTMLView",
            "description": "",
            "description_tooltip": null,
            "layout": "IPY_MODEL_1ee83edb32c14102982be67a909e04cc",
            "placeholder": "​",
            "style": "IPY_MODEL_8bdc07542d334dcb9f2dbafe3b4e1637",
            "value": "model.safetensors: 100%"
          }
        },
        "b62db38e0d8343c7846772c980176465": {
          "model_module": "@jupyter-widgets/controls",
          "model_name": "FloatProgressModel",
          "model_module_version": "1.5.0",
          "state": {
            "_dom_classes": [],
            "_model_module": "@jupyter-widgets/controls",
            "_model_module_version": "1.5.0",
            "_model_name": "FloatProgressModel",
            "_view_count": null,
            "_view_module": "@jupyter-widgets/controls",
            "_view_module_version": "1.5.0",
            "_view_name": "ProgressView",
            "bar_style": "success",
            "description": "",
            "description_tooltip": null,
            "layout": "IPY_MODEL_5b55cf1ded7649d6a553ffa6b448de0b",
            "max": 96929792,
            "min": 0,
            "orientation": "horizontal",
            "style": "IPY_MODEL_32de46eaff5442bdb5f15746c4360345",
            "value": 96929792
          }
        },
        "72337bd067384f6088892f52aadcea45": {
          "model_module": "@jupyter-widgets/controls",
          "model_name": "HTMLModel",
          "model_module_version": "1.5.0",
          "state": {
            "_dom_classes": [],
            "_model_module": "@jupyter-widgets/controls",
            "_model_module_version": "1.5.0",
            "_model_name": "HTMLModel",
            "_view_count": null,
            "_view_module": "@jupyter-widgets/controls",
            "_view_module_version": "1.5.0",
            "_view_name": "HTMLView",
            "description": "",
            "description_tooltip": null,
            "layout": "IPY_MODEL_8d7101949bdc467d900f6888b46a8146",
            "placeholder": "​",
            "style": "IPY_MODEL_7f7e0db65d4c4baa83d620011a052b81",
            "value": " 96.9M/96.9M [00:02&lt;00:00, 33.6MB/s]"
          }
        },
        "57d304f55fbe4a988037514d0afa8f72": {
          "model_module": "@jupyter-widgets/base",
          "model_name": "LayoutModel",
          "model_module_version": "1.2.0",
          "state": {
            "_model_module": "@jupyter-widgets/base",
            "_model_module_version": "1.2.0",
            "_model_name": "LayoutModel",
            "_view_count": null,
            "_view_module": "@jupyter-widgets/base",
            "_view_module_version": "1.2.0",
            "_view_name": "LayoutView",
            "align_content": null,
            "align_items": null,
            "align_self": null,
            "border": null,
            "bottom": null,
            "display": null,
            "flex": null,
            "flex_flow": null,
            "grid_area": null,
            "grid_auto_columns": null,
            "grid_auto_flow": null,
            "grid_auto_rows": null,
            "grid_column": null,
            "grid_gap": null,
            "grid_row": null,
            "grid_template_areas": null,
            "grid_template_columns": null,
            "grid_template_rows": null,
            "height": null,
            "justify_content": null,
            "justify_items": null,
            "left": null,
            "margin": null,
            "max_height": null,
            "max_width": null,
            "min_height": null,
            "min_width": null,
            "object_fit": null,
            "object_position": null,
            "order": null,
            "overflow": null,
            "overflow_x": null,
            "overflow_y": null,
            "padding": null,
            "right": null,
            "top": null,
            "visibility": null,
            "width": null
          }
        },
        "1ee83edb32c14102982be67a909e04cc": {
          "model_module": "@jupyter-widgets/base",
          "model_name": "LayoutModel",
          "model_module_version": "1.2.0",
          "state": {
            "_model_module": "@jupyter-widgets/base",
            "_model_module_version": "1.2.0",
            "_model_name": "LayoutModel",
            "_view_count": null,
            "_view_module": "@jupyter-widgets/base",
            "_view_module_version": "1.2.0",
            "_view_name": "LayoutView",
            "align_content": null,
            "align_items": null,
            "align_self": null,
            "border": null,
            "bottom": null,
            "display": null,
            "flex": null,
            "flex_flow": null,
            "grid_area": null,
            "grid_auto_columns": null,
            "grid_auto_flow": null,
            "grid_auto_rows": null,
            "grid_column": null,
            "grid_gap": null,
            "grid_row": null,
            "grid_template_areas": null,
            "grid_template_columns": null,
            "grid_template_rows": null,
            "height": null,
            "justify_content": null,
            "justify_items": null,
            "left": null,
            "margin": null,
            "max_height": null,
            "max_width": null,
            "min_height": null,
            "min_width": null,
            "object_fit": null,
            "object_position": null,
            "order": null,
            "overflow": null,
            "overflow_x": null,
            "overflow_y": null,
            "padding": null,
            "right": null,
            "top": null,
            "visibility": null,
            "width": null
          }
        },
        "8bdc07542d334dcb9f2dbafe3b4e1637": {
          "model_module": "@jupyter-widgets/controls",
          "model_name": "DescriptionStyleModel",
          "model_module_version": "1.5.0",
          "state": {
            "_model_module": "@jupyter-widgets/controls",
            "_model_module_version": "1.5.0",
            "_model_name": "DescriptionStyleModel",
            "_view_count": null,
            "_view_module": "@jupyter-widgets/base",
            "_view_module_version": "1.2.0",
            "_view_name": "StyleView",
            "description_width": ""
          }
        },
        "5b55cf1ded7649d6a553ffa6b448de0b": {
          "model_module": "@jupyter-widgets/base",
          "model_name": "LayoutModel",
          "model_module_version": "1.2.0",
          "state": {
            "_model_module": "@jupyter-widgets/base",
            "_model_module_version": "1.2.0",
            "_model_name": "LayoutModel",
            "_view_count": null,
            "_view_module": "@jupyter-widgets/base",
            "_view_module_version": "1.2.0",
            "_view_name": "LayoutView",
            "align_content": null,
            "align_items": null,
            "align_self": null,
            "border": null,
            "bottom": null,
            "display": null,
            "flex": null,
            "flex_flow": null,
            "grid_area": null,
            "grid_auto_columns": null,
            "grid_auto_flow": null,
            "grid_auto_rows": null,
            "grid_column": null,
            "grid_gap": null,
            "grid_row": null,
            "grid_template_areas": null,
            "grid_template_columns": null,
            "grid_template_rows": null,
            "height": null,
            "justify_content": null,
            "justify_items": null,
            "left": null,
            "margin": null,
            "max_height": null,
            "max_width": null,
            "min_height": null,
            "min_width": null,
            "object_fit": null,
            "object_position": null,
            "order": null,
            "overflow": null,
            "overflow_x": null,
            "overflow_y": null,
            "padding": null,
            "right": null,
            "top": null,
            "visibility": null,
            "width": null
          }
        },
        "32de46eaff5442bdb5f15746c4360345": {
          "model_module": "@jupyter-widgets/controls",
          "model_name": "ProgressStyleModel",
          "model_module_version": "1.5.0",
          "state": {
            "_model_module": "@jupyter-widgets/controls",
            "_model_module_version": "1.5.0",
            "_model_name": "ProgressStyleModel",
            "_view_count": null,
            "_view_module": "@jupyter-widgets/base",
            "_view_module_version": "1.2.0",
            "_view_name": "StyleView",
            "bar_color": null,
            "description_width": ""
          }
        },
        "8d7101949bdc467d900f6888b46a8146": {
          "model_module": "@jupyter-widgets/base",
          "model_name": "LayoutModel",
          "model_module_version": "1.2.0",
          "state": {
            "_model_module": "@jupyter-widgets/base",
            "_model_module_version": "1.2.0",
            "_model_name": "LayoutModel",
            "_view_count": null,
            "_view_module": "@jupyter-widgets/base",
            "_view_module_version": "1.2.0",
            "_view_name": "LayoutView",
            "align_content": null,
            "align_items": null,
            "align_self": null,
            "border": null,
            "bottom": null,
            "display": null,
            "flex": null,
            "flex_flow": null,
            "grid_area": null,
            "grid_auto_columns": null,
            "grid_auto_flow": null,
            "grid_auto_rows": null,
            "grid_column": null,
            "grid_gap": null,
            "grid_row": null,
            "grid_template_areas": null,
            "grid_template_columns": null,
            "grid_template_rows": null,
            "height": null,
            "justify_content": null,
            "justify_items": null,
            "left": null,
            "margin": null,
            "max_height": null,
            "max_width": null,
            "min_height": null,
            "min_width": null,
            "object_fit": null,
            "object_position": null,
            "order": null,
            "overflow": null,
            "overflow_x": null,
            "overflow_y": null,
            "padding": null,
            "right": null,
            "top": null,
            "visibility": null,
            "width": null
          }
        },
        "7f7e0db65d4c4baa83d620011a052b81": {
          "model_module": "@jupyter-widgets/controls",
          "model_name": "DescriptionStyleModel",
          "model_module_version": "1.5.0",
          "state": {
            "_model_module": "@jupyter-widgets/controls",
            "_model_module_version": "1.5.0",
            "_model_name": "DescriptionStyleModel",
            "_view_count": null,
            "_view_module": "@jupyter-widgets/base",
            "_view_module_version": "1.2.0",
            "_view_name": "StyleView",
            "description_width": ""
          }
        },
        "d7f622b2b5c746e29a766ae385b19c11": {
          "model_module": "@jupyter-widgets/controls",
          "model_name": "HBoxModel",
          "model_module_version": "1.5.0",
          "state": {
            "_dom_classes": [],
            "_model_module": "@jupyter-widgets/controls",
            "_model_module_version": "1.5.0",
            "_model_name": "HBoxModel",
            "_view_count": null,
            "_view_module": "@jupyter-widgets/controls",
            "_view_module_version": "1.5.0",
            "_view_name": "HBoxView",
            "box_style": "",
            "children": [
              "IPY_MODEL_78623e4e1c3e4e6f822f6af030889475",
              "IPY_MODEL_fe6c200d661f4e80a4477d9f5591c956",
              "IPY_MODEL_4a1b6947f9104725803d9d7f5d34426f"
            ],
            "layout": "IPY_MODEL_3fe401f2c60e4c4398770baae85156c9"
          }
        },
        "78623e4e1c3e4e6f822f6af030889475": {
          "model_module": "@jupyter-widgets/controls",
          "model_name": "HTMLModel",
          "model_module_version": "1.5.0",
          "state": {
            "_dom_classes": [],
            "_model_module": "@jupyter-widgets/controls",
            "_model_module_version": "1.5.0",
            "_model_name": "HTMLModel",
            "_view_count": null,
            "_view_module": "@jupyter-widgets/controls",
            "_view_module_version": "1.5.0",
            "_view_name": "HTMLView",
            "description": "",
            "description_tooltip": null,
            "layout": "IPY_MODEL_26b04b031e104f6397a8e11f4d1eb888",
            "placeholder": "​",
            "style": "IPY_MODEL_e7e051426a224becac67c002d5d4450d",
            "value": "config.json: 100%"
          }
        },
        "fe6c200d661f4e80a4477d9f5591c956": {
          "model_module": "@jupyter-widgets/controls",
          "model_name": "FloatProgressModel",
          "model_module_version": "1.5.0",
          "state": {
            "_dom_classes": [],
            "_model_module": "@jupyter-widgets/controls",
            "_model_module_version": "1.5.0",
            "_model_name": "FloatProgressModel",
            "_view_count": null,
            "_view_module": "@jupyter-widgets/controls",
            "_view_module_version": "1.5.0",
            "_view_name": "ProgressView",
            "bar_style": "success",
            "description": "",
            "description_tooltip": null,
            "layout": "IPY_MODEL_6e5ae647324849d89df89478a0765d2a",
            "max": 1157,
            "min": 0,
            "orientation": "horizontal",
            "style": "IPY_MODEL_50b769ff7c724772990d96ce0f75f90c",
            "value": 1157
          }
        },
        "4a1b6947f9104725803d9d7f5d34426f": {
          "model_module": "@jupyter-widgets/controls",
          "model_name": "HTMLModel",
          "model_module_version": "1.5.0",
          "state": {
            "_dom_classes": [],
            "_model_module": "@jupyter-widgets/controls",
            "_model_module_version": "1.5.0",
            "_model_name": "HTMLModel",
            "_view_count": null,
            "_view_module": "@jupyter-widgets/controls",
            "_view_module_version": "1.5.0",
            "_view_name": "HTMLView",
            "description": "",
            "description_tooltip": null,
            "layout": "IPY_MODEL_38dbbe93a3134b8c90323933f7a3b294",
            "placeholder": "​",
            "style": "IPY_MODEL_8ed66197a30a48f58a9573fd77afada9",
            "value": " 1.16k/1.16k [00:00&lt;00:00, 94.4kB/s]"
          }
        },
        "3fe401f2c60e4c4398770baae85156c9": {
          "model_module": "@jupyter-widgets/base",
          "model_name": "LayoutModel",
          "model_module_version": "1.2.0",
          "state": {
            "_model_module": "@jupyter-widgets/base",
            "_model_module_version": "1.2.0",
            "_model_name": "LayoutModel",
            "_view_count": null,
            "_view_module": "@jupyter-widgets/base",
            "_view_module_version": "1.2.0",
            "_view_name": "LayoutView",
            "align_content": null,
            "align_items": null,
            "align_self": null,
            "border": null,
            "bottom": null,
            "display": null,
            "flex": null,
            "flex_flow": null,
            "grid_area": null,
            "grid_auto_columns": null,
            "grid_auto_flow": null,
            "grid_auto_rows": null,
            "grid_column": null,
            "grid_gap": null,
            "grid_row": null,
            "grid_template_areas": null,
            "grid_template_columns": null,
            "grid_template_rows": null,
            "height": null,
            "justify_content": null,
            "justify_items": null,
            "left": null,
            "margin": null,
            "max_height": null,
            "max_width": null,
            "min_height": null,
            "min_width": null,
            "object_fit": null,
            "object_position": null,
            "order": null,
            "overflow": null,
            "overflow_x": null,
            "overflow_y": null,
            "padding": null,
            "right": null,
            "top": null,
            "visibility": null,
            "width": null
          }
        },
        "26b04b031e104f6397a8e11f4d1eb888": {
          "model_module": "@jupyter-widgets/base",
          "model_name": "LayoutModel",
          "model_module_version": "1.2.0",
          "state": {
            "_model_module": "@jupyter-widgets/base",
            "_model_module_version": "1.2.0",
            "_model_name": "LayoutModel",
            "_view_count": null,
            "_view_module": "@jupyter-widgets/base",
            "_view_module_version": "1.2.0",
            "_view_name": "LayoutView",
            "align_content": null,
            "align_items": null,
            "align_self": null,
            "border": null,
            "bottom": null,
            "display": null,
            "flex": null,
            "flex_flow": null,
            "grid_area": null,
            "grid_auto_columns": null,
            "grid_auto_flow": null,
            "grid_auto_rows": null,
            "grid_column": null,
            "grid_gap": null,
            "grid_row": null,
            "grid_template_areas": null,
            "grid_template_columns": null,
            "grid_template_rows": null,
            "height": null,
            "justify_content": null,
            "justify_items": null,
            "left": null,
            "margin": null,
            "max_height": null,
            "max_width": null,
            "min_height": null,
            "min_width": null,
            "object_fit": null,
            "object_position": null,
            "order": null,
            "overflow": null,
            "overflow_x": null,
            "overflow_y": null,
            "padding": null,
            "right": null,
            "top": null,
            "visibility": null,
            "width": null
          }
        },
        "e7e051426a224becac67c002d5d4450d": {
          "model_module": "@jupyter-widgets/controls",
          "model_name": "DescriptionStyleModel",
          "model_module_version": "1.5.0",
          "state": {
            "_model_module": "@jupyter-widgets/controls",
            "_model_module_version": "1.5.0",
            "_model_name": "DescriptionStyleModel",
            "_view_count": null,
            "_view_module": "@jupyter-widgets/base",
            "_view_module_version": "1.2.0",
            "_view_name": "StyleView",
            "description_width": ""
          }
        },
        "6e5ae647324849d89df89478a0765d2a": {
          "model_module": "@jupyter-widgets/base",
          "model_name": "LayoutModel",
          "model_module_version": "1.2.0",
          "state": {
            "_model_module": "@jupyter-widgets/base",
            "_model_module_version": "1.2.0",
            "_model_name": "LayoutModel",
            "_view_count": null,
            "_view_module": "@jupyter-widgets/base",
            "_view_module_version": "1.2.0",
            "_view_name": "LayoutView",
            "align_content": null,
            "align_items": null,
            "align_self": null,
            "border": null,
            "bottom": null,
            "display": null,
            "flex": null,
            "flex_flow": null,
            "grid_area": null,
            "grid_auto_columns": null,
            "grid_auto_flow": null,
            "grid_auto_rows": null,
            "grid_column": null,
            "grid_gap": null,
            "grid_row": null,
            "grid_template_areas": null,
            "grid_template_columns": null,
            "grid_template_rows": null,
            "height": null,
            "justify_content": null,
            "justify_items": null,
            "left": null,
            "margin": null,
            "max_height": null,
            "max_width": null,
            "min_height": null,
            "min_width": null,
            "object_fit": null,
            "object_position": null,
            "order": null,
            "overflow": null,
            "overflow_x": null,
            "overflow_y": null,
            "padding": null,
            "right": null,
            "top": null,
            "visibility": null,
            "width": null
          }
        },
        "50b769ff7c724772990d96ce0f75f90c": {
          "model_module": "@jupyter-widgets/controls",
          "model_name": "ProgressStyleModel",
          "model_module_version": "1.5.0",
          "state": {
            "_model_module": "@jupyter-widgets/controls",
            "_model_module_version": "1.5.0",
            "_model_name": "ProgressStyleModel",
            "_view_count": null,
            "_view_module": "@jupyter-widgets/base",
            "_view_module_version": "1.2.0",
            "_view_name": "StyleView",
            "bar_color": null,
            "description_width": ""
          }
        },
        "38dbbe93a3134b8c90323933f7a3b294": {
          "model_module": "@jupyter-widgets/base",
          "model_name": "LayoutModel",
          "model_module_version": "1.2.0",
          "state": {
            "_model_module": "@jupyter-widgets/base",
            "_model_module_version": "1.2.0",
            "_model_name": "LayoutModel",
            "_view_count": null,
            "_view_module": "@jupyter-widgets/base",
            "_view_module_version": "1.2.0",
            "_view_name": "LayoutView",
            "align_content": null,
            "align_items": null,
            "align_self": null,
            "border": null,
            "bottom": null,
            "display": null,
            "flex": null,
            "flex_flow": null,
            "grid_area": null,
            "grid_auto_columns": null,
            "grid_auto_flow": null,
            "grid_auto_rows": null,
            "grid_column": null,
            "grid_gap": null,
            "grid_row": null,
            "grid_template_areas": null,
            "grid_template_columns": null,
            "grid_template_rows": null,
            "height": null,
            "justify_content": null,
            "justify_items": null,
            "left": null,
            "margin": null,
            "max_height": null,
            "max_width": null,
            "min_height": null,
            "min_width": null,
            "object_fit": null,
            "object_position": null,
            "order": null,
            "overflow": null,
            "overflow_x": null,
            "overflow_y": null,
            "padding": null,
            "right": null,
            "top": null,
            "visibility": null,
            "width": null
          }
        },
        "8ed66197a30a48f58a9573fd77afada9": {
          "model_module": "@jupyter-widgets/controls",
          "model_name": "DescriptionStyleModel",
          "model_module_version": "1.5.0",
          "state": {
            "_model_module": "@jupyter-widgets/controls",
            "_model_module_version": "1.5.0",
            "_model_name": "DescriptionStyleModel",
            "_view_count": null,
            "_view_module": "@jupyter-widgets/base",
            "_view_module_version": "1.2.0",
            "_view_name": "StyleView",
            "description_width": ""
          }
        },
        "5e67a419f4da41d2b1c6edee746a596e": {
          "model_module": "@jupyter-widgets/controls",
          "model_name": "HBoxModel",
          "model_module_version": "1.5.0",
          "state": {
            "_dom_classes": [],
            "_model_module": "@jupyter-widgets/controls",
            "_model_module_version": "1.5.0",
            "_model_name": "HBoxModel",
            "_view_count": null,
            "_view_module": "@jupyter-widgets/controls",
            "_view_module_version": "1.5.0",
            "_view_name": "HBoxView",
            "box_style": "",
            "children": [
              "IPY_MODEL_92dea53ecd5d4a42af73ed2725d666e8",
              "IPY_MODEL_7a6daa962c164d07b7f4948375c3f200",
              "IPY_MODEL_e198c6295a744dce8d33b2468d32bd6e"
            ],
            "layout": "IPY_MODEL_76d3a20b82f34061982262335c25dbd4"
          }
        },
        "92dea53ecd5d4a42af73ed2725d666e8": {
          "model_module": "@jupyter-widgets/controls",
          "model_name": "HTMLModel",
          "model_module_version": "1.5.0",
          "state": {
            "_dom_classes": [],
            "_model_module": "@jupyter-widgets/controls",
            "_model_module_version": "1.5.0",
            "_model_name": "HTMLModel",
            "_view_count": null,
            "_view_module": "@jupyter-widgets/controls",
            "_view_module_version": "1.5.0",
            "_view_name": "HTMLView",
            "description": "",
            "description_tooltip": null,
            "layout": "IPY_MODEL_b0f8bf5a647144b29d0bb956772471c7",
            "placeholder": "​",
            "style": "IPY_MODEL_eaadd8a219da49328b7925a9e799d2eb",
            "value": "model.safetensors: 100%"
          }
        },
        "7a6daa962c164d07b7f4948375c3f200": {
          "model_module": "@jupyter-widgets/controls",
          "model_name": "FloatProgressModel",
          "model_module_version": "1.5.0",
          "state": {
            "_dom_classes": [],
            "_model_module": "@jupyter-widgets/controls",
            "_model_module_version": "1.5.0",
            "_model_name": "FloatProgressModel",
            "_view_count": null,
            "_view_module": "@jupyter-widgets/controls",
            "_view_module_version": "1.5.0",
            "_view_name": "ProgressView",
            "bar_style": "success",
            "description": "",
            "description_tooltip": null,
            "layout": "IPY_MODEL_b59f1b725e8749c58fbebb3e0acbaa80",
            "max": 96929792,
            "min": 0,
            "orientation": "horizontal",
            "style": "IPY_MODEL_0c487ef1d2b348ffbea1fd52a911f221",
            "value": 96929792
          }
        },
        "e198c6295a744dce8d33b2468d32bd6e": {
          "model_module": "@jupyter-widgets/controls",
          "model_name": "HTMLModel",
          "model_module_version": "1.5.0",
          "state": {
            "_dom_classes": [],
            "_model_module": "@jupyter-widgets/controls",
            "_model_module_version": "1.5.0",
            "_model_name": "HTMLModel",
            "_view_count": null,
            "_view_module": "@jupyter-widgets/controls",
            "_view_module_version": "1.5.0",
            "_view_name": "HTMLView",
            "description": "",
            "description_tooltip": null,
            "layout": "IPY_MODEL_e1c6eba256554680a025e5efaeedbcac",
            "placeholder": "​",
            "style": "IPY_MODEL_346a29ea85db4e9d9dbcf93c140aaa4c",
            "value": " 96.9M/96.9M [00:00&lt;00:00, 113MB/s]"
          }
        },
        "76d3a20b82f34061982262335c25dbd4": {
          "model_module": "@jupyter-widgets/base",
          "model_name": "LayoutModel",
          "model_module_version": "1.2.0",
          "state": {
            "_model_module": "@jupyter-widgets/base",
            "_model_module_version": "1.2.0",
            "_model_name": "LayoutModel",
            "_view_count": null,
            "_view_module": "@jupyter-widgets/base",
            "_view_module_version": "1.2.0",
            "_view_name": "LayoutView",
            "align_content": null,
            "align_items": null,
            "align_self": null,
            "border": null,
            "bottom": null,
            "display": null,
            "flex": null,
            "flex_flow": null,
            "grid_area": null,
            "grid_auto_columns": null,
            "grid_auto_flow": null,
            "grid_auto_rows": null,
            "grid_column": null,
            "grid_gap": null,
            "grid_row": null,
            "grid_template_areas": null,
            "grid_template_columns": null,
            "grid_template_rows": null,
            "height": null,
            "justify_content": null,
            "justify_items": null,
            "left": null,
            "margin": null,
            "max_height": null,
            "max_width": null,
            "min_height": null,
            "min_width": null,
            "object_fit": null,
            "object_position": null,
            "order": null,
            "overflow": null,
            "overflow_x": null,
            "overflow_y": null,
            "padding": null,
            "right": null,
            "top": null,
            "visibility": null,
            "width": null
          }
        },
        "b0f8bf5a647144b29d0bb956772471c7": {
          "model_module": "@jupyter-widgets/base",
          "model_name": "LayoutModel",
          "model_module_version": "1.2.0",
          "state": {
            "_model_module": "@jupyter-widgets/base",
            "_model_module_version": "1.2.0",
            "_model_name": "LayoutModel",
            "_view_count": null,
            "_view_module": "@jupyter-widgets/base",
            "_view_module_version": "1.2.0",
            "_view_name": "LayoutView",
            "align_content": null,
            "align_items": null,
            "align_self": null,
            "border": null,
            "bottom": null,
            "display": null,
            "flex": null,
            "flex_flow": null,
            "grid_area": null,
            "grid_auto_columns": null,
            "grid_auto_flow": null,
            "grid_auto_rows": null,
            "grid_column": null,
            "grid_gap": null,
            "grid_row": null,
            "grid_template_areas": null,
            "grid_template_columns": null,
            "grid_template_rows": null,
            "height": null,
            "justify_content": null,
            "justify_items": null,
            "left": null,
            "margin": null,
            "max_height": null,
            "max_width": null,
            "min_height": null,
            "min_width": null,
            "object_fit": null,
            "object_position": null,
            "order": null,
            "overflow": null,
            "overflow_x": null,
            "overflow_y": null,
            "padding": null,
            "right": null,
            "top": null,
            "visibility": null,
            "width": null
          }
        },
        "eaadd8a219da49328b7925a9e799d2eb": {
          "model_module": "@jupyter-widgets/controls",
          "model_name": "DescriptionStyleModel",
          "model_module_version": "1.5.0",
          "state": {
            "_model_module": "@jupyter-widgets/controls",
            "_model_module_version": "1.5.0",
            "_model_name": "DescriptionStyleModel",
            "_view_count": null,
            "_view_module": "@jupyter-widgets/base",
            "_view_module_version": "1.2.0",
            "_view_name": "StyleView",
            "description_width": ""
          }
        },
        "b59f1b725e8749c58fbebb3e0acbaa80": {
          "model_module": "@jupyter-widgets/base",
          "model_name": "LayoutModel",
          "model_module_version": "1.2.0",
          "state": {
            "_model_module": "@jupyter-widgets/base",
            "_model_module_version": "1.2.0",
            "_model_name": "LayoutModel",
            "_view_count": null,
            "_view_module": "@jupyter-widgets/base",
            "_view_module_version": "1.2.0",
            "_view_name": "LayoutView",
            "align_content": null,
            "align_items": null,
            "align_self": null,
            "border": null,
            "bottom": null,
            "display": null,
            "flex": null,
            "flex_flow": null,
            "grid_area": null,
            "grid_auto_columns": null,
            "grid_auto_flow": null,
            "grid_auto_rows": null,
            "grid_column": null,
            "grid_gap": null,
            "grid_row": null,
            "grid_template_areas": null,
            "grid_template_columns": null,
            "grid_template_rows": null,
            "height": null,
            "justify_content": null,
            "justify_items": null,
            "left": null,
            "margin": null,
            "max_height": null,
            "max_width": null,
            "min_height": null,
            "min_width": null,
            "object_fit": null,
            "object_position": null,
            "order": null,
            "overflow": null,
            "overflow_x": null,
            "overflow_y": null,
            "padding": null,
            "right": null,
            "top": null,
            "visibility": null,
            "width": null
          }
        },
        "0c487ef1d2b348ffbea1fd52a911f221": {
          "model_module": "@jupyter-widgets/controls",
          "model_name": "ProgressStyleModel",
          "model_module_version": "1.5.0",
          "state": {
            "_model_module": "@jupyter-widgets/controls",
            "_model_module_version": "1.5.0",
            "_model_name": "ProgressStyleModel",
            "_view_count": null,
            "_view_module": "@jupyter-widgets/base",
            "_view_module_version": "1.2.0",
            "_view_name": "StyleView",
            "bar_color": null,
            "description_width": ""
          }
        },
        "e1c6eba256554680a025e5efaeedbcac": {
          "model_module": "@jupyter-widgets/base",
          "model_name": "LayoutModel",
          "model_module_version": "1.2.0",
          "state": {
            "_model_module": "@jupyter-widgets/base",
            "_model_module_version": "1.2.0",
            "_model_name": "LayoutModel",
            "_view_count": null,
            "_view_module": "@jupyter-widgets/base",
            "_view_module_version": "1.2.0",
            "_view_name": "LayoutView",
            "align_content": null,
            "align_items": null,
            "align_self": null,
            "border": null,
            "bottom": null,
            "display": null,
            "flex": null,
            "flex_flow": null,
            "grid_area": null,
            "grid_auto_columns": null,
            "grid_auto_flow": null,
            "grid_auto_rows": null,
            "grid_column": null,
            "grid_gap": null,
            "grid_row": null,
            "grid_template_areas": null,
            "grid_template_columns": null,
            "grid_template_rows": null,
            "height": null,
            "justify_content": null,
            "justify_items": null,
            "left": null,
            "margin": null,
            "max_height": null,
            "max_width": null,
            "min_height": null,
            "min_width": null,
            "object_fit": null,
            "object_position": null,
            "order": null,
            "overflow": null,
            "overflow_x": null,
            "overflow_y": null,
            "padding": null,
            "right": null,
            "top": null,
            "visibility": null,
            "width": null
          }
        },
        "346a29ea85db4e9d9dbcf93c140aaa4c": {
          "model_module": "@jupyter-widgets/controls",
          "model_name": "DescriptionStyleModel",
          "model_module_version": "1.5.0",
          "state": {
            "_model_module": "@jupyter-widgets/controls",
            "_model_module_version": "1.5.0",
            "_model_name": "DescriptionStyleModel",
            "_view_count": null,
            "_view_module": "@jupyter-widgets/base",
            "_view_module_version": "1.2.0",
            "_view_name": "StyleView",
            "description_width": ""
          }
        },
        "90d920d0a9344dd3aae1e4da20317531": {
          "model_module": "@jupyter-widgets/controls",
          "model_name": "HBoxModel",
          "model_module_version": "1.5.0",
          "state": {
            "_dom_classes": [],
            "_model_module": "@jupyter-widgets/controls",
            "_model_module_version": "1.5.0",
            "_model_name": "HBoxModel",
            "_view_count": null,
            "_view_module": "@jupyter-widgets/controls",
            "_view_module_version": "1.5.0",
            "_view_name": "HBoxView",
            "box_style": "",
            "children": [
              "IPY_MODEL_6d15eb40fa7e4d46953066e39490606e",
              "IPY_MODEL_74c664a4e0e24fbca7b175ae1e7317a9",
              "IPY_MODEL_f85df732cd854fdab978a9f4a332a0e4"
            ],
            "layout": "IPY_MODEL_b7be0b131cb74beaa57b93945e3f9bee"
          }
        },
        "6d15eb40fa7e4d46953066e39490606e": {
          "model_module": "@jupyter-widgets/controls",
          "model_name": "HTMLModel",
          "model_module_version": "1.5.0",
          "state": {
            "_dom_classes": [],
            "_model_module": "@jupyter-widgets/controls",
            "_model_module_version": "1.5.0",
            "_model_name": "HTMLModel",
            "_view_count": null,
            "_view_module": "@jupyter-widgets/controls",
            "_view_module_version": "1.5.0",
            "_view_name": "HTMLView",
            "description": "",
            "description_tooltip": null,
            "layout": "IPY_MODEL_4768770528114d2bbadd1573ad6f5a7d",
            "placeholder": "​",
            "style": "IPY_MODEL_53655e821fda45c883ff3b7940eb976c",
            "value": "tokenizer_config.json: 100%"
          }
        },
        "74c664a4e0e24fbca7b175ae1e7317a9": {
          "model_module": "@jupyter-widgets/controls",
          "model_name": "FloatProgressModel",
          "model_module_version": "1.5.0",
          "state": {
            "_dom_classes": [],
            "_model_module": "@jupyter-widgets/controls",
            "_model_module_version": "1.5.0",
            "_model_name": "FloatProgressModel",
            "_view_count": null,
            "_view_module": "@jupyter-widgets/controls",
            "_view_module_version": "1.5.0",
            "_view_name": "ProgressView",
            "bar_style": "success",
            "description": "",
            "description_tooltip": null,
            "layout": "IPY_MODEL_b7372346e2804048a12ce71e2f5b42b0",
            "max": 1381,
            "min": 0,
            "orientation": "horizontal",
            "style": "IPY_MODEL_15497d9ff07d40b7be0d5a354453b8b2",
            "value": 1381
          }
        },
        "f85df732cd854fdab978a9f4a332a0e4": {
          "model_module": "@jupyter-widgets/controls",
          "model_name": "HTMLModel",
          "model_module_version": "1.5.0",
          "state": {
            "_dom_classes": [],
            "_model_module": "@jupyter-widgets/controls",
            "_model_module_version": "1.5.0",
            "_model_name": "HTMLModel",
            "_view_count": null,
            "_view_module": "@jupyter-widgets/controls",
            "_view_module_version": "1.5.0",
            "_view_name": "HTMLView",
            "description": "",
            "description_tooltip": null,
            "layout": "IPY_MODEL_dc61dd2faf324220854bdc5073f476ab",
            "placeholder": "​",
            "style": "IPY_MODEL_baf8c881161d4c249bc2096e30004c39",
            "value": " 1.38k/1.38k [00:00&lt;00:00, 112kB/s]"
          }
        },
        "b7be0b131cb74beaa57b93945e3f9bee": {
          "model_module": "@jupyter-widgets/base",
          "model_name": "LayoutModel",
          "model_module_version": "1.2.0",
          "state": {
            "_model_module": "@jupyter-widgets/base",
            "_model_module_version": "1.2.0",
            "_model_name": "LayoutModel",
            "_view_count": null,
            "_view_module": "@jupyter-widgets/base",
            "_view_module_version": "1.2.0",
            "_view_name": "LayoutView",
            "align_content": null,
            "align_items": null,
            "align_self": null,
            "border": null,
            "bottom": null,
            "display": null,
            "flex": null,
            "flex_flow": null,
            "grid_area": null,
            "grid_auto_columns": null,
            "grid_auto_flow": null,
            "grid_auto_rows": null,
            "grid_column": null,
            "grid_gap": null,
            "grid_row": null,
            "grid_template_areas": null,
            "grid_template_columns": null,
            "grid_template_rows": null,
            "height": null,
            "justify_content": null,
            "justify_items": null,
            "left": null,
            "margin": null,
            "max_height": null,
            "max_width": null,
            "min_height": null,
            "min_width": null,
            "object_fit": null,
            "object_position": null,
            "order": null,
            "overflow": null,
            "overflow_x": null,
            "overflow_y": null,
            "padding": null,
            "right": null,
            "top": null,
            "visibility": null,
            "width": null
          }
        },
        "4768770528114d2bbadd1573ad6f5a7d": {
          "model_module": "@jupyter-widgets/base",
          "model_name": "LayoutModel",
          "model_module_version": "1.2.0",
          "state": {
            "_model_module": "@jupyter-widgets/base",
            "_model_module_version": "1.2.0",
            "_model_name": "LayoutModel",
            "_view_count": null,
            "_view_module": "@jupyter-widgets/base",
            "_view_module_version": "1.2.0",
            "_view_name": "LayoutView",
            "align_content": null,
            "align_items": null,
            "align_self": null,
            "border": null,
            "bottom": null,
            "display": null,
            "flex": null,
            "flex_flow": null,
            "grid_area": null,
            "grid_auto_columns": null,
            "grid_auto_flow": null,
            "grid_auto_rows": null,
            "grid_column": null,
            "grid_gap": null,
            "grid_row": null,
            "grid_template_areas": null,
            "grid_template_columns": null,
            "grid_template_rows": null,
            "height": null,
            "justify_content": null,
            "justify_items": null,
            "left": null,
            "margin": null,
            "max_height": null,
            "max_width": null,
            "min_height": null,
            "min_width": null,
            "object_fit": null,
            "object_position": null,
            "order": null,
            "overflow": null,
            "overflow_x": null,
            "overflow_y": null,
            "padding": null,
            "right": null,
            "top": null,
            "visibility": null,
            "width": null
          }
        },
        "53655e821fda45c883ff3b7940eb976c": {
          "model_module": "@jupyter-widgets/controls",
          "model_name": "DescriptionStyleModel",
          "model_module_version": "1.5.0",
          "state": {
            "_model_module": "@jupyter-widgets/controls",
            "_model_module_version": "1.5.0",
            "_model_name": "DescriptionStyleModel",
            "_view_count": null,
            "_view_module": "@jupyter-widgets/base",
            "_view_module_version": "1.2.0",
            "_view_name": "StyleView",
            "description_width": ""
          }
        },
        "b7372346e2804048a12ce71e2f5b42b0": {
          "model_module": "@jupyter-widgets/base",
          "model_name": "LayoutModel",
          "model_module_version": "1.2.0",
          "state": {
            "_model_module": "@jupyter-widgets/base",
            "_model_module_version": "1.2.0",
            "_model_name": "LayoutModel",
            "_view_count": null,
            "_view_module": "@jupyter-widgets/base",
            "_view_module_version": "1.2.0",
            "_view_name": "LayoutView",
            "align_content": null,
            "align_items": null,
            "align_self": null,
            "border": null,
            "bottom": null,
            "display": null,
            "flex": null,
            "flex_flow": null,
            "grid_area": null,
            "grid_auto_columns": null,
            "grid_auto_flow": null,
            "grid_auto_rows": null,
            "grid_column": null,
            "grid_gap": null,
            "grid_row": null,
            "grid_template_areas": null,
            "grid_template_columns": null,
            "grid_template_rows": null,
            "height": null,
            "justify_content": null,
            "justify_items": null,
            "left": null,
            "margin": null,
            "max_height": null,
            "max_width": null,
            "min_height": null,
            "min_width": null,
            "object_fit": null,
            "object_position": null,
            "order": null,
            "overflow": null,
            "overflow_x": null,
            "overflow_y": null,
            "padding": null,
            "right": null,
            "top": null,
            "visibility": null,
            "width": null
          }
        },
        "15497d9ff07d40b7be0d5a354453b8b2": {
          "model_module": "@jupyter-widgets/controls",
          "model_name": "ProgressStyleModel",
          "model_module_version": "1.5.0",
          "state": {
            "_model_module": "@jupyter-widgets/controls",
            "_model_module_version": "1.5.0",
            "_model_name": "ProgressStyleModel",
            "_view_count": null,
            "_view_module": "@jupyter-widgets/base",
            "_view_module_version": "1.2.0",
            "_view_name": "StyleView",
            "bar_color": null,
            "description_width": ""
          }
        },
        "dc61dd2faf324220854bdc5073f476ab": {
          "model_module": "@jupyter-widgets/base",
          "model_name": "LayoutModel",
          "model_module_version": "1.2.0",
          "state": {
            "_model_module": "@jupyter-widgets/base",
            "_model_module_version": "1.2.0",
            "_model_name": "LayoutModel",
            "_view_count": null,
            "_view_module": "@jupyter-widgets/base",
            "_view_module_version": "1.2.0",
            "_view_name": "LayoutView",
            "align_content": null,
            "align_items": null,
            "align_self": null,
            "border": null,
            "bottom": null,
            "display": null,
            "flex": null,
            "flex_flow": null,
            "grid_area": null,
            "grid_auto_columns": null,
            "grid_auto_flow": null,
            "grid_auto_rows": null,
            "grid_column": null,
            "grid_gap": null,
            "grid_row": null,
            "grid_template_areas": null,
            "grid_template_columns": null,
            "grid_template_rows": null,
            "height": null,
            "justify_content": null,
            "justify_items": null,
            "left": null,
            "margin": null,
            "max_height": null,
            "max_width": null,
            "min_height": null,
            "min_width": null,
            "object_fit": null,
            "object_position": null,
            "order": null,
            "overflow": null,
            "overflow_x": null,
            "overflow_y": null,
            "padding": null,
            "right": null,
            "top": null,
            "visibility": null,
            "width": null
          }
        },
        "baf8c881161d4c249bc2096e30004c39": {
          "model_module": "@jupyter-widgets/controls",
          "model_name": "DescriptionStyleModel",
          "model_module_version": "1.5.0",
          "state": {
            "_model_module": "@jupyter-widgets/controls",
            "_model_module_version": "1.5.0",
            "_model_name": "DescriptionStyleModel",
            "_view_count": null,
            "_view_module": "@jupyter-widgets/base",
            "_view_module_version": "1.2.0",
            "_view_name": "StyleView",
            "description_width": ""
          }
        },
        "6375a231a8cc471795ee0ad6a8cc6881": {
          "model_module": "@jupyter-widgets/controls",
          "model_name": "HBoxModel",
          "model_module_version": "1.5.0",
          "state": {
            "_dom_classes": [],
            "_model_module": "@jupyter-widgets/controls",
            "_model_module_version": "1.5.0",
            "_model_name": "HBoxModel",
            "_view_count": null,
            "_view_module": "@jupyter-widgets/controls",
            "_view_module_version": "1.5.0",
            "_view_name": "HBoxView",
            "box_style": "",
            "children": [
              "IPY_MODEL_393a700bbfe745e4b826914ad5a7069a",
              "IPY_MODEL_135e2ad6088d4e10802621950532991d",
              "IPY_MODEL_93565c2c206549baa36c4e6249cc9440"
            ],
            "layout": "IPY_MODEL_f942584a7eb14423b29f027e771654cb"
          }
        },
        "393a700bbfe745e4b826914ad5a7069a": {
          "model_module": "@jupyter-widgets/controls",
          "model_name": "HTMLModel",
          "model_module_version": "1.5.0",
          "state": {
            "_dom_classes": [],
            "_model_module": "@jupyter-widgets/controls",
            "_model_module_version": "1.5.0",
            "_model_name": "HTMLModel",
            "_view_count": null,
            "_view_module": "@jupyter-widgets/controls",
            "_view_module_version": "1.5.0",
            "_view_name": "HTMLView",
            "description": "",
            "description_tooltip": null,
            "layout": "IPY_MODEL_7ebe1b989d564d5bba3c48dcc325c128",
            "placeholder": "​",
            "style": "IPY_MODEL_2268b69e2601469e91d458b328fbf3ac",
            "value": "vocab.txt: 100%"
          }
        },
        "135e2ad6088d4e10802621950532991d": {
          "model_module": "@jupyter-widgets/controls",
          "model_name": "FloatProgressModel",
          "model_module_version": "1.5.0",
          "state": {
            "_dom_classes": [],
            "_model_module": "@jupyter-widgets/controls",
            "_model_module_version": "1.5.0",
            "_model_name": "FloatProgressModel",
            "_view_count": null,
            "_view_module": "@jupyter-widgets/controls",
            "_view_module_version": "1.5.0",
            "_view_name": "ProgressView",
            "bar_style": "success",
            "description": "",
            "description_tooltip": null,
            "layout": "IPY_MODEL_f05ed66366d341668b709f334dbd9b3d",
            "max": 231508,
            "min": 0,
            "orientation": "horizontal",
            "style": "IPY_MODEL_eb1b373d66c445499ded5d019165b703",
            "value": 231508
          }
        },
        "93565c2c206549baa36c4e6249cc9440": {
          "model_module": "@jupyter-widgets/controls",
          "model_name": "HTMLModel",
          "model_module_version": "1.5.0",
          "state": {
            "_dom_classes": [],
            "_model_module": "@jupyter-widgets/controls",
            "_model_module_version": "1.5.0",
            "_model_name": "HTMLModel",
            "_view_count": null,
            "_view_module": "@jupyter-widgets/controls",
            "_view_module_version": "1.5.0",
            "_view_name": "HTMLView",
            "description": "",
            "description_tooltip": null,
            "layout": "IPY_MODEL_fbb5f870378a4402ba09cd217d1bd379",
            "placeholder": "​",
            "style": "IPY_MODEL_dfcfa9ac5e5d469097df7fe00165b848",
            "value": " 232k/232k [00:00&lt;00:00, 3.96MB/s]"
          }
        },
        "f942584a7eb14423b29f027e771654cb": {
          "model_module": "@jupyter-widgets/base",
          "model_name": "LayoutModel",
          "model_module_version": "1.2.0",
          "state": {
            "_model_module": "@jupyter-widgets/base",
            "_model_module_version": "1.2.0",
            "_model_name": "LayoutModel",
            "_view_count": null,
            "_view_module": "@jupyter-widgets/base",
            "_view_module_version": "1.2.0",
            "_view_name": "LayoutView",
            "align_content": null,
            "align_items": null,
            "align_self": null,
            "border": null,
            "bottom": null,
            "display": null,
            "flex": null,
            "flex_flow": null,
            "grid_area": null,
            "grid_auto_columns": null,
            "grid_auto_flow": null,
            "grid_auto_rows": null,
            "grid_column": null,
            "grid_gap": null,
            "grid_row": null,
            "grid_template_areas": null,
            "grid_template_columns": null,
            "grid_template_rows": null,
            "height": null,
            "justify_content": null,
            "justify_items": null,
            "left": null,
            "margin": null,
            "max_height": null,
            "max_width": null,
            "min_height": null,
            "min_width": null,
            "object_fit": null,
            "object_position": null,
            "order": null,
            "overflow": null,
            "overflow_x": null,
            "overflow_y": null,
            "padding": null,
            "right": null,
            "top": null,
            "visibility": null,
            "width": null
          }
        },
        "7ebe1b989d564d5bba3c48dcc325c128": {
          "model_module": "@jupyter-widgets/base",
          "model_name": "LayoutModel",
          "model_module_version": "1.2.0",
          "state": {
            "_model_module": "@jupyter-widgets/base",
            "_model_module_version": "1.2.0",
            "_model_name": "LayoutModel",
            "_view_count": null,
            "_view_module": "@jupyter-widgets/base",
            "_view_module_version": "1.2.0",
            "_view_name": "LayoutView",
            "align_content": null,
            "align_items": null,
            "align_self": null,
            "border": null,
            "bottom": null,
            "display": null,
            "flex": null,
            "flex_flow": null,
            "grid_area": null,
            "grid_auto_columns": null,
            "grid_auto_flow": null,
            "grid_auto_rows": null,
            "grid_column": null,
            "grid_gap": null,
            "grid_row": null,
            "grid_template_areas": null,
            "grid_template_columns": null,
            "grid_template_rows": null,
            "height": null,
            "justify_content": null,
            "justify_items": null,
            "left": null,
            "margin": null,
            "max_height": null,
            "max_width": null,
            "min_height": null,
            "min_width": null,
            "object_fit": null,
            "object_position": null,
            "order": null,
            "overflow": null,
            "overflow_x": null,
            "overflow_y": null,
            "padding": null,
            "right": null,
            "top": null,
            "visibility": null,
            "width": null
          }
        },
        "2268b69e2601469e91d458b328fbf3ac": {
          "model_module": "@jupyter-widgets/controls",
          "model_name": "DescriptionStyleModel",
          "model_module_version": "1.5.0",
          "state": {
            "_model_module": "@jupyter-widgets/controls",
            "_model_module_version": "1.5.0",
            "_model_name": "DescriptionStyleModel",
            "_view_count": null,
            "_view_module": "@jupyter-widgets/base",
            "_view_module_version": "1.2.0",
            "_view_name": "StyleView",
            "description_width": ""
          }
        },
        "f05ed66366d341668b709f334dbd9b3d": {
          "model_module": "@jupyter-widgets/base",
          "model_name": "LayoutModel",
          "model_module_version": "1.2.0",
          "state": {
            "_model_module": "@jupyter-widgets/base",
            "_model_module_version": "1.2.0",
            "_model_name": "LayoutModel",
            "_view_count": null,
            "_view_module": "@jupyter-widgets/base",
            "_view_module_version": "1.2.0",
            "_view_name": "LayoutView",
            "align_content": null,
            "align_items": null,
            "align_self": null,
            "border": null,
            "bottom": null,
            "display": null,
            "flex": null,
            "flex_flow": null,
            "grid_area": null,
            "grid_auto_columns": null,
            "grid_auto_flow": null,
            "grid_auto_rows": null,
            "grid_column": null,
            "grid_gap": null,
            "grid_row": null,
            "grid_template_areas": null,
            "grid_template_columns": null,
            "grid_template_rows": null,
            "height": null,
            "justify_content": null,
            "justify_items": null,
            "left": null,
            "margin": null,
            "max_height": null,
            "max_width": null,
            "min_height": null,
            "min_width": null,
            "object_fit": null,
            "object_position": null,
            "order": null,
            "overflow": null,
            "overflow_x": null,
            "overflow_y": null,
            "padding": null,
            "right": null,
            "top": null,
            "visibility": null,
            "width": null
          }
        },
        "eb1b373d66c445499ded5d019165b703": {
          "model_module": "@jupyter-widgets/controls",
          "model_name": "ProgressStyleModel",
          "model_module_version": "1.5.0",
          "state": {
            "_model_module": "@jupyter-widgets/controls",
            "_model_module_version": "1.5.0",
            "_model_name": "ProgressStyleModel",
            "_view_count": null,
            "_view_module": "@jupyter-widgets/base",
            "_view_module_version": "1.2.0",
            "_view_name": "StyleView",
            "bar_color": null,
            "description_width": ""
          }
        },
        "fbb5f870378a4402ba09cd217d1bd379": {
          "model_module": "@jupyter-widgets/base",
          "model_name": "LayoutModel",
          "model_module_version": "1.2.0",
          "state": {
            "_model_module": "@jupyter-widgets/base",
            "_model_module_version": "1.2.0",
            "_model_name": "LayoutModel",
            "_view_count": null,
            "_view_module": "@jupyter-widgets/base",
            "_view_module_version": "1.2.0",
            "_view_name": "LayoutView",
            "align_content": null,
            "align_items": null,
            "align_self": null,
            "border": null,
            "bottom": null,
            "display": null,
            "flex": null,
            "flex_flow": null,
            "grid_area": null,
            "grid_auto_columns": null,
            "grid_auto_flow": null,
            "grid_auto_rows": null,
            "grid_column": null,
            "grid_gap": null,
            "grid_row": null,
            "grid_template_areas": null,
            "grid_template_columns": null,
            "grid_template_rows": null,
            "height": null,
            "justify_content": null,
            "justify_items": null,
            "left": null,
            "margin": null,
            "max_height": null,
            "max_width": null,
            "min_height": null,
            "min_width": null,
            "object_fit": null,
            "object_position": null,
            "order": null,
            "overflow": null,
            "overflow_x": null,
            "overflow_y": null,
            "padding": null,
            "right": null,
            "top": null,
            "visibility": null,
            "width": null
          }
        },
        "dfcfa9ac5e5d469097df7fe00165b848": {
          "model_module": "@jupyter-widgets/controls",
          "model_name": "DescriptionStyleModel",
          "model_module_version": "1.5.0",
          "state": {
            "_model_module": "@jupyter-widgets/controls",
            "_model_module_version": "1.5.0",
            "_model_name": "DescriptionStyleModel",
            "_view_count": null,
            "_view_module": "@jupyter-widgets/base",
            "_view_module_version": "1.2.0",
            "_view_name": "StyleView",
            "description_width": ""
          }
        },
        "a29e9ec17c864ec295d562716499686e": {
          "model_module": "@jupyter-widgets/controls",
          "model_name": "HBoxModel",
          "model_module_version": "1.5.0",
          "state": {
            "_dom_classes": [],
            "_model_module": "@jupyter-widgets/controls",
            "_model_module_version": "1.5.0",
            "_model_name": "HBoxModel",
            "_view_count": null,
            "_view_module": "@jupyter-widgets/controls",
            "_view_module_version": "1.5.0",
            "_view_name": "HBoxView",
            "box_style": "",
            "children": [
              "IPY_MODEL_5ce72a95a77d48b39bb73bd2719c7772",
              "IPY_MODEL_93da2197a9934cc69bd8b964b4361258",
              "IPY_MODEL_ede9befae6f44536904cc3a8c6d45f9f"
            ],
            "layout": "IPY_MODEL_1cbb0bc6c3c34d458def38194a6634fc"
          }
        },
        "5ce72a95a77d48b39bb73bd2719c7772": {
          "model_module": "@jupyter-widgets/controls",
          "model_name": "HTMLModel",
          "model_module_version": "1.5.0",
          "state": {
            "_dom_classes": [],
            "_model_module": "@jupyter-widgets/controls",
            "_model_module_version": "1.5.0",
            "_model_name": "HTMLModel",
            "_view_count": null,
            "_view_module": "@jupyter-widgets/controls",
            "_view_module_version": "1.5.0",
            "_view_name": "HTMLView",
            "description": "",
            "description_tooltip": null,
            "layout": "IPY_MODEL_2fad5a16bff943948afb585625fd2eaa",
            "placeholder": "​",
            "style": "IPY_MODEL_78d0aabc3525441fac12d438e0ab4ed8",
            "value": "tokenizer.json: 100%"
          }
        },
        "93da2197a9934cc69bd8b964b4361258": {
          "model_module": "@jupyter-widgets/controls",
          "model_name": "FloatProgressModel",
          "model_module_version": "1.5.0",
          "state": {
            "_dom_classes": [],
            "_model_module": "@jupyter-widgets/controls",
            "_model_module_version": "1.5.0",
            "_model_name": "FloatProgressModel",
            "_view_count": null,
            "_view_module": "@jupyter-widgets/controls",
            "_view_module_version": "1.5.0",
            "_view_name": "ProgressView",
            "bar_style": "success",
            "description": "",
            "description_tooltip": null,
            "layout": "IPY_MODEL_ce7f888063114041adc0d3e6b672b0db",
            "max": 711661,
            "min": 0,
            "orientation": "horizontal",
            "style": "IPY_MODEL_3d2b1e80e2264134b2174aaff28885df",
            "value": 711661
          }
        },
        "ede9befae6f44536904cc3a8c6d45f9f": {
          "model_module": "@jupyter-widgets/controls",
          "model_name": "HTMLModel",
          "model_module_version": "1.5.0",
          "state": {
            "_dom_classes": [],
            "_model_module": "@jupyter-widgets/controls",
            "_model_module_version": "1.5.0",
            "_model_name": "HTMLModel",
            "_view_count": null,
            "_view_module": "@jupyter-widgets/controls",
            "_view_module_version": "1.5.0",
            "_view_name": "HTMLView",
            "description": "",
            "description_tooltip": null,
            "layout": "IPY_MODEL_b65856b99d764a7dbdca56d4d9ccbc8a",
            "placeholder": "​",
            "style": "IPY_MODEL_c9b7b83f8109444abe2a33cb13492216",
            "value": " 712k/712k [00:00&lt;00:00, 17.4MB/s]"
          }
        },
        "1cbb0bc6c3c34d458def38194a6634fc": {
          "model_module": "@jupyter-widgets/base",
          "model_name": "LayoutModel",
          "model_module_version": "1.2.0",
          "state": {
            "_model_module": "@jupyter-widgets/base",
            "_model_module_version": "1.2.0",
            "_model_name": "LayoutModel",
            "_view_count": null,
            "_view_module": "@jupyter-widgets/base",
            "_view_module_version": "1.2.0",
            "_view_name": "LayoutView",
            "align_content": null,
            "align_items": null,
            "align_self": null,
            "border": null,
            "bottom": null,
            "display": null,
            "flex": null,
            "flex_flow": null,
            "grid_area": null,
            "grid_auto_columns": null,
            "grid_auto_flow": null,
            "grid_auto_rows": null,
            "grid_column": null,
            "grid_gap": null,
            "grid_row": null,
            "grid_template_areas": null,
            "grid_template_columns": null,
            "grid_template_rows": null,
            "height": null,
            "justify_content": null,
            "justify_items": null,
            "left": null,
            "margin": null,
            "max_height": null,
            "max_width": null,
            "min_height": null,
            "min_width": null,
            "object_fit": null,
            "object_position": null,
            "order": null,
            "overflow": null,
            "overflow_x": null,
            "overflow_y": null,
            "padding": null,
            "right": null,
            "top": null,
            "visibility": null,
            "width": null
          }
        },
        "2fad5a16bff943948afb585625fd2eaa": {
          "model_module": "@jupyter-widgets/base",
          "model_name": "LayoutModel",
          "model_module_version": "1.2.0",
          "state": {
            "_model_module": "@jupyter-widgets/base",
            "_model_module_version": "1.2.0",
            "_model_name": "LayoutModel",
            "_view_count": null,
            "_view_module": "@jupyter-widgets/base",
            "_view_module_version": "1.2.0",
            "_view_name": "LayoutView",
            "align_content": null,
            "align_items": null,
            "align_self": null,
            "border": null,
            "bottom": null,
            "display": null,
            "flex": null,
            "flex_flow": null,
            "grid_area": null,
            "grid_auto_columns": null,
            "grid_auto_flow": null,
            "grid_auto_rows": null,
            "grid_column": null,
            "grid_gap": null,
            "grid_row": null,
            "grid_template_areas": null,
            "grid_template_columns": null,
            "grid_template_rows": null,
            "height": null,
            "justify_content": null,
            "justify_items": null,
            "left": null,
            "margin": null,
            "max_height": null,
            "max_width": null,
            "min_height": null,
            "min_width": null,
            "object_fit": null,
            "object_position": null,
            "order": null,
            "overflow": null,
            "overflow_x": null,
            "overflow_y": null,
            "padding": null,
            "right": null,
            "top": null,
            "visibility": null,
            "width": null
          }
        },
        "78d0aabc3525441fac12d438e0ab4ed8": {
          "model_module": "@jupyter-widgets/controls",
          "model_name": "DescriptionStyleModel",
          "model_module_version": "1.5.0",
          "state": {
            "_model_module": "@jupyter-widgets/controls",
            "_model_module_version": "1.5.0",
            "_model_name": "DescriptionStyleModel",
            "_view_count": null,
            "_view_module": "@jupyter-widgets/base",
            "_view_module_version": "1.2.0",
            "_view_name": "StyleView",
            "description_width": ""
          }
        },
        "ce7f888063114041adc0d3e6b672b0db": {
          "model_module": "@jupyter-widgets/base",
          "model_name": "LayoutModel",
          "model_module_version": "1.2.0",
          "state": {
            "_model_module": "@jupyter-widgets/base",
            "_model_module_version": "1.2.0",
            "_model_name": "LayoutModel",
            "_view_count": null,
            "_view_module": "@jupyter-widgets/base",
            "_view_module_version": "1.2.0",
            "_view_name": "LayoutView",
            "align_content": null,
            "align_items": null,
            "align_self": null,
            "border": null,
            "bottom": null,
            "display": null,
            "flex": null,
            "flex_flow": null,
            "grid_area": null,
            "grid_auto_columns": null,
            "grid_auto_flow": null,
            "grid_auto_rows": null,
            "grid_column": null,
            "grid_gap": null,
            "grid_row": null,
            "grid_template_areas": null,
            "grid_template_columns": null,
            "grid_template_rows": null,
            "height": null,
            "justify_content": null,
            "justify_items": null,
            "left": null,
            "margin": null,
            "max_height": null,
            "max_width": null,
            "min_height": null,
            "min_width": null,
            "object_fit": null,
            "object_position": null,
            "order": null,
            "overflow": null,
            "overflow_x": null,
            "overflow_y": null,
            "padding": null,
            "right": null,
            "top": null,
            "visibility": null,
            "width": null
          }
        },
        "3d2b1e80e2264134b2174aaff28885df": {
          "model_module": "@jupyter-widgets/controls",
          "model_name": "ProgressStyleModel",
          "model_module_version": "1.5.0",
          "state": {
            "_model_module": "@jupyter-widgets/controls",
            "_model_module_version": "1.5.0",
            "_model_name": "ProgressStyleModel",
            "_view_count": null,
            "_view_module": "@jupyter-widgets/base",
            "_view_module_version": "1.2.0",
            "_view_name": "StyleView",
            "bar_color": null,
            "description_width": ""
          }
        },
        "b65856b99d764a7dbdca56d4d9ccbc8a": {
          "model_module": "@jupyter-widgets/base",
          "model_name": "LayoutModel",
          "model_module_version": "1.2.0",
          "state": {
            "_model_module": "@jupyter-widgets/base",
            "_model_module_version": "1.2.0",
            "_model_name": "LayoutModel",
            "_view_count": null,
            "_view_module": "@jupyter-widgets/base",
            "_view_module_version": "1.2.0",
            "_view_name": "LayoutView",
            "align_content": null,
            "align_items": null,
            "align_self": null,
            "border": null,
            "bottom": null,
            "display": null,
            "flex": null,
            "flex_flow": null,
            "grid_area": null,
            "grid_auto_columns": null,
            "grid_auto_flow": null,
            "grid_auto_rows": null,
            "grid_column": null,
            "grid_gap": null,
            "grid_row": null,
            "grid_template_areas": null,
            "grid_template_columns": null,
            "grid_template_rows": null,
            "height": null,
            "justify_content": null,
            "justify_items": null,
            "left": null,
            "margin": null,
            "max_height": null,
            "max_width": null,
            "min_height": null,
            "min_width": null,
            "object_fit": null,
            "object_position": null,
            "order": null,
            "overflow": null,
            "overflow_x": null,
            "overflow_y": null,
            "padding": null,
            "right": null,
            "top": null,
            "visibility": null,
            "width": null
          }
        },
        "c9b7b83f8109444abe2a33cb13492216": {
          "model_module": "@jupyter-widgets/controls",
          "model_name": "DescriptionStyleModel",
          "model_module_version": "1.5.0",
          "state": {
            "_model_module": "@jupyter-widgets/controls",
            "_model_module_version": "1.5.0",
            "_model_name": "DescriptionStyleModel",
            "_view_count": null,
            "_view_module": "@jupyter-widgets/base",
            "_view_module_version": "1.2.0",
            "_view_name": "StyleView",
            "description_width": ""
          }
        },
        "d975c86fa13749fab8ce937ba9cf9588": {
          "model_module": "@jupyter-widgets/controls",
          "model_name": "HBoxModel",
          "model_module_version": "1.5.0",
          "state": {
            "_dom_classes": [],
            "_model_module": "@jupyter-widgets/controls",
            "_model_module_version": "1.5.0",
            "_model_name": "HBoxModel",
            "_view_count": null,
            "_view_module": "@jupyter-widgets/controls",
            "_view_module_version": "1.5.0",
            "_view_name": "HBoxView",
            "box_style": "",
            "children": [
              "IPY_MODEL_e33bda1f3c0b4118b185f21b726b9eb6",
              "IPY_MODEL_41d25f01429f46f992fa465acf294325",
              "IPY_MODEL_3b36079ac00d4be084049175a71b73c8"
            ],
            "layout": "IPY_MODEL_7649df0d2bdf42c7800b51783c47e820"
          }
        },
        "e33bda1f3c0b4118b185f21b726b9eb6": {
          "model_module": "@jupyter-widgets/controls",
          "model_name": "HTMLModel",
          "model_module_version": "1.5.0",
          "state": {
            "_dom_classes": [],
            "_model_module": "@jupyter-widgets/controls",
            "_model_module_version": "1.5.0",
            "_model_name": "HTMLModel",
            "_view_count": null,
            "_view_module": "@jupyter-widgets/controls",
            "_view_module_version": "1.5.0",
            "_view_name": "HTMLView",
            "description": "",
            "description_tooltip": null,
            "layout": "IPY_MODEL_3416bf2ceb6d47faa8a3638cd2e4ec7c",
            "placeholder": "​",
            "style": "IPY_MODEL_58b56485b30a46b6857a6cca8d54bcaf",
            "value": "special_tokens_map.json: 100%"
          }
        },
        "41d25f01429f46f992fa465acf294325": {
          "model_module": "@jupyter-widgets/controls",
          "model_name": "FloatProgressModel",
          "model_module_version": "1.5.0",
          "state": {
            "_dom_classes": [],
            "_model_module": "@jupyter-widgets/controls",
            "_model_module_version": "1.5.0",
            "_model_name": "FloatProgressModel",
            "_view_count": null,
            "_view_module": "@jupyter-widgets/controls",
            "_view_module_version": "1.5.0",
            "_view_name": "ProgressView",
            "bar_style": "success",
            "description": "",
            "description_tooltip": null,
            "layout": "IPY_MODEL_b34bbd1c163d406a88a1ab1341f1b555",
            "max": 695,
            "min": 0,
            "orientation": "horizontal",
            "style": "IPY_MODEL_ddc72d162d3e453bb7b1deb882fed812",
            "value": 695
          }
        },
        "3b36079ac00d4be084049175a71b73c8": {
          "model_module": "@jupyter-widgets/controls",
          "model_name": "HTMLModel",
          "model_module_version": "1.5.0",
          "state": {
            "_dom_classes": [],
            "_model_module": "@jupyter-widgets/controls",
            "_model_module_version": "1.5.0",
            "_model_name": "HTMLModel",
            "_view_count": null,
            "_view_module": "@jupyter-widgets/controls",
            "_view_module_version": "1.5.0",
            "_view_name": "HTMLView",
            "description": "",
            "description_tooltip": null,
            "layout": "IPY_MODEL_12ce601aafc042878a44574565392c93",
            "placeholder": "​",
            "style": "IPY_MODEL_5c918bb27c18484fa812edf6d7866324",
            "value": " 695/695 [00:00&lt;00:00, 55.4kB/s]"
          }
        },
        "7649df0d2bdf42c7800b51783c47e820": {
          "model_module": "@jupyter-widgets/base",
          "model_name": "LayoutModel",
          "model_module_version": "1.2.0",
          "state": {
            "_model_module": "@jupyter-widgets/base",
            "_model_module_version": "1.2.0",
            "_model_name": "LayoutModel",
            "_view_count": null,
            "_view_module": "@jupyter-widgets/base",
            "_view_module_version": "1.2.0",
            "_view_name": "LayoutView",
            "align_content": null,
            "align_items": null,
            "align_self": null,
            "border": null,
            "bottom": null,
            "display": null,
            "flex": null,
            "flex_flow": null,
            "grid_area": null,
            "grid_auto_columns": null,
            "grid_auto_flow": null,
            "grid_auto_rows": null,
            "grid_column": null,
            "grid_gap": null,
            "grid_row": null,
            "grid_template_areas": null,
            "grid_template_columns": null,
            "grid_template_rows": null,
            "height": null,
            "justify_content": null,
            "justify_items": null,
            "left": null,
            "margin": null,
            "max_height": null,
            "max_width": null,
            "min_height": null,
            "min_width": null,
            "object_fit": null,
            "object_position": null,
            "order": null,
            "overflow": null,
            "overflow_x": null,
            "overflow_y": null,
            "padding": null,
            "right": null,
            "top": null,
            "visibility": null,
            "width": null
          }
        },
        "3416bf2ceb6d47faa8a3638cd2e4ec7c": {
          "model_module": "@jupyter-widgets/base",
          "model_name": "LayoutModel",
          "model_module_version": "1.2.0",
          "state": {
            "_model_module": "@jupyter-widgets/base",
            "_model_module_version": "1.2.0",
            "_model_name": "LayoutModel",
            "_view_count": null,
            "_view_module": "@jupyter-widgets/base",
            "_view_module_version": "1.2.0",
            "_view_name": "LayoutView",
            "align_content": null,
            "align_items": null,
            "align_self": null,
            "border": null,
            "bottom": null,
            "display": null,
            "flex": null,
            "flex_flow": null,
            "grid_area": null,
            "grid_auto_columns": null,
            "grid_auto_flow": null,
            "grid_auto_rows": null,
            "grid_column": null,
            "grid_gap": null,
            "grid_row": null,
            "grid_template_areas": null,
            "grid_template_columns": null,
            "grid_template_rows": null,
            "height": null,
            "justify_content": null,
            "justify_items": null,
            "left": null,
            "margin": null,
            "max_height": null,
            "max_width": null,
            "min_height": null,
            "min_width": null,
            "object_fit": null,
            "object_position": null,
            "order": null,
            "overflow": null,
            "overflow_x": null,
            "overflow_y": null,
            "padding": null,
            "right": null,
            "top": null,
            "visibility": null,
            "width": null
          }
        },
        "58b56485b30a46b6857a6cca8d54bcaf": {
          "model_module": "@jupyter-widgets/controls",
          "model_name": "DescriptionStyleModel",
          "model_module_version": "1.5.0",
          "state": {
            "_model_module": "@jupyter-widgets/controls",
            "_model_module_version": "1.5.0",
            "_model_name": "DescriptionStyleModel",
            "_view_count": null,
            "_view_module": "@jupyter-widgets/base",
            "_view_module_version": "1.2.0",
            "_view_name": "StyleView",
            "description_width": ""
          }
        },
        "b34bbd1c163d406a88a1ab1341f1b555": {
          "model_module": "@jupyter-widgets/base",
          "model_name": "LayoutModel",
          "model_module_version": "1.2.0",
          "state": {
            "_model_module": "@jupyter-widgets/base",
            "_model_module_version": "1.2.0",
            "_model_name": "LayoutModel",
            "_view_count": null,
            "_view_module": "@jupyter-widgets/base",
            "_view_module_version": "1.2.0",
            "_view_name": "LayoutView",
            "align_content": null,
            "align_items": null,
            "align_self": null,
            "border": null,
            "bottom": null,
            "display": null,
            "flex": null,
            "flex_flow": null,
            "grid_area": null,
            "grid_auto_columns": null,
            "grid_auto_flow": null,
            "grid_auto_rows": null,
            "grid_column": null,
            "grid_gap": null,
            "grid_row": null,
            "grid_template_areas": null,
            "grid_template_columns": null,
            "grid_template_rows": null,
            "height": null,
            "justify_content": null,
            "justify_items": null,
            "left": null,
            "margin": null,
            "max_height": null,
            "max_width": null,
            "min_height": null,
            "min_width": null,
            "object_fit": null,
            "object_position": null,
            "order": null,
            "overflow": null,
            "overflow_x": null,
            "overflow_y": null,
            "padding": null,
            "right": null,
            "top": null,
            "visibility": null,
            "width": null
          }
        },
        "ddc72d162d3e453bb7b1deb882fed812": {
          "model_module": "@jupyter-widgets/controls",
          "model_name": "ProgressStyleModel",
          "model_module_version": "1.5.0",
          "state": {
            "_model_module": "@jupyter-widgets/controls",
            "_model_module_version": "1.5.0",
            "_model_name": "ProgressStyleModel",
            "_view_count": null,
            "_view_module": "@jupyter-widgets/base",
            "_view_module_version": "1.2.0",
            "_view_name": "StyleView",
            "bar_color": null,
            "description_width": ""
          }
        },
        "12ce601aafc042878a44574565392c93": {
          "model_module": "@jupyter-widgets/base",
          "model_name": "LayoutModel",
          "model_module_version": "1.2.0",
          "state": {
            "_model_module": "@jupyter-widgets/base",
            "_model_module_version": "1.2.0",
            "_model_name": "LayoutModel",
            "_view_count": null,
            "_view_module": "@jupyter-widgets/base",
            "_view_module_version": "1.2.0",
            "_view_name": "LayoutView",
            "align_content": null,
            "align_items": null,
            "align_self": null,
            "border": null,
            "bottom": null,
            "display": null,
            "flex": null,
            "flex_flow": null,
            "grid_area": null,
            "grid_auto_columns": null,
            "grid_auto_flow": null,
            "grid_auto_rows": null,
            "grid_column": null,
            "grid_gap": null,
            "grid_row": null,
            "grid_template_areas": null,
            "grid_template_columns": null,
            "grid_template_rows": null,
            "height": null,
            "justify_content": null,
            "justify_items": null,
            "left": null,
            "margin": null,
            "max_height": null,
            "max_width": null,
            "min_height": null,
            "min_width": null,
            "object_fit": null,
            "object_position": null,
            "order": null,
            "overflow": null,
            "overflow_x": null,
            "overflow_y": null,
            "padding": null,
            "right": null,
            "top": null,
            "visibility": null,
            "width": null
          }
        },
        "5c918bb27c18484fa812edf6d7866324": {
          "model_module": "@jupyter-widgets/controls",
          "model_name": "DescriptionStyleModel",
          "model_module_version": "1.5.0",
          "state": {
            "_model_module": "@jupyter-widgets/controls",
            "_model_module_version": "1.5.0",
            "_model_name": "DescriptionStyleModel",
            "_view_count": null,
            "_view_module": "@jupyter-widgets/base",
            "_view_module_version": "1.2.0",
            "_view_name": "StyleView",
            "description_width": ""
          }
        },
        "c56d50329de14678bcd61d4abc3dca81": {
          "model_module": "@jupyter-widgets/controls",
          "model_name": "HBoxModel",
          "model_module_version": "1.5.0",
          "state": {
            "_dom_classes": [],
            "_model_module": "@jupyter-widgets/controls",
            "_model_module_version": "1.5.0",
            "_model_name": "HBoxModel",
            "_view_count": null,
            "_view_module": "@jupyter-widgets/controls",
            "_view_module_version": "1.5.0",
            "_view_name": "HBoxView",
            "box_style": "",
            "children": [
              "IPY_MODEL_67ea9cfff8be4599abe45189cf119bae",
              "IPY_MODEL_76dc1c6f782c4e0d9c8981a26e7ead6e",
              "IPY_MODEL_f5564fdf796b4b4493ec54b8303c1a49"
            ],
            "layout": "IPY_MODEL_de4aa8de14b44a46bdc1bd785bb640f7"
          }
        },
        "67ea9cfff8be4599abe45189cf119bae": {
          "model_module": "@jupyter-widgets/controls",
          "model_name": "HTMLModel",
          "model_module_version": "1.5.0",
          "state": {
            "_dom_classes": [],
            "_model_module": "@jupyter-widgets/controls",
            "_model_module_version": "1.5.0",
            "_model_name": "HTMLModel",
            "_view_count": null,
            "_view_module": "@jupyter-widgets/controls",
            "_view_module_version": "1.5.0",
            "_view_name": "HTMLView",
            "description": "",
            "description_tooltip": null,
            "layout": "IPY_MODEL_21ab341b87ea4f4f9bf8e9ff0649989b",
            "placeholder": "​",
            "style": "IPY_MODEL_51bbcb333fb94395ab06415066be8d7e",
            "value": "Loading checkpoint shards: 100%"
          }
        },
        "76dc1c6f782c4e0d9c8981a26e7ead6e": {
          "model_module": "@jupyter-widgets/controls",
          "model_name": "FloatProgressModel",
          "model_module_version": "1.5.0",
          "state": {
            "_dom_classes": [],
            "_model_module": "@jupyter-widgets/controls",
            "_model_module_version": "1.5.0",
            "_model_name": "FloatProgressModel",
            "_view_count": null,
            "_view_module": "@jupyter-widgets/controls",
            "_view_module_version": "1.5.0",
            "_view_name": "ProgressView",
            "bar_style": "success",
            "description": "",
            "description_tooltip": null,
            "layout": "IPY_MODEL_070b2a0e37634078a953258574fe609c",
            "max": 4,
            "min": 0,
            "orientation": "horizontal",
            "style": "IPY_MODEL_898606f3b8f94960a02563e3fb937ca0",
            "value": 4
          }
        },
        "f5564fdf796b4b4493ec54b8303c1a49": {
          "model_module": "@jupyter-widgets/controls",
          "model_name": "HTMLModel",
          "model_module_version": "1.5.0",
          "state": {
            "_dom_classes": [],
            "_model_module": "@jupyter-widgets/controls",
            "_model_module_version": "1.5.0",
            "_model_name": "HTMLModel",
            "_view_count": null,
            "_view_module": "@jupyter-widgets/controls",
            "_view_module_version": "1.5.0",
            "_view_name": "HTMLView",
            "description": "",
            "description_tooltip": null,
            "layout": "IPY_MODEL_a2faeb9fd3b64826b22a71ae044ddca4",
            "placeholder": "​",
            "style": "IPY_MODEL_cddfb55d268c423caa9deabf949cef70",
            "value": " 4/4 [00:10&lt;00:00,  2.24s/it]"
          }
        },
        "de4aa8de14b44a46bdc1bd785bb640f7": {
          "model_module": "@jupyter-widgets/base",
          "model_name": "LayoutModel",
          "model_module_version": "1.2.0",
          "state": {
            "_model_module": "@jupyter-widgets/base",
            "_model_module_version": "1.2.0",
            "_model_name": "LayoutModel",
            "_view_count": null,
            "_view_module": "@jupyter-widgets/base",
            "_view_module_version": "1.2.0",
            "_view_name": "LayoutView",
            "align_content": null,
            "align_items": null,
            "align_self": null,
            "border": null,
            "bottom": null,
            "display": null,
            "flex": null,
            "flex_flow": null,
            "grid_area": null,
            "grid_auto_columns": null,
            "grid_auto_flow": null,
            "grid_auto_rows": null,
            "grid_column": null,
            "grid_gap": null,
            "grid_row": null,
            "grid_template_areas": null,
            "grid_template_columns": null,
            "grid_template_rows": null,
            "height": null,
            "justify_content": null,
            "justify_items": null,
            "left": null,
            "margin": null,
            "max_height": null,
            "max_width": null,
            "min_height": null,
            "min_width": null,
            "object_fit": null,
            "object_position": null,
            "order": null,
            "overflow": null,
            "overflow_x": null,
            "overflow_y": null,
            "padding": null,
            "right": null,
            "top": null,
            "visibility": null,
            "width": null
          }
        },
        "21ab341b87ea4f4f9bf8e9ff0649989b": {
          "model_module": "@jupyter-widgets/base",
          "model_name": "LayoutModel",
          "model_module_version": "1.2.0",
          "state": {
            "_model_module": "@jupyter-widgets/base",
            "_model_module_version": "1.2.0",
            "_model_name": "LayoutModel",
            "_view_count": null,
            "_view_module": "@jupyter-widgets/base",
            "_view_module_version": "1.2.0",
            "_view_name": "LayoutView",
            "align_content": null,
            "align_items": null,
            "align_self": null,
            "border": null,
            "bottom": null,
            "display": null,
            "flex": null,
            "flex_flow": null,
            "grid_area": null,
            "grid_auto_columns": null,
            "grid_auto_flow": null,
            "grid_auto_rows": null,
            "grid_column": null,
            "grid_gap": null,
            "grid_row": null,
            "grid_template_areas": null,
            "grid_template_columns": null,
            "grid_template_rows": null,
            "height": null,
            "justify_content": null,
            "justify_items": null,
            "left": null,
            "margin": null,
            "max_height": null,
            "max_width": null,
            "min_height": null,
            "min_width": null,
            "object_fit": null,
            "object_position": null,
            "order": null,
            "overflow": null,
            "overflow_x": null,
            "overflow_y": null,
            "padding": null,
            "right": null,
            "top": null,
            "visibility": null,
            "width": null
          }
        },
        "51bbcb333fb94395ab06415066be8d7e": {
          "model_module": "@jupyter-widgets/controls",
          "model_name": "DescriptionStyleModel",
          "model_module_version": "1.5.0",
          "state": {
            "_model_module": "@jupyter-widgets/controls",
            "_model_module_version": "1.5.0",
            "_model_name": "DescriptionStyleModel",
            "_view_count": null,
            "_view_module": "@jupyter-widgets/base",
            "_view_module_version": "1.2.0",
            "_view_name": "StyleView",
            "description_width": ""
          }
        },
        "070b2a0e37634078a953258574fe609c": {
          "model_module": "@jupyter-widgets/base",
          "model_name": "LayoutModel",
          "model_module_version": "1.2.0",
          "state": {
            "_model_module": "@jupyter-widgets/base",
            "_model_module_version": "1.2.0",
            "_model_name": "LayoutModel",
            "_view_count": null,
            "_view_module": "@jupyter-widgets/base",
            "_view_module_version": "1.2.0",
            "_view_name": "LayoutView",
            "align_content": null,
            "align_items": null,
            "align_self": null,
            "border": null,
            "bottom": null,
            "display": null,
            "flex": null,
            "flex_flow": null,
            "grid_area": null,
            "grid_auto_columns": null,
            "grid_auto_flow": null,
            "grid_auto_rows": null,
            "grid_column": null,
            "grid_gap": null,
            "grid_row": null,
            "grid_template_areas": null,
            "grid_template_columns": null,
            "grid_template_rows": null,
            "height": null,
            "justify_content": null,
            "justify_items": null,
            "left": null,
            "margin": null,
            "max_height": null,
            "max_width": null,
            "min_height": null,
            "min_width": null,
            "object_fit": null,
            "object_position": null,
            "order": null,
            "overflow": null,
            "overflow_x": null,
            "overflow_y": null,
            "padding": null,
            "right": null,
            "top": null,
            "visibility": null,
            "width": null
          }
        },
        "898606f3b8f94960a02563e3fb937ca0": {
          "model_module": "@jupyter-widgets/controls",
          "model_name": "ProgressStyleModel",
          "model_module_version": "1.5.0",
          "state": {
            "_model_module": "@jupyter-widgets/controls",
            "_model_module_version": "1.5.0",
            "_model_name": "ProgressStyleModel",
            "_view_count": null,
            "_view_module": "@jupyter-widgets/base",
            "_view_module_version": "1.2.0",
            "_view_name": "StyleView",
            "bar_color": null,
            "description_width": ""
          }
        },
        "a2faeb9fd3b64826b22a71ae044ddca4": {
          "model_module": "@jupyter-widgets/base",
          "model_name": "LayoutModel",
          "model_module_version": "1.2.0",
          "state": {
            "_model_module": "@jupyter-widgets/base",
            "_model_module_version": "1.2.0",
            "_model_name": "LayoutModel",
            "_view_count": null,
            "_view_module": "@jupyter-widgets/base",
            "_view_module_version": "1.2.0",
            "_view_name": "LayoutView",
            "align_content": null,
            "align_items": null,
            "align_self": null,
            "border": null,
            "bottom": null,
            "display": null,
            "flex": null,
            "flex_flow": null,
            "grid_area": null,
            "grid_auto_columns": null,
            "grid_auto_flow": null,
            "grid_auto_rows": null,
            "grid_column": null,
            "grid_gap": null,
            "grid_row": null,
            "grid_template_areas": null,
            "grid_template_columns": null,
            "grid_template_rows": null,
            "height": null,
            "justify_content": null,
            "justify_items": null,
            "left": null,
            "margin": null,
            "max_height": null,
            "max_width": null,
            "min_height": null,
            "min_width": null,
            "object_fit": null,
            "object_position": null,
            "order": null,
            "overflow": null,
            "overflow_x": null,
            "overflow_y": null,
            "padding": null,
            "right": null,
            "top": null,
            "visibility": null,
            "width": null
          }
        },
        "cddfb55d268c423caa9deabf949cef70": {
          "model_module": "@jupyter-widgets/controls",
          "model_name": "DescriptionStyleModel",
          "model_module_version": "1.5.0",
          "state": {
            "_model_module": "@jupyter-widgets/controls",
            "_model_module_version": "1.5.0",
            "_model_name": "DescriptionStyleModel",
            "_view_count": null,
            "_view_module": "@jupyter-widgets/base",
            "_view_module_version": "1.2.0",
            "_view_name": "StyleView",
            "description_width": ""
          }
        }
      }
    }
  },
  "nbformat": 4,
  "nbformat_minor": 0
}