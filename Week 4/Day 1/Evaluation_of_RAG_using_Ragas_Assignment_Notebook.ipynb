{
  "cells": [
    {
      "cell_type": "markdown",
      "metadata": {
        "id": "wa8ykQk92aLX"
      },
      "source": [
        "# Evaluation of RAG Using Ragas\n",
        "\n",
        "In the following notebook we'll explore how to evaluate RAG pipelines using a powerful open-source tool called \"Ragas\". This will give us tools to evaluate component-wise metrics, as well as end-to-end metrics about the performance of our RAG pipelines.\n",
        "\n",
        "In the following notebook we'll complete the following tasks:\n",
        "\n",
        "- 🤝 Breakout Room Part #1:\n",
        "  1. Install required libraries\n",
        "  2. Set Environment Variables\n",
        "  3. Creating a simple RAG pipeline with [LangChain v0.1.0](https://blog.langchain.dev/langchain-v0-1-0/)\n",
        "  \n",
        "\n",
        "- 🤝 Breakout Room Part #2:\n",
        "  1. Synthetic Dataset Generation for Evaluation using the [Ragas](https://github.com/explodinggradients/ragas)\n",
        "  2. Evaluating our pipeline with Ragas\n",
        "  3. Making Adjustments to our RAG Pipeline\n",
        "  4. Evaluating our Adjusted pipeline against our baseline\n",
        "  5. Testing OpenAI's Claim\n",
        "\n",
        "The only way to get started is to get started - so let's grab our dependencies for the day!"
      ]
    },
    {
      "cell_type": "markdown",
      "metadata": {
        "id": "8h4yh6f7q9uN"
      },
      "source": [
        "## Motivation\n",
        "\n",
        "A claim, made by OpenAI, is that their `text-embedding-3-small` is better (generally) than their `text-embedding-ada-002` model.\n",
        "\n",
        "Here's some passages from their [blog](https://openai.com/blog/new-embedding-models-and-api-updates) about the `text-embedding-3` release:\n",
        "\n",
        "> `text-embedding-3-small` is our new highly efficient embedding model and provides a significant upgrade over its predecessor, the `text-embedding-ada-002` model...\n",
        "\n",
        "> **Stronger performance.** Comparing `text-embedding-ada-002` to `text-embedding-3-small`, the average score on a commonly used benchmark for multi-language retrieval ([MIRACL](https://github.com/project-miracl/miracl)) has increased from 31.4% to 44.0%, while the average score on a commonly used benchmark for English tasks ([MTEB](https://github.com/embeddings-benchmark/mteb)) has increased from 61.0% to 62.3%.\n",
        "\n",
        "Well, with a library like Ragas - we can put that claim to the test!\n",
        "\n",
        "If what they claim is true - we should see an increase on related metrics by using the new embedding model!"
      ]
    },
    {
      "cell_type": "markdown",
      "metadata": {
        "id": "wAH1znJ2pIp3"
      },
      "source": [
        "# 🤝 Breakout Room Part #1"
      ]
    },
    {
      "cell_type": "markdown",
      "metadata": {
        "id": "hpkXAmMZpLhm"
      },
      "source": [
        "## Task 1: Installing Required Libraries\n",
        "\n",
        "A reminder that one of the [key features](https://blog.langchain.dev/langchain-v0-1-0/) of LangChain v0.1.0 is the compartmentalization of the various LangChain ecosystem packages!\n",
        "\n",
        "So let's begin grabbing all of our LangChain related packages!"
      ]
    },
    {
      "cell_type": "code",
      "execution_count": 1,
      "metadata": {
        "colab": {
          "base_uri": "https://localhost:8080/"
        },
        "id": "5BN13TZlSCv4",
        "outputId": "f3533012-66e0-4cc3-fc6a-e6e011cfa8f5"
      },
      "outputs": [
        {
          "name": "stdout",
          "output_type": "stream",
          "text": [
            "\n",
            "\u001b[1m[\u001b[0m\u001b[34;49mnotice\u001b[0m\u001b[1;39;49m]\u001b[0m\u001b[39;49m A new release of pip is available: \u001b[0m\u001b[31;49m23.2.1\u001b[0m\u001b[39;49m -> \u001b[0m\u001b[32;49m24.0\u001b[0m\n",
            "\u001b[1m[\u001b[0m\u001b[34;49mnotice\u001b[0m\u001b[1;39;49m]\u001b[0m\u001b[39;49m To update, run: \u001b[0m\u001b[32;49mpip install --upgrade pip\u001b[0m\n"
          ]
        }
      ],
      "source": [
        "!pip install -U -q langchain langchain-openai langchain_core langchain-community langchainhub openai"
      ]
    },
    {
      "cell_type": "markdown",
      "metadata": {
        "id": "fm7gXsD6pqG0"
      },
      "source": [
        "We'll also get the \"star of the show\" today, which is Ragas!"
      ]
    },
    {
      "cell_type": "code",
      "execution_count": 2,
      "metadata": {
        "colab": {
          "base_uri": "https://localhost:8080/"
        },
        "id": "zvAvDNWBpjQ1",
        "outputId": "fb6116f4-ee6f-42cd-fdbc-e51ff145b785"
      },
      "outputs": [
        {
          "name": "stdout",
          "output_type": "stream",
          "text": [
            "\n",
            "\u001b[1m[\u001b[0m\u001b[34;49mnotice\u001b[0m\u001b[1;39;49m]\u001b[0m\u001b[39;49m A new release of pip is available: \u001b[0m\u001b[31;49m23.2.1\u001b[0m\u001b[39;49m -> \u001b[0m\u001b[32;49m24.0\u001b[0m\n",
            "\u001b[1m[\u001b[0m\u001b[34;49mnotice\u001b[0m\u001b[1;39;49m]\u001b[0m\u001b[39;49m To update, run: \u001b[0m\u001b[32;49mpip install --upgrade pip\u001b[0m\n"
          ]
        }
      ],
      "source": [
        "!pip install -qU ragas"
      ]
    },
    {
      "cell_type": "markdown",
      "metadata": {
        "id": "L9q6Z9oTpw3X"
      },
      "source": [
        "We'll be leveraging [QDrant](https://qdrant.tech/) again as our LangChain `VectorStore`.\n",
        "\n",
        "We'll also install `pymupdf` and its dependencies which will allow us to load PDFs using the `PyMuPDFLoader` in the `langchain-community` package!"
      ]
    },
    {
      "cell_type": "code",
      "execution_count": 3,
      "metadata": {
        "colab": {
          "base_uri": "https://localhost:8080/"
        },
        "id": "sAJK95napn8I",
        "outputId": "ed9d0dc1-b198-4a6e-bb7c-121c8eb5935e"
      },
      "outputs": [
        {
          "name": "stdout",
          "output_type": "stream",
          "text": [
            "\n",
            "\u001b[1m[\u001b[0m\u001b[34;49mnotice\u001b[0m\u001b[1;39;49m]\u001b[0m\u001b[39;49m A new release of pip is available: \u001b[0m\u001b[31;49m23.2.1\u001b[0m\u001b[39;49m -> \u001b[0m\u001b[32;49m24.0\u001b[0m\n",
            "\u001b[1m[\u001b[0m\u001b[34;49mnotice\u001b[0m\u001b[1;39;49m]\u001b[0m\u001b[39;49m To update, run: \u001b[0m\u001b[32;49mpip install --upgrade pip\u001b[0m\n"
          ]
        }
      ],
      "source": [
        "!pip install -qU qdrant-client pymupdf pandas"
      ]
    },
    {
      "cell_type": "markdown",
      "metadata": {
        "id": "0_C2JvG1qO3h"
      },
      "source": [
        "## Task 2: Set Environment Variables\n",
        "\n",
        "Let's set up our OpenAI API key so we can leverage their API later on."
      ]
    },
    {
      "cell_type": "code",
      "execution_count": 4,
      "metadata": {
        "colab": {
          "base_uri": "https://localhost:8080/"
        },
        "id": "8Lhqp5rUThG-",
        "outputId": "b29081cd-ea1d-4a1a-d64b-61c052a0d779"
      },
      "outputs": [],
      "source": [
        "import os\n",
        "import openai\n",
        "from getpass import getpass\n",
        "\n",
        "openai.api_key = getpass(\"Please provide your OpenAI Key: \")\n",
        "os.environ[\"OPENAI_API_KEY\"] = openai.api_key"
      ]
    },
    {
      "cell_type": "markdown",
      "metadata": {
        "id": "TFbWNvo3rZ4H"
      },
      "source": [
        "## Task 3: Creating a Simple RAG Pipeline with LangChain v0.1.0\n",
        "\n",
        "Building on what we learned last week, we'll be leveraging LangChain v0.1.0 and LCEL to build a simple RAG pipeline that we can baseline with Ragas."
      ]
    },
    {
      "cell_type": "markdown",
      "metadata": {
        "id": "DV_BOewX8CW0"
      },
      "source": [
        "## Building our RAG pipeline\n",
        "\n",
        "Let's review the basic steps of RAG again:\n",
        "\n",
        "- Create an Index\n",
        "- Use retrieval to obtain pieces of context from our Index that are similar to our query\n",
        "- Use a LLM to generate responses based on the retrieved context\n",
        "\n",
        "Let's get started by creating our index.\n",
        "\n",
        "> NOTE: We're going to start leaning on the term \"index\" to refer to our `VectorStore`, `VectorDatabase`, etc. We can think of \"index\" as the catch-all term, whereas `VectorStore` and the like relate to the specific technologies used to create, store, and interact with the index."
      ]
    },
    {
      "cell_type": "markdown",
      "metadata": {
        "id": "1VDGJdxCJEVc"
      },
      "source": [
        "### Creating an Index\n",
        "\n",
        "You'll notice that the largest changes (outside of some import changes) are that our old favourite chains are back to being bundled in an easily usable abstraction.\n",
        "\n",
        "We can still create custom chains using LCEL - but we can also be more confident that our pre-packaged chains are creating using LCEL under the hood."
      ]
    },
    {
      "cell_type": "markdown",
      "metadata": {
        "id": "RmFFThawK8lO"
      },
      "source": [
        "#### Loading Data\n",
        "\n",
        "Let's start by loading some data!\n",
        "\n",
        "> NOTE: You'll notice that we're using a document loader from the community package of LangChain. This is part of the v0.1.0 changes that make the base (`langchain-core`) package remain lightweight while still providing access to some of the more powerful community integrations."
      ]
    },
    {
      "cell_type": "code",
      "execution_count": 22,
      "metadata": {
        "colab": {
          "base_uri": "https://localhost:8080/"
        },
        "id": "kCBTrfZSwTHp",
        "outputId": "fc2bce60-408a-418c-b495-37b63b6304d8"
      },
      "outputs": [
        {
          "name": "stdout",
          "output_type": "stream",
          "text": [
            "Cloning into 'DataRepository'...\n",
            "remote: Enumerating objects: 68, done.\u001b[K\n",
            "remote: Counting objects: 100% (60/60), done.\u001b[K\n",
            "remote: Compressing objects: 100% (47/47), done.\u001b[K\n",
            "remote: Total 68 (delta 18), reused 28 (delta 8), pack-reused 8\u001b[K\n",
            "Receiving objects: 100% (68/68), 69.00 MiB | 35.72 MiB/s, done.\n",
            "Resolving deltas: 100% (18/18), done.\n"
          ]
        }
      ],
      "source": [
        "!git clone https://github.com/AI-Maker-Space/DataRepository"
      ]
    },
    {
      "cell_type": "code",
      "execution_count": 6,
      "metadata": {
        "id": "DTDNFXaBSO2j"
      },
      "outputs": [],
      "source": [
        "# I used local. \n",
        "from langchain_community.document_loaders import PyMuPDFLoader\n",
        "\n",
        "loader = PyMuPDFLoader(\n",
        "   \"/Users/acrobat/Documents/GitHub/AI-Engineering-Cohort-2/Week 4/Day 1/tswift_fued.pdf\",\n",
        ")\n",
        "\n",
        "documents = loader.load()"
      ]
    },
    {
      "cell_type": "code",
      "execution_count": 7,
      "metadata": {
        "colab": {
          "base_uri": "https://localhost:8080/"
        },
        "id": "i3dJYlBCIX_p",
        "outputId": "ac2c6245-853f-4717-8917-c92b1eaca4ba"
      },
      "outputs": [
        {
          "data": {
            "text/plain": [
              "{'source': '/Users/acrobat/Documents/GitHub/AI-Engineering-Cohort-2/Week 4/Day 1/tswift_fued.pdf',\n",
              " 'file_path': '/Users/acrobat/Documents/GitHub/AI-Engineering-Cohort-2/Week 4/Day 1/tswift_fued.pdf',\n",
              " 'page': 0,\n",
              " 'total_pages': 22,\n",
              " 'format': 'PDF 1.4',\n",
              " 'title': \"A Timeline of Taylor Swift and Kim Kardashian's Feud\",\n",
              " 'author': '',\n",
              " 'subject': '',\n",
              " 'keywords': '',\n",
              " 'creator': 'Mozilla/5.0 (Macintosh; Intel Mac OS X 10_15_7) AppleWebKit/537.36 (KHTML, like Gecko) Chrome/123.0.0.0 Safari/537.36',\n",
              " 'producer': 'Skia/PDF m123',\n",
              " 'creationDate': \"D:20240424144215+00'00'\",\n",
              " 'modDate': \"D:20240424144215+00'00'\",\n",
              " 'trapped': ''}"
            ]
          },
          "execution_count": 7,
          "metadata": {},
          "output_type": "execute_result"
        }
      ],
      "source": [
        "documents[0].metadata"
      ]
    },
    {
      "cell_type": "markdown",
      "metadata": {
        "id": "oQUl3sbZK4_1"
      },
      "source": [
        "#### Transforming Data\n",
        "\n",
        "Now that we've got our single document - let's split it into smaller pieces so we can more effectively leverage it with our retrieval chain!\n",
        "\n",
        "We'll start with the classic: `RecursiveCharacterTextSplitter`."
      ]
    },
    {
      "cell_type": "code",
      "execution_count": 8,
      "metadata": {
        "id": "6Nt2E1xnLNgr"
      },
      "outputs": [],
      "source": [
        "from langchain.text_splitter import RecursiveCharacterTextSplitter\n",
        "\n",
        "text_splitter = RecursiveCharacterTextSplitter(\n",
        "    chunk_size = 200,\n",
        "    chunk_overlap = 50\n",
        ")\n",
        "\n",
        "documents = text_splitter.split_documents(documents)"
      ]
    },
    {
      "cell_type": "markdown",
      "metadata": {
        "id": "ilzwQxhiLcVV"
      },
      "source": [
        "Let's confirm we've split our document."
      ]
    },
    {
      "cell_type": "code",
      "execution_count": 9,
      "metadata": {
        "colab": {
          "base_uri": "https://localhost:8080/"
        },
        "id": "4wRw6a4aLfWh",
        "outputId": "af2be7fc-1411-4be0-812e-9b98ebebed5b"
      },
      "outputs": [
        {
          "data": {
            "text/plain": [
              "165"
            ]
          },
          "execution_count": 9,
          "metadata": {},
          "output_type": "execute_result"
        }
      ],
      "source": [
        "len(documents)"
      ]
    },
    {
      "cell_type": "markdown",
      "metadata": {
        "id": "eZ93HkYcMJwW"
      },
      "source": [
        "#### Loading OpenAI Embeddings Model\n",
        "\n",
        "We'll need a process by which we can convert our text into vectors that allow us to compare to our query vector.\n",
        "\n",
        "Let's use OpenAI's `text-embedding-ada-002` for this task!"
      ]
    },
    {
      "cell_type": "code",
      "execution_count": 10,
      "metadata": {
        "id": "JU6CrDVZMgKe"
      },
      "outputs": [],
      "source": [
        "from langchain_openai import OpenAIEmbeddings\n",
        "\n",
        "embeddings = OpenAIEmbeddings(\n",
        "    model=\"text-embedding-ada-002\"\n",
        ")"
      ]
    },
    {
      "cell_type": "markdown",
      "metadata": {
        "id": "rVtZR9JPLtR4"
      },
      "source": [
        "#### Creating a QDrant VectorStore\n",
        "\n",
        "Now that we have documents - we'll need a place to store them alongside their embeddings."
      ]
    },
    {
      "cell_type": "code",
      "execution_count": 11,
      "metadata": {
        "id": "978TWiCtMA0B"
      },
      "outputs": [],
      "source": [
        "from langchain_community.vectorstores import Qdrant\n",
        "\n",
        "qdrant_vector_store = Qdrant.from_documents(\n",
        "    documents,\n",
        "    embeddings,\n",
        "    location=\":memory:\",\n",
        "    collection_name=\"Taylor Swift - Fued - ADA\",\n",
        ")"
      ]
    },
    {
      "cell_type": "markdown",
      "metadata": {
        "id": "Vk50NmrMDlWu"
      },
      "source": [
        "####❓ Question #1:\n",
        "\n",
        "List out a few of the techniques that Qdrant uses that make it performant.\n",
        "\n",
        "> NOTE: Check the [documentation](https://qdrant.tech/documentation/overview/) for more information about FAISS!"
      ]
    },
    {
      "cell_type": "markdown",
      "metadata": {},
      "source": [
        "#### Answer #1:\n",
        "1. It is possible to load the index into memory. It works in RAM so it is limited however it provides fast operation\n",
        "2. It is a Vecto DB. Vector databases are a type of database designed to store and query high-dimensional vectors efficiently as opposed to OLTP and OLAP.\n",
        "3. Uses an indexing technique called Hierarchical Navigable Small World (HNSW).\n",
        "4. The commonly used distance metrics Euclidean Distance, Cosine Similarity, and Dot Product, are fully supported. For this application we will use cosine similarity which is already avalable upon loading."
      ]
    },
    {
      "cell_type": "markdown",
      "metadata": {
        "id": "Z7ht6bJX9PAY"
      },
      "source": [
        "#### Creating a Retriever\n",
        "\n",
        "To complete our index, all that's left to do is expose our vectorstore as a retriever - which we can do the same way we would in previous version of LangChain!"
      ]
    },
    {
      "cell_type": "code",
      "execution_count": 12,
      "metadata": {
        "id": "xne8P5dQTUiR"
      },
      "outputs": [],
      "source": [
        "retriever = qdrant_vector_store.as_retriever()"
      ]
    },
    {
      "cell_type": "markdown",
      "metadata": {
        "id": "sO_DFBVKNvNm"
      },
      "source": [
        "#### Testing our Retriever\n",
        "\n",
        "Now that we've gone through the trouble of creating our retriever - let's see it in action!"
      ]
    },
    {
      "cell_type": "code",
      "execution_count": 13,
      "metadata": {
        "id": "I9_ONxpnN0n6"
      },
      "outputs": [],
      "source": [
        "retrieved_documents = retriever.invoke(\"Who is Taylor Swift fueding with?\")"
      ]
    },
    {
      "cell_type": "code",
      "execution_count": 14,
      "metadata": {
        "colab": {
          "base_uri": "https://localhost:8080/"
        },
        "id": "-Za12yt4OBy1",
        "outputId": "59e72851-ef63-412e-b458-3fe9f895dff5"
      },
      "outputs": [
        {
          "name": "stdout",
          "output_type": "stream",
          "text": [
            "page_content=\"Kardashian's Feud\\nTake a look back at the drama between Taylor Swift and Kim Kardashian\\nthrough the years\\nBy  \\n |  Updated on April 23, 2024 04:46PM EDT\\nENTERTAINMENT\\nMUSIC\\nKelsie Gibson\" metadata={'source': '/Users/acrobat/Documents/GitHub/AI-Engineering-Cohort-2/Week 4/Day 1/tswift_fued.pdf', 'file_path': '/Users/acrobat/Documents/GitHub/AI-Engineering-Cohort-2/Week 4/Day 1/tswift_fued.pdf', 'page': 0, 'total_pages': 22, 'format': 'PDF 1.4', 'title': \"A Timeline of Taylor Swift and Kim Kardashian's Feud\", 'author': '', 'subject': '', 'keywords': '', 'creator': 'Mozilla/5.0 (Macintosh; Intel Mac OS X 10_15_7) AppleWebKit/537.36 (KHTML, like Gecko) Chrome/123.0.0.0 Safari/537.36', 'producer': 'Skia/PDF m123', 'creationDate': \"D:20240424144215+00'00'\", 'modDate': \"D:20240424144215+00'00'\", 'trapped': '', '_id': '7a55bfda549d46849d13be16a414e750', '_collection_name': 'Taylor Swift - Fued - ADA'}\n",
            "page_content='3/22\\nMost recently, Swift reflected on the feud yet again with two new tracks\\nfrom The Tortured Poets Department: The Anthology, which fans believe are\\nabout Kardashian.' metadata={'source': '/Users/acrobat/Documents/GitHub/AI-Engineering-Cohort-2/Week 4/Day 1/tswift_fued.pdf', 'file_path': '/Users/acrobat/Documents/GitHub/AI-Engineering-Cohort-2/Week 4/Day 1/tswift_fued.pdf', 'page': 2, 'total_pages': 22, 'format': 'PDF 1.4', 'title': \"A Timeline of Taylor Swift and Kim Kardashian's Feud\", 'author': '', 'subject': '', 'keywords': '', 'creator': 'Mozilla/5.0 (Macintosh; Intel Mac OS X 10_15_7) AppleWebKit/537.36 (KHTML, like Gecko) Chrome/123.0.0.0 Safari/537.36', 'producer': 'Skia/PDF m123', 'creationDate': \"D:20240424144215+00'00'\", 'modDate': \"D:20240424144215+00'00'\", 'trapped': '', '_id': 'e715dd11e79c4433b363d9d245a49764', '_collection_name': 'Taylor Swift - Fued - ADA'}\n",
            "page_content=\"4/24/24, 7:42 AM\\nA Timeline of Taylor Swift and Kim Kardashian's Feud\\nhttps://people.com/taylor-swift-and-kim-kardashian-feud-timeline-8412119\\n19/22\\nCOUNTRY\" metadata={'source': '/Users/acrobat/Documents/GitHub/AI-Engineering-Cohort-2/Week 4/Day 1/tswift_fued.pdf', 'file_path': '/Users/acrobat/Documents/GitHub/AI-Engineering-Cohort-2/Week 4/Day 1/tswift_fued.pdf', 'page': 18, 'total_pages': 22, 'format': 'PDF 1.4', 'title': \"A Timeline of Taylor Swift and Kim Kardashian's Feud\", 'author': '', 'subject': '', 'keywords': '', 'creator': 'Mozilla/5.0 (Macintosh; Intel Mac OS X 10_15_7) AppleWebKit/537.36 (KHTML, like Gecko) Chrome/123.0.0.0 Safari/537.36', 'producer': 'Skia/PDF m123', 'creationDate': \"D:20240424144215+00'00'\", 'modDate': \"D:20240424144215+00'00'\", 'trapped': '', '_id': 'e2f811724984495c94c81565e86066f4', '_collection_name': 'Taylor Swift - Fued - ADA'}\n",
            "page_content=\"4/24/24, 7:42 AM\\nA Timeline of Taylor Swift and Kim Kardashian's Feud\\nhttps://people.com/taylor-swift-and-kim-kardashian-feud-timeline-8412119\\n12/22\\nPHOTO: KEVIN WINTER/GETTY\" metadata={'source': '/Users/acrobat/Documents/GitHub/AI-Engineering-Cohort-2/Week 4/Day 1/tswift_fued.pdf', 'file_path': '/Users/acrobat/Documents/GitHub/AI-Engineering-Cohort-2/Week 4/Day 1/tswift_fued.pdf', 'page': 11, 'total_pages': 22, 'format': 'PDF 1.4', 'title': \"A Timeline of Taylor Swift and Kim Kardashian's Feud\", 'author': '', 'subject': '', 'keywords': '', 'creator': 'Mozilla/5.0 (Macintosh; Intel Mac OS X 10_15_7) AppleWebKit/537.36 (KHTML, like Gecko) Chrome/123.0.0.0 Safari/537.36', 'producer': 'Skia/PDF m123', 'creationDate': \"D:20240424144215+00'00'\", 'modDate': \"D:20240424144215+00'00'\", 'trapped': '', '_id': 'b525577bd9614d50a61bc11987e63f5b', '_collection_name': 'Taylor Swift - Fued - ADA'}\n"
          ]
        }
      ],
      "source": [
        "for doc in retrieved_documents:\n",
        "  print(doc)"
      ]
    },
    {
      "cell_type": "markdown",
      "metadata": {
        "id": "D8MKsT6JTgCU"
      },
      "source": [
        "### Creating a RAG Chain\n",
        "\n",
        "Now that we have the \"R\" in RAG taken care of - let's look at creating the \"AG\"!"
      ]
    },
    {
      "cell_type": "markdown",
      "metadata": {
        "id": "zs7qBLaEQEic"
      },
      "source": [
        "#### Creating a Prompt Template\n",
        "\n",
        "There are a few different ways we could create our prompt template - we could create a custom template, as seen in the code below, or we could simply pull a prompt from the prompt hub! Let's look at an example of that!"
      ]
    },
    {
      "cell_type": "code",
      "execution_count": 40,
      "metadata": {
        "id": "eRCq_OKUQbKk"
      },
      "outputs": [],
      "source": [
        "from langchain import hub\n",
        "\n",
        "retrieval_qa_prompt = hub.pull(\"langchain-ai/retrieval-qa-chat\")"
      ]
    },
    {
      "cell_type": "code",
      "execution_count": 203,
      "metadata": {
        "colab": {
          "base_uri": "https://localhost:8080/"
        },
        "id": "FziTftV5Q1H-",
        "outputId": "29059829-820d-4127-a8ef-9224f2758a26"
      },
      "outputs": [
        {
          "name": "stdout",
          "output_type": "stream",
          "text": [
            "Answer any use questions based solely on the context below:\n",
            "\n",
            "<context>\n",
            "{context}\n",
            "</context>\n"
          ]
        }
      ],
      "source": [
        "print(retrieval_qa_prompt.messages[0].prompt.template)"
      ]
    },
    {
      "cell_type": "markdown",
      "metadata": {
        "id": "iyq88IPFRGoT"
      },
      "source": [
        "As you can see - the prompt template is simple (and has a small error) - so we'll create our own to be a bit more specific!"
      ]
    },
    {
      "cell_type": "code",
      "execution_count": 15,
      "metadata": {
        "id": "ijSNkTAjTsep"
      },
      "outputs": [],
      "source": [
        "from langchain.prompts import ChatPromptTemplate\n",
        "\n",
        "template = \"\"\"Answer the question based only on the following context. If you cannot answer the question with the context, please respond with 'I don't know':\n",
        "\n",
        "Context:\n",
        "{context}\n",
        "\n",
        "Question:\n",
        "{question}\n",
        "\"\"\"\n",
        "\n",
        "prompt = ChatPromptTemplate.from_template(template)"
      ]
    },
    {
      "cell_type": "markdown",
      "metadata": {
        "id": "BYHnPaXl-cvJ"
      },
      "source": [
        "#### Setting Up our Basic QA Chain\n",
        "\n",
        "Now we can instantiate our basic RAG chain!\n",
        "\n",
        "We'll use LCEL directly just to see an example of it - but you could just as easily use an abstraction here to achieve the same goal!\n",
        "\n",
        "We'll also ensure to pass-through our context - which is critical for RAGAS."
      ]
    },
    {
      "cell_type": "code",
      "execution_count": 16,
      "metadata": {
        "id": "-TsjUWjbUfbW"
      },
      "outputs": [],
      "source": [
        "from operator import itemgetter\n",
        "\n",
        "from langchain_openai import ChatOpenAI\n",
        "from langchain_core.output_parsers import StrOutputParser\n",
        "from langchain_core.runnables import RunnablePassthrough\n",
        "\n",
        "primary_qa_llm = ChatOpenAI(model_name=\"gpt-3.5-turbo\", temperature=0)\n",
        "\n",
        "retrieval_augmented_qa_chain = (\n",
        "    # INVOKE CHAIN WITH: {\"question\" : \"<<SOME USER QUESTION>>\"}\n",
        "    # \"question\" : populated by getting the value of the \"question\" key\n",
        "    # \"context\"  : populated by getting the value of the \"question\" key and chaining it into the base_retriever\n",
        "    {\"context\": itemgetter(\"question\") | retriever, \"question\": itemgetter(\"question\")}\n",
        "    # \"context\"  : is assigned to a RunnablePassthrough object (will not be called or considered in the next step)\n",
        "    #              by getting the value of the \"context\" key from the previous step\n",
        "    | RunnablePassthrough.assign(context=itemgetter(\"context\"))\n",
        "    # \"response\" : the \"context\" and \"question\" values are used to format our prompt object and then piped\n",
        "    #              into the LLM and stored in a key called \"response\"\n",
        "    # \"context\"  : populated by getting the value of the \"context\" key from the previous step\n",
        "    | {\"response\": prompt | primary_qa_llm, \"context\": itemgetter(\"context\")}\n",
        ")"
      ]
    },
    {
      "cell_type": "markdown",
      "metadata": {
        "id": "7MgAa9JwBuJx"
      },
      "source": [
        "####🏗️ Activity #1:\n",
        "\n",
        "Describe the pipeline shown above in simple terms. You can include a diagram if desired."
      ]
    },
    {
      "cell_type": "markdown",
      "metadata": {},
      "source": [
        "#### Answer Activity 1:\n",
        "Create a question-answering system using GPT-3.5-turbo. The langchain library chains together different operations in a pipeline-like manner using the pipe | operator.\n",
        "\n",
        "The ChatOpenAI class is used to create an instance of the GPT-3.5-turbo model with temperature set to zero for min creativity. This instance is stored in the primary_qa_llm variable.\n",
        "The retrieval_augmented_qa_chain is a pipeline of operations that is designed to process a user's question and generate a response. The pipeline is defined using a combination of dictionary mappings and the pipe (|) operator.\n",
        "The itemgetter function from the operator module is used to extract specific values from a dictionary. Here, it's used to extract the \"question\" and \"context\" values from the input.\n",
        "\n",
        "1. The first step in the pipeline takes a user's question as input. The \"context\" is populated by getting the value of the \"question\" key and passing it to the retriever. The \"question\" is simply the value of the \"question\" key from the input.\n",
        "2. The second step uses the RunnablePassthrough.assign method to create a new dictionary where the \"context\" key is assigned the value of the \"context\" key from the previous step. This step doesn't call or consider the RunnablePassthrough object in the next step.\n",
        "3. The third step uses the \"context\" and \"question\" values to format a prompt object, which is then passed to the primary_qa_llm to generate a response. The response is stored in a key called \"response\". The \"context\" is also populated by getting the value of the \"context\" key from the previous step.\n",
        "\n",
        "This pipeline is designed to be invoked with a dictionary that contains a \"question\" key. The output will be a dictionary that contains a \"response\" key with the generated answer and a \"context\" key with the context used to generate the answer as the metadata."
      ]
    },
    {
      "cell_type": "markdown",
      "metadata": {
        "id": "zO69de-F-oMD"
      },
      "source": [
        "Let's test it out!"
      ]
    },
    {
      "cell_type": "code",
      "execution_count": 17,
      "metadata": {
        "colab": {
          "base_uri": "https://localhost:8080/"
        },
        "id": "2FS5NxC6UyU2",
        "outputId": "bd91337c-dfeb-47b3-f66f-4b60a7bb1673"
      },
      "outputs": [
        {
          "name": "stdout",
          "output_type": "stream",
          "text": [
            "Kim Kardashian\n"
          ]
        }
      ],
      "source": [
        "question = \"Who is Taylor Swift fueding with?\"\n",
        "\n",
        "result = retrieval_augmented_qa_chain.invoke({\"question\" : question})\n",
        "\n",
        "print(result[\"response\"].content)"
      ]
    },
    {
      "cell_type": "code",
      "execution_count": 18,
      "metadata": {
        "colab": {
          "base_uri": "https://localhost:8080/"
        },
        "id": "tIuHVGPOO9P2",
        "outputId": "e5fb4abe-be4a-4a5e-cc68-486de3cb72c8"
      },
      "outputs": [
        {
          "name": "stdout",
          "output_type": "stream",
          "text": [
            "I don't know.\n",
            "[Document(page_content=\"discussed the longstanding feud between West and Swift in great detail, as\\nwell as West's controversial rant during his appearance on Saturday Night\", metadata={'source': '/Users/acrobat/Documents/GitHub/AI-Engineering-Cohort-2/Week 4/Day 1/tswift_fued.pdf', 'file_path': '/Users/acrobat/Documents/GitHub/AI-Engineering-Cohort-2/Week 4/Day 1/tswift_fued.pdf', 'page': 7, 'total_pages': 22, 'format': 'PDF 1.4', 'title': \"A Timeline of Taylor Swift and Kim Kardashian's Feud\", 'author': '', 'subject': '', 'keywords': '', 'creator': 'Mozilla/5.0 (Macintosh; Intel Mac OS X 10_15_7) AppleWebKit/537.36 (KHTML, like Gecko) Chrome/123.0.0.0 Safari/537.36', 'producer': 'Skia/PDF m123', 'creationDate': \"D:20240424144215+00'00'\", 'modDate': \"D:20240424144215+00'00'\", 'trapped': '', '_id': 'd2c5ef84516b4d67aa143a7631f4f59b', '_collection_name': 'Taylor Swift - Fued - ADA'}), Document(page_content='That Beef!\" segment. When asked about if her feud with Swift over the\\nleaked phone calls was still ongoing, she said she was \"over it.\"', metadata={'source': '/Users/acrobat/Documents/GitHub/AI-Engineering-Cohort-2/Week 4/Day 1/tswift_fued.pdf', 'file_path': '/Users/acrobat/Documents/GitHub/AI-Engineering-Cohort-2/Week 4/Day 1/tswift_fued.pdf', 'page': 10, 'total_pages': 22, 'format': 'PDF 1.4', 'title': \"A Timeline of Taylor Swift and Kim Kardashian's Feud\", 'author': '', 'subject': '', 'keywords': '', 'creator': 'Mozilla/5.0 (Macintosh; Intel Mac OS X 10_15_7) AppleWebKit/537.36 (KHTML, like Gecko) Chrome/123.0.0.0 Safari/537.36', 'producer': 'Skia/PDF m123', 'creationDate': \"D:20240424144215+00'00'\", 'modDate': \"D:20240424144215+00'00'\", 'trapped': '', '_id': 'ec3be01b1b254c1f83251c0aa5f3e7ac', '_collection_name': 'Taylor Swift - Fued - ADA'}), Document(page_content=\"Kardashian's Feud\\nTake a look back at the drama between Taylor Swift and Kim Kardashian\\nthrough the years\\nBy  \\n |  Updated on April 23, 2024 04:46PM EDT\\nENTERTAINMENT\\nMUSIC\\nKelsie Gibson\", metadata={'source': '/Users/acrobat/Documents/GitHub/AI-Engineering-Cohort-2/Week 4/Day 1/tswift_fued.pdf', 'file_path': '/Users/acrobat/Documents/GitHub/AI-Engineering-Cohort-2/Week 4/Day 1/tswift_fued.pdf', 'page': 0, 'total_pages': 22, 'format': 'PDF 1.4', 'title': \"A Timeline of Taylor Swift and Kim Kardashian's Feud\", 'author': '', 'subject': '', 'keywords': '', 'creator': 'Mozilla/5.0 (Macintosh; Intel Mac OS X 10_15_7) AppleWebKit/537.36 (KHTML, like Gecko) Chrome/123.0.0.0 Safari/537.36', 'producer': 'Skia/PDF m123', 'creationDate': \"D:20240424144215+00'00'\", 'modDate': \"D:20240424144215+00'00'\", 'trapped': '', '_id': '7a55bfda549d46849d13be16a414e750', '_collection_name': 'Taylor Swift - Fued - ADA'}), Document(page_content=\"4/24/24, 7:42 AM\\nA Timeline of Taylor Swift and Kim Kardashian's Feud\\nhttps://people.com/taylor-swift-and-kim-kardashian-feud-timeline-8412119\\n2/22\\nPHOTO: KEVIN MAZUR/MTV1415/WIREIMAGE\", metadata={'source': '/Users/acrobat/Documents/GitHub/AI-Engineering-Cohort-2/Week 4/Day 1/tswift_fued.pdf', 'file_path': '/Users/acrobat/Documents/GitHub/AI-Engineering-Cohort-2/Week 4/Day 1/tswift_fued.pdf', 'page': 1, 'total_pages': 22, 'format': 'PDF 1.4', 'title': \"A Timeline of Taylor Swift and Kim Kardashian's Feud\", 'author': '', 'subject': '', 'keywords': '', 'creator': 'Mozilla/5.0 (Macintosh; Intel Mac OS X 10_15_7) AppleWebKit/537.36 (KHTML, like Gecko) Chrome/123.0.0.0 Safari/537.36', 'producer': 'Skia/PDF m123', 'creationDate': \"D:20240424144215+00'00'\", 'modDate': \"D:20240424144215+00'00'\", 'trapped': '', '_id': 'ccf03ee7d7574799802bb786b853a54d', '_collection_name': 'Taylor Swift - Fued - ADA'})]\n"
          ]
        }
      ],
      "source": [
        "question = \"Why are they fueding?\"\n",
        "\n",
        "result = retrieval_augmented_qa_chain.invoke({\"question\" : question})\n",
        "\n",
        "print(result[\"response\"].content)\n",
        "print(result[\"context\"])"
      ]
    },
    {
      "cell_type": "markdown",
      "metadata": {
        "id": "a-XYZueEP42k"
      },
      "source": [
        "We can already see that there are some improvements we could make here.\n",
        "\n",
        "For now, let's switch gears to RAGAS to see how we can leverage that tool to provide us insight into how our pipeline is performing!"
      ]
    },
    {
      "cell_type": "markdown",
      "metadata": {
        "id": "oM4fmAnsBmL2"
      },
      "source": [
        "# 🤝 Breakout Room Part #2"
      ]
    },
    {
      "cell_type": "markdown",
      "metadata": {
        "id": "EOECHyzHRqDw"
      },
      "source": [
        "## Task 1: Synthetic Dataset Generation for Evaluation using Ragas\n",
        "\n",
        "Ragas is a powerful library that lets us evaluate our RAG pipeline by collecting input/output/context triplets and obtaining metrics relating to a number of different aspects of our RAG pipeline.\n",
        "\n",
        "We'll be evaluating on every core metric today, but in order to do that - we'll need to create a test set. Luckily for us, Ragas can do that directly!"
      ]
    },
    {
      "cell_type": "markdown",
      "metadata": {
        "id": "KqXQ0jweWJOu"
      },
      "source": [
        "### Synthetic Test Set Generation\n",
        "\n",
        "We can leverage Ragas' [`Synthetic Test Data generation`](https://docs.ragas.io/en/stable/concepts/testset_generation.html) functionality to generate our own synthetic QC pairs - as well as a synthetic ground truth - quite easily!\n",
        "\n",
        "> NOTE: This process will use `gpt-3.5-turbo-16k` as the base generator and `gpt-4` as the critic - if you're attempting to create a lot of samples please be aware of cost, as well as rate limits."
      ]
    },
    {
      "cell_type": "code",
      "execution_count": 19,
      "metadata": {
        "id": "nVk5SlU9znXe"
      },
      "outputs": [],
      "source": [
        "loader = PyMuPDFLoader(\n",
        "   \"/Users/acrobat/Documents/GitHub/AI-Engineering-Cohort-2/Week 4/Day 1/tswift_fued.pdf\",\n",
        ")\n",
        "\n",
        "eval_documents = loader.load()\n",
        "\n",
        "text_splitter_eval = RecursiveCharacterTextSplitter(\n",
        "    chunk_size = 600,\n",
        "    chunk_overlap = 50\n",
        ")\n",
        "\n",
        "eval_documents = text_splitter_eval.split_documents(eval_documents)"
      ]
    },
    {
      "cell_type": "markdown",
      "metadata": {
        "id": "K7rOQkxhzrq3"
      },
      "source": [
        "####❓ Question #2:\n",
        "\n",
        "Why is it important to split our documents using different parameters when creating our synthetic data?"
      ]
    },
    {
      "cell_type": "markdown",
      "metadata": {},
      "source": [
        "#### Answer #2:\n",
        "1. Variety: Different parameters create different splits, this in return will create a more diverse data. This can help the model handle variety of scenarios\n",
        "2. Avoid Overfitting: If the data is split in the same manner, model may overfit to the way data is split. Afterall splitting impacts retrieval: And therefore generation of the response.\n",
        "3. Improved Testing & Validation: Using different parameters for splitting allows for more effective testing and validation because it will mimic real-world distribution shifts. It also helps to test specific capabilities of the model. "
      ]
    },
    {
      "cell_type": "code",
      "execution_count": 20,
      "metadata": {
        "colab": {
          "base_uri": "https://localhost:8080/"
        },
        "id": "hiAPYw-hz-zo",
        "outputId": "d70c8538-e3b2-403e-9671-0ee1434c4481"
      },
      "outputs": [
        {
          "data": {
            "text/plain": [
              "53"
            ]
          },
          "execution_count": 20,
          "metadata": {},
          "output_type": "execute_result"
        }
      ],
      "source": [
        "len(eval_documents)"
      ]
    },
    {
      "cell_type": "markdown",
      "metadata": {
        "id": "HYCrVMW9Blda"
      },
      "source": [
        "> NOTE: This cell will take ~5-6min. to generate. If you run into any rate-limit issues - please use GPT-3.5-Turbo as your `critic_llm`. If you see any fields marked `nan` - this is product of rate-limiting issues, and you can safely ignore them for now."
      ]
    },
    {
      "cell_type": "markdown",
      "metadata": {},
      "source": [
        "# No matter what I tried with GPT4 I got exceeds rate-limit. For this reason I used GPT3.5. For the same reason I kept my generation to 10 questions. "
      ]
    },
    {
      "cell_type": "code",
      "execution_count": 21,
      "metadata": {
        "colab": {
          "base_uri": "https://localhost:8080/",
          "height": 1000,
          "referenced_widgets": [
            "c173b14963844b90b45bb7306fd72484",
            "e74934ca95db49e088e978f3014591d3",
            "291e0a01c3e84b839d7ab677d9f8a074",
            "adb9ad0e77e344fca71e4d7f2fd79c66",
            "14c415af32d54784871d892d13338148",
            "90fe2a85593d4f2f83c5e1ea2303bb11",
            "04fb2aabb5164e63a01ef7de283e369b",
            "7729ca7a0a914d7187c2a4bad2180a65",
            "3eff985efa934fe8a2db753fc7e5d8dc",
            "a3cc61e2fc854b26ad2ba3b6a68add50",
            "d1c95ea15ab5400db377fd3d54fd7e21",
            "a10a3efc00644613a610a54e9e0080a3",
            "cdf3ff710cbb4ab09f59a2f317e2162d",
            "8b226a0c779a49a8b0efdfa4156afc31",
            "e8cc5f2707724b9faf50e1b86e6f1890",
            "a32d9af8b8444a8e80f7473dbe791d3c",
            "6564a4092ce04ff5a63a2618158fcc3a",
            "892075b88eba4ec19f7d77cbab38572f",
            "ec0f5e8999004da8826646a0cd0d0a01",
            "1a96adc24ab34300b3b68e46364f745b",
            "768bed58cacf44178ac16912e14ac434",
            "aa309f56fa494d768e9dfd87ef1412aa"
          ]
        },
        "id": "IXc6sMglSej_",
        "outputId": "86b50295-0f50-48d8-baea-461eb200077e"
      },
      "outputs": [
        {
          "name": "stderr",
          "output_type": "stream",
          "text": [
            "/Users/acrobat/Documents/GitHub/AI-Engineering-Cohort-2/ragas_env/lib/python3.11/site-packages/tqdm/auto.py:21: TqdmWarning: IProgress not found. Please update jupyter and ipywidgets. See https://ipywidgets.readthedocs.io/en/stable/user_install.html\n",
            "  from .autonotebook import tqdm as notebook_tqdm\n",
            "Filename and doc_id are the same for all nodes.                   \n",
            "Generating: 100%|██████████| 10/10 [01:25<00:00,  8.51s/it]\n"
          ]
        },
        {
          "data": {
            "text/html": [
              "<div>\n",
              "<style scoped>\n",
              "    .dataframe tbody tr th:only-of-type {\n",
              "        vertical-align: middle;\n",
              "    }\n",
              "\n",
              "    .dataframe tbody tr th {\n",
              "        vertical-align: top;\n",
              "    }\n",
              "\n",
              "    .dataframe thead th {\n",
              "        text-align: right;\n",
              "    }\n",
              "</style>\n",
              "<table border=\"1\" class=\"dataframe\">\n",
              "  <thead>\n",
              "    <tr style=\"text-align: right;\">\n",
              "      <th></th>\n",
              "      <th>question</th>\n",
              "      <th>contexts</th>\n",
              "      <th>ground_truth</th>\n",
              "      <th>evolution_type</th>\n",
              "      <th>metadata</th>\n",
              "      <th>episode_done</th>\n",
              "    </tr>\n",
              "  </thead>\n",
              "  <tbody>\n",
              "    <tr>\n",
              "      <th>0</th>\n",
              "      <td>What is the history of drama between Taylor Sw...</td>\n",
              "      <td>[4/24/24, 7:42 AM\\nA Timeline of Taylor Swift ...</td>\n",
              "      <td>Back in 2009, Kim Kardashian spoke with Entert...</td>\n",
              "      <td>simple</td>\n",
              "      <td>[{'source': '/Users/acrobat/Documents/GitHub/A...</td>\n",
              "      <td>True</td>\n",
              "    </tr>\n",
              "    <tr>\n",
              "      <th>1</th>\n",
              "      <td>What was the significance of the snake emoji i...</td>\n",
              "      <td>[4/24/24, 7:42 AM\\nA Timeline of Taylor Swift ...</td>\n",
              "      <td>The snake emoji was significant in Taylor Swif...</td>\n",
              "      <td>simple</td>\n",
              "      <td>[{'source': '/Users/acrobat/Documents/GitHub/A...</td>\n",
              "      <td>True</td>\n",
              "    </tr>\n",
              "    <tr>\n",
              "      <th>2</th>\n",
              "      <td>What is the timeline of Taylor Swift and Kim K...</td>\n",
              "      <td>[4/24/24, 7:42 AM\\nA Timeline of Taylor Swift ...</td>\n",
              "      <td>A Timeline of Taylor Swift and Kim Kardashian'...</td>\n",
              "      <td>simple</td>\n",
              "      <td>[{'source': '/Users/acrobat/Documents/GitHub/A...</td>\n",
              "      <td>True</td>\n",
              "    </tr>\n",
              "    <tr>\n",
              "      <th>3</th>\n",
              "      <td>What is the timeline of Taylor Swift and Kim K...</td>\n",
              "      <td>[4/24/24, 7:42 AM\\nA Timeline of Taylor Swift ...</td>\n",
              "      <td>nan</td>\n",
              "      <td>simple</td>\n",
              "      <td>[{'source': '/Users/acrobat/Documents/GitHub/A...</td>\n",
              "      <td>True</td>\n",
              "    </tr>\n",
              "    <tr>\n",
              "      <th>4</th>\n",
              "      <td>What song did the person claim to be their fav...</td>\n",
              "      <td>[carpet, where they asked her what the No. 1 s...</td>\n",
              "      <td>The person claimed that their favorite song as...</td>\n",
              "      <td>simple</td>\n",
              "      <td>[{'source': '/Users/acrobat/Documents/GitHub/A...</td>\n",
              "      <td>True</td>\n",
              "    </tr>\n",
              "    <tr>\n",
              "      <th>5</th>\n",
              "      <td>How did Taylor Swift describe the impact of th...</td>\n",
              "      <td>[4/24/24, 7:42 AM\\nA Timeline of Taylor Swift ...</td>\n",
              "      <td>Taylor Swift described the impact of the leake...</td>\n",
              "      <td>multi_context</td>\n",
              "      <td>[{'source': '/Users/acrobat/Documents/GitHub/A...</td>\n",
              "      <td>True</td>\n",
              "    </tr>\n",
              "    <tr>\n",
              "      <th>6</th>\n",
              "      <td>What were Kim Kardashian's comments on Taylor ...</td>\n",
              "      <td>[call in her statements, replied this time, re...</td>\n",
              "      <td>During the Honestly podcast, Kim Kardashian sa...</td>\n",
              "      <td>multi_context</td>\n",
              "      <td>[{'source': '/Users/acrobat/Documents/GitHub/A...</td>\n",
              "      <td>True</td>\n",
              "    </tr>\n",
              "    <tr>\n",
              "      <th>7</th>\n",
              "      <td>What did Kim Kardashian say about Taylor Swift...</td>\n",
              "      <td>[will be the greatest feeling in the world. Th...</td>\n",
              "      <td>Kim Kardashian claimed that Taylor Swift knew ...</td>\n",
              "      <td>multi_context</td>\n",
              "      <td>[{'source': '/Users/acrobat/Documents/GitHub/A...</td>\n",
              "      <td>True</td>\n",
              "    </tr>\n",
              "    <tr>\n",
              "      <th>8</th>\n",
              "      <td>What did Kim Kardashian say about Taylor Swift...</td>\n",
              "      <td>[will be the greatest feeling in the world. Th...</td>\n",
              "      <td>Kim Kardashian claimed that Taylor Swift knew ...</td>\n",
              "      <td>multi_context</td>\n",
              "      <td>[{'source': '/Users/acrobat/Documents/GitHub/A...</td>\n",
              "      <td>True</td>\n",
              "    </tr>\n",
              "    <tr>\n",
              "      <th>9</th>\n",
              "      <td>What did Kim Kardashian say about her feud wit...</td>\n",
              "      <td>[January 14, 2019: Kim Kardashian claims\\nther...</td>\n",
              "      <td>Kardashian said during her appearance on Watch...</td>\n",
              "      <td>reasoning</td>\n",
              "      <td>[{'source': '/Users/acrobat/Documents/GitHub/A...</td>\n",
              "      <td>True</td>\n",
              "    </tr>\n",
              "  </tbody>\n",
              "</table>\n",
              "</div>"
            ],
            "text/plain": [
              "                                            question  \\\n",
              "0  What is the history of drama between Taylor Sw...   \n",
              "1  What was the significance of the snake emoji i...   \n",
              "2  What is the timeline of Taylor Swift and Kim K...   \n",
              "3  What is the timeline of Taylor Swift and Kim K...   \n",
              "4  What song did the person claim to be their fav...   \n",
              "5  How did Taylor Swift describe the impact of th...   \n",
              "6  What were Kim Kardashian's comments on Taylor ...   \n",
              "7  What did Kim Kardashian say about Taylor Swift...   \n",
              "8  What did Kim Kardashian say about Taylor Swift...   \n",
              "9  What did Kim Kardashian say about her feud wit...   \n",
              "\n",
              "                                            contexts  \\\n",
              "0  [4/24/24, 7:42 AM\\nA Timeline of Taylor Swift ...   \n",
              "1  [4/24/24, 7:42 AM\\nA Timeline of Taylor Swift ...   \n",
              "2  [4/24/24, 7:42 AM\\nA Timeline of Taylor Swift ...   \n",
              "3  [4/24/24, 7:42 AM\\nA Timeline of Taylor Swift ...   \n",
              "4  [carpet, where they asked her what the No. 1 s...   \n",
              "5  [4/24/24, 7:42 AM\\nA Timeline of Taylor Swift ...   \n",
              "6  [call in her statements, replied this time, re...   \n",
              "7  [will be the greatest feeling in the world. Th...   \n",
              "8  [will be the greatest feeling in the world. Th...   \n",
              "9  [January 14, 2019: Kim Kardashian claims\\nther...   \n",
              "\n",
              "                                        ground_truth evolution_type  \\\n",
              "0  Back in 2009, Kim Kardashian spoke with Entert...         simple   \n",
              "1  The snake emoji was significant in Taylor Swif...         simple   \n",
              "2  A Timeline of Taylor Swift and Kim Kardashian'...         simple   \n",
              "3                                                nan         simple   \n",
              "4  The person claimed that their favorite song as...         simple   \n",
              "5  Taylor Swift described the impact of the leake...  multi_context   \n",
              "6  During the Honestly podcast, Kim Kardashian sa...  multi_context   \n",
              "7  Kim Kardashian claimed that Taylor Swift knew ...  multi_context   \n",
              "8  Kim Kardashian claimed that Taylor Swift knew ...  multi_context   \n",
              "9  Kardashian said during her appearance on Watch...      reasoning   \n",
              "\n",
              "                                            metadata  episode_done  \n",
              "0  [{'source': '/Users/acrobat/Documents/GitHub/A...          True  \n",
              "1  [{'source': '/Users/acrobat/Documents/GitHub/A...          True  \n",
              "2  [{'source': '/Users/acrobat/Documents/GitHub/A...          True  \n",
              "3  [{'source': '/Users/acrobat/Documents/GitHub/A...          True  \n",
              "4  [{'source': '/Users/acrobat/Documents/GitHub/A...          True  \n",
              "5  [{'source': '/Users/acrobat/Documents/GitHub/A...          True  \n",
              "6  [{'source': '/Users/acrobat/Documents/GitHub/A...          True  \n",
              "7  [{'source': '/Users/acrobat/Documents/GitHub/A...          True  \n",
              "8  [{'source': '/Users/acrobat/Documents/GitHub/A...          True  \n",
              "9  [{'source': '/Users/acrobat/Documents/GitHub/A...          True  "
            ]
          },
          "execution_count": 21,
          "metadata": {},
          "output_type": "execute_result"
        }
      ],
      "source": [
        "from ragas.testset.generator import TestsetGenerator\n",
        "from ragas.testset.evolutions import simple, reasoning, multi_context\n",
        "from langchain_openai import ChatOpenAI, OpenAIEmbeddings\n",
        "\n",
        "generator_llm = ChatOpenAI(model=\"gpt-3.5-turbo-16k\")\n",
        "critic_llm = ChatOpenAI(model=\"gpt-3.5-turbo\") #<--- If you don't have GPT-4 access, or run into rate-limit, or `nan` issues.\n",
        "#critic_llm = ChatOpenAI(model=\"gpt-4-turbo\")\n",
        "embeddings = OpenAIEmbeddings()\n",
        "\n",
        "generator = TestsetGenerator.from_langchain(\n",
        "    generator_llm,\n",
        "    critic_llm,\n",
        "    embeddings\n",
        ")\n",
        "\n",
        "distributions = {\n",
        "    simple: 0.5,\n",
        "    multi_context: 0.4,\n",
        "    reasoning: 0.1\n",
        "}\n",
        "\n",
        "testset = generator.generate_with_langchain_docs(eval_documents, 10, distributions, is_async = False)\n",
        "testset.to_pandas()"
      ]
    },
    {
      "cell_type": "markdown",
      "metadata": {},
      "source": [
        "# Simple bar chart to see the distribution of simple, multi context and reasoning"
      ]
    },
    {
      "cell_type": "code",
      "execution_count": null,
      "metadata": {},
      "outputs": [],
      "source": [
        "! pip install matplotlib\n",
        "# I have had numerous tries with GPT4 and GPT3.5. I think the requests are also time based. The more I tried the worse it got. Sometimes it owuld run for 20mins without a result. For this part of the exrcise I opted to use 3.5. "
      ]
    },
    {
      "cell_type": "code",
      "execution_count": 24,
      "metadata": {},
      "outputs": [
        {
          "data": {
            "image/png": "[encoded data removed]",
            "text/plain": [
              "<Figure size 1000x600 with 1 Axes>"
            ]
          },
          "metadata": {},
          "output_type": "display_data"
        }
      ],
      "source": [
        "# create a bar chart to analyze the frequency of different question types in the created dataset\n",
        "import pandas as pd\n",
        "import matplotlib.pyplot as plt\n",
        "\n",
        "test_df = testset.to_pandas()\n",
        "# Assuming 'df' is your DataFrame and it has columns 'question', 'evolution_type'\n",
        "evolution_counts = test_df['evolution_type'].value_counts()\n",
        "\n",
        "plt.figure(figsize=(10, 6))\n",
        "plt.bar(evolution_counts.index, evolution_counts.values)\n",
        "plt.xlabel('Evolution Type')\n",
        "plt.ylabel('Number of Questions')\n",
        "plt.title('Number of Questions per Evolution Type')\n",
        "plt.show()"
      ]
    },
    {
      "cell_type": "markdown",
      "metadata": {
        "id": "GOIGT0XLz8ze"
      },
      "source": [
        "####❓ Question #3:\n",
        "\n",
        "`{simple: 0.5, reasoning: 0.25, multi_context: 0.25}`\n",
        "\n",
        "What exactly does this mapping refer to?\n",
        "\n",
        "> NOTE: Check out the Ragas documentation on this generation process [here](https://docs.ragas.io/en/stable/concepts/testset_generation.html)."
      ]
    },
    {
      "cell_type": "markdown",
      "metadata": {},
      "source": [
        "#### Answer#3:\n",
        "The distribution shows the types of synthetic questions generated:\n",
        "simple: Simple Q&A\n",
        "multi_context: questions need a few paragraphs to answer\n",
        "reasoning: example: 2+2=4. Most taxing therefore I kept this one the minimum."
      ]
    },
    {
      "cell_type": "markdown",
      "metadata": {
        "id": "MemL406rUzBu"
      },
      "source": [
        "Let's look at the output and see what we can learn about it!"
      ]
    },
    {
      "cell_type": "code",
      "execution_count": 26,
      "metadata": {
        "colab": {
          "base_uri": "https://localhost:8080/"
        },
        "id": "RaCDdImVU15s",
        "outputId": "82abe7e2-4dc1-4ed1-b3c2-ab689909d406"
      },
      "outputs": [
        {
          "data": {
            "text/plain": [
              "DataRow(question=\"What was the significance of the snake emoji in Taylor Swift and Kim Kardashian's feud?\", contexts=[\"4/24/24, 7:42 AM\\nA Timeline of Taylor Swift and Kim Kardashian's Feud\\nhttps://people.com/taylor-swift-and-kim-kardashian-feud-timeline-8412119\\n11/22\\nAlmost a year after Kardashian shared the secretly recorded phone call on\\nher Snapchat between her then-husband West and Swift, Swift announced\\nthe release of her sixth studio album, Reputation. Swift teased the news\\nwith a series of mysterious Instagram videos depicting a serpent. This\\nappeared to be her way of reclaiming the snake emoji posted in her\\nInstagram comments section (implying that she was a liar).\"], ground_truth=\"The snake emoji was significant in Taylor Swift and Kim Kardashian's feud because it was used to imply that Swift was a liar. Swift reclaimed the snake emoji by using it in her Instagram videos to tease the release of her album Reputation.\", evolution_type='simple', metadata=[{'source': '/Users/acrobat/Documents/GitHub/AI-Engineering-Cohort-2/Week 4/Day 1/tswift_fued.pdf', 'file_path': '/Users/acrobat/Documents/GitHub/AI-Engineering-Cohort-2/Week 4/Day 1/tswift_fued.pdf', 'page': 10, 'total_pages': 22, 'format': 'PDF 1.4', 'title': \"A Timeline of Taylor Swift and Kim Kardashian's Feud\", 'author': '', 'subject': '', 'keywords': '', 'creator': 'Mozilla/5.0 (Macintosh; Intel Mac OS X 10_15_7) AppleWebKit/537.36 (KHTML, like Gecko) Chrome/123.0.0.0 Safari/537.36', 'producer': 'Skia/PDF m123', 'creationDate': \"D:20240424144215+00'00'\", 'modDate': \"D:20240424144215+00'00'\", 'trapped': ''}])"
            ]
          },
          "execution_count": 26,
          "metadata": {},
          "output_type": "execute_result"
        }
      ],
      "source": [
        "testset.test_data[1]"
      ]
    },
    {
      "cell_type": "markdown",
      "metadata": {
        "id": "vrPsVwUAWFWB"
      },
      "source": [
        "### Generating Responses with RAG Pipeline\n",
        "\n",
        "Now that we have some QC pairs, and some ground truths, let's evaluate our RAG pipeline using Ragas.\n",
        "\n",
        "The process is, again, quite straightforward - thanks to Ragas and LangChain!\n",
        "\n",
        "Let's start by extracting our questions and ground truths from our create testset.\n",
        "\n",
        "We can start by converting our test dataset into a Pandas DataFrame."
      ]
    },
    {
      "cell_type": "code",
      "execution_count": 219,
      "metadata": {
        "id": "frvzu1YxX8kY"
      },
      "outputs": [],
      "source": [
        "test_df = testset.to_pandas()"
      ]
    },
    {
      "cell_type": "code",
      "execution_count": 27,
      "metadata": {
        "colab": {
          "base_uri": "https://localhost:8080/",
          "height": 1000
        },
        "id": "GFKMIY8IZU8m",
        "outputId": "97f7e978-2688-4254-b117-bd8c6ca4adf1"
      },
      "outputs": [
        {
          "data": {
            "text/html": [
              "<div>\n",
              "<style scoped>\n",
              "    .dataframe tbody tr th:only-of-type {\n",
              "        vertical-align: middle;\n",
              "    }\n",
              "\n",
              "    .dataframe tbody tr th {\n",
              "        vertical-align: top;\n",
              "    }\n",
              "\n",
              "    .dataframe thead th {\n",
              "        text-align: right;\n",
              "    }\n",
              "</style>\n",
              "<table border=\"1\" class=\"dataframe\">\n",
              "  <thead>\n",
              "    <tr style=\"text-align: right;\">\n",
              "      <th></th>\n",
              "      <th>question</th>\n",
              "      <th>contexts</th>\n",
              "      <th>ground_truth</th>\n",
              "      <th>evolution_type</th>\n",
              "      <th>metadata</th>\n",
              "      <th>episode_done</th>\n",
              "    </tr>\n",
              "  </thead>\n",
              "  <tbody>\n",
              "    <tr>\n",
              "      <th>0</th>\n",
              "      <td>What is the history of drama between Taylor Sw...</td>\n",
              "      <td>[4/24/24, 7:42 AM\\nA Timeline of Taylor Swift ...</td>\n",
              "      <td>Back in 2009, Kim Kardashian spoke with Entert...</td>\n",
              "      <td>simple</td>\n",
              "      <td>[{'source': '/Users/acrobat/Documents/GitHub/A...</td>\n",
              "      <td>True</td>\n",
              "    </tr>\n",
              "    <tr>\n",
              "      <th>1</th>\n",
              "      <td>What was the significance of the snake emoji i...</td>\n",
              "      <td>[4/24/24, 7:42 AM\\nA Timeline of Taylor Swift ...</td>\n",
              "      <td>The snake emoji was significant in Taylor Swif...</td>\n",
              "      <td>simple</td>\n",
              "      <td>[{'source': '/Users/acrobat/Documents/GitHub/A...</td>\n",
              "      <td>True</td>\n",
              "    </tr>\n",
              "    <tr>\n",
              "      <th>2</th>\n",
              "      <td>What is the timeline of Taylor Swift and Kim K...</td>\n",
              "      <td>[4/24/24, 7:42 AM\\nA Timeline of Taylor Swift ...</td>\n",
              "      <td>A Timeline of Taylor Swift and Kim Kardashian'...</td>\n",
              "      <td>simple</td>\n",
              "      <td>[{'source': '/Users/acrobat/Documents/GitHub/A...</td>\n",
              "      <td>True</td>\n",
              "    </tr>\n",
              "    <tr>\n",
              "      <th>3</th>\n",
              "      <td>What is the timeline of Taylor Swift and Kim K...</td>\n",
              "      <td>[4/24/24, 7:42 AM\\nA Timeline of Taylor Swift ...</td>\n",
              "      <td>nan</td>\n",
              "      <td>simple</td>\n",
              "      <td>[{'source': '/Users/acrobat/Documents/GitHub/A...</td>\n",
              "      <td>True</td>\n",
              "    </tr>\n",
              "    <tr>\n",
              "      <th>4</th>\n",
              "      <td>What song did the person claim to be their fav...</td>\n",
              "      <td>[carpet, where they asked her what the No. 1 s...</td>\n",
              "      <td>The person claimed that their favorite song as...</td>\n",
              "      <td>simple</td>\n",
              "      <td>[{'source': '/Users/acrobat/Documents/GitHub/A...</td>\n",
              "      <td>True</td>\n",
              "    </tr>\n",
              "    <tr>\n",
              "      <th>5</th>\n",
              "      <td>How did Taylor Swift describe the impact of th...</td>\n",
              "      <td>[4/24/24, 7:42 AM\\nA Timeline of Taylor Swift ...</td>\n",
              "      <td>Taylor Swift described the impact of the leake...</td>\n",
              "      <td>multi_context</td>\n",
              "      <td>[{'source': '/Users/acrobat/Documents/GitHub/A...</td>\n",
              "      <td>True</td>\n",
              "    </tr>\n",
              "    <tr>\n",
              "      <th>6</th>\n",
              "      <td>What were Kim Kardashian's comments on Taylor ...</td>\n",
              "      <td>[call in her statements, replied this time, re...</td>\n",
              "      <td>During the Honestly podcast, Kim Kardashian sa...</td>\n",
              "      <td>multi_context</td>\n",
              "      <td>[{'source': '/Users/acrobat/Documents/GitHub/A...</td>\n",
              "      <td>True</td>\n",
              "    </tr>\n",
              "    <tr>\n",
              "      <th>7</th>\n",
              "      <td>What did Kim Kardashian say about Taylor Swift...</td>\n",
              "      <td>[will be the greatest feeling in the world. Th...</td>\n",
              "      <td>Kim Kardashian claimed that Taylor Swift knew ...</td>\n",
              "      <td>multi_context</td>\n",
              "      <td>[{'source': '/Users/acrobat/Documents/GitHub/A...</td>\n",
              "      <td>True</td>\n",
              "    </tr>\n",
              "    <tr>\n",
              "      <th>8</th>\n",
              "      <td>What did Kim Kardashian say about Taylor Swift...</td>\n",
              "      <td>[will be the greatest feeling in the world. Th...</td>\n",
              "      <td>Kim Kardashian claimed that Taylor Swift knew ...</td>\n",
              "      <td>multi_context</td>\n",
              "      <td>[{'source': '/Users/acrobat/Documents/GitHub/A...</td>\n",
              "      <td>True</td>\n",
              "    </tr>\n",
              "    <tr>\n",
              "      <th>9</th>\n",
              "      <td>What did Kim Kardashian say about her feud wit...</td>\n",
              "      <td>[January 14, 2019: Kim Kardashian claims\\nther...</td>\n",
              "      <td>Kardashian said during her appearance on Watch...</td>\n",
              "      <td>reasoning</td>\n",
              "      <td>[{'source': '/Users/acrobat/Documents/GitHub/A...</td>\n",
              "      <td>True</td>\n",
              "    </tr>\n",
              "  </tbody>\n",
              "</table>\n",
              "</div>"
            ],
            "text/plain": [
              "                                            question  \\\n",
              "0  What is the history of drama between Taylor Sw...   \n",
              "1  What was the significance of the snake emoji i...   \n",
              "2  What is the timeline of Taylor Swift and Kim K...   \n",
              "3  What is the timeline of Taylor Swift and Kim K...   \n",
              "4  What song did the person claim to be their fav...   \n",
              "5  How did Taylor Swift describe the impact of th...   \n",
              "6  What were Kim Kardashian's comments on Taylor ...   \n",
              "7  What did Kim Kardashian say about Taylor Swift...   \n",
              "8  What did Kim Kardashian say about Taylor Swift...   \n",
              "9  What did Kim Kardashian say about her feud wit...   \n",
              "\n",
              "                                            contexts  \\\n",
              "0  [4/24/24, 7:42 AM\\nA Timeline of Taylor Swift ...   \n",
              "1  [4/24/24, 7:42 AM\\nA Timeline of Taylor Swift ...   \n",
              "2  [4/24/24, 7:42 AM\\nA Timeline of Taylor Swift ...   \n",
              "3  [4/24/24, 7:42 AM\\nA Timeline of Taylor Swift ...   \n",
              "4  [carpet, where they asked her what the No. 1 s...   \n",
              "5  [4/24/24, 7:42 AM\\nA Timeline of Taylor Swift ...   \n",
              "6  [call in her statements, replied this time, re...   \n",
              "7  [will be the greatest feeling in the world. Th...   \n",
              "8  [will be the greatest feeling in the world. Th...   \n",
              "9  [January 14, 2019: Kim Kardashian claims\\nther...   \n",
              "\n",
              "                                        ground_truth evolution_type  \\\n",
              "0  Back in 2009, Kim Kardashian spoke with Entert...         simple   \n",
              "1  The snake emoji was significant in Taylor Swif...         simple   \n",
              "2  A Timeline of Taylor Swift and Kim Kardashian'...         simple   \n",
              "3                                                nan         simple   \n",
              "4  The person claimed that their favorite song as...         simple   \n",
              "5  Taylor Swift described the impact of the leake...  multi_context   \n",
              "6  During the Honestly podcast, Kim Kardashian sa...  multi_context   \n",
              "7  Kim Kardashian claimed that Taylor Swift knew ...  multi_context   \n",
              "8  Kim Kardashian claimed that Taylor Swift knew ...  multi_context   \n",
              "9  Kardashian said during her appearance on Watch...      reasoning   \n",
              "\n",
              "                                            metadata  episode_done  \n",
              "0  [{'source': '/Users/acrobat/Documents/GitHub/A...          True  \n",
              "1  [{'source': '/Users/acrobat/Documents/GitHub/A...          True  \n",
              "2  [{'source': '/Users/acrobat/Documents/GitHub/A...          True  \n",
              "3  [{'source': '/Users/acrobat/Documents/GitHub/A...          True  \n",
              "4  [{'source': '/Users/acrobat/Documents/GitHub/A...          True  \n",
              "5  [{'source': '/Users/acrobat/Documents/GitHub/A...          True  \n",
              "6  [{'source': '/Users/acrobat/Documents/GitHub/A...          True  \n",
              "7  [{'source': '/Users/acrobat/Documents/GitHub/A...          True  \n",
              "8  [{'source': '/Users/acrobat/Documents/GitHub/A...          True  \n",
              "9  [{'source': '/Users/acrobat/Documents/GitHub/A...          True  "
            ]
          },
          "execution_count": 27,
          "metadata": {},
          "output_type": "execute_result"
        }
      ],
      "source": [
        "test_df # I did it for 10 questions."
      ]
    },
    {
      "cell_type": "code",
      "execution_count": 28,
      "metadata": {
        "id": "xAiXbVmLYSoC"
      },
      "outputs": [],
      "source": [
        "test_questions = test_df[\"question\"].values.tolist()\n",
        "test_groundtruths = test_df[\"ground_truth\"].values.tolist()"
      ]
    },
    {
      "cell_type": "markdown",
      "metadata": {
        "id": "aE5rfMLfbqKH"
      },
      "source": [
        "Now we'll generate responses using our RAG pipeline using the questions we've generated - we'll also need to collect our retrieved contexts for each question.\n",
        "\n",
        "We'll do this in a simple loop to see exactly what's happening!"
      ]
    },
    {
      "cell_type": "code",
      "execution_count": 29,
      "metadata": {
        "id": "9_AayvT1dAQN"
      },
      "outputs": [],
      "source": [
        "answers = []\n",
        "contexts = []\n",
        "\n",
        "for question in test_questions:\n",
        "  response = retrieval_augmented_qa_chain.invoke({\"question\" : question})\n",
        "  answers.append(response[\"response\"].content)\n",
        "  contexts.append([context.page_content for context in response[\"context\"]])"
      ]
    },
    {
      "cell_type": "code",
      "execution_count": 31,
      "metadata": {},
      "outputs": [
        {
          "name": "stdout",
          "output_type": "stream",
          "text": [
            "['The history of drama between Taylor Swift and Kim Kardashian involves ups and downs over the years, including public reconciliations and unreconciliations with Kanye West being a significant part of the narrative in 2015.', \"The snake emoji was referenced in Taylor Swift's feud with Kim Kardashian.\", \"I don't know.\", \"I don't know.\", '\"Love Story\" by Taylor Swift', 'Taylor Swift described the leaked phone call with Kanye West as proving that she was telling the truth the whole time, indicating that it had a significant impact on her career and emotions.', \"I don't know.\", 'Kim Kardashian claimed that Taylor Swift knew of the infamous Kanye West \"Famous\" lyric all along. In response, Taylor Swift referenced the Kanye West and Kim Kardashian drama in her \"Look What You Made Me Do\" music video.', 'Kim Kardashian claimed that Taylor Swift knew of the infamous Kanye West \"Famous\" lyric all along. In response, Taylor Swift referenced the Kanye West and Kim Kardashian drama in her \"Look What You Made Me Do\" music video.', \"I don't know.\"]\n",
            "---\n",
            "[[\"Kardashian's Feud\\nTake a look back at the drama between Taylor Swift and Kim Kardashian\\nthrough the years\\nBy  \\n |  Updated on April 23, 2024 04:46PM EDT\\nENTERTAINMENT\\nMUSIC\\nKelsie Gibson\", 'about Kardashian.\\nAhead, take a look back at Swift and Kardashian’s relationship through the\\nyears, including what they’ve said about the drama.\\xa0\\n2009: Kim Kardashian says she \"loves\"\\nTaylor Swift', '2/22\\nPHOTO: KEVIN MAZUR/MTV1415/WIREIMAGE\\nTaylor Swift and Kim Kardashian have endured many ups and downs\\nthrough the years.', 'through the years.\\xa0\\nFollowing Swift and Kanye West’s long history, West’s then-wife Kardashian\\nbecame part of the narrative in 2015 as Swift publicly reconciled (and then\\nunreconciled) with West.'], ['reclaimed the snake emoji posted in her Instagram comments section at the\\ntime.\\xa0\\nAdvertisement\\nAdvertisement\\nSUBSCRIBE\\nSKIP TO CONTENT', 'me now?\" Taylor sings in the new track, also appearing to reference the\\nsnake emoji that featured in her feud with the reality TV star.\\nApril 23: A source tells PEOPLE Kim', \"Kardashian's Feud\\nTake a look back at the drama between Taylor Swift and Kim Kardashian\\nthrough the years\\nBy  \\n |  Updated on April 23, 2024 04:46PM EDT\\nENTERTAINMENT\\nMUSIC\\nKelsie Gibson\", '2/22\\nPHOTO: KEVIN MAZUR/MTV1415/WIREIMAGE\\nTaylor Swift and Kim Kardashian have endured many ups and downs\\nthrough the years.'], [\"4/24/24, 7:42 AM\\nA Timeline of Taylor Swift and Kim Kardashian's Feud\\nhttps://people.com/taylor-swift-and-kim-kardashian-feud-timeline-8412119\\n4/22\\nPHOTO: DAVE HOGAN/MTV 2012/GETTY IMAGES FOR MTV\", \"4/24/24, 7:42 AM\\nA Timeline of Taylor Swift and Kim Kardashian's Feud\\nhttps://people.com/taylor-swift-and-kim-kardashian-feud-timeline-8412119\\n12/22\\nPHOTO: KEVIN WINTER/GETTY\", \"4/24/24, 7:42 AM\\nA Timeline of Taylor Swift and Kim Kardashian's Feud\\nhttps://people.com/taylor-swift-and-kim-kardashian-feud-timeline-8412119\\n2/22\\nPHOTO: KEVIN MAZUR/MTV1415/WIREIMAGE\", \"4/24/24, 7:42 AM\\nA Timeline of Taylor Swift and Kim Kardashian's Feud\\nhttps://people.com/taylor-swift-and-kim-kardashian-feud-timeline-8412119\\n6/22\\nPHOTO: KEVIN MAZUR/MTV1415/WIREIMAGE\"], [\"4/24/24, 7:42 AM\\nA Timeline of Taylor Swift and Kim Kardashian's Feud\\nhttps://people.com/taylor-swift-and-kim-kardashian-feud-timeline-8412119\\n4/22\\nPHOTO: DAVE HOGAN/MTV 2012/GETTY IMAGES FOR MTV\", \"4/24/24, 7:42 AM\\nA Timeline of Taylor Swift and Kim Kardashian's Feud\\nhttps://people.com/taylor-swift-and-kim-kardashian-feud-timeline-8412119\\n12/22\\nPHOTO: KEVIN WINTER/GETTY\", \"4/24/24, 7:42 AM\\nA Timeline of Taylor Swift and Kim Kardashian's Feud\\nhttps://people.com/taylor-swift-and-kim-kardashian-feud-timeline-8412119\\n2/22\\nPHOTO: KEVIN MAZUR/MTV1415/WIREIMAGE\", \"4/24/24, 7:42 AM\\nA Timeline of Taylor Swift and Kim Kardashian's Feud\\nhttps://people.com/taylor-swift-and-kim-kardashian-feud-timeline-8412119\\n6/22\\nPHOTO: KEVIN MAZUR/MTV1415/WIREIMAGE\"], ['giddily replied that it was “Love Story” by Swift, before adding, “I love\\nTaylor Swift! I’m the biggest Taylor Swift fan.”\\xa0\\nShe added that she was following her on Twitter, before adding, “I’m', 'she likes all of Taylor Swift’s songs\\nDuring an interview on the Honestly podcast with host Bari Weiss,\\nKardashian was asked about Swift during a lightning question round.', \"When asked what her favorite Swift album was, Kardashian responded, “I\\nreally like a lot of her songs. They're all super cute and catchy. I'd have to\\nlook in my phone to get a name [of an album].”\", '“Famous” lyric all along\\xa0\\n\"She totally approved that,\" Kardashian said in the July issue of GQ that\\nyear regarding Swift\\'s knowledge of the lyrics of \"Famous\" before the\\nsong\\'s release.'], ['the leak of her full phone call with Kanye\\nWest\\n\"Instead of answering those who are asking how I feel about the video\\nfootage that leaked, proving that I was telling the truth the whole time', 'March 20, 2020: The full phone call\\nbetween Kanye West and Taylor Swift leaks\\nonline\\nFour years after Kardashian shared the edited phone call between West', 'never asked to be a part of, since 2009,\" Swift continued. She captioned\\nthe post, \"That moment when Kanye West secretly records your phone call,\\nthen Kim posts it on the Internet.\"\\nAugust 27', \"claimed that Swift knew of West's plans to release the track as she\\ninfamously leaked an edited phone call between West and Swift discussing\"], ['she likes all of Taylor Swift’s songs\\nDuring an interview on the Honestly podcast with host Bari Weiss,\\nKardashian was asked about Swift during a lightning question round.', 'on the matter, and asking, \"P.S. who did you guys piss off to leak that\\nvideo?\"\\nDecember 16, 2021: Kim Kardashian says\\nshe likes all of Taylor Swift’s songs', 'about Kardashian.\\nAhead, take a look back at Swift and Kardashian’s relationship through the\\nyears, including what they’ve said about the drama.\\xa0\\n2009: Kim Kardashian says she \"loves\"\\nTaylor Swift', \"Kardashian's Feud\\nTake a look back at the drama between Taylor Swift and Kim Kardashian\\nthrough the years\\nBy  \\n |  Updated on April 23, 2024 04:46PM EDT\\nENTERTAINMENT\\nMUSIC\\nKelsie Gibson\"], ['“Famous” lyric all along\\xa0\\n\"She totally approved that,\" Kardashian said in the July issue of GQ that\\nyear regarding Swift\\'s knowledge of the lyrics of \"Famous\" before the\\nsong\\'s release.', 'about Kardashian.\\nAhead, take a look back at Swift and Kardashian’s relationship through the\\nyears, including what they’ve said about the drama.\\xa0\\n2009: Kim Kardashian says she \"loves\"\\nTaylor Swift', 'will be the greatest feeling in the world. Thank you for this moment.\"\\nJune 16, 2016: Kim Kardashian claims Taylor\\nSwift knew of the infamous Kanye West\\n“Famous” lyric all along', 'then Kim posts it on the Internet.\"\\nAugust 27\\n, 2017: Taylor Swift references\\nKanye West and Kim Kardashian drama in\\n“Look What You Made Me Do” music video\\xa0\\nTaylor Swift - Look What You Made Me Do'], ['“Famous” lyric all along\\xa0\\n\"She totally approved that,\" Kardashian said in the July issue of GQ that\\nyear regarding Swift\\'s knowledge of the lyrics of \"Famous\" before the\\nsong\\'s release.', 'about Kardashian.\\nAhead, take a look back at Swift and Kardashian’s relationship through the\\nyears, including what they’ve said about the drama.\\xa0\\n2009: Kim Kardashian says she \"loves\"\\nTaylor Swift', 'will be the greatest feeling in the world. Thank you for this moment.\"\\nJune 16, 2016: Kim Kardashian claims Taylor\\nSwift knew of the infamous Kanye West\\n“Famous” lyric all along', 'then Kim posts it on the Internet.\"\\nAugust 27\\n, 2017: Taylor Swift references\\nKanye West and Kim Kardashian drama in\\n“Look What You Made Me Do” music video\\xa0\\nTaylor Swift - Look What You Made Me Do'], [\"Kardashian's Feud\\nTake a look back at the drama between Taylor Swift and Kim Kardashian\\nthrough the years\\nBy  \\n |  Updated on April 23, 2024 04:46PM EDT\\nENTERTAINMENT\\nMUSIC\\nKelsie Gibson\", 'about Kardashian.\\nAhead, take a look back at Swift and Kardashian’s relationship through the\\nyears, including what they’ve said about the drama.\\xa0\\n2009: Kim Kardashian says she \"loves\"\\nTaylor Swift', \"4/24/24, 7:42 AM\\nA Timeline of Taylor Swift and Kim Kardashian's Feud\\nhttps://people.com/taylor-swift-and-kim-kardashian-feud-timeline-8412119\\n4/22\\nPHOTO: DAVE HOGAN/MTV 2012/GETTY IMAGES FOR MTV\", \"4/24/24, 7:42 AM\\nA Timeline of Taylor Swift and Kim Kardashian's Feud\\nhttps://people.com/taylor-swift-and-kim-kardashian-feud-timeline-8412119\\n2/22\\nPHOTO: KEVIN MAZUR/MTV1415/WIREIMAGE\"]]\n"
          ]
        }
      ],
      "source": [
        "print(answers)\n",
        "print(\"---\")\n",
        "print(contexts)"
      ]
    },
    {
      "cell_type": "markdown",
      "metadata": {
        "id": "opHaHmYDeBfC"
      },
      "source": [
        "Now we can wrap our information in a Hugging Face dataset for use in the Ragas library. - jay I think it means Hugging face data set alike. Not sure what is a HG dataset mean?"
      ]
    },
    {
      "cell_type": "code",
      "execution_count": 32,
      "metadata": {
        "id": "fY48YZITeHy-"
      },
      "outputs": [],
      "source": [
        "from datasets import Dataset\n",
        "\n",
        "response_dataset = Dataset.from_dict({\n",
        "    \"question\" : test_questions,\n",
        "    \"answer\" : answers,\n",
        "    \"contexts\" : contexts,\n",
        "    \"ground_truth\" : test_groundtruths\n",
        "})"
      ]
    },
    {
      "cell_type": "markdown",
      "metadata": {
        "id": "mmeVvQaZeogE"
      },
      "source": [
        "Let's take a peek and see what that looks like!"
      ]
    },
    {
      "cell_type": "code",
      "execution_count": 33,
      "metadata": {
        "colab": {
          "base_uri": "https://localhost:8080/"
        },
        "id": "pOpydvc8eqNM",
        "outputId": "857ea0c8-4d59-47b4-e995-bfe78d6c9352"
      },
      "outputs": [
        {
          "data": {
            "text/plain": [
              "{'question': 'What is the history of drama between Taylor Swift and Kim Kardashian?',\n",
              " 'answer': 'The history of drama between Taylor Swift and Kim Kardashian involves ups and downs over the years, including public reconciliations and unreconciliations with Kanye West being a significant part of the narrative in 2015.',\n",
              " 'contexts': [\"Kardashian's Feud\\nTake a look back at the drama between Taylor Swift and Kim Kardashian\\nthrough the years\\nBy  \\n |  Updated on April 23, 2024 04:46PM EDT\\nENTERTAINMENT\\nMUSIC\\nKelsie Gibson\",\n",
              "  'about Kardashian.\\nAhead, take a look back at Swift and Kardashian’s relationship through the\\nyears, including what they’ve said about the drama.\\xa0\\n2009: Kim Kardashian says she \"loves\"\\nTaylor Swift',\n",
              "  '2/22\\nPHOTO: KEVIN MAZUR/MTV1415/WIREIMAGE\\nTaylor Swift and Kim Kardashian have endured many ups and downs\\nthrough the years.',\n",
              "  'through the years.\\xa0\\nFollowing Swift and Kanye West’s long history, West’s then-wife Kardashian\\nbecame part of the narrative in 2015 as Swift publicly reconciled (and then\\nunreconciled) with West.'],\n",
              " 'ground_truth': 'Back in 2009, Kim Kardashian spoke with Entertainment Tonight on the red carpet and said that she \"loves\" Taylor Swift. This was the beginning of their relationship before the drama started.'}"
            ]
          },
          "execution_count": 33,
          "metadata": {},
          "output_type": "execute_result"
        }
      ],
      "source": [
        "response_dataset[0]"
      ]
    },
    {
      "cell_type": "code",
      "execution_count": 64,
      "metadata": {},
      "outputs": [
        {
          "data": {
            "text/plain": [
              "{'question': \"What was the significance of the snake emoji in Taylor Swift and Kim Kardashian's feud?\",\n",
              " 'answer': \"The snake emoji was referenced in Taylor Swift's feud with Kim Kardashian.\",\n",
              " 'contexts': ['reclaimed the snake emoji posted in her Instagram comments section at the\\ntime.\\xa0\\nAdvertisement\\nAdvertisement\\nSUBSCRIBE\\nSKIP TO CONTENT',\n",
              "  'me now?\" Taylor sings in the new track, also appearing to reference the\\nsnake emoji that featured in her feud with the reality TV star.\\nApril 23: A source tells PEOPLE Kim',\n",
              "  \"Kardashian's Feud\\nTake a look back at the drama between Taylor Swift and Kim Kardashian\\nthrough the years\\nBy  \\n |  Updated on April 23, 2024 04:46PM EDT\\nENTERTAINMENT\\nMUSIC\\nKelsie Gibson\",\n",
              "  '2/22\\nPHOTO: KEVIN MAZUR/MTV1415/WIREIMAGE\\nTaylor Swift and Kim Kardashian have endured many ups and downs\\nthrough the years.'],\n",
              " 'ground_truth': \"The snake emoji was significant in Taylor Swift and Kim Kardashian's feud because it was used to imply that Swift was a liar. Swift reclaimed the snake emoji by using it in her Instagram videos to tease the release of her album Reputation.\"}"
            ]
          },
          "execution_count": 64,
          "metadata": {},
          "output_type": "execute_result"
        }
      ],
      "source": [
        "# one more\n",
        "response_dataset[1]"
      ]
    },
    {
      "cell_type": "markdown",
      "metadata": {
        "id": "xbsFm5FievJI"
      },
      "source": [
        "## Task 2: Evaluating our Pipeline with Ragas\n",
        "\n",
        "Now that we have our response dataset - we can finally get into the \"meat\" of Ragas - evaluation!\n",
        "\n",
        "First, we'll import the desired metrics, then we can use them to evaluate our created dataset!\n",
        "\n",
        "Check out the specific metrics we'll be using in the Ragas documentation:\n",
        "\n",
        "- [Faithfulness](https://docs.ragas.io/en/stable/concepts/metrics/faithfulness.html): This measures the factual consistency of the generated answer against the given context. It is calculated from answer and retrieved context. The answer is scaled to (0,1) range. Higher the better.\n",
        "\n",
        "The generated answer is regarded as faithful if all the claims that are made in the answer can be inferred from the given context. \n",
        "- [Answer Relevancy](https://docs.ragas.io/en/stable/concepts/metrics/answer_relevance.html): The evaluation metric, Answer Relevancy, focuses on assessing how pertinent the generated answer is to the given prompt. A lower score is assigned to answers that are incomplete or contain redundant information and higher scores indicate better relevancy. This metric is computed using the question, the context and the answer.The Answer Relevancy is defined as the mean cosine similartiy of the original question to a number of artifical questions, which where generated (reverse engineered) based on the answer\n",
        "\n",
        "- [Context Precision](https://docs.ragas.io/en/stable/concepts/metrics/context_precision.html): Context Precision is a metric that evaluates whether all of the ground-truth relevant items present in the contexts are ranked higher or not. Ideally all the relevant chunks must appear at the top ranks. This metric is computed using the question, ground_truth and the contexts, with values ranging between 0 and 1, where higher scores indicate better precision\n",
        "\n",
        "Context Relevancy:\n",
        "\n",
        "- [Context Recall](https://docs.ragas.io/en/stable/concepts/metrics/context_recall.html): Context recall measures the extent to which the retrieved context aligns with the annotated answer, treated as the ground truth. It is computed based on the ground truth and the retrieved context, and the values range between 0 and 1, with higher values indicating better performance. To estimate context recall from the ground truth answer, each sentence in the ground truth answer is analyzed to determine whether it can be attributed to the retrieved context or not. In an ideal scenario, all sentences in the ground truth answer should be attributable to the retrieved context.\n",
        "\n",
        "Context entities recall:\n",
        "\n",
        "Answer semantic similarity\n",
        "\n",
        "- [Answer Correctness](https://docs.ragas.io/en/stable/concepts/metrics/answer_correctness.html): The assessment of Answer Correctness involves gauging the accuracy of the generated answer when compared to the ground truth. This evaluation relies on the ground truth and the answer, with scores ranging from 0 to 1. A higher score indicates a closer alignment between the generated answer and the ground truth, signifying better correctness. Answer correctness encompasses two critical aspects: semantic similarity between the generated answer and the ground truth, as well as factual similarity. These aspects are combined using a weighted scheme to formulate the answer correctness score.\n",
        "\n",
        "Aspect Critique: \n",
        "\n",
        "See the accompanied presentation for more in-depth explanations about each of the metrics!"
      ]
    },
    {
      "cell_type": "code",
      "execution_count": 34,
      "metadata": {
        "id": "R2PXwyt8e5aW"
      },
      "outputs": [],
      "source": [
        "from ragas import evaluate\n",
        "from ragas.metrics import (\n",
        "    faithfulness,\n",
        "    answer_relevancy,\n",
        "    answer_correctness,\n",
        "    context_recall,\n",
        "    context_precision,\n",
        ")\n",
        "\n",
        "metrics = [\n",
        "    faithfulness,\n",
        "    answer_relevancy,\n",
        "    context_recall,\n",
        "    context_precision,\n",
        "    answer_correctness,\n",
        "]"
      ]
    },
    {
      "cell_type": "markdown",
      "metadata": {
        "id": "Kx-vlsx_hrtV"
      },
      "source": [
        "All that's left to do is call \"evaluate\" and away we go!"
      ]
    },
    {
      "cell_type": "code",
      "execution_count": 35,
      "metadata": {
        "colab": {
          "base_uri": "https://localhost:8080/",
          "height": 118,
          "referenced_widgets": [
            "b08fe3ad33c74e13b80fe481fbbd0558",
            "e31321a9028b4cf99652a849cadbd87e",
            "07049044307946aeb86d2a48a48abbb8",
            "27360866d0f2483abcb08a014b2bf791",
            "23da939d19ab41fcbdf80efd237e6f06",
            "592c79ab0b3c48a3bf8b9690ed36bbbf",
            "a7db7f141e8145bc833d6378589c44fa",
            "b80fac1b810e415789a10175fb11b0bc",
            "48034a3fc19847edb7da8e11ee75774c",
            "25ffe3654bcd4610b60e97a08a66f377",
            "b17bca7181154a8ab0387fc37a2d4536"
          ]
        },
        "id": "DhlcfJ4lgYVI",
        "outputId": "0e3b7c06-fa9f-46f7-fe5a-64b15995fa38"
      },
      "outputs": [
        {
          "name": "stderr",
          "output_type": "stream",
          "text": [
            "Evaluating:   0%|          | 0/50 [00:00<?, ?it/s]No statements were generated from the answer.\n",
            "No statements were generated from the answer.\n",
            "Evaluating:  46%|████▌     | 23/50 [00:06<00:06,  4.49it/s]No statements were generated from the answer.\n",
            "Evaluating:  56%|█████▌    | 28/50 [00:07<00:04,  5.21it/s]No statements were generated from the answer.\n",
            "Evaluating: 100%|██████████| 50/50 [00:14<00:00,  3.47it/s]\n"
          ]
        }
      ],
      "source": [
        "results = evaluate(response_dataset, metrics)"
      ]
    },
    {
      "cell_type": "code",
      "execution_count": 36,
      "metadata": {
        "colab": {
          "base_uri": "https://localhost:8080/"
        },
        "id": "UqPArpSrgwDD",
        "outputId": "70d6269a-1bad-4aad-fd2a-b0d5ccd82163"
      },
      "outputs": [
        {
          "data": {
            "text/plain": [
              "{'faithfulness': 1.0000, 'answer_relevancy': 0.4728, 'context_recall': 0.7333, 'context_precision': 0.6806, 'answer_correctness': 0.4994}"
            ]
          },
          "execution_count": 36,
          "metadata": {},
          "output_type": "execute_result"
        }
      ],
      "source": [
        "results"
      ]
    },
    {
      "cell_type": "code",
      "execution_count": 37,
      "metadata": {
        "colab": {
          "base_uri": "https://localhost:8080/",
          "height": 1000
        },
        "id": "2nsGzj8DhP9E",
        "outputId": "b5a5d00f-2bc7-475b-a774-c0e7ee000b82"
      },
      "outputs": [
        {
          "data": {
            "text/html": [
              "<div>\n",
              "<style scoped>\n",
              "    .dataframe tbody tr th:only-of-type {\n",
              "        vertical-align: middle;\n",
              "    }\n",
              "\n",
              "    .dataframe tbody tr th {\n",
              "        vertical-align: top;\n",
              "    }\n",
              "\n",
              "    .dataframe thead th {\n",
              "        text-align: right;\n",
              "    }\n",
              "</style>\n",
              "<table border=\"1\" class=\"dataframe\">\n",
              "  <thead>\n",
              "    <tr style=\"text-align: right;\">\n",
              "      <th></th>\n",
              "      <th>question</th>\n",
              "      <th>answer</th>\n",
              "      <th>contexts</th>\n",
              "      <th>ground_truth</th>\n",
              "      <th>faithfulness</th>\n",
              "      <th>answer_relevancy</th>\n",
              "      <th>context_recall</th>\n",
              "      <th>context_precision</th>\n",
              "      <th>answer_correctness</th>\n",
              "    </tr>\n",
              "  </thead>\n",
              "  <tbody>\n",
              "    <tr>\n",
              "      <th>0</th>\n",
              "      <td>What is the history of drama between Taylor Sw...</td>\n",
              "      <td>The history of drama between Taylor Swift and ...</td>\n",
              "      <td>[Kardashian's Feud\\nTake a look back at the dr...</td>\n",
              "      <td>Back in 2009, Kim Kardashian spoke with Entert...</td>\n",
              "      <td>1.0</td>\n",
              "      <td>1.000000</td>\n",
              "      <td>0.500000</td>\n",
              "      <td>0.805556</td>\n",
              "      <td>0.822303</td>\n",
              "    </tr>\n",
              "    <tr>\n",
              "      <th>1</th>\n",
              "      <td>What was the significance of the snake emoji i...</td>\n",
              "      <td>The snake emoji was referenced in Taylor Swift...</td>\n",
              "      <td>[reclaimed the snake emoji posted in her Insta...</td>\n",
              "      <td>The snake emoji was significant in Taylor Swif...</td>\n",
              "      <td>1.0</td>\n",
              "      <td>0.931908</td>\n",
              "      <td>1.000000</td>\n",
              "      <td>1.000000</td>\n",
              "      <td>0.612027</td>\n",
              "    </tr>\n",
              "    <tr>\n",
              "      <th>2</th>\n",
              "      <td>What is the timeline of Taylor Swift and Kim K...</td>\n",
              "      <td>I don't know.</td>\n",
              "      <td>[4/24/24, 7:42 AM\\nA Timeline of Taylor Swift ...</td>\n",
              "      <td>A Timeline of Taylor Swift and Kim Kardashian'...</td>\n",
              "      <td>NaN</td>\n",
              "      <td>0.000000</td>\n",
              "      <td>1.000000</td>\n",
              "      <td>0.000000</td>\n",
              "      <td>0.181994</td>\n",
              "    </tr>\n",
              "    <tr>\n",
              "      <th>3</th>\n",
              "      <td>What is the timeline of Taylor Swift and Kim K...</td>\n",
              "      <td>I don't know.</td>\n",
              "      <td>[4/24/24, 7:42 AM\\nA Timeline of Taylor Swift ...</td>\n",
              "      <td>nan</td>\n",
              "      <td>NaN</td>\n",
              "      <td>0.000000</td>\n",
              "      <td>0.000000</td>\n",
              "      <td>0.000000</td>\n",
              "      <td>0.198202</td>\n",
              "    </tr>\n",
              "    <tr>\n",
              "      <th>4</th>\n",
              "      <td>What song did the person claim to be their fav...</td>\n",
              "      <td>\"Love Story\" by Taylor Swift</td>\n",
              "      <td>[giddily replied that it was “Love Story” by S...</td>\n",
              "      <td>The person claimed that their favorite song as...</td>\n",
              "      <td>1.0</td>\n",
              "      <td>0.000000</td>\n",
              "      <td>1.000000</td>\n",
              "      <td>1.000000</td>\n",
              "      <td>0.973924</td>\n",
              "    </tr>\n",
              "    <tr>\n",
              "      <th>5</th>\n",
              "      <td>How did Taylor Swift describe the impact of th...</td>\n",
              "      <td>Taylor Swift described the leaked phone call w...</td>\n",
              "      <td>[the leak of her full phone call with Kanye\\nW...</td>\n",
              "      <td>Taylor Swift described the impact of the leake...</td>\n",
              "      <td>1.0</td>\n",
              "      <td>0.939053</td>\n",
              "      <td>1.000000</td>\n",
              "      <td>1.000000</td>\n",
              "      <td>0.611770</td>\n",
              "    </tr>\n",
              "    <tr>\n",
              "      <th>6</th>\n",
              "      <td>What were Kim Kardashian's comments on Taylor ...</td>\n",
              "      <td>I don't know.</td>\n",
              "      <td>[she likes all of Taylor Swift’s songs\\nDuring...</td>\n",
              "      <td>During the Honestly podcast, Kim Kardashian sa...</td>\n",
              "      <td>NaN</td>\n",
              "      <td>0.000000</td>\n",
              "      <td>0.333333</td>\n",
              "      <td>1.000000</td>\n",
              "      <td>0.181173</td>\n",
              "    </tr>\n",
              "    <tr>\n",
              "      <th>7</th>\n",
              "      <td>What did Kim Kardashian say about Taylor Swift...</td>\n",
              "      <td>Kim Kardashian claimed that Taylor Swift knew ...</td>\n",
              "      <td>[“Famous” lyric all along \\n\"She totally appro...</td>\n",
              "      <td>Kim Kardashian claimed that Taylor Swift knew ...</td>\n",
              "      <td>1.0</td>\n",
              "      <td>0.928727</td>\n",
              "      <td>1.000000</td>\n",
              "      <td>1.000000</td>\n",
              "      <td>0.614202</td>\n",
              "    </tr>\n",
              "    <tr>\n",
              "      <th>8</th>\n",
              "      <td>What did Kim Kardashian say about Taylor Swift...</td>\n",
              "      <td>Kim Kardashian claimed that Taylor Swift knew ...</td>\n",
              "      <td>[“Famous” lyric all along \\n\"She totally appro...</td>\n",
              "      <td>Kim Kardashian claimed that Taylor Swift knew ...</td>\n",
              "      <td>1.0</td>\n",
              "      <td>0.928671</td>\n",
              "      <td>1.000000</td>\n",
              "      <td>1.000000</td>\n",
              "      <td>0.614202</td>\n",
              "    </tr>\n",
              "    <tr>\n",
              "      <th>9</th>\n",
              "      <td>What did Kim Kardashian say about her feud wit...</td>\n",
              "      <td>I don't know.</td>\n",
              "      <td>[Kardashian's Feud\\nTake a look back at the dr...</td>\n",
              "      <td>Kardashian said during her appearance on Watch...</td>\n",
              "      <td>NaN</td>\n",
              "      <td>0.000000</td>\n",
              "      <td>0.500000</td>\n",
              "      <td>0.000000</td>\n",
              "      <td>0.183880</td>\n",
              "    </tr>\n",
              "  </tbody>\n",
              "</table>\n",
              "</div>"
            ],
            "text/plain": [
              "                                            question  \\\n",
              "0  What is the history of drama between Taylor Sw...   \n",
              "1  What was the significance of the snake emoji i...   \n",
              "2  What is the timeline of Taylor Swift and Kim K...   \n",
              "3  What is the timeline of Taylor Swift and Kim K...   \n",
              "4  What song did the person claim to be their fav...   \n",
              "5  How did Taylor Swift describe the impact of th...   \n",
              "6  What were Kim Kardashian's comments on Taylor ...   \n",
              "7  What did Kim Kardashian say about Taylor Swift...   \n",
              "8  What did Kim Kardashian say about Taylor Swift...   \n",
              "9  What did Kim Kardashian say about her feud wit...   \n",
              "\n",
              "                                              answer  \\\n",
              "0  The history of drama between Taylor Swift and ...   \n",
              "1  The snake emoji was referenced in Taylor Swift...   \n",
              "2                                      I don't know.   \n",
              "3                                      I don't know.   \n",
              "4                       \"Love Story\" by Taylor Swift   \n",
              "5  Taylor Swift described the leaked phone call w...   \n",
              "6                                      I don't know.   \n",
              "7  Kim Kardashian claimed that Taylor Swift knew ...   \n",
              "8  Kim Kardashian claimed that Taylor Swift knew ...   \n",
              "9                                      I don't know.   \n",
              "\n",
              "                                            contexts  \\\n",
              "0  [Kardashian's Feud\\nTake a look back at the dr...   \n",
              "1  [reclaimed the snake emoji posted in her Insta...   \n",
              "2  [4/24/24, 7:42 AM\\nA Timeline of Taylor Swift ...   \n",
              "3  [4/24/24, 7:42 AM\\nA Timeline of Taylor Swift ...   \n",
              "4  [giddily replied that it was “Love Story” by S...   \n",
              "5  [the leak of her full phone call with Kanye\\nW...   \n",
              "6  [she likes all of Taylor Swift’s songs\\nDuring...   \n",
              "7  [“Famous” lyric all along \\n\"She totally appro...   \n",
              "8  [“Famous” lyric all along \\n\"She totally appro...   \n",
              "9  [Kardashian's Feud\\nTake a look back at the dr...   \n",
              "\n",
              "                                        ground_truth  faithfulness  \\\n",
              "0  Back in 2009, Kim Kardashian spoke with Entert...           1.0   \n",
              "1  The snake emoji was significant in Taylor Swif...           1.0   \n",
              "2  A Timeline of Taylor Swift and Kim Kardashian'...           NaN   \n",
              "3                                                nan           NaN   \n",
              "4  The person claimed that their favorite song as...           1.0   \n",
              "5  Taylor Swift described the impact of the leake...           1.0   \n",
              "6  During the Honestly podcast, Kim Kardashian sa...           NaN   \n",
              "7  Kim Kardashian claimed that Taylor Swift knew ...           1.0   \n",
              "8  Kim Kardashian claimed that Taylor Swift knew ...           1.0   \n",
              "9  Kardashian said during her appearance on Watch...           NaN   \n",
              "\n",
              "   answer_relevancy  context_recall  context_precision  answer_correctness  \n",
              "0          1.000000        0.500000           0.805556            0.822303  \n",
              "1          0.931908        1.000000           1.000000            0.612027  \n",
              "2          0.000000        1.000000           0.000000            0.181994  \n",
              "3          0.000000        0.000000           0.000000            0.198202  \n",
              "4          0.000000        1.000000           1.000000            0.973924  \n",
              "5          0.939053        1.000000           1.000000            0.611770  \n",
              "6          0.000000        0.333333           1.000000            0.181173  \n",
              "7          0.928727        1.000000           1.000000            0.614202  \n",
              "8          0.928671        1.000000           1.000000            0.614202  \n",
              "9          0.000000        0.500000           0.000000            0.183880  "
            ]
          },
          "execution_count": 37,
          "metadata": {},
          "output_type": "execute_result"
        }
      ],
      "source": [
        "results_df = results.to_pandas()\n",
        "results_df"
      ]
    },
    {
      "cell_type": "markdown",
      "metadata": {
        "id": "MWfiu_pLh3JL"
      },
      "source": [
        "## Task 3: Making Adjustments to our RAG Pipeline\n",
        "\n",
        "Now that we have established a baseline - we can see how any changes impact our pipeline's performance!\n",
        "\n",
        "Let's modify our retriever and see how that impacts our Ragas metrics!\n",
        "\n",
        "> NOTE: MultiQueryRetriever is expanded on [here](https://python.langchain.com/docs/modules/data_connection/retrievers/MultiQueryRetriever) but for now, the implementation is not important to our lesson!"
      ]
    },
    {
      "cell_type": "code",
      "execution_count": 38,
      "metadata": {
        "id": "nKIuM336isBL"
      },
      "outputs": [],
      "source": [
        "from langchain.retrievers import MultiQueryRetriever\n",
        "\n",
        "advanced_retriever = MultiQueryRetriever.from_llm(retriever=retriever, llm=primary_qa_llm)"
      ]
    },
    {
      "cell_type": "markdown",
      "metadata": {
        "id": "82rcj3L-i_c8"
      },
      "source": [
        "We'll also re-create our RAG pipeline using the abstractions that come packaged with LangChain v0.1.0!\n",
        "\n",
        "First, let's create a chain to \"stuff\" our documents into our context!"
      ]
    },
    {
      "cell_type": "code",
      "execution_count": 41,
      "metadata": {
        "id": "EfdCgTw7jC4i"
      },
      "outputs": [],
      "source": [
        "from langchain.chains.combine_documents import create_stuff_documents_chain\n",
        "\n",
        "document_chain = create_stuff_documents_chain(primary_qa_llm, retrieval_qa_prompt)"
      ]
    },
    {
      "cell_type": "markdown",
      "metadata": {
        "id": "ozYl5WdPnvLu"
      },
      "source": [
        "Next, we'll create the retrieval chain!"
      ]
    },
    {
      "cell_type": "code",
      "execution_count": 42,
      "metadata": {
        "id": "9AK7wHVnn0U3"
      },
      "outputs": [],
      "source": [
        "from langchain.chains import create_retrieval_chain\n",
        "\n",
        "retrieval_chain = create_retrieval_chain(advanced_retriever, document_chain)"
      ]
    },
    {
      "cell_type": "code",
      "execution_count": 43,
      "metadata": {
        "id": "cmKORMfMoCjL"
      },
      "outputs": [],
      "source": [
        "response = retrieval_chain.invoke({\"input\": \"Who is Taylor Swift fueding with?\"})"
      ]
    },
    {
      "cell_type": "code",
      "execution_count": 44,
      "metadata": {
        "colab": {
          "base_uri": "https://localhost:8080/"
        },
        "id": "ICMsUWbWoOpf",
        "outputId": "f98fd6de-56ae-4a50-a5f6-f0bd6bbbb3dd"
      },
      "outputs": [
        {
          "name": "stdout",
          "output_type": "stream",
          "text": [
            "Taylor Swift is feuding with Kim Kardashian.\n"
          ]
        }
      ],
      "source": [
        "print(response[\"answer\"])"
      ]
    },
    {
      "cell_type": "code",
      "execution_count": 45,
      "metadata": {
        "id": "5s8ZGasYoVi6"
      },
      "outputs": [],
      "source": [
        "response = retrieval_chain.invoke({\"input\": \"Why are they fueding?\"})"
      ]
    },
    {
      "cell_type": "code",
      "execution_count": 46,
      "metadata": {
        "colab": {
          "base_uri": "https://localhost:8080/"
        },
        "id": "ADNCdW4hoYT8",
        "outputId": "743dcf32-1fab-4f6a-d99c-6b32665ced71"
      },
      "outputs": [
        {
          "name": "stdout",
          "output_type": "stream",
          "text": [
            "Taylor Swift and Kim Kardashian have been feuding primarily due to their involvement in the longstanding feud between Taylor Swift and Kanye West. The feud escalated in 2016 when Kanye West released a song called \"Famous\" which made jabs at Taylor Swift, and Kim Kardashian became involved in the drama by publicly sharing recordings of phone calls between Swift and West. This led to a significant amount of tension and back-and-forth between the parties involved.\n"
          ]
        }
      ],
      "source": [
        "print(response[\"answer\"])"
      ]
    },
    {
      "cell_type": "markdown",
      "metadata": {
        "id": "OxkU0HdpoaiE"
      },
      "source": [
        "Well, just from those responses this chain *feels* better - but lets see how it performs on our eval!\n",
        "\n",
        "Let's do the same process we did before to collect our pipeline's contexts and answers."
      ]
    },
    {
      "cell_type": "code",
      "execution_count": 47,
      "metadata": {
        "id": "kO8cWxn2oinT"
      },
      "outputs": [],
      "source": [
        "answers = []\n",
        "contexts = []\n",
        "\n",
        "for question in test_questions:\n",
        "  response = retrieval_chain.invoke({\"input\" : question})\n",
        "  answers.append(response[\"answer\"])\n",
        "  contexts.append([context.page_content for context in response[\"context\"]])"
      ]
    },
    {
      "cell_type": "markdown",
      "metadata": {
        "id": "tgagfhPUtM2j"
      },
      "source": [
        "Now we can convert this into a dataset, just like we did before."
      ]
    },
    {
      "cell_type": "code",
      "execution_count": 48,
      "metadata": {
        "id": "5FcllGeSovP8"
      },
      "outputs": [],
      "source": [
        "response_dataset_advanced_retrieval = Dataset.from_dict({\n",
        "    \"question\" : test_questions,\n",
        "    \"answer\" : answers,\n",
        "    \"contexts\" : contexts,\n",
        "    \"ground_truth\" : test_groundtruths\n",
        "})"
      ]
    },
    {
      "cell_type": "markdown",
      "metadata": {
        "id": "dELYabwktR2C"
      },
      "source": [
        "Let's evaluate on the same metrics we did for the first pipeline and see how it does!"
      ]
    },
    {
      "cell_type": "code",
      "execution_count": 49,
      "metadata": {
        "colab": {
          "base_uri": "https://localhost:8080/",
          "height": 49,
          "referenced_widgets": [
            "1979939c0b724700b91036413a201394",
            "13a6eac487424a6e8cba55fe80ab14b0",
            "5bfedf7db9f74de6acf4257dad1ab8fe",
            "6b332b97af494a609bd91cabef779e25",
            "b1a56f3ff2fc41d6b8fbcfe7cba6a767",
            "657bd409f8e74cbab4919ccfafb61b9a",
            "19ea7a76caca4e90b7a4250344c2b7aa",
            "9c59d4f3a89443f0b372af4243378a17",
            "3dd02b027e91427b9dd025f822550f22",
            "9a1589c2328144038a70d2f1ed936434",
            "978040aaab77415699ebd3f3ab43b7e5"
          ]
        },
        "id": "d7uHseWJo2TU",
        "outputId": "2a1672fc-a729-4abe-a87b-8ee5ea45a9be"
      },
      "outputs": [
        {
          "name": "stderr",
          "output_type": "stream",
          "text": [
            "Evaluating: 100%|██████████| 50/50 [00:21<00:00,  2.31it/s]\n"
          ]
        }
      ],
      "source": [
        "advanced_retrieval_results = evaluate(response_dataset_advanced_retrieval, metrics)"
      ]
    },
    {
      "cell_type": "code",
      "execution_count": 50,
      "metadata": {
        "colab": {
          "base_uri": "https://localhost:8080/",
          "height": 1000
        },
        "id": "JsFd0uDd2n5E",
        "outputId": "10ae8d83-7cef-42ed-e0e6-0725ef2fcad4"
      },
      "outputs": [
        {
          "data": {
            "text/html": [
              "<div>\n",
              "<style scoped>\n",
              "    .dataframe tbody tr th:only-of-type {\n",
              "        vertical-align: middle;\n",
              "    }\n",
              "\n",
              "    .dataframe tbody tr th {\n",
              "        vertical-align: top;\n",
              "    }\n",
              "\n",
              "    .dataframe thead th {\n",
              "        text-align: right;\n",
              "    }\n",
              "</style>\n",
              "<table border=\"1\" class=\"dataframe\">\n",
              "  <thead>\n",
              "    <tr style=\"text-align: right;\">\n",
              "      <th></th>\n",
              "      <th>question</th>\n",
              "      <th>answer</th>\n",
              "      <th>contexts</th>\n",
              "      <th>ground_truth</th>\n",
              "      <th>faithfulness</th>\n",
              "      <th>answer_relevancy</th>\n",
              "      <th>context_recall</th>\n",
              "      <th>context_precision</th>\n",
              "      <th>answer_correctness</th>\n",
              "    </tr>\n",
              "  </thead>\n",
              "  <tbody>\n",
              "    <tr>\n",
              "      <th>0</th>\n",
              "      <td>What is the history of drama between Taylor Sw...</td>\n",
              "      <td>The drama between Taylor Swift and Kim Kardash...</td>\n",
              "      <td>[4/24/24, 7:42 AM\\nA Timeline of Taylor Swift ...</td>\n",
              "      <td>Back in 2009, Kim Kardashian spoke with Entert...</td>\n",
              "      <td>1.00</td>\n",
              "      <td>0.956924</td>\n",
              "      <td>0.500000</td>\n",
              "      <td>0.937925</td>\n",
              "      <td>0.823451</td>\n",
              "    </tr>\n",
              "    <tr>\n",
              "      <th>1</th>\n",
              "      <td>What was the significance of the snake emoji i...</td>\n",
              "      <td>The snake emoji was significant in Taylor Swif...</td>\n",
              "      <td>[Kardashian's Feud\\nTake a look back at the dr...</td>\n",
              "      <td>The snake emoji was significant in Taylor Swif...</td>\n",
              "      <td>1.00</td>\n",
              "      <td>0.999993</td>\n",
              "      <td>0.000000</td>\n",
              "      <td>1.000000</td>\n",
              "      <td>0.491492</td>\n",
              "    </tr>\n",
              "    <tr>\n",
              "      <th>2</th>\n",
              "      <td>What is the timeline of Taylor Swift and Kim K...</td>\n",
              "      <td>The timeline of Taylor Swift and Kim Kardashia...</td>\n",
              "      <td>[4/24/24, 7:42 AM\\nA Timeline of Taylor Swift ...</td>\n",
              "      <td>A Timeline of Taylor Swift and Kim Kardashian'...</td>\n",
              "      <td>1.00</td>\n",
              "      <td>0.929285</td>\n",
              "      <td>1.000000</td>\n",
              "      <td>0.200000</td>\n",
              "      <td>0.232946</td>\n",
              "    </tr>\n",
              "    <tr>\n",
              "      <th>3</th>\n",
              "      <td>What is the timeline of Taylor Swift and Kim K...</td>\n",
              "      <td>The timeline of Taylor Swift and Kim Kardashia...</td>\n",
              "      <td>[4/24/24, 7:42 AM\\nA Timeline of Taylor Swift ...</td>\n",
              "      <td>nan</td>\n",
              "      <td>0.75</td>\n",
              "      <td>0.000000</td>\n",
              "      <td>0.000000</td>\n",
              "      <td>0.000000</td>\n",
              "      <td>0.176872</td>\n",
              "    </tr>\n",
              "    <tr>\n",
              "      <th>4</th>\n",
              "      <td>What song did the person claim to be their fav...</td>\n",
              "      <td>The person claimed that their favorite song wa...</td>\n",
              "      <td>[When asked what her favorite Swift album was,...</td>\n",
              "      <td>The person claimed that their favorite song as...</td>\n",
              "      <td>1.00</td>\n",
              "      <td>0.926416</td>\n",
              "      <td>1.000000</td>\n",
              "      <td>1.000000</td>\n",
              "      <td>0.742768</td>\n",
              "    </tr>\n",
              "    <tr>\n",
              "      <th>5</th>\n",
              "      <td>How did Taylor Swift describe the impact of th...</td>\n",
              "      <td>Taylor Swift described the leaked phone call w...</td>\n",
              "      <td>[the leak of her full phone call with Kanye\\nW...</td>\n",
              "      <td>Taylor Swift described the impact of the leake...</td>\n",
              "      <td>1.00</td>\n",
              "      <td>0.939072</td>\n",
              "      <td>1.000000</td>\n",
              "      <td>1.000000</td>\n",
              "      <td>0.671791</td>\n",
              "    </tr>\n",
              "    <tr>\n",
              "      <th>6</th>\n",
              "      <td>What were Kim Kardashian's comments on Taylor ...</td>\n",
              "      <td>Kim Kardashian mentioned on the Honestly podca...</td>\n",
              "      <td>[she likes all of Taylor Swift’s songs\\nDuring...</td>\n",
              "      <td>During the Honestly podcast, Kim Kardashian sa...</td>\n",
              "      <td>1.00</td>\n",
              "      <td>0.000000</td>\n",
              "      <td>0.333333</td>\n",
              "      <td>0.866667</td>\n",
              "      <td>0.485762</td>\n",
              "    </tr>\n",
              "    <tr>\n",
              "      <th>7</th>\n",
              "      <td>What did Kim Kardashian say about Taylor Swift...</td>\n",
              "      <td>Kim Kardashian claimed that Taylor Swift knew ...</td>\n",
              "      <td>[“Famous” lyric all along \\n\"She totally appro...</td>\n",
              "      <td>Kim Kardashian claimed that Taylor Swift knew ...</td>\n",
              "      <td>1.00</td>\n",
              "      <td>0.922434</td>\n",
              "      <td>1.000000</td>\n",
              "      <td>1.000000</td>\n",
              "      <td>0.739620</td>\n",
              "    </tr>\n",
              "    <tr>\n",
              "      <th>8</th>\n",
              "      <td>What did Kim Kardashian say about Taylor Swift...</td>\n",
              "      <td>Kim Kardashian claimed that Taylor Swift knew ...</td>\n",
              "      <td>[“Famous” lyric all along \\n\"She totally appro...</td>\n",
              "      <td>Kim Kardashian claimed that Taylor Swift knew ...</td>\n",
              "      <td>1.00</td>\n",
              "      <td>0.928650</td>\n",
              "      <td>1.000000</td>\n",
              "      <td>1.000000</td>\n",
              "      <td>0.740578</td>\n",
              "    </tr>\n",
              "    <tr>\n",
              "      <th>9</th>\n",
              "      <td>What did Kim Kardashian say about her feud wit...</td>\n",
              "      <td>On Watch What Happens Live, Kim Kardashian cla...</td>\n",
              "      <td>[about Kardashian.\\nAhead, take a look back at...</td>\n",
              "      <td>Kardashian said during her appearance on Watch...</td>\n",
              "      <td>1.00</td>\n",
              "      <td>0.904859</td>\n",
              "      <td>0.500000</td>\n",
              "      <td>0.166667</td>\n",
              "      <td>0.714982</td>\n",
              "    </tr>\n",
              "  </tbody>\n",
              "</table>\n",
              "</div>"
            ],
            "text/plain": [
              "                                            question  \\\n",
              "0  What is the history of drama between Taylor Sw...   \n",
              "1  What was the significance of the snake emoji i...   \n",
              "2  What is the timeline of Taylor Swift and Kim K...   \n",
              "3  What is the timeline of Taylor Swift and Kim K...   \n",
              "4  What song did the person claim to be their fav...   \n",
              "5  How did Taylor Swift describe the impact of th...   \n",
              "6  What were Kim Kardashian's comments on Taylor ...   \n",
              "7  What did Kim Kardashian say about Taylor Swift...   \n",
              "8  What did Kim Kardashian say about Taylor Swift...   \n",
              "9  What did Kim Kardashian say about her feud wit...   \n",
              "\n",
              "                                              answer  \\\n",
              "0  The drama between Taylor Swift and Kim Kardash...   \n",
              "1  The snake emoji was significant in Taylor Swif...   \n",
              "2  The timeline of Taylor Swift and Kim Kardashia...   \n",
              "3  The timeline of Taylor Swift and Kim Kardashia...   \n",
              "4  The person claimed that their favorite song wa...   \n",
              "5  Taylor Swift described the leaked phone call w...   \n",
              "6  Kim Kardashian mentioned on the Honestly podca...   \n",
              "7  Kim Kardashian claimed that Taylor Swift knew ...   \n",
              "8  Kim Kardashian claimed that Taylor Swift knew ...   \n",
              "9  On Watch What Happens Live, Kim Kardashian cla...   \n",
              "\n",
              "                                            contexts  \\\n",
              "0  [4/24/24, 7:42 AM\\nA Timeline of Taylor Swift ...   \n",
              "1  [Kardashian's Feud\\nTake a look back at the dr...   \n",
              "2  [4/24/24, 7:42 AM\\nA Timeline of Taylor Swift ...   \n",
              "3  [4/24/24, 7:42 AM\\nA Timeline of Taylor Swift ...   \n",
              "4  [When asked what her favorite Swift album was,...   \n",
              "5  [the leak of her full phone call with Kanye\\nW...   \n",
              "6  [she likes all of Taylor Swift’s songs\\nDuring...   \n",
              "7  [“Famous” lyric all along \\n\"She totally appro...   \n",
              "8  [“Famous” lyric all along \\n\"She totally appro...   \n",
              "9  [about Kardashian.\\nAhead, take a look back at...   \n",
              "\n",
              "                                        ground_truth  faithfulness  \\\n",
              "0  Back in 2009, Kim Kardashian spoke with Entert...          1.00   \n",
              "1  The snake emoji was significant in Taylor Swif...          1.00   \n",
              "2  A Timeline of Taylor Swift and Kim Kardashian'...          1.00   \n",
              "3                                                nan          0.75   \n",
              "4  The person claimed that their favorite song as...          1.00   \n",
              "5  Taylor Swift described the impact of the leake...          1.00   \n",
              "6  During the Honestly podcast, Kim Kardashian sa...          1.00   \n",
              "7  Kim Kardashian claimed that Taylor Swift knew ...          1.00   \n",
              "8  Kim Kardashian claimed that Taylor Swift knew ...          1.00   \n",
              "9  Kardashian said during her appearance on Watch...          1.00   \n",
              "\n",
              "   answer_relevancy  context_recall  context_precision  answer_correctness  \n",
              "0          0.956924        0.500000           0.937925            0.823451  \n",
              "1          0.999993        0.000000           1.000000            0.491492  \n",
              "2          0.929285        1.000000           0.200000            0.232946  \n",
              "3          0.000000        0.000000           0.000000            0.176872  \n",
              "4          0.926416        1.000000           1.000000            0.742768  \n",
              "5          0.939072        1.000000           1.000000            0.671791  \n",
              "6          0.000000        0.333333           0.866667            0.485762  \n",
              "7          0.922434        1.000000           1.000000            0.739620  \n",
              "8          0.928650        1.000000           1.000000            0.740578  \n",
              "9          0.904859        0.500000           0.166667            0.714982  "
            ]
          },
          "execution_count": 50,
          "metadata": {},
          "output_type": "execute_result"
        }
      ],
      "source": [
        "advanced_retrieval_results_df = advanced_retrieval_results.to_pandas()\n",
        "advanced_retrieval_results_df"
      ]
    },
    {
      "cell_type": "markdown",
      "metadata": {
        "id": "J0hzqq5VtZ2a"
      },
      "source": [
        "## Task 4: Evaluating our Adjusted Pipeline Against Our Baseline\n",
        "\n",
        "Now we can compare our results and see what directional changes occured!\n",
        "\n",
        "Let's refresh with our initial metrics."
      ]
    },
    {
      "cell_type": "code",
      "execution_count": 51,
      "metadata": {
        "colab": {
          "base_uri": "https://localhost:8080/"
        },
        "id": "_WWGRaF5qx3V",
        "outputId": "23e476d6-dc67-40ad-d20a-2f4ea5dcd012"
      },
      "outputs": [
        {
          "data": {
            "text/plain": [
              "{'faithfulness': 1.0000, 'answer_relevancy': 0.4728, 'context_recall': 0.7333, 'context_precision': 0.6806, 'answer_correctness': 0.4994}"
            ]
          },
          "execution_count": 51,
          "metadata": {},
          "output_type": "execute_result"
        }
      ],
      "source": [
        "results"
      ]
    },
    {
      "cell_type": "markdown",
      "metadata": {
        "id": "oFv_yAeotmFs"
      },
      "source": [
        "And see how our advanced retrieval modified our chain!"
      ]
    },
    {
      "cell_type": "code",
      "execution_count": 52,
      "metadata": {
        "colab": {
          "base_uri": "https://localhost:8080/"
        },
        "id": "rpV11dxJo7xa",
        "outputId": "409ba84e-9fac-4670-ee84-57a578c73539"
      },
      "outputs": [
        {
          "data": {
            "text/plain": [
              "{'faithfulness': 0.9750, 'answer_relevancy': 0.7508, 'context_recall': 0.6333, 'context_precision': 0.7171, 'answer_correctness': 0.5820}"
            ]
          },
          "execution_count": 52,
          "metadata": {},
          "output_type": "execute_result"
        }
      ],
      "source": [
        "advanced_retrieval_results"
      ]
    },
    {
      "cell_type": "code",
      "execution_count": 53,
      "metadata": {
        "colab": {
          "base_uri": "https://localhost:8080/",
          "height": 206
        },
        "id": "62NYn3iAvTjM",
        "outputId": "88916a73-fade-4448-8711-9ca55d906801"
      },
      "outputs": [
        {
          "data": {
            "text/html": [
              "<div>\n",
              "<style scoped>\n",
              "    .dataframe tbody tr th:only-of-type {\n",
              "        vertical-align: middle;\n",
              "    }\n",
              "\n",
              "    .dataframe tbody tr th {\n",
              "        vertical-align: top;\n",
              "    }\n",
              "\n",
              "    .dataframe thead th {\n",
              "        text-align: right;\n",
              "    }\n",
              "</style>\n",
              "<table border=\"1\" class=\"dataframe\">\n",
              "  <thead>\n",
              "    <tr style=\"text-align: right;\">\n",
              "      <th></th>\n",
              "      <th>Metric</th>\n",
              "      <th>Baseline</th>\n",
              "      <th>MultiQueryRetriever with Document Stuffing</th>\n",
              "      <th>Delta</th>\n",
              "    </tr>\n",
              "  </thead>\n",
              "  <tbody>\n",
              "    <tr>\n",
              "      <th>0</th>\n",
              "      <td>faithfulness</td>\n",
              "      <td>1.000000</td>\n",
              "      <td>0.975000</td>\n",
              "      <td>-0.025000</td>\n",
              "    </tr>\n",
              "    <tr>\n",
              "      <th>1</th>\n",
              "      <td>answer_relevancy</td>\n",
              "      <td>0.472836</td>\n",
              "      <td>0.750763</td>\n",
              "      <td>0.277927</td>\n",
              "    </tr>\n",
              "    <tr>\n",
              "      <th>2</th>\n",
              "      <td>context_recall</td>\n",
              "      <td>0.733333</td>\n",
              "      <td>0.633333</td>\n",
              "      <td>-0.100000</td>\n",
              "    </tr>\n",
              "    <tr>\n",
              "      <th>3</th>\n",
              "      <td>context_precision</td>\n",
              "      <td>0.680556</td>\n",
              "      <td>0.717126</td>\n",
              "      <td>0.036570</td>\n",
              "    </tr>\n",
              "    <tr>\n",
              "      <th>4</th>\n",
              "      <td>answer_correctness</td>\n",
              "      <td>0.499368</td>\n",
              "      <td>0.582026</td>\n",
              "      <td>0.082658</td>\n",
              "    </tr>\n",
              "  </tbody>\n",
              "</table>\n",
              "</div>"
            ],
            "text/plain": [
              "               Metric  Baseline  MultiQueryRetriever with Document Stuffing  \\\n",
              "0        faithfulness  1.000000                                    0.975000   \n",
              "1    answer_relevancy  0.472836                                    0.750763   \n",
              "2      context_recall  0.733333                                    0.633333   \n",
              "3   context_precision  0.680556                                    0.717126   \n",
              "4  answer_correctness  0.499368                                    0.582026   \n",
              "\n",
              "      Delta  \n",
              "0 -0.025000  \n",
              "1  0.277927  \n",
              "2 -0.100000  \n",
              "3  0.036570  \n",
              "4  0.082658  "
            ]
          },
          "execution_count": 53,
          "metadata": {},
          "output_type": "execute_result"
        }
      ],
      "source": [
        "import pandas as pd\n",
        "\n",
        "df_original = pd.DataFrame(list(results.items()), columns=['Metric', 'Baseline'])\n",
        "df_comparison = pd.DataFrame(list(advanced_retrieval_results.items()), columns=['Metric', 'MultiQueryRetriever with Document Stuffing'])\n",
        "\n",
        "df_merged = pd.merge(df_original, df_comparison, on='Metric')\n",
        "\n",
        "df_merged['Delta'] = df_merged['MultiQueryRetriever with Document Stuffing'] - df_merged['Baseline']\n",
        "\n",
        "df_merged"
      ]
    },
    {
      "cell_type": "markdown",
      "metadata": {
        "id": "GJKEOLNs5v0R"
      },
      "source": [
        "## Task 5: Testing OpenAI's Claim\n",
        "\n",
        "Now that we've seen how our retriever can impact the performance of our RAG pipeline - let's see how changing our embedding model impacts performance."
      ]
    },
    {
      "cell_type": "markdown",
      "metadata": {
        "id": "MM4KRhJYEL-h"
      },
      "source": [
        "####🏗️ Activity #2:\n",
        "\n",
        "Please provide markdown, or code comments, to explain which each of the following steps are doing!"
      ]
    },
    {
      "cell_type": "markdown",
      "metadata": {},
      "source": [
        "#### Answer to Activity #2:"
      ]
    },
    {
      "cell_type": "code",
      "execution_count": 54,
      "metadata": {
        "id": "Gv_tv4w86bPb"
      },
      "outputs": [],
      "source": [
        "# Create an instance of the OpenAIEmbeddings class called new_embeddings. This is used to generate embeddings for text data using OpenAI's models.\n",
        "new_embeddings = OpenAIEmbeddings(model=\"text-embedding-3-small\")"
      ]
    },
    {
      "cell_type": "code",
      "execution_count": 55,
      "metadata": {
        "id": "-JPe1_Jx6Rnw"
      },
      "outputs": [],
      "source": [
        "# This is an instace of Qrant class using from_documents method. This is used to create a vector store for the documents and embeddings.\n",
        "vector_store = qdrant = Qdrant.from_documents(\n",
        "    documents,  # This is a list of Document objects.\n",
        "    new_embeddings,\n",
        "    location=\":memory:\",  # where data is stored. memory means it is stored in RAM.\n",
        "    collection_name=\"Taylor Swift - Fued - MQR\",  #name of the collection that Qrand instance will manage\n",
        ")"
      ]
    },
    {
      "cell_type": "code",
      "execution_count": 56,
      "metadata": {
        "id": "H-HuozNf6muZ"
      },
      "outputs": [],
      "source": [
        "#as_retriever method is called on vector_store to create a retriever object called new_retriever.\n",
        "new_retriever = vector_store.as_retriever()"
      ]
    },
    {
      "cell_type": "code",
      "execution_count": 57,
      "metadata": {
        "id": "M6Tyc3ZY7Km2"
      },
      "outputs": [],
      "source": [
        "# MultiQueryRetriever class is called with from_llm method to create a new retriever object called new_advanced_retriever. primary_qa_llm is passed as an argument to the method.\n",
        "# MultiQueryRetriever is used to create a retriever that can handle multiple queries at once.\n",
        "new_advanced_retriever = MultiQueryRetriever.from_llm(retriever=new_retriever, llm=primary_qa_llm)"
      ]
    },
    {
      "cell_type": "code",
      "execution_count": 58,
      "metadata": {
        "id": "s5QSJIhm7SKr"
      },
      "outputs": [],
      "source": [
        "# create_retrieval_chain is a sequence of operations that are used to create a retrieval chain.\n",
        "new_retrieval_chain = create_retrieval_chain(new_advanced_retriever, document_chain)"
      ]
    },
    {
      "cell_type": "code",
      "execution_count": 59,
      "metadata": {
        "id": "MBVjl1UK7fd7"
      },
      "outputs": [],
      "source": [
        "# test_questions is a list of questions that are used to test the retrieval chain.\n",
        "answers = []\n",
        "contexts = []\n",
        "\n",
        "for question in test_questions:\n",
        "  response = new_retrieval_chain.invoke({\"input\" : question})\n",
        "  answers.append(response[\"answer\"])\n",
        "  contexts.append([context.page_content for context in response[\"context\"]])"
      ]
    },
    {
      "cell_type": "code",
      "execution_count": 60,
      "metadata": {
        "id": "lTBrs0zr7iyG"
      },
      "outputs": [],
      "source": [
        "# Dataset is HG face datasets library that is used to create a dataset from the given dictionary.\n",
        "# from_dict method is used to create a dataset from the dictionary in memory\n",
        "new_response_dataset_advanced_retrieval = Dataset.from_dict({\n",
        "    \"question\" : test_questions,\n",
        "    \"answer\" : answers,\n",
        "    \"contexts\" : contexts,\n",
        "    \"ground_truth\" : test_groundtruths\n",
        "})"
      ]
    },
    {
      "cell_type": "code",
      "execution_count": 61,
      "metadata": {
        "colab": {
          "base_uri": "https://localhost:8080/",
          "height": 84,
          "referenced_widgets": [
            "8beec47b68314f0faea61929019e4f25",
            "f3edbc21d8084a7bb04b7bc0b5c1b689",
            "21849ee7e76f45049eb59e5b1c0815c9",
            "c783728b34ef4672bb290bf34c844567",
            "cb78200dac4742149d0de05c0af0bd97",
            "2cb51bc6e5d74683b17f8b9190fbf33a",
            "96403d0bca064737ac89ee0e9f67e8b5",
            "5215d48d2bf8433299f0dc26cc44f176",
            "a7bde4cf0c9249989a22480bfa09ef01",
            "fa6cf55d6e3742c98a5fd9b1a8e939b3",
            "6362de259fc64994a9f677002ebfb09b"
          ]
        },
        "id": "hG5h-D8n7sZp",
        "outputId": "61194d4c-254d-4a79-fd79-391a86d677fb"
      },
      "outputs": [
        {
          "name": "stderr",
          "output_type": "stream",
          "text": [
            "Evaluating: 100%|██████████| 50/50 [00:20<00:00,  2.47it/s]\n"
          ]
        }
      ],
      "source": [
        "new_advanced_retrieval_results = evaluate(new_response_dataset_advanced_retrieval, metrics)"
      ]
    },
    {
      "cell_type": "code",
      "execution_count": 62,
      "metadata": {
        "colab": {
          "base_uri": "https://localhost:8080/"
        },
        "id": "1uHdcpsZ76kj",
        "outputId": "00dc980c-c874-4c77-8d4a-a5b974ec7dee"
      },
      "outputs": [
        {
          "data": {
            "text/plain": [
              "{'faithfulness': 0.7383, 'answer_relevancy': 0.8550, 'context_recall': 0.8667, 'context_precision': 0.7067, 'answer_correctness': 0.5776}"
            ]
          },
          "execution_count": 62,
          "metadata": {},
          "output_type": "execute_result"
        }
      ],
      "source": [
        "new_advanced_retrieval_results"
      ]
    },
    {
      "cell_type": "code",
      "execution_count": 63,
      "metadata": {
        "colab": {
          "base_uri": "https://localhost:8080/",
          "height": 206
        },
        "id": "s4TyaCUQ79Ke",
        "outputId": "d54a8a20-1922-4f19-8d0c-e1043abcd0f3"
      },
      "outputs": [
        {
          "data": {
            "text/html": [
              "<div>\n",
              "<style scoped>\n",
              "    .dataframe tbody tr th:only-of-type {\n",
              "        vertical-align: middle;\n",
              "    }\n",
              "\n",
              "    .dataframe tbody tr th {\n",
              "        vertical-align: top;\n",
              "    }\n",
              "\n",
              "    .dataframe thead th {\n",
              "        text-align: right;\n",
              "    }\n",
              "</style>\n",
              "<table border=\"1\" class=\"dataframe\">\n",
              "  <thead>\n",
              "    <tr style=\"text-align: right;\">\n",
              "      <th></th>\n",
              "      <th>Metric</th>\n",
              "      <th>Baseline</th>\n",
              "      <th>ADA</th>\n",
              "      <th>Text Embedding 3</th>\n",
              "      <th>Delta - TE3 -&gt; ADA</th>\n",
              "      <th>Delta - TE3 -&gt; Baseline</th>\n",
              "    </tr>\n",
              "  </thead>\n",
              "  <tbody>\n",
              "    <tr>\n",
              "      <th>0</th>\n",
              "      <td>faithfulness</td>\n",
              "      <td>1.000000</td>\n",
              "      <td>0.975000</td>\n",
              "      <td>0.738333</td>\n",
              "      <td>-0.236667</td>\n",
              "      <td>-0.261667</td>\n",
              "    </tr>\n",
              "    <tr>\n",
              "      <th>1</th>\n",
              "      <td>answer_relevancy</td>\n",
              "      <td>0.472836</td>\n",
              "      <td>0.750763</td>\n",
              "      <td>0.854988</td>\n",
              "      <td>0.104225</td>\n",
              "      <td>0.382152</td>\n",
              "    </tr>\n",
              "    <tr>\n",
              "      <th>2</th>\n",
              "      <td>context_recall</td>\n",
              "      <td>0.733333</td>\n",
              "      <td>0.633333</td>\n",
              "      <td>0.866667</td>\n",
              "      <td>0.233333</td>\n",
              "      <td>0.133333</td>\n",
              "    </tr>\n",
              "    <tr>\n",
              "      <th>3</th>\n",
              "      <td>context_precision</td>\n",
              "      <td>0.680556</td>\n",
              "      <td>0.717126</td>\n",
              "      <td>0.706746</td>\n",
              "      <td>-0.010380</td>\n",
              "      <td>0.026190</td>\n",
              "    </tr>\n",
              "    <tr>\n",
              "      <th>4</th>\n",
              "      <td>answer_correctness</td>\n",
              "      <td>0.499368</td>\n",
              "      <td>0.582026</td>\n",
              "      <td>0.577645</td>\n",
              "      <td>-0.004381</td>\n",
              "      <td>0.078277</td>\n",
              "    </tr>\n",
              "  </tbody>\n",
              "</table>\n",
              "</div>"
            ],
            "text/plain": [
              "               Metric  Baseline       ADA  Text Embedding 3  \\\n",
              "0        faithfulness  1.000000  0.975000          0.738333   \n",
              "1    answer_relevancy  0.472836  0.750763          0.854988   \n",
              "2      context_recall  0.733333  0.633333          0.866667   \n",
              "3   context_precision  0.680556  0.717126          0.706746   \n",
              "4  answer_correctness  0.499368  0.582026          0.577645   \n",
              "\n",
              "   Delta - TE3 -> ADA  Delta - TE3 -> Baseline  \n",
              "0           -0.236667                -0.261667  \n",
              "1            0.104225                 0.382152  \n",
              "2            0.233333                 0.133333  \n",
              "3           -0.010380                 0.026190  \n",
              "4           -0.004381                 0.078277  "
            ]
          },
          "execution_count": 63,
          "metadata": {},
          "output_type": "execute_result"
        }
      ],
      "source": [
        "# build a dataframe to compare the results of the different retrieval methods\n",
        "df_baseline = pd.DataFrame(list(results.items()), columns=['Metric', 'Baseline'])\n",
        "df_original = pd.DataFrame(list(advanced_retrieval_results.items()), columns=['Metric', 'ADA'])\n",
        "df_comparison = pd.DataFrame(list(new_advanced_retrieval_results.items()), columns=['Metric', 'Text Embedding 3'])\n",
        "\n",
        "df_merged = pd.merge(df_original, df_comparison, on='Metric')\n",
        "df_merged = pd.merge(df_baseline, df_merged, on=\"Metric\")\n",
        "\n",
        "df_merged['Delta - TE3 -> ADA'] = df_merged['Text Embedding 3'] - df_merged['ADA']\n",
        "df_merged['Delta - TE3 -> Baseline'] = df_merged['Text Embedding 3'] - df_merged['Baseline']\n",
        "\n",
        "df_merged"
      ]
    },
    {
      "cell_type": "markdown",
      "metadata": {
        "id": "rRmkcMrxC4Me"
      },
      "source": [
        "####❓ Question #4:\n",
        "\n",
        "Do you think, in your opinion, `text-embedding-3-small` is significantly better than `ada`?"
      ]
    },
    {
      "cell_type": "markdown",
      "metadata": {},
      "source": [
        "#### Answer #4:\n",
        "In my opinion, it is better but not significantly. The difference between context_precision and answer_correctness are miniscule so I consider them equal.\n",
        "answer_relevancy and context_recall are much ebtter for the text embedding  small model. \n",
        "Faithfulness, imo is low because I used GPT3.5 for both runs. \n",
        " "
      ]
    },
    {
      "cell_type": "markdown",
      "metadata": {
        "id": "iOciJLABDBnA"
      },
      "source": [
        "## BONUS ACTIVITY: Showcase Multi-Context Perfomance Changes\n",
        "\n",
        "Now that we've looked at a number of different examples - showcase the difference on the multi-context *specific* questions that were synthetically generated.\n",
        "\n",
        "> NOTE: You have all the data you'll need already in the notebook if you made it to this step!"
      ]
    },
    {
      "cell_type": "code",
      "execution_count": 253,
      "metadata": {
        "id": "MY8l2EksDH43"
      },
      "outputs": [],
      "source": [
        "### YOUR CODE HERE"
      ]
    }
  ],
  "metadata": {
    "colab": {
      "provenance": []
    },
    "kernelspec": {
      "display_name": "ragas_env",
      "language": "python",
      "name": "ragas_env"
    },
    "language_info": {
      "codemirror_mode": {
        "name": "ipython",
        "version": 3
      },
      "file_extension": ".py",
      "mimetype": "text/x-python",
      "name": "python",
      "nbconvert_exporter": "python",
      "pygments_lexer": "ipython3",
      "version": "3.11.6"
    },
    "widgets": {
      "application/vnd.jupyter.widget-state+json": {
        "04fb2aabb5164e63a01ef7de283e369b": {
          "model_module": "@jupyter-widgets/controls",
          "model_module_version": "1.5.0",
          "model_name": "DescriptionStyleModel",
          "state": {
            "_model_module": "@jupyter-widgets/controls",
            "_model_module_version": "1.5.0",
            "_model_name": "DescriptionStyleModel",
            "_view_count": null,
            "_view_module": "@jupyter-widgets/base",
            "_view_module_version": "1.2.0",
            "_view_name": "StyleView",
            "description_width": ""
          }
        },
        "07049044307946aeb86d2a48a48abbb8": {
          "model_module": "@jupyter-widgets/controls",
          "model_module_version": "1.5.0",
          "model_name": "FloatProgressModel",
          "state": {
            "_dom_classes": [],
            "_model_module": "@jupyter-widgets/controls",
            "_model_module_version": "1.5.0",
            "_model_name": "FloatProgressModel",
            "_view_count": null,
            "_view_module": "@jupyter-widgets/controls",
            "_view_module_version": "1.5.0",
            "_view_name": "ProgressView",
            "bar_style": "success",
            "description": "",
            "description_tooltip": null,
            "layout": "IPY_MODEL_b80fac1b810e415789a10175fb11b0bc",
            "max": 90,
            "min": 0,
            "orientation": "horizontal",
            "style": "IPY_MODEL_48034a3fc19847edb7da8e11ee75774c",
            "value": 90
          }
        },
        "13a6eac487424a6e8cba55fe80ab14b0": {
          "model_module": "@jupyter-widgets/controls",
          "model_module_version": "1.5.0",
          "model_name": "HTMLModel",
          "state": {
            "_dom_classes": [],
            "_model_module": "@jupyter-widgets/controls",
            "_model_module_version": "1.5.0",
            "_model_name": "HTMLModel",
            "_view_count": null,
            "_view_module": "@jupyter-widgets/controls",
            "_view_module_version": "1.5.0",
            "_view_name": "HTMLView",
            "description": "",
            "description_tooltip": null,
            "layout": "IPY_MODEL_657bd409f8e74cbab4919ccfafb61b9a",
            "placeholder": "​",
            "style": "IPY_MODEL_19ea7a76caca4e90b7a4250344c2b7aa",
            "value": "Evaluating: 100%"
          }
        },
        "14c415af32d54784871d892d13338148": {
          "model_module": "@jupyter-widgets/base",
          "model_module_version": "1.2.0",
          "model_name": "LayoutModel",
          "state": {
            "_model_module": "@jupyter-widgets/base",
            "_model_module_version": "1.2.0",
            "_model_name": "LayoutModel",
            "_view_count": null,
            "_view_module": "@jupyter-widgets/base",
            "_view_module_version": "1.2.0",
            "_view_name": "LayoutView",
            "align_content": null,
            "align_items": null,
            "align_self": null,
            "border": null,
            "bottom": null,
            "display": null,
            "flex": null,
            "flex_flow": null,
            "grid_area": null,
            "grid_auto_columns": null,
            "grid_auto_flow": null,
            "grid_auto_rows": null,
            "grid_column": null,
            "grid_gap": null,
            "grid_row": null,
            "grid_template_areas": null,
            "grid_template_columns": null,
            "grid_template_rows": null,
            "height": null,
            "justify_content": null,
            "justify_items": null,
            "left": null,
            "margin": null,
            "max_height": null,
            "max_width": null,
            "min_height": null,
            "min_width": null,
            "object_fit": null,
            "object_position": null,
            "order": null,
            "overflow": null,
            "overflow_x": null,
            "overflow_y": null,
            "padding": null,
            "right": null,
            "top": null,
            "visibility": "hidden",
            "width": null
          }
        },
        "1979939c0b724700b91036413a201394": {
          "model_module": "@jupyter-widgets/controls",
          "model_module_version": "1.5.0",
          "model_name": "HBoxModel",
          "state": {
            "_dom_classes": [],
            "_model_module": "@jupyter-widgets/controls",
            "_model_module_version": "1.5.0",
            "_model_name": "HBoxModel",
            "_view_count": null,
            "_view_module": "@jupyter-widgets/controls",
            "_view_module_version": "1.5.0",
            "_view_name": "HBoxView",
            "box_style": "",
            "children": [
              "IPY_MODEL_13a6eac487424a6e8cba55fe80ab14b0",
              "IPY_MODEL_5bfedf7db9f74de6acf4257dad1ab8fe",
              "IPY_MODEL_6b332b97af494a609bd91cabef779e25"
            ],
            "layout": "IPY_MODEL_b1a56f3ff2fc41d6b8fbcfe7cba6a767"
          }
        },
        "19ea7a76caca4e90b7a4250344c2b7aa": {
          "model_module": "@jupyter-widgets/controls",
          "model_module_version": "1.5.0",
          "model_name": "DescriptionStyleModel",
          "state": {
            "_model_module": "@jupyter-widgets/controls",
            "_model_module_version": "1.5.0",
            "_model_name": "DescriptionStyleModel",
            "_view_count": null,
            "_view_module": "@jupyter-widgets/base",
            "_view_module_version": "1.2.0",
            "_view_name": "StyleView",
            "description_width": ""
          }
        },
        "1a96adc24ab34300b3b68e46364f745b": {
          "model_module": "@jupyter-widgets/controls",
          "model_module_version": "1.5.0",
          "model_name": "ProgressStyleModel",
          "state": {
            "_model_module": "@jupyter-widgets/controls",
            "_model_module_version": "1.5.0",
            "_model_name": "ProgressStyleModel",
            "_view_count": null,
            "_view_module": "@jupyter-widgets/base",
            "_view_module_version": "1.2.0",
            "_view_name": "StyleView",
            "bar_color": null,
            "description_width": ""
          }
        },
        "21849ee7e76f45049eb59e5b1c0815c9": {
          "model_module": "@jupyter-widgets/controls",
          "model_module_version": "1.5.0",
          "model_name": "FloatProgressModel",
          "state": {
            "_dom_classes": [],
            "_model_module": "@jupyter-widgets/controls",
            "_model_module_version": "1.5.0",
            "_model_name": "FloatProgressModel",
            "_view_count": null,
            "_view_module": "@jupyter-widgets/controls",
            "_view_module_version": "1.5.0",
            "_view_name": "ProgressView",
            "bar_style": "success",
            "description": "",
            "description_tooltip": null,
            "layout": "IPY_MODEL_5215d48d2bf8433299f0dc26cc44f176",
            "max": 90,
            "min": 0,
            "orientation": "horizontal",
            "style": "IPY_MODEL_a7bde4cf0c9249989a22480bfa09ef01",
            "value": 90
          }
        },
        "23da939d19ab41fcbdf80efd237e6f06": {
          "model_module": "@jupyter-widgets/base",
          "model_module_version": "1.2.0",
          "model_name": "LayoutModel",
          "state": {
            "_model_module": "@jupyter-widgets/base",
            "_model_module_version": "1.2.0",
            "_model_name": "LayoutModel",
            "_view_count": null,
            "_view_module": "@jupyter-widgets/base",
            "_view_module_version": "1.2.0",
            "_view_name": "LayoutView",
            "align_content": null,
            "align_items": null,
            "align_self": null,
            "border": null,
            "bottom": null,
            "display": null,
            "flex": null,
            "flex_flow": null,
            "grid_area": null,
            "grid_auto_columns": null,
            "grid_auto_flow": null,
            "grid_auto_rows": null,
            "grid_column": null,
            "grid_gap": null,
            "grid_row": null,
            "grid_template_areas": null,
            "grid_template_columns": null,
            "grid_template_rows": null,
            "height": null,
            "justify_content": null,
            "justify_items": null,
            "left": null,
            "margin": null,
            "max_height": null,
            "max_width": null,
            "min_height": null,
            "min_width": null,
            "object_fit": null,
            "object_position": null,
            "order": null,
            "overflow": null,
            "overflow_x": null,
            "overflow_y": null,
            "padding": null,
            "right": null,
            "top": null,
            "visibility": null,
            "width": null
          }
        },
        "25ffe3654bcd4610b60e97a08a66f377": {
          "model_module": "@jupyter-widgets/base",
          "model_module_version": "1.2.0",
          "model_name": "LayoutModel",
          "state": {
            "_model_module": "@jupyter-widgets/base",
            "_model_module_version": "1.2.0",
            "_model_name": "LayoutModel",
            "_view_count": null,
            "_view_module": "@jupyter-widgets/base",
            "_view_module_version": "1.2.0",
            "_view_name": "LayoutView",
            "align_content": null,
            "align_items": null,
            "align_self": null,
            "border": null,
            "bottom": null,
            "display": null,
            "flex": null,
            "flex_flow": null,
            "grid_area": null,
            "grid_auto_columns": null,
            "grid_auto_flow": null,
            "grid_auto_rows": null,
            "grid_column": null,
            "grid_gap": null,
            "grid_row": null,
            "grid_template_areas": null,
            "grid_template_columns": null,
            "grid_template_rows": null,
            "height": null,
            "justify_content": null,
            "justify_items": null,
            "left": null,
            "margin": null,
            "max_height": null,
            "max_width": null,
            "min_height": null,
            "min_width": null,
            "object_fit": null,
            "object_position": null,
            "order": null,
            "overflow": null,
            "overflow_x": null,
            "overflow_y": null,
            "padding": null,
            "right": null,
            "top": null,
            "visibility": null,
            "width": null
          }
        },
        "27360866d0f2483abcb08a014b2bf791": {
          "model_module": "@jupyter-widgets/controls",
          "model_module_version": "1.5.0",
          "model_name": "HTMLModel",
          "state": {
            "_dom_classes": [],
            "_model_module": "@jupyter-widgets/controls",
            "_model_module_version": "1.5.0",
            "_model_name": "HTMLModel",
            "_view_count": null,
            "_view_module": "@jupyter-widgets/controls",
            "_view_module_version": "1.5.0",
            "_view_name": "HTMLView",
            "description": "",
            "description_tooltip": null,
            "layout": "IPY_MODEL_25ffe3654bcd4610b60e97a08a66f377",
            "placeholder": "​",
            "style": "IPY_MODEL_b17bca7181154a8ab0387fc37a2d4536",
            "value": " 90/90 [00:36&lt;00:00,  1.25it/s]"
          }
        },
        "291e0a01c3e84b839d7ab677d9f8a074": {
          "model_module": "@jupyter-widgets/controls",
          "model_module_version": "1.5.0",
          "model_name": "FloatProgressModel",
          "state": {
            "_dom_classes": [],
            "_model_module": "@jupyter-widgets/controls",
            "_model_module_version": "1.5.0",
            "_model_name": "FloatProgressModel",
            "_view_count": null,
            "_view_module": "@jupyter-widgets/controls",
            "_view_module_version": "1.5.0",
            "_view_name": "ProgressView",
            "bar_style": "",
            "description": "",
            "description_tooltip": null,
            "layout": "IPY_MODEL_7729ca7a0a914d7187c2a4bad2180a65",
            "max": 112,
            "min": 0,
            "orientation": "horizontal",
            "style": "IPY_MODEL_3eff985efa934fe8a2db753fc7e5d8dc",
            "value": 112
          }
        },
        "2cb51bc6e5d74683b17f8b9190fbf33a": {
          "model_module": "@jupyter-widgets/base",
          "model_module_version": "1.2.0",
          "model_name": "LayoutModel",
          "state": {
            "_model_module": "@jupyter-widgets/base",
            "_model_module_version": "1.2.0",
            "_model_name": "LayoutModel",
            "_view_count": null,
            "_view_module": "@jupyter-widgets/base",
            "_view_module_version": "1.2.0",
            "_view_name": "LayoutView",
            "align_content": null,
            "align_items": null,
            "align_self": null,
            "border": null,
            "bottom": null,
            "display": null,
            "flex": null,
            "flex_flow": null,
            "grid_area": null,
            "grid_auto_columns": null,
            "grid_auto_flow": null,
            "grid_auto_rows": null,
            "grid_column": null,
            "grid_gap": null,
            "grid_row": null,
            "grid_template_areas": null,
            "grid_template_columns": null,
            "grid_template_rows": null,
            "height": null,
            "justify_content": null,
            "justify_items": null,
            "left": null,
            "margin": null,
            "max_height": null,
            "max_width": null,
            "min_height": null,
            "min_width": null,
            "object_fit": null,
            "object_position": null,
            "order": null,
            "overflow": null,
            "overflow_x": null,
            "overflow_y": null,
            "padding": null,
            "right": null,
            "top": null,
            "visibility": null,
            "width": null
          }
        },
        "3dd02b027e91427b9dd025f822550f22": {
          "model_module": "@jupyter-widgets/controls",
          "model_module_version": "1.5.0",
          "model_name": "ProgressStyleModel",
          "state": {
            "_model_module": "@jupyter-widgets/controls",
            "_model_module_version": "1.5.0",
            "_model_name": "ProgressStyleModel",
            "_view_count": null,
            "_view_module": "@jupyter-widgets/base",
            "_view_module_version": "1.2.0",
            "_view_name": "StyleView",
            "bar_color": null,
            "description_width": ""
          }
        },
        "3eff985efa934fe8a2db753fc7e5d8dc": {
          "model_module": "@jupyter-widgets/controls",
          "model_module_version": "1.5.0",
          "model_name": "ProgressStyleModel",
          "state": {
            "_model_module": "@jupyter-widgets/controls",
            "_model_module_version": "1.5.0",
            "_model_name": "ProgressStyleModel",
            "_view_count": null,
            "_view_module": "@jupyter-widgets/base",
            "_view_module_version": "1.2.0",
            "_view_name": "StyleView",
            "bar_color": null,
            "description_width": ""
          }
        },
        "48034a3fc19847edb7da8e11ee75774c": {
          "model_module": "@jupyter-widgets/controls",
          "model_module_version": "1.5.0",
          "model_name": "ProgressStyleModel",
          "state": {
            "_model_module": "@jupyter-widgets/controls",
            "_model_module_version": "1.5.0",
            "_model_name": "ProgressStyleModel",
            "_view_count": null,
            "_view_module": "@jupyter-widgets/base",
            "_view_module_version": "1.2.0",
            "_view_name": "StyleView",
            "bar_color": null,
            "description_width": ""
          }
        },
        "5215d48d2bf8433299f0dc26cc44f176": {
          "model_module": "@jupyter-widgets/base",
          "model_module_version": "1.2.0",
          "model_name": "LayoutModel",
          "state": {
            "_model_module": "@jupyter-widgets/base",
            "_model_module_version": "1.2.0",
            "_model_name": "LayoutModel",
            "_view_count": null,
            "_view_module": "@jupyter-widgets/base",
            "_view_module_version": "1.2.0",
            "_view_name": "LayoutView",
            "align_content": null,
            "align_items": null,
            "align_self": null,
            "border": null,
            "bottom": null,
            "display": null,
            "flex": null,
            "flex_flow": null,
            "grid_area": null,
            "grid_auto_columns": null,
            "grid_auto_flow": null,
            "grid_auto_rows": null,
            "grid_column": null,
            "grid_gap": null,
            "grid_row": null,
            "grid_template_areas": null,
            "grid_template_columns": null,
            "grid_template_rows": null,
            "height": null,
            "justify_content": null,
            "justify_items": null,
            "left": null,
            "margin": null,
            "max_height": null,
            "max_width": null,
            "min_height": null,
            "min_width": null,
            "object_fit": null,
            "object_position": null,
            "order": null,
            "overflow": null,
            "overflow_x": null,
            "overflow_y": null,
            "padding": null,
            "right": null,
            "top": null,
            "visibility": null,
            "width": null
          }
        },
        "592c79ab0b3c48a3bf8b9690ed36bbbf": {
          "model_module": "@jupyter-widgets/base",
          "model_module_version": "1.2.0",
          "model_name": "LayoutModel",
          "state": {
            "_model_module": "@jupyter-widgets/base",
            "_model_module_version": "1.2.0",
            "_model_name": "LayoutModel",
            "_view_count": null,
            "_view_module": "@jupyter-widgets/base",
            "_view_module_version": "1.2.0",
            "_view_name": "LayoutView",
            "align_content": null,
            "align_items": null,
            "align_self": null,
            "border": null,
            "bottom": null,
            "display": null,
            "flex": null,
            "flex_flow": null,
            "grid_area": null,
            "grid_auto_columns": null,
            "grid_auto_flow": null,
            "grid_auto_rows": null,
            "grid_column": null,
            "grid_gap": null,
            "grid_row": null,
            "grid_template_areas": null,
            "grid_template_columns": null,
            "grid_template_rows": null,
            "height": null,
            "justify_content": null,
            "justify_items": null,
            "left": null,
            "margin": null,
            "max_height": null,
            "max_width": null,
            "min_height": null,
            "min_width": null,
            "object_fit": null,
            "object_position": null,
            "order": null,
            "overflow": null,
            "overflow_x": null,
            "overflow_y": null,
            "padding": null,
            "right": null,
            "top": null,
            "visibility": null,
            "width": null
          }
        },
        "5bfedf7db9f74de6acf4257dad1ab8fe": {
          "model_module": "@jupyter-widgets/controls",
          "model_module_version": "1.5.0",
          "model_name": "FloatProgressModel",
          "state": {
            "_dom_classes": [],
            "_model_module": "@jupyter-widgets/controls",
            "_model_module_version": "1.5.0",
            "_model_name": "FloatProgressModel",
            "_view_count": null,
            "_view_module": "@jupyter-widgets/controls",
            "_view_module_version": "1.5.0",
            "_view_name": "ProgressView",
            "bar_style": "success",
            "description": "",
            "description_tooltip": null,
            "layout": "IPY_MODEL_9c59d4f3a89443f0b372af4243378a17",
            "max": 90,
            "min": 0,
            "orientation": "horizontal",
            "style": "IPY_MODEL_3dd02b027e91427b9dd025f822550f22",
            "value": 90
          }
        },
        "6362de259fc64994a9f677002ebfb09b": {
          "model_module": "@jupyter-widgets/controls",
          "model_module_version": "1.5.0",
          "model_name": "DescriptionStyleModel",
          "state": {
            "_model_module": "@jupyter-widgets/controls",
            "_model_module_version": "1.5.0",
            "_model_name": "DescriptionStyleModel",
            "_view_count": null,
            "_view_module": "@jupyter-widgets/base",
            "_view_module_version": "1.2.0",
            "_view_name": "StyleView",
            "description_width": ""
          }
        },
        "6564a4092ce04ff5a63a2618158fcc3a": {
          "model_module": "@jupyter-widgets/base",
          "model_module_version": "1.2.0",
          "model_name": "LayoutModel",
          "state": {
            "_model_module": "@jupyter-widgets/base",
            "_model_module_version": "1.2.0",
            "_model_name": "LayoutModel",
            "_view_count": null,
            "_view_module": "@jupyter-widgets/base",
            "_view_module_version": "1.2.0",
            "_view_name": "LayoutView",
            "align_content": null,
            "align_items": null,
            "align_self": null,
            "border": null,
            "bottom": null,
            "display": null,
            "flex": null,
            "flex_flow": null,
            "grid_area": null,
            "grid_auto_columns": null,
            "grid_auto_flow": null,
            "grid_auto_rows": null,
            "grid_column": null,
            "grid_gap": null,
            "grid_row": null,
            "grid_template_areas": null,
            "grid_template_columns": null,
            "grid_template_rows": null,
            "height": null,
            "justify_content": null,
            "justify_items": null,
            "left": null,
            "margin": null,
            "max_height": null,
            "max_width": null,
            "min_height": null,
            "min_width": null,
            "object_fit": null,
            "object_position": null,
            "order": null,
            "overflow": null,
            "overflow_x": null,
            "overflow_y": null,
            "padding": null,
            "right": null,
            "top": null,
            "visibility": null,
            "width": null
          }
        },
        "657bd409f8e74cbab4919ccfafb61b9a": {
          "model_module": "@jupyter-widgets/base",
          "model_module_version": "1.2.0",
          "model_name": "LayoutModel",
          "state": {
            "_model_module": "@jupyter-widgets/base",
            "_model_module_version": "1.2.0",
            "_model_name": "LayoutModel",
            "_view_count": null,
            "_view_module": "@jupyter-widgets/base",
            "_view_module_version": "1.2.0",
            "_view_name": "LayoutView",
            "align_content": null,
            "align_items": null,
            "align_self": null,
            "border": null,
            "bottom": null,
            "display": null,
            "flex": null,
            "flex_flow": null,
            "grid_area": null,
            "grid_auto_columns": null,
            "grid_auto_flow": null,
            "grid_auto_rows": null,
            "grid_column": null,
            "grid_gap": null,
            "grid_row": null,
            "grid_template_areas": null,
            "grid_template_columns": null,
            "grid_template_rows": null,
            "height": null,
            "justify_content": null,
            "justify_items": null,
            "left": null,
            "margin": null,
            "max_height": null,
            "max_width": null,
            "min_height": null,
            "min_width": null,
            "object_fit": null,
            "object_position": null,
            "order": null,
            "overflow": null,
            "overflow_x": null,
            "overflow_y": null,
            "padding": null,
            "right": null,
            "top": null,
            "visibility": null,
            "width": null
          }
        },
        "6b332b97af494a609bd91cabef779e25": {
          "model_module": "@jupyter-widgets/controls",
          "model_module_version": "1.5.0",
          "model_name": "HTMLModel",
          "state": {
            "_dom_classes": [],
            "_model_module": "@jupyter-widgets/controls",
            "_model_module_version": "1.5.0",
            "_model_name": "HTMLModel",
            "_view_count": null,
            "_view_module": "@jupyter-widgets/controls",
            "_view_module_version": "1.5.0",
            "_view_name": "HTMLView",
            "description": "",
            "description_tooltip": null,
            "layout": "IPY_MODEL_9a1589c2328144038a70d2f1ed936434",
            "placeholder": "​",
            "style": "IPY_MODEL_978040aaab77415699ebd3f3ab43b7e5",
            "value": " 90/90 [00:43&lt;00:00,  1.08it/s]"
          }
        },
        "768bed58cacf44178ac16912e14ac434": {
          "model_module": "@jupyter-widgets/base",
          "model_module_version": "1.2.0",
          "model_name": "LayoutModel",
          "state": {
            "_model_module": "@jupyter-widgets/base",
            "_model_module_version": "1.2.0",
            "_model_name": "LayoutModel",
            "_view_count": null,
            "_view_module": "@jupyter-widgets/base",
            "_view_module_version": "1.2.0",
            "_view_name": "LayoutView",
            "align_content": null,
            "align_items": null,
            "align_self": null,
            "border": null,
            "bottom": null,
            "display": null,
            "flex": null,
            "flex_flow": null,
            "grid_area": null,
            "grid_auto_columns": null,
            "grid_auto_flow": null,
            "grid_auto_rows": null,
            "grid_column": null,
            "grid_gap": null,
            "grid_row": null,
            "grid_template_areas": null,
            "grid_template_columns": null,
            "grid_template_rows": null,
            "height": null,
            "justify_content": null,
            "justify_items": null,
            "left": null,
            "margin": null,
            "max_height": null,
            "max_width": null,
            "min_height": null,
            "min_width": null,
            "object_fit": null,
            "object_position": null,
            "order": null,
            "overflow": null,
            "overflow_x": null,
            "overflow_y": null,
            "padding": null,
            "right": null,
            "top": null,
            "visibility": null,
            "width": null
          }
        },
        "7729ca7a0a914d7187c2a4bad2180a65": {
          "model_module": "@jupyter-widgets/base",
          "model_module_version": "1.2.0",
          "model_name": "LayoutModel",
          "state": {
            "_model_module": "@jupyter-widgets/base",
            "_model_module_version": "1.2.0",
            "_model_name": "LayoutModel",
            "_view_count": null,
            "_view_module": "@jupyter-widgets/base",
            "_view_module_version": "1.2.0",
            "_view_name": "LayoutView",
            "align_content": null,
            "align_items": null,
            "align_self": null,
            "border": null,
            "bottom": null,
            "display": null,
            "flex": null,
            "flex_flow": null,
            "grid_area": null,
            "grid_auto_columns": null,
            "grid_auto_flow": null,
            "grid_auto_rows": null,
            "grid_column": null,
            "grid_gap": null,
            "grid_row": null,
            "grid_template_areas": null,
            "grid_template_columns": null,
            "grid_template_rows": null,
            "height": null,
            "justify_content": null,
            "justify_items": null,
            "left": null,
            "margin": null,
            "max_height": null,
            "max_width": null,
            "min_height": null,
            "min_width": null,
            "object_fit": null,
            "object_position": null,
            "order": null,
            "overflow": null,
            "overflow_x": null,
            "overflow_y": null,
            "padding": null,
            "right": null,
            "top": null,
            "visibility": null,
            "width": null
          }
        },
        "892075b88eba4ec19f7d77cbab38572f": {
          "model_module": "@jupyter-widgets/controls",
          "model_module_version": "1.5.0",
          "model_name": "DescriptionStyleModel",
          "state": {
            "_model_module": "@jupyter-widgets/controls",
            "_model_module_version": "1.5.0",
            "_model_name": "DescriptionStyleModel",
            "_view_count": null,
            "_view_module": "@jupyter-widgets/base",
            "_view_module_version": "1.2.0",
            "_view_name": "StyleView",
            "description_width": ""
          }
        },
        "8b226a0c779a49a8b0efdfa4156afc31": {
          "model_module": "@jupyter-widgets/controls",
          "model_module_version": "1.5.0",
          "model_name": "FloatProgressModel",
          "state": {
            "_dom_classes": [],
            "_model_module": "@jupyter-widgets/controls",
            "_model_module_version": "1.5.0",
            "_model_name": "FloatProgressModel",
            "_view_count": null,
            "_view_module": "@jupyter-widgets/controls",
            "_view_module_version": "1.5.0",
            "_view_name": "ProgressView",
            "bar_style": "success",
            "description": "",
            "description_tooltip": null,
            "layout": "IPY_MODEL_ec0f5e8999004da8826646a0cd0d0a01",
            "max": 20,
            "min": 0,
            "orientation": "horizontal",
            "style": "IPY_MODEL_1a96adc24ab34300b3b68e46364f745b",
            "value": 20
          }
        },
        "8beec47b68314f0faea61929019e4f25": {
          "model_module": "@jupyter-widgets/controls",
          "model_module_version": "1.5.0",
          "model_name": "HBoxModel",
          "state": {
            "_dom_classes": [],
            "_model_module": "@jupyter-widgets/controls",
            "_model_module_version": "1.5.0",
            "_model_name": "HBoxModel",
            "_view_count": null,
            "_view_module": "@jupyter-widgets/controls",
            "_view_module_version": "1.5.0",
            "_view_name": "HBoxView",
            "box_style": "",
            "children": [
              "IPY_MODEL_f3edbc21d8084a7bb04b7bc0b5c1b689",
              "IPY_MODEL_21849ee7e76f45049eb59e5b1c0815c9",
              "IPY_MODEL_c783728b34ef4672bb290bf34c844567"
            ],
            "layout": "IPY_MODEL_cb78200dac4742149d0de05c0af0bd97"
          }
        },
        "90fe2a85593d4f2f83c5e1ea2303bb11": {
          "model_module": "@jupyter-widgets/base",
          "model_module_version": "1.2.0",
          "model_name": "LayoutModel",
          "state": {
            "_model_module": "@jupyter-widgets/base",
            "_model_module_version": "1.2.0",
            "_model_name": "LayoutModel",
            "_view_count": null,
            "_view_module": "@jupyter-widgets/base",
            "_view_module_version": "1.2.0",
            "_view_name": "LayoutView",
            "align_content": null,
            "align_items": null,
            "align_self": null,
            "border": null,
            "bottom": null,
            "display": null,
            "flex": null,
            "flex_flow": null,
            "grid_area": null,
            "grid_auto_columns": null,
            "grid_auto_flow": null,
            "grid_auto_rows": null,
            "grid_column": null,
            "grid_gap": null,
            "grid_row": null,
            "grid_template_areas": null,
            "grid_template_columns": null,
            "grid_template_rows": null,
            "height": null,
            "justify_content": null,
            "justify_items": null,
            "left": null,
            "margin": null,
            "max_height": null,
            "max_width": null,
            "min_height": null,
            "min_width": null,
            "object_fit": null,
            "object_position": null,
            "order": null,
            "overflow": null,
            "overflow_x": null,
            "overflow_y": null,
            "padding": null,
            "right": null,
            "top": null,
            "visibility": null,
            "width": null
          }
        },
        "96403d0bca064737ac89ee0e9f67e8b5": {
          "model_module": "@jupyter-widgets/controls",
          "model_module_version": "1.5.0",
          "model_name": "DescriptionStyleModel",
          "state": {
            "_model_module": "@jupyter-widgets/controls",
            "_model_module_version": "1.5.0",
            "_model_name": "DescriptionStyleModel",
            "_view_count": null,
            "_view_module": "@jupyter-widgets/base",
            "_view_module_version": "1.2.0",
            "_view_name": "StyleView",
            "description_width": ""
          }
        },
        "978040aaab77415699ebd3f3ab43b7e5": {
          "model_module": "@jupyter-widgets/controls",
          "model_module_version": "1.5.0",
          "model_name": "DescriptionStyleModel",
          "state": {
            "_model_module": "@jupyter-widgets/controls",
            "_model_module_version": "1.5.0",
            "_model_name": "DescriptionStyleModel",
            "_view_count": null,
            "_view_module": "@jupyter-widgets/base",
            "_view_module_version": "1.2.0",
            "_view_name": "StyleView",
            "description_width": ""
          }
        },
        "9a1589c2328144038a70d2f1ed936434": {
          "model_module": "@jupyter-widgets/base",
          "model_module_version": "1.2.0",
          "model_name": "LayoutModel",
          "state": {
            "_model_module": "@jupyter-widgets/base",
            "_model_module_version": "1.2.0",
            "_model_name": "LayoutModel",
            "_view_count": null,
            "_view_module": "@jupyter-widgets/base",
            "_view_module_version": "1.2.0",
            "_view_name": "LayoutView",
            "align_content": null,
            "align_items": null,
            "align_self": null,
            "border": null,
            "bottom": null,
            "display": null,
            "flex": null,
            "flex_flow": null,
            "grid_area": null,
            "grid_auto_columns": null,
            "grid_auto_flow": null,
            "grid_auto_rows": null,
            "grid_column": null,
            "grid_gap": null,
            "grid_row": null,
            "grid_template_areas": null,
            "grid_template_columns": null,
            "grid_template_rows": null,
            "height": null,
            "justify_content": null,
            "justify_items": null,
            "left": null,
            "margin": null,
            "max_height": null,
            "max_width": null,
            "min_height": null,
            "min_width": null,
            "object_fit": null,
            "object_position": null,
            "order": null,
            "overflow": null,
            "overflow_x": null,
            "overflow_y": null,
            "padding": null,
            "right": null,
            "top": null,
            "visibility": null,
            "width": null
          }
        },
        "9c59d4f3a89443f0b372af4243378a17": {
          "model_module": "@jupyter-widgets/base",
          "model_module_version": "1.2.0",
          "model_name": "LayoutModel",
          "state": {
            "_model_module": "@jupyter-widgets/base",
            "_model_module_version": "1.2.0",
            "_model_name": "LayoutModel",
            "_view_count": null,
            "_view_module": "@jupyter-widgets/base",
            "_view_module_version": "1.2.0",
            "_view_name": "LayoutView",
            "align_content": null,
            "align_items": null,
            "align_self": null,
            "border": null,
            "bottom": null,
            "display": null,
            "flex": null,
            "flex_flow": null,
            "grid_area": null,
            "grid_auto_columns": null,
            "grid_auto_flow": null,
            "grid_auto_rows": null,
            "grid_column": null,
            "grid_gap": null,
            "grid_row": null,
            "grid_template_areas": null,
            "grid_template_columns": null,
            "grid_template_rows": null,
            "height": null,
            "justify_content": null,
            "justify_items": null,
            "left": null,
            "margin": null,
            "max_height": null,
            "max_width": null,
            "min_height": null,
            "min_width": null,
            "object_fit": null,
            "object_position": null,
            "order": null,
            "overflow": null,
            "overflow_x": null,
            "overflow_y": null,
            "padding": null,
            "right": null,
            "top": null,
            "visibility": null,
            "width": null
          }
        },
        "a10a3efc00644613a610a54e9e0080a3": {
          "model_module": "@jupyter-widgets/controls",
          "model_module_version": "1.5.0",
          "model_name": "HBoxModel",
          "state": {
            "_dom_classes": [],
            "_model_module": "@jupyter-widgets/controls",
            "_model_module_version": "1.5.0",
            "_model_name": "HBoxModel",
            "_view_count": null,
            "_view_module": "@jupyter-widgets/controls",
            "_view_module_version": "1.5.0",
            "_view_name": "HBoxView",
            "box_style": "",
            "children": [
              "IPY_MODEL_cdf3ff710cbb4ab09f59a2f317e2162d",
              "IPY_MODEL_8b226a0c779a49a8b0efdfa4156afc31",
              "IPY_MODEL_e8cc5f2707724b9faf50e1b86e6f1890"
            ],
            "layout": "IPY_MODEL_a32d9af8b8444a8e80f7473dbe791d3c"
          }
        },
        "a32d9af8b8444a8e80f7473dbe791d3c": {
          "model_module": "@jupyter-widgets/base",
          "model_module_version": "1.2.0",
          "model_name": "LayoutModel",
          "state": {
            "_model_module": "@jupyter-widgets/base",
            "_model_module_version": "1.2.0",
            "_model_name": "LayoutModel",
            "_view_count": null,
            "_view_module": "@jupyter-widgets/base",
            "_view_module_version": "1.2.0",
            "_view_name": "LayoutView",
            "align_content": null,
            "align_items": null,
            "align_self": null,
            "border": null,
            "bottom": null,
            "display": null,
            "flex": null,
            "flex_flow": null,
            "grid_area": null,
            "grid_auto_columns": null,
            "grid_auto_flow": null,
            "grid_auto_rows": null,
            "grid_column": null,
            "grid_gap": null,
            "grid_row": null,
            "grid_template_areas": null,
            "grid_template_columns": null,
            "grid_template_rows": null,
            "height": null,
            "justify_content": null,
            "justify_items": null,
            "left": null,
            "margin": null,
            "max_height": null,
            "max_width": null,
            "min_height": null,
            "min_width": null,
            "object_fit": null,
            "object_position": null,
            "order": null,
            "overflow": null,
            "overflow_x": null,
            "overflow_y": null,
            "padding": null,
            "right": null,
            "top": null,
            "visibility": null,
            "width": null
          }
        },
        "a3cc61e2fc854b26ad2ba3b6a68add50": {
          "model_module": "@jupyter-widgets/base",
          "model_module_version": "1.2.0",
          "model_name": "LayoutModel",
          "state": {
            "_model_module": "@jupyter-widgets/base",
            "_model_module_version": "1.2.0",
            "_model_name": "LayoutModel",
            "_view_count": null,
            "_view_module": "@jupyter-widgets/base",
            "_view_module_version": "1.2.0",
            "_view_name": "LayoutView",
            "align_content": null,
            "align_items": null,
            "align_self": null,
            "border": null,
            "bottom": null,
            "display": null,
            "flex": null,
            "flex_flow": null,
            "grid_area": null,
            "grid_auto_columns": null,
            "grid_auto_flow": null,
            "grid_auto_rows": null,
            "grid_column": null,
            "grid_gap": null,
            "grid_row": null,
            "grid_template_areas": null,
            "grid_template_columns": null,
            "grid_template_rows": null,
            "height": null,
            "justify_content": null,
            "justify_items": null,
            "left": null,
            "margin": null,
            "max_height": null,
            "max_width": null,
            "min_height": null,
            "min_width": null,
            "object_fit": null,
            "object_position": null,
            "order": null,
            "overflow": null,
            "overflow_x": null,
            "overflow_y": null,
            "padding": null,
            "right": null,
            "top": null,
            "visibility": null,
            "width": null
          }
        },
        "a7bde4cf0c9249989a22480bfa09ef01": {
          "model_module": "@jupyter-widgets/controls",
          "model_module_version": "1.5.0",
          "model_name": "ProgressStyleModel",
          "state": {
            "_model_module": "@jupyter-widgets/controls",
            "_model_module_version": "1.5.0",
            "_model_name": "ProgressStyleModel",
            "_view_count": null,
            "_view_module": "@jupyter-widgets/base",
            "_view_module_version": "1.2.0",
            "_view_name": "StyleView",
            "bar_color": null,
            "description_width": ""
          }
        },
        "a7db7f141e8145bc833d6378589c44fa": {
          "model_module": "@jupyter-widgets/controls",
          "model_module_version": "1.5.0",
          "model_name": "DescriptionStyleModel",
          "state": {
            "_model_module": "@jupyter-widgets/controls",
            "_model_module_version": "1.5.0",
            "_model_name": "DescriptionStyleModel",
            "_view_count": null,
            "_view_module": "@jupyter-widgets/base",
            "_view_module_version": "1.2.0",
            "_view_name": "StyleView",
            "description_width": ""
          }
        },
        "aa309f56fa494d768e9dfd87ef1412aa": {
          "model_module": "@jupyter-widgets/controls",
          "model_module_version": "1.5.0",
          "model_name": "DescriptionStyleModel",
          "state": {
            "_model_module": "@jupyter-widgets/controls",
            "_model_module_version": "1.5.0",
            "_model_name": "DescriptionStyleModel",
            "_view_count": null,
            "_view_module": "@jupyter-widgets/base",
            "_view_module_version": "1.2.0",
            "_view_name": "StyleView",
            "description_width": ""
          }
        },
        "adb9ad0e77e344fca71e4d7f2fd79c66": {
          "model_module": "@jupyter-widgets/controls",
          "model_module_version": "1.5.0",
          "model_name": "HTMLModel",
          "state": {
            "_dom_classes": [],
            "_model_module": "@jupyter-widgets/controls",
            "_model_module_version": "1.5.0",
            "_model_name": "HTMLModel",
            "_view_count": null,
            "_view_module": "@jupyter-widgets/controls",
            "_view_module_version": "1.5.0",
            "_view_name": "HTMLView",
            "description": "",
            "description_tooltip": null,
            "layout": "IPY_MODEL_a3cc61e2fc854b26ad2ba3b6a68add50",
            "placeholder": "​",
            "style": "IPY_MODEL_d1c95ea15ab5400db377fd3d54fd7e21",
            "value": " 109/112 [00:03&lt;00:00, 29.63it/s]"
          }
        },
        "b08fe3ad33c74e13b80fe481fbbd0558": {
          "model_module": "@jupyter-widgets/controls",
          "model_module_version": "1.5.0",
          "model_name": "HBoxModel",
          "state": {
            "_dom_classes": [],
            "_model_module": "@jupyter-widgets/controls",
            "_model_module_version": "1.5.0",
            "_model_name": "HBoxModel",
            "_view_count": null,
            "_view_module": "@jupyter-widgets/controls",
            "_view_module_version": "1.5.0",
            "_view_name": "HBoxView",
            "box_style": "",
            "children": [
              "IPY_MODEL_e31321a9028b4cf99652a849cadbd87e",
              "IPY_MODEL_07049044307946aeb86d2a48a48abbb8",
              "IPY_MODEL_27360866d0f2483abcb08a014b2bf791"
            ],
            "layout": "IPY_MODEL_23da939d19ab41fcbdf80efd237e6f06"
          }
        },
        "b17bca7181154a8ab0387fc37a2d4536": {
          "model_module": "@jupyter-widgets/controls",
          "model_module_version": "1.5.0",
          "model_name": "DescriptionStyleModel",
          "state": {
            "_model_module": "@jupyter-widgets/controls",
            "_model_module_version": "1.5.0",
            "_model_name": "DescriptionStyleModel",
            "_view_count": null,
            "_view_module": "@jupyter-widgets/base",
            "_view_module_version": "1.2.0",
            "_view_name": "StyleView",
            "description_width": ""
          }
        },
        "b1a56f3ff2fc41d6b8fbcfe7cba6a767": {
          "model_module": "@jupyter-widgets/base",
          "model_module_version": "1.2.0",
          "model_name": "LayoutModel",
          "state": {
            "_model_module": "@jupyter-widgets/base",
            "_model_module_version": "1.2.0",
            "_model_name": "LayoutModel",
            "_view_count": null,
            "_view_module": "@jupyter-widgets/base",
            "_view_module_version": "1.2.0",
            "_view_name": "LayoutView",
            "align_content": null,
            "align_items": null,
            "align_self": null,
            "border": null,
            "bottom": null,
            "display": null,
            "flex": null,
            "flex_flow": null,
            "grid_area": null,
            "grid_auto_columns": null,
            "grid_auto_flow": null,
            "grid_auto_rows": null,
            "grid_column": null,
            "grid_gap": null,
            "grid_row": null,
            "grid_template_areas": null,
            "grid_template_columns": null,
            "grid_template_rows": null,
            "height": null,
            "justify_content": null,
            "justify_items": null,
            "left": null,
            "margin": null,
            "max_height": null,
            "max_width": null,
            "min_height": null,
            "min_width": null,
            "object_fit": null,
            "object_position": null,
            "order": null,
            "overflow": null,
            "overflow_x": null,
            "overflow_y": null,
            "padding": null,
            "right": null,
            "top": null,
            "visibility": null,
            "width": null
          }
        },
        "b80fac1b810e415789a10175fb11b0bc": {
          "model_module": "@jupyter-widgets/base",
          "model_module_version": "1.2.0",
          "model_name": "LayoutModel",
          "state": {
            "_model_module": "@jupyter-widgets/base",
            "_model_module_version": "1.2.0",
            "_model_name": "LayoutModel",
            "_view_count": null,
            "_view_module": "@jupyter-widgets/base",
            "_view_module_version": "1.2.0",
            "_view_name": "LayoutView",
            "align_content": null,
            "align_items": null,
            "align_self": null,
            "border": null,
            "bottom": null,
            "display": null,
            "flex": null,
            "flex_flow": null,
            "grid_area": null,
            "grid_auto_columns": null,
            "grid_auto_flow": null,
            "grid_auto_rows": null,
            "grid_column": null,
            "grid_gap": null,
            "grid_row": null,
            "grid_template_areas": null,
            "grid_template_columns": null,
            "grid_template_rows": null,
            "height": null,
            "justify_content": null,
            "justify_items": null,
            "left": null,
            "margin": null,
            "max_height": null,
            "max_width": null,
            "min_height": null,
            "min_width": null,
            "object_fit": null,
            "object_position": null,
            "order": null,
            "overflow": null,
            "overflow_x": null,
            "overflow_y": null,
            "padding": null,
            "right": null,
            "top": null,
            "visibility": null,
            "width": null
          }
        },
        "c173b14963844b90b45bb7306fd72484": {
          "model_module": "@jupyter-widgets/controls",
          "model_module_version": "1.5.0",
          "model_name": "HBoxModel",
          "state": {
            "_dom_classes": [],
            "_model_module": "@jupyter-widgets/controls",
            "_model_module_version": "1.5.0",
            "_model_name": "HBoxModel",
            "_view_count": null,
            "_view_module": "@jupyter-widgets/controls",
            "_view_module_version": "1.5.0",
            "_view_name": "HBoxView",
            "box_style": "",
            "children": [
              "IPY_MODEL_e74934ca95db49e088e978f3014591d3",
              "IPY_MODEL_291e0a01c3e84b839d7ab677d9f8a074",
              "IPY_MODEL_adb9ad0e77e344fca71e4d7f2fd79c66"
            ],
            "layout": "IPY_MODEL_14c415af32d54784871d892d13338148"
          }
        },
        "c783728b34ef4672bb290bf34c844567": {
          "model_module": "@jupyter-widgets/controls",
          "model_module_version": "1.5.0",
          "model_name": "HTMLModel",
          "state": {
            "_dom_classes": [],
            "_model_module": "@jupyter-widgets/controls",
            "_model_module_version": "1.5.0",
            "_model_name": "HTMLModel",
            "_view_count": null,
            "_view_module": "@jupyter-widgets/controls",
            "_view_module_version": "1.5.0",
            "_view_name": "HTMLView",
            "description": "",
            "description_tooltip": null,
            "layout": "IPY_MODEL_fa6cf55d6e3742c98a5fd9b1a8e939b3",
            "placeholder": "​",
            "style": "IPY_MODEL_6362de259fc64994a9f677002ebfb09b",
            "value": " 90/90 [00:52&lt;00:00,  1.29s/it]"
          }
        },
        "cb78200dac4742149d0de05c0af0bd97": {
          "model_module": "@jupyter-widgets/base",
          "model_module_version": "1.2.0",
          "model_name": "LayoutModel",
          "state": {
            "_model_module": "@jupyter-widgets/base",
            "_model_module_version": "1.2.0",
            "_model_name": "LayoutModel",
            "_view_count": null,
            "_view_module": "@jupyter-widgets/base",
            "_view_module_version": "1.2.0",
            "_view_name": "LayoutView",
            "align_content": null,
            "align_items": null,
            "align_self": null,
            "border": null,
            "bottom": null,
            "display": null,
            "flex": null,
            "flex_flow": null,
            "grid_area": null,
            "grid_auto_columns": null,
            "grid_auto_flow": null,
            "grid_auto_rows": null,
            "grid_column": null,
            "grid_gap": null,
            "grid_row": null,
            "grid_template_areas": null,
            "grid_template_columns": null,
            "grid_template_rows": null,
            "height": null,
            "justify_content": null,
            "justify_items": null,
            "left": null,
            "margin": null,
            "max_height": null,
            "max_width": null,
            "min_height": null,
            "min_width": null,
            "object_fit": null,
            "object_position": null,
            "order": null,
            "overflow": null,
            "overflow_x": null,
            "overflow_y": null,
            "padding": null,
            "right": null,
            "top": null,
            "visibility": null,
            "width": null
          }
        },
        "cdf3ff710cbb4ab09f59a2f317e2162d": {
          "model_module": "@jupyter-widgets/controls",
          "model_module_version": "1.5.0",
          "model_name": "HTMLModel",
          "state": {
            "_dom_classes": [],
            "_model_module": "@jupyter-widgets/controls",
            "_model_module_version": "1.5.0",
            "_model_name": "HTMLModel",
            "_view_count": null,
            "_view_module": "@jupyter-widgets/controls",
            "_view_module_version": "1.5.0",
            "_view_name": "HTMLView",
            "description": "",
            "description_tooltip": null,
            "layout": "IPY_MODEL_6564a4092ce04ff5a63a2618158fcc3a",
            "placeholder": "​",
            "style": "IPY_MODEL_892075b88eba4ec19f7d77cbab38572f",
            "value": "Generating: 100%"
          }
        },
        "d1c95ea15ab5400db377fd3d54fd7e21": {
          "model_module": "@jupyter-widgets/controls",
          "model_module_version": "1.5.0",
          "model_name": "DescriptionStyleModel",
          "state": {
            "_model_module": "@jupyter-widgets/controls",
            "_model_module_version": "1.5.0",
            "_model_name": "DescriptionStyleModel",
            "_view_count": null,
            "_view_module": "@jupyter-widgets/base",
            "_view_module_version": "1.2.0",
            "_view_name": "StyleView",
            "description_width": ""
          }
        },
        "e31321a9028b4cf99652a849cadbd87e": {
          "model_module": "@jupyter-widgets/controls",
          "model_module_version": "1.5.0",
          "model_name": "HTMLModel",
          "state": {
            "_dom_classes": [],
            "_model_module": "@jupyter-widgets/controls",
            "_model_module_version": "1.5.0",
            "_model_name": "HTMLModel",
            "_view_count": null,
            "_view_module": "@jupyter-widgets/controls",
            "_view_module_version": "1.5.0",
            "_view_name": "HTMLView",
            "description": "",
            "description_tooltip": null,
            "layout": "IPY_MODEL_592c79ab0b3c48a3bf8b9690ed36bbbf",
            "placeholder": "​",
            "style": "IPY_MODEL_a7db7f141e8145bc833d6378589c44fa",
            "value": "Evaluating: 100%"
          }
        },
        "e74934ca95db49e088e978f3014591d3": {
          "model_module": "@jupyter-widgets/controls",
          "model_module_version": "1.5.0",
          "model_name": "HTMLModel",
          "state": {
            "_dom_classes": [],
            "_model_module": "@jupyter-widgets/controls",
            "_model_module_version": "1.5.0",
            "_model_name": "HTMLModel",
            "_view_count": null,
            "_view_module": "@jupyter-widgets/controls",
            "_view_module_version": "1.5.0",
            "_view_name": "HTMLView",
            "description": "",
            "description_tooltip": null,
            "layout": "IPY_MODEL_90fe2a85593d4f2f83c5e1ea2303bb11",
            "placeholder": "​",
            "style": "IPY_MODEL_04fb2aabb5164e63a01ef7de283e369b",
            "value": "embedding nodes:  97%"
          }
        },
        "e8cc5f2707724b9faf50e1b86e6f1890": {
          "model_module": "@jupyter-widgets/controls",
          "model_module_version": "1.5.0",
          "model_name": "HTMLModel",
          "state": {
            "_dom_classes": [],
            "_model_module": "@jupyter-widgets/controls",
            "_model_module_version": "1.5.0",
            "_model_name": "HTMLModel",
            "_view_count": null,
            "_view_module": "@jupyter-widgets/controls",
            "_view_module_version": "1.5.0",
            "_view_name": "HTMLView",
            "description": "",
            "description_tooltip": null,
            "layout": "IPY_MODEL_768bed58cacf44178ac16912e14ac434",
            "placeholder": "​",
            "style": "IPY_MODEL_aa309f56fa494d768e9dfd87ef1412aa",
            "value": " 20/20 [02:43&lt;00:00, 15.76s/it]"
          }
        },
        "ec0f5e8999004da8826646a0cd0d0a01": {
          "model_module": "@jupyter-widgets/base",
          "model_module_version": "1.2.0",
          "model_name": "LayoutModel",
          "state": {
            "_model_module": "@jupyter-widgets/base",
            "_model_module_version": "1.2.0",
            "_model_name": "LayoutModel",
            "_view_count": null,
            "_view_module": "@jupyter-widgets/base",
            "_view_module_version": "1.2.0",
            "_view_name": "LayoutView",
            "align_content": null,
            "align_items": null,
            "align_self": null,
            "border": null,
            "bottom": null,
            "display": null,
            "flex": null,
            "flex_flow": null,
            "grid_area": null,
            "grid_auto_columns": null,
            "grid_auto_flow": null,
            "grid_auto_rows": null,
            "grid_column": null,
            "grid_gap": null,
            "grid_row": null,
            "grid_template_areas": null,
            "grid_template_columns": null,
            "grid_template_rows": null,
            "height": null,
            "justify_content": null,
            "justify_items": null,
            "left": null,
            "margin": null,
            "max_height": null,
            "max_width": null,
            "min_height": null,
            "min_width": null,
            "object_fit": null,
            "object_position": null,
            "order": null,
            "overflow": null,
            "overflow_x": null,
            "overflow_y": null,
            "padding": null,
            "right": null,
            "top": null,
            "visibility": null,
            "width": null
          }
        },
        "f3edbc21d8084a7bb04b7bc0b5c1b689": {
          "model_module": "@jupyter-widgets/controls",
          "model_module_version": "1.5.0",
          "model_name": "HTMLModel",
          "state": {
            "_dom_classes": [],
            "_model_module": "@jupyter-widgets/controls",
            "_model_module_version": "1.5.0",
            "_model_name": "HTMLModel",
            "_view_count": null,
            "_view_module": "@jupyter-widgets/controls",
            "_view_module_version": "1.5.0",
            "_view_name": "HTMLView",
            "description": "",
            "description_tooltip": null,
            "layout": "IPY_MODEL_2cb51bc6e5d74683b17f8b9190fbf33a",
            "placeholder": "​",
            "style": "IPY_MODEL_96403d0bca064737ac89ee0e9f67e8b5",
            "value": "Evaluating: 100%"
          }
        },
        "fa6cf55d6e3742c98a5fd9b1a8e939b3": {
          "model_module": "@jupyter-widgets/base",
          "model_module_version": "1.2.0",
          "model_name": "LayoutModel",
          "state": {
            "_model_module": "@jupyter-widgets/base",
            "_model_module_version": "1.2.0",
            "_model_name": "LayoutModel",
            "_view_count": null,
            "_view_module": "@jupyter-widgets/base",
            "_view_module_version": "1.2.0",
            "_view_name": "LayoutView",
            "align_content": null,
            "align_items": null,
            "align_self": null,
            "border": null,
            "bottom": null,
            "display": null,
            "flex": null,
            "flex_flow": null,
            "grid_area": null,
            "grid_auto_columns": null,
            "grid_auto_flow": null,
            "grid_auto_rows": null,
            "grid_column": null,
            "grid_gap": null,
            "grid_row": null,
            "grid_template_areas": null,
            "grid_template_columns": null,
            "grid_template_rows": null,
            "height": null,
            "justify_content": null,
            "justify_items": null,
            "left": null,
            "margin": null,
            "max_height": null,
            "max_width": null,
            "min_height": null,
            "min_width": null,
            "object_fit": null,
            "object_position": null,
            "order": null,
            "overflow": null,
            "overflow_x": null,
            "overflow_y": null,
            "padding": null,
            "right": null,
            "top": null,
            "visibility": null,
            "width": null
          }
        }
      }
    }
  },
  "nbformat": 4,
  "nbformat_minor": 0
}
