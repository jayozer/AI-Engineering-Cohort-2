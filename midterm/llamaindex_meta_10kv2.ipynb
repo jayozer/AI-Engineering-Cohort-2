{
 "cells": [
  {
   "cell_type": "code",
   "execution_count": null,
   "metadata": {},
   "outputs": [],
   "source": [
    "%pip install llama-index\n",
    "%pip install llama-index-core\n",
    "%pip install llama-index-embeddings-openai\n",
    "%pip install llama-index-postprocessor-flag-embedding-reranker\n",
    "%pip install git+https://github.com/FlagOpen/FlagEmbedding.git\n",
    "%pip install llama-parse"
   ]
  },
  {
   "cell_type": "code",
   "execution_count": null,
   "metadata": {},
   "outputs": [],
   "source": [
    "%pip install ipywidgets"
   ]
  },
  {
   "cell_type": "code",
   "execution_count": null,
   "metadata": {},
   "outputs": [],
   "source": [
    "#create a folder and then download and update its name:\n",
    "!mkdir -p 'data/'\n",
    "!wget 'https://d18rn0p25nwr6d.cloudfront.net/CIK-0001326801/c7318154-f6ae-4866-89fa-f0c589f2ee3d.pdf' -O 'data/meta_10k_filings.pdf'"
   ]
  },
  {
   "cell_type": "code",
   "execution_count": 2,
   "metadata": {},
   "outputs": [],
   "source": [
    "# Uncomment if you are in a Jupyter Notebook - I did.\n",
    "import nest_asyncio\n",
    "\n",
    "nest_asyncio.apply()"
   ]
  },
  {
   "cell_type": "code",
   "execution_count": 3,
   "metadata": {},
   "outputs": [],
   "source": [
    "import os\n",
    "import getpass\n",
    "\n",
    "os.environ[\"LLAMA_CLOUD_API_KEY\"] = getpass.getpass(\"LLamaParse API Key:\")"
   ]
  },
  {
   "cell_type": "code",
   "execution_count": 4,
   "metadata": {},
   "outputs": [],
   "source": [
    "os.environ[\"OPENAI_API_KEY\"] = getpass.getpass(\"OpenAI API Key:\")"
   ]
  },
  {
   "cell_type": "code",
   "execution_count": 5,
   "metadata": {},
   "outputs": [],
   "source": [
    "from llama_index.llms.openai import OpenAI\n",
    "from llama_index.embeddings.openai import OpenAIEmbedding\n",
    "from llama_index.core import VectorStoreIndex\n",
    "from llama_index.core import Settings\n",
    "\n",
    "embed_model = OpenAIEmbedding(model=\"text-embedding-3-small\")\n",
    "llm = OpenAI(model=\"gpt-3.5-turbo-0125\", temperature=0)   # I used the updated GPT-3.5 model since current 3.5 points to 0613 and will be depreciated. \n",
    "\n",
    "Settings.llm = llm\n",
    "Settings.embed_model = embed_model"
   ]
  },
  {
   "cell_type": "markdown",
   "metadata": {},
   "source": [
    "# Parsing with Instructions:  \n",
    "Ref: https://github.com/run-llama/llama_parse/blob/main/examples/demo_parsing_instructions.ipynb\n",
    "\n",
    "Instead of vanialla parsing I decide to use a prompt in my parsing. I saw the option in LlamaParse website: https://cloud.llamaindex.ai/parse\n"
   ]
  },
  {
   "cell_type": "markdown",
   "metadata": {},
   "source": [
    "The below instructions is what I tried in my POC. It did the job however it also added signatures, title and dates as field names whenever there are signatures in the document. This did not impact the end results. I am able to return answers correctly to assignment questions as well any other question I have tested. However, I can make th einstructions a bit more tailored to avoid the unnecessary title, signatures and dates in every signature page. I dont want to specify the page name as \"Power of Attorney\" although pretty much in every 10K doc there will be a Power of Attorney page. \n",
    "\n",
    "parsingInstructionMetaV0 = \"\"\"The provided document contains a table listing signatures, titles, and dates. Extract the data from this table and create a Markdown table with the following columns: Name, Title, and Date. For the Name column, remove any signature prefixes (e.g., '/s/' or '/s') and only include the actual name. Preserve the original titles and dates as they appear in the image. The resulting Markdown table should be formatted properly with pipes (|) separating the columns and dashes (-) separating the header row from the data rows.\"\"\"\n",
    "\n",
    "If I want to create tailored template I can feed in specific non text pages to llama parse website and tailor a prompt for each page then combine. For this exercise I will only treat what is asked. Also I can return all values correctly anyway. "
   ]
  },
  {
   "cell_type": "code",
   "execution_count": 14,
   "metadata": {},
   "outputs": [],
   "source": [
    "parsingInstructionMeta = \"\"\" \n",
    "The provided document is a 10K filing that contains various sections of text and tables. Parse the document as follows:\n",
    "\n",
    "Signature Table:\n",
    "\n",
    "Locate the table with columns for Signature, Title, and Date.\n",
    "Extract the data from each row of the table and create a structured Markdown table with the following columns: Name, Title, and Date.\n",
    "For the Name column, remove any signature prefixes (e.g., '/s/' or '/s') and only include the actual name.\n",
    "Preserve the original titles and dates as they appear in the table.\n",
    "The resulting Markdown table should be formatted properly with pipes (|) separating the columns and dashes (-) separating the header row from the data rows.\n",
    "\n",
    "\n",
    "Other Sections:\n",
    "\n",
    "Identify and extract the main sections of the document, such as the introduction, business description, risk factors, financial statements, etc.\n",
    "For each section, create a Markdown heading with the section title.\n",
    "Extract the text content of each section and include it under the corresponding heading.\n",
    "If a section contains subsections, create subheadings for each subsection and include the relevant text content.\n",
    "Preserve the original formatting of the text, such as paragraphs, lists, and tables, as much as possible.\n",
    "\n",
    "\n",
    "Output:\n",
    "\n",
    "Combine the parsed signature table and the other sections into a single Markdown document.\n",
    "Ensure that the signature table appears at the appropriate location within the document, typically towards the end.\n",
    "Use proper Markdown syntax for headings, subheadings, paragraphs, lists, tables, and any other formatting elements.\n",
    "The final output should be a well-structured Markdown representation of the entire 10K document, including the signature table and all other relevant sections.\n",
    "\"\"\""
   ]
  },
  {
   "cell_type": "code",
   "execution_count": 29,
   "metadata": {},
   "outputs": [
    {
     "name": "stdout",
     "output_type": "stream",
     "text": [
      "Started parsing the file under job_id 9153539c-489b-44e8-a48a-d6f4649ef960\n"
     ]
    }
   ],
   "source": [
    "from llama_parse import LlamaParse\n",
    "\n",
    "parsingInstructionMeta = \"\"\"The provided document contains a table listing signatures, titles, and dates. Extract the data from this table and create a Markdown table with the following columns: Name, Title, and Date. For the Name column, remove any signature prefixes (e.g., '/s/' or '/s') and only include the actual name. Preserve the original titles and dates as they appear in the image. The resulting Markdown table should be formatted properly with pipes (|) separating the columns and dashes (-) separating the header row from the data rows.\"\"\"\n",
    "\n",
    "documents = LlamaParse(\n",
    "    result_type=\"markdown\", parsing_instruction=parsingInstructionMeta\n",
    ").load_data(\"/Users/acrobat/Documents/GitHub/AI-Engineering-Cohort-2/midterm/data/meta_10k_filings.pdf\")"
   ]
  },
  {
   "cell_type": "code",
   "execution_count": 30,
   "metadata": {},
   "outputs": [
    {
     "name": "stdout",
     "output_type": "stream",
     "text": [
      "| Name              | Title                                     | Date            |\n",
      "|-------------------|-------------------------------------------|-----------------|\n",
      "| Mark Zuckerberg   | Board Chair and Chief Executive Officer  | February 1, 2024 |\n",
      "| Susan Li          | Chief Financial Officer                   | February 1, 2024 |\n",
      "| Aaron Anderson    | Chief Accounting Officer                  | February 1, 2024 |\n",
      "| Peggy Alford      | Director                                  | February 1, 2024 |\n",
      "| Marc L. Andreessen| Director                                  | February 1, 2024 |\n",
      "| Andrew W. Houston | Director                                  | February 1, 2024 |\n",
      "| Nancy Killefer    | Director                                  | February 1, 2024 |\n",
      "| Robert M. Kimmitt | Director                                  | February 1, 2024 |\n",
      "| Sheryl K. Sandberg | Director                                 | February 1, 2024 |\n",
      "| Tracey T. Travis  | Director                                  | February 1, 2024 |\n",
      "| Tony Xu           | Director                                  | February 1, 2024 |\n"
     ]
    }
   ],
   "source": [
    "target_page = 133\n",
    "print(documents[0].text.split(\"\\n---\\n\")[target_page]) # works like a champ!!!\n"
   ]
  },
  {
   "cell_type": "code",
   "execution_count": 31,
   "metadata": {},
   "outputs": [],
   "source": [
    "from llama_index.core.node_parser import MarkdownElementNodeParser\n",
    "\n",
    "node_parser = MarkdownElementNodeParser(\n",
    "    llm=OpenAI(model=\"gpt-3.5-turbo-0125\"), num_workers=8\n",
    ")"
   ]
  },
  {
   "cell_type": "code",
   "execution_count": 32,
   "metadata": {},
   "outputs": [
    {
     "name": "stderr",
     "output_type": "stream",
     "text": [
      "143it [00:00, 62883.78it/s]\n",
      "100%|██████████| 143/143 [00:29<00:00,  4.79it/s]\n"
     ]
    }
   ],
   "source": [
    "nodes = node_parser.get_nodes_from_documents(documents)"
   ]
  },
  {
   "cell_type": "code",
   "execution_count": 33,
   "metadata": {},
   "outputs": [
    {
     "name": "stdout",
     "output_type": "stream",
     "text": [
      "428\n"
     ]
    }
   ],
   "source": [
    "print(len(nodes))"
   ]
  },
  {
   "cell_type": "code",
   "execution_count": 34,
   "metadata": {},
   "outputs": [],
   "source": [
    "base_nodes, objects = node_parser.get_nodes_and_objects(nodes)"
   ]
  },
  {
   "cell_type": "code",
   "execution_count": 35,
   "metadata": {},
   "outputs": [],
   "source": [
    "recursive_index = VectorStoreIndex(nodes=base_nodes + objects)"
   ]
  },
  {
   "cell_type": "code",
   "execution_count": 36,
   "metadata": {},
   "outputs": [],
   "source": [
    "from llama_index.postprocessor.flag_embedding_reranker import (\n",
    "    FlagEmbeddingReranker,\n",
    ")\n",
    "\n",
    "reranker = FlagEmbeddingReranker(\n",
    "    top_n=5,\n",
    "    model=\"BAAI/bge-reranker-large\",\n",
    ")\n",
    "\n",
    "recursive_query_engine = recursive_index.as_query_engine(\n",
    "    similarity_top_k=15, node_postprocessors=[reranker], verbose=True\n",
    ")"
   ]
  },
  {
   "cell_type": "code",
   "execution_count": 37,
   "metadata": {},
   "outputs": [
    {
     "name": "stdout",
     "output_type": "stream",
     "text": [
      "\u001b[1;3;38;2;11;159;203mRetrieval entering 8c4d199b-e363-44f8-8b45-aa8d2b79bde2: TextNode\n",
      "\u001b[0m\u001b[1;3;38;2;237;90;200mRetrieving from object TextNode with query What was the total value of 'Cash and cash equivalents' as of December 31, 2023?\n",
      "\u001b[0m\u001b[1;3;38;2;11;159;203mRetrieval entering c95f18bc-2e9f-4774-bdd2-0511647a8231: TextNode\n",
      "\u001b[0m\u001b[1;3;38;2;237;90;200mRetrieving from object TextNode with query What was the total value of 'Cash and cash equivalents' as of December 31, 2023?\n",
      "\u001b[0m\u001b[1;3;38;2;11;159;203mRetrieval entering 6f3c6828-7c3a-4f68-acf0-3b359af7054d: TextNode\n",
      "\u001b[0m\u001b[1;3;38;2;237;90;200mRetrieving from object TextNode with query What was the total value of 'Cash and cash equivalents' as of December 31, 2023?\n",
      "\u001b[0m\u001b[1;3;38;2;11;159;203mRetrieval entering 07ad329b-c6b2-444f-bb6c-75a036fa4fcc: TextNode\n",
      "\u001b[0m\u001b[1;3;38;2;237;90;200mRetrieving from object TextNode with query What was the total value of 'Cash and cash equivalents' as of December 31, 2023?\n",
      "\u001b[0m\u001b[1;3;38;2;11;159;203mRetrieval entering dce2dcf0-2e62-4a40-9b50-704cde15f4df: TextNode\n",
      "\u001b[0m\u001b[1;3;38;2;237;90;200mRetrieving from object TextNode with query What was the total value of 'Cash and cash equivalents' as of December 31, 2023?\n",
      "\u001b[0m\u001b[1;3;38;2;11;159;203mRetrieval entering 5bb15e85-3ba2-4996-8c52-e5d91d017517: TextNode\n",
      "\u001b[0m\u001b[1;3;38;2;237;90;200mRetrieving from object TextNode with query What was the total value of 'Cash and cash equivalents' as of December 31, 2023?\n",
      "\u001b[0m\u001b[1;3;38;2;11;159;203mRetrieval entering 0fe58b46-8cbc-426b-a48b-16c42a35b777: TextNode\n",
      "\u001b[0m\u001b[1;3;38;2;237;90;200mRetrieving from object TextNode with query What was the total value of 'Cash and cash equivalents' as of December 31, 2023?\n",
      "\u001b[0m\u001b[1;3;38;2;11;159;203mRetrieval entering 660736f6-6a33-4a7e-b146-3d9bb13f8ac4: TextNode\n",
      "\u001b[0m\u001b[1;3;38;2;237;90;200mRetrieving from object TextNode with query What was the total value of 'Cash and cash equivalents' as of December 31, 2023?\n",
      "\u001b[0m\u001b[1;3;38;2;11;159;203mRetrieval entering c2e6369b-c6ea-4ff1-95f8-f3fc78452542: TextNode\n",
      "\u001b[0m\u001b[1;3;38;2;237;90;200mRetrieving from object TextNode with query What was the total value of 'Cash and cash equivalents' as of December 31, 2023?\n",
      "\u001b[0m\u001b[1;3;38;2;11;159;203mRetrieval entering 94436a6e-7ef1-49b4-ab1e-f29348fc7fb3: TextNode\n",
      "\u001b[0m\u001b[1;3;38;2;237;90;200mRetrieving from object TextNode with query What was the total value of 'Cash and cash equivalents' as of December 31, 2023?\n",
      "\u001b[0m\u001b[1;3;38;2;11;159;203mRetrieval entering b5d7cb25-1964-49ca-afcd-65ee9d47cce3: TextNode\n",
      "\u001b[0m\u001b[1;3;38;2;237;90;200mRetrieving from object TextNode with query What was the total value of 'Cash and cash equivalents' as of December 31, 2023?\n",
      "\u001b[0m\u001b[1;3;38;2;11;159;203mRetrieval entering 6ab74087-b3f0-4efa-a20a-c658933f84ff: TextNode\n",
      "\u001b[0m\u001b[1;3;38;2;237;90;200mRetrieving from object TextNode with query What was the total value of 'Cash and cash equivalents' as of December 31, 2023?\n",
      "\u001b[0m\u001b[1;3;38;2;11;159;203mRetrieval entering 84b60a5e-5866-4cc0-b913-4281ae9ae4dd: TextNode\n",
      "\u001b[0m\u001b[1;3;38;2;237;90;200mRetrieving from object TextNode with query What was the total value of 'Cash and cash equivalents' as of December 31, 2023?\n",
      "\u001b[0m\u001b[1;3;38;2;11;159;203mRetrieval entering 1d9c9f43-f9ab-4421-bc6b-6ea04325af65: TextNode\n",
      "\u001b[0m\u001b[1;3;38;2;237;90;200mRetrieving from object TextNode with query What was the total value of 'Cash and cash equivalents' as of December 31, 2023?\n",
      "\u001b[0m\u001b[1;3;38;2;11;159;203mRetrieval entering 691b200b-c17a-409d-9f9a-a0b9c9cada46: TextNode\n",
      "\u001b[0m\u001b[1;3;38;2;237;90;200mRetrieving from object TextNode with query What was the total value of 'Cash and cash equivalents' as of December 31, 2023?\n",
      "\u001b[0m"
     ]
    }
   ],
   "source": [
    "query = \"What was the total value of 'Cash and cash equivalents' as of December 31, 2023?\"\n",
    "response = recursive_query_engine.query(query)"
   ]
  },
  {
   "cell_type": "code",
   "execution_count": 38,
   "metadata": {},
   "outputs": [
    {
     "name": "stdout",
     "output_type": "stream",
     "text": [
      "The total value of 'Cash and cash equivalents' as of December 31, 2023, was $41,862 million.\n"
     ]
    }
   ],
   "source": [
    "print(response)"
   ]
  },
  {
   "cell_type": "code",
   "execution_count": 39,
   "metadata": {},
   "outputs": [
    {
     "name": "stdout",
     "output_type": "stream",
     "text": [
      "\u001b[1;3;38;2;11;159;203mRetrieval entering d809a57d-767c-44fe-ba04-4d69ea243ad7: TextNode\n",
      "\u001b[0m\u001b[1;3;38;2;237;90;200mRetrieving from object TextNode with query What are the names of people with the director title at Meta?\n",
      "\u001b[0m\u001b[1;3;38;2;11;159;203mRetrieval entering 60bbc3fb-387b-48f9-9f14-aae72bd9ba53: TextNode\n",
      "\u001b[0m\u001b[1;3;38;2;237;90;200mRetrieving from object TextNode with query What are the names of people with the director title at Meta?\n",
      "\u001b[0m\u001b[1;3;38;2;11;159;203mRetrieval entering 79f2be4a-2a68-4713-a9ef-39339e3044f8: TextNode\n",
      "\u001b[0m\u001b[1;3;38;2;237;90;200mRetrieving from object TextNode with query What are the names of people with the director title at Meta?\n",
      "\u001b[0m\u001b[1;3;38;2;11;159;203mRetrieval entering 8981423e-f47b-4bd3-b207-d7f5d33b75a5: TextNode\n",
      "\u001b[0m\u001b[1;3;38;2;237;90;200mRetrieving from object TextNode with query What are the names of people with the director title at Meta?\n",
      "\u001b[0m\u001b[1;3;38;2;11;159;203mRetrieval entering c89b259d-5bd1-4ff2-8341-8acab7f6f6a8: TextNode\n",
      "\u001b[0m\u001b[1;3;38;2;237;90;200mRetrieving from object TextNode with query What are the names of people with the director title at Meta?\n",
      "\u001b[0m\u001b[1;3;38;2;11;159;203mRetrieval entering 093f6b9a-58f7-4680-833f-bdc09a7cf923: TextNode\n",
      "\u001b[0m\u001b[1;3;38;2;237;90;200mRetrieving from object TextNode with query What are the names of people with the director title at Meta?\n",
      "\u001b[0m\u001b[1;3;38;2;11;159;203mRetrieval entering 1e5da97a-89a6-4ce0-8a68-d05515697d09: TextNode\n",
      "\u001b[0m\u001b[1;3;38;2;237;90;200mRetrieving from object TextNode with query What are the names of people with the director title at Meta?\n",
      "\u001b[0m\u001b[1;3;38;2;11;159;203mRetrieval entering 6ec9d6ca-5f25-4168-a00c-a3bd2371dc68: TextNode\n",
      "\u001b[0m\u001b[1;3;38;2;237;90;200mRetrieving from object TextNode with query What are the names of people with the director title at Meta?\n",
      "\u001b[0m\u001b[1;3;38;2;11;159;203mRetrieval entering 70652d38-ecd6-48e4-965b-83f534ae7d2d: TextNode\n",
      "\u001b[0m\u001b[1;3;38;2;237;90;200mRetrieving from object TextNode with query What are the names of people with the director title at Meta?\n",
      "\u001b[0m\u001b[1;3;38;2;11;159;203mRetrieval entering 43e30e23-162a-4ee6-af42-3b1e0a779a84: TextNode\n",
      "\u001b[0m\u001b[1;3;38;2;237;90;200mRetrieving from object TextNode with query What are the names of people with the director title at Meta?\n",
      "\u001b[0m\u001b[1;3;38;2;11;159;203mRetrieval entering 166158cd-eac6-4a48-908f-8ba6e90094c3: TextNode\n",
      "\u001b[0m\u001b[1;3;38;2;237;90;200mRetrieving from object TextNode with query What are the names of people with the director title at Meta?\n",
      "\u001b[0m\u001b[1;3;38;2;11;159;203mRetrieval entering 63799d7a-13f1-411a-88db-2a8a0fdb155f: TextNode\n",
      "\u001b[0m\u001b[1;3;38;2;237;90;200mRetrieving from object TextNode with query What are the names of people with the director title at Meta?\n",
      "\u001b[0m\u001b[1;3;38;2;11;159;203mRetrieval entering 53a8eb0d-e55b-40b3-ba33-2431a6c15bad: TextNode\n",
      "\u001b[0m\u001b[1;3;38;2;237;90;200mRetrieving from object TextNode with query What are the names of people with the director title at Meta?\n",
      "\u001b[0m\u001b[1;3;38;2;11;159;203mRetrieval entering 5bb15e85-3ba2-4996-8c52-e5d91d017517: TextNode\n",
      "\u001b[0m\u001b[1;3;38;2;237;90;200mRetrieving from object TextNode with query What are the names of people with the director title at Meta?\n",
      "\u001b[0m\u001b[1;3;38;2;11;159;203mRetrieval entering 9515b832-946c-4b98-9d2c-176130e51e24: TextNode\n",
      "\u001b[0m\u001b[1;3;38;2;237;90;200mRetrieving from object TextNode with query What are the names of people with the director title at Meta?\n",
      "\u001b[0m"
     ]
    }
   ],
   "source": [
    "query = \"What are the names of people with the director title at Meta?\"\n",
    "response = recursive_query_engine.query(query)"
   ]
  },
  {
   "cell_type": "code",
   "execution_count": 40,
   "metadata": {},
   "outputs": [
    {
     "name": "stdout",
     "output_type": "stream",
     "text": [
      "Peggy Alford, Marc L. Andreessen, Andrew W. Houston, Nancy Killefer, Robert M. Kimmitt, Sheryl K. Sandberg, Tracey T. Travis, Tony Xu.\n"
     ]
    }
   ],
   "source": [
    "print(response)"
   ]
  }
 ],
 "metadata": {
  "kernelspec": {
   "display_name": "llamaindex_env",
   "language": "python",
   "name": "llamaindex_env"
  },
  "language_info": {
   "codemirror_mode": {
    "name": "ipython",
    "version": 3
   },
   "file_extension": ".py",
   "mimetype": "text/x-python",
   "name": "python",
   "nbconvert_exporter": "python",
   "pygments_lexer": "ipython3",
   "version": "3.11.6"
  }
 },
 "nbformat": 4,
 "nbformat_minor": 2
}
