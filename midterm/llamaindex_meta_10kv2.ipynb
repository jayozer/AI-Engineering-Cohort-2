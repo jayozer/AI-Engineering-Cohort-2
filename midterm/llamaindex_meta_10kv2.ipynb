{
 "cells": [
  {
   "cell_type": "markdown",
   "metadata": {},
   "source": [
    "# Project Instructions:\n",
    "__Data__: Meta 10-k Filings\\\n",
    "__LLM__: OpenAI GPT-3.5-turbo\\\n",
    "__Embedding Model__: text-3-embedding small\\\n",
    "__Infrastructure__: LlamaIndex\\\n",
    "__Vector Store__: Qdrant - in memory\\\n",
    "__Deployment__: Chainlit, Hugging Face"
   ]
  },
  {
   "cell_type": "code",
   "execution_count": null,
   "metadata": {},
   "outputs": [],
   "source": [
    "# Install dependencies\n",
    "%pip install llama-index\n",
    "%pip install llama-index-core\n",
    "%pip install llama-index-embeddings-openai\n",
    "%pip install llama-index-postprocessor-flag-embedding-reranker\n",
    "%pip install git+https://github.com/FlagOpen/FlagEmbedding.git\n",
    "%pip install llama-parse\n",
    "%pip install ipywidgets"
   ]
  },
  {
   "cell_type": "markdown",
   "metadata": {},
   "source": [
    "# Create a data folder and then download the document while updating its name:"
   ]
  },
  {
   "cell_type": "code",
   "execution_count": null,
   "metadata": {},
   "outputs": [],
   "source": [
    "!mkdir -p 'data/'\n",
    "!wget 'https://d18rn0p25nwr6d.cloudfront.net/CIK-0001326801/c7318154-f6ae-4866-89fa-f0c589f2ee3d.pdf' -O 'data/meta_10k_filings.pdf'"
   ]
  },
  {
   "cell_type": "code",
   "execution_count": 1,
   "metadata": {},
   "outputs": [],
   "source": [
    "# Uncomment if you are in a Jupyter Notebook - I did.\n",
    "import nest_asyncio\n",
    "\n",
    "nest_asyncio.apply()"
   ]
  },
  {
   "cell_type": "markdown",
   "metadata": {},
   "source": [
    "# API keys for OpenAI and Llamda Cloud & Settings"
   ]
  },
  {
   "cell_type": "code",
   "execution_count": 2,
   "metadata": {},
   "outputs": [],
   "source": [
    "import os\n",
    "import getpass\n",
    "\n",
    "os.environ[\"LLAMA_CLOUD_API_KEY\"] = getpass.getpass(\"LLamaParse API Key:\")"
   ]
  },
  {
   "cell_type": "code",
   "execution_count": 3,
   "metadata": {},
   "outputs": [],
   "source": [
    "os.environ[\"OPENAI_API_KEY\"] = getpass.getpass(\"OpenAI API Key:\")"
   ]
  },
  {
   "cell_type": "code",
   "execution_count": 4,
   "metadata": {},
   "outputs": [],
   "source": [
    "from llama_index.llms.openai import OpenAI\n",
    "from llama_index.embeddings.openai import OpenAIEmbedding\n",
    "from llama_index.core import VectorStoreIndex\n",
    "from llama_index.core import Settings\n",
    "\n",
    "embed_model = OpenAIEmbedding(model=\"text-embedding-3-small\")\n",
    "llm = OpenAI(model=\"gpt-3.5-turbo-0125\", temperature=0)   # I used the updated GPT-3.5 model since current 3.5 points to 0613 and will be depreciated. \n",
    "\n",
    "Settings.llm = llm\n",
    "Settings.embed_model = embed_model"
   ]
  },
  {
   "cell_type": "markdown",
   "metadata": {},
   "source": [
    "# Parsing with Instructions:  -- update!!!\n",
    "Ref: https://github.com/run-llama/llama_parse/blob/main/examples/demo_parsing_instructions.ipynb\n",
    "\n",
    "Instead of vanialla parsing I decide to use a prompt in my parsing. I saw the option in LlamaParse website: https://cloud.llamaindex.ai/parse\n"
   ]
  },
  {
   "cell_type": "markdown",
   "metadata": {},
   "source": [
    "The below instructions did the job however it also added name, title and dates randomly. This did not impact the end results. I am able to return answers correctly to assignment questions as well any other question I have tested. Ideally I need to tailor the instructions to avoid the unnecessary add ons and make it suitable for any and every 10k document.\n",
    "\n",
    "- To create tailored template I can feed in specific non text pages to llama parse website and tailor a prompt for each page then combine. "
   ]
  },
  {
   "cell_type": "code",
   "execution_count": 5,
   "metadata": {},
   "outputs": [
    {
     "name": "stdout",
     "output_type": "stream",
     "text": [
      "Started parsing the file under job_id 9176e64b-b34f-4a92-a0e5-1754907a9987\n"
     ]
    }
   ],
   "source": [
    "from llama_parse import LlamaParse\n",
    "\n",
    "parsingInstructionMeta = \"\"\"The provided document contains a table listing signatures, titles, and dates. Extract the data from this table and create a Markdown table with the following columns: Name, Title, and Date. For the Name column, remove any signature prefixes (e.g., '/s/' or '/s') and only include the actual name. Preserve the original titles and dates as they appear in the image. The resulting Markdown table should be formatted properly with pipes (|) separating the columns and dashes (-) separating the header row from the data rows.\"\"\"\n",
    "\n",
    "documents = LlamaParse(\n",
    "    result_type=\"markdown\", parsing_instruction=parsingInstructionMeta\n",
    ").load_data(\"/Users/acrobat/Documents/GitHub/AI-Engineering-Cohort-2/midterm/data/meta_10k_filings.pdf\")\n",
    "\n",
    "# As Chris mentioned there has to be caching at llamaCloud side. My first instruction_parsing run took over 20mins however subsequent ones were under 10 seconds."
   ]
  },
  {
   "cell_type": "markdown",
   "metadata": {},
   "source": [
    "# Check the Power of attorney table markdown - Check th einstruction parsing page"
   ]
  },
  {
   "cell_type": "code",
   "execution_count": 6,
   "metadata": {},
   "outputs": [
    {
     "name": "stdout",
     "output_type": "stream",
     "text": [
      "| Name              | Title                                     | Date            |\n",
      "|-------------------|-------------------------------------------|-----------------|\n",
      "| Mark Zuckerberg   | Board Chair and Chief Executive Officer  | February 1, 2024 |\n",
      "| Susan Li          | Chief Financial Officer                   | February 1, 2024 |\n",
      "| Aaron Anderson    | Chief Accounting Officer                  | February 1, 2024 |\n",
      "| Peggy Alford      | Director                                  | February 1, 2024 |\n",
      "| Marc L. Andreessen| Director                                  | February 1, 2024 |\n",
      "| Andrew W. Houston | Director                                  | February 1, 2024 |\n",
      "| Nancy Killefer    | Director                                  | February 1, 2024 |\n",
      "| Robert M. Kimmitt | Director                                  | February 1, 2024 |\n",
      "| Sheryl K. Sandberg | Director                                 | February 1, 2024 |\n",
      "| Tracey T. Travis  | Director                                  | February 1, 2024 |\n",
      "| Tony Xu           | Director                                  | February 1, 2024 |\n"
     ]
    }
   ],
   "source": [
    "target_page = 133\n",
    "print(documents[0].text.split(\"\\n---\\n\")[target_page]) # works like a champ!!!\n"
   ]
  },
  {
   "cell_type": "code",
   "execution_count": 46,
   "metadata": {},
   "outputs": [
    {
     "name": "stdout",
     "output_type": "stream",
     "text": [
      " maintain levels of user engagement with our products; | | |\n",
      "| the loss of, or reduction in spending by, our marketers; | | |\n",
      "| reduced availability of data signals used by our ad targeting and measurement tools; | | |\n",
      "| ineffective operation with mobile operating systems or changes in our relationships with mobile operating system partners; | | |\n",
      "| failure of our new products, or changes to our existing products, to attract or retain users or generate revenue; | | |\n",
      "| Risks Related to Our Business Operations and Financial Results | | |\n",
      "| our ability to compete effectively; | | |\n",
      "| fluctuations in our financial results; | | |\n",
      "| unfavorable media coverage and other risks affecting our ability to maintain and enhance our brands; | | |\n",
      "| our ability to build, maintain, and scale our technical infrastructure, and risks associated with disruptions in our service, catastrophic events, and crises; | | |\n",
      "| operating our business in multiple countries around the world; | | |\n",
      "| acquisitions and ...\n"
     ]
    }
   ],
   "source": [
    "# Check rest of the document. \n",
    "print(documents[0].text[10000:11000] + \"...\") "
   ]
  },
  {
   "cell_type": "markdown",
   "metadata": {},
   "source": [
    "# Markdown parser & node construction - need it because of recursive retriever\n",
    "At this point all i have is a markdown doc parsed from the pdf and stored in the documents variable.  Using MarkdownElementNodeParser for parsing the LlamaParse output Markdown results and building recursive retriever query engine for generation."
   ]
  },
  {
   "cell_type": "code",
   "execution_count": 21,
   "metadata": {},
   "outputs": [],
   "source": [
    "from llama_index.core.node_parser import MarkdownElementNodeParser\n",
    "\n",
    "node_parser = MarkdownElementNodeParser(\n",
    "    llm=OpenAI(model=\"gpt-3.5-turbo-0125\"), num_workers=8\n",
    ")"
   ]
  },
  {
   "cell_type": "code",
   "execution_count": 17,
   "metadata": {},
   "outputs": [
    {
     "name": "stderr",
     "output_type": "stream",
     "text": [
      "143it [00:00, 56275.61it/s]\n",
      "100%|██████████| 143/143 [00:33<00:00,  4.27it/s]\n"
     ]
    }
   ],
   "source": [
    "nodes = node_parser.get_nodes_from_documents(documents)"
   ]
  },
  {
   "cell_type": "code",
   "execution_count": 29,
   "metadata": {},
   "outputs": [
    {
     "name": "stdout",
     "output_type": "stream",
     "text": [
      "428\n"
     ]
    }
   ],
   "source": [
    "print(len(nodes))"
   ]
  },
  {
   "cell_type": "code",
   "execution_count": 23,
   "metadata": {},
   "outputs": [],
   "source": [
    "base_nodes, objects = node_parser.get_nodes_and_objects(nodes)"
   ]
  },
  {
   "cell_type": "markdown",
   "metadata": {},
   "source": [
    "### Initializing the `VectorStoreIndex` with QDrant and create collection meta_10k_filings\n"
   ]
  },
  {
   "cell_type": "code",
   "execution_count": 33,
   "metadata": {},
   "outputs": [
    {
     "data": {
      "text/plain": [
       "True"
      ]
     },
     "execution_count": 33,
     "metadata": {},
     "output_type": "execute_result"
    }
   ],
   "source": [
    "from llama_index.vector_stores.qdrant import QdrantVectorStore\n",
    "from qdrant_client import QdrantClient, models\n",
    "\n",
    "client = QdrantClient(location=\":memory:\")\n",
    "\n",
    "client.create_collection(\n",
    "    collection_name=\"meta_10k_filings\",\n",
    "    vectors_config=models.VectorParams(size=1536, distance=models.Distance.COSINE)\n",
    ")"
   ]
  },
  {
   "cell_type": "markdown",
   "metadata": {},
   "source": [
    "# Load nodes to Qdrant to create the recursive_index"
   ]
  },
  {
   "cell_type": "markdown",
   "metadata": {},
   "source": [
    "#Recursive Index - Will use recursive index instead of simple index. "
   ]
  },
  {
   "cell_type": "code",
   "execution_count": 34,
   "metadata": {},
   "outputs": [],
   "source": [
    "from llama_index.core import StorageContext\n",
    "\n",
    "vector_store = QdrantVectorStore(client=client, collection_name=\"meta_10k_filings\")\n",
    "\n",
    "storage_context = StorageContext.from_defaults(vector_store=vector_store)\n",
    "\n",
    "recursive_index = VectorStoreIndex(\n",
    "    nodes=base_nodes + objects, storage_context=storage_context\n",
    ")"
   ]
  },
  {
   "cell_type": "code",
   "execution_count": 45,
   "metadata": {},
   "outputs": [
    {
     "name": "stdout",
     "output_type": "stream",
     "text": [
      "<class 'llama_index.vector_stores.qdrant.base.QdrantVectorStore'>\n"
     ]
    }
   ],
   "source": [
    "print(type(vector_store)) # check what is the vectorstore, pheww!"
   ]
  },
  {
   "cell_type": "markdown",
   "metadata": {},
   "source": [
    "# Initialize the reranker \n",
    "- initialluild with BAAI/bge-reranker-large. It takes about 3-5 secs for each question. \n",
    "In HF website I see other options: For better performance, recommand BAAI/bge-reranker-v2-minicpm-layerwise and BAAI/bge-reranker-v2-gemma. So I used gemma and crashed my computer. Then I realized it is 2.8B parameters. Sticking with reranker-large.  \n",
    "https://huggingface.co/BAAI/bge-reranker-v2-m3"
   ]
  },
  {
   "cell_type": "code",
   "execution_count": 49,
   "metadata": {},
   "outputs": [],
   "source": [
    "from llama_index.postprocessor.flag_embedding_reranker import (\n",
    "    FlagEmbeddingReranker,\n",
    ")\n",
    "\n",
    "reranker = FlagEmbeddingReranker(\n",
    "    top_n=5,\n",
    "    model=\"BAAI/bge-reranker-large\",\n",
    ")\n",
    "\n",
    "recursive_query_engine = recursive_index.as_query_engine(\n",
    "    similarity_top_k=15, node_postprocessors=[reranker], verbose=True\n",
    ")"
   ]
  },
  {
   "cell_type": "code",
   "execution_count": 50,
   "metadata": {},
   "outputs": [
    {
     "name": "stdout",
     "output_type": "stream",
     "text": [
      "\u001b[1;3;38;2;11;159;203mRetrieval entering 012d253e-1e90-40c2-ac50-ed264369f499: TextNode\n",
      "\u001b[0m\u001b[1;3;38;2;237;90;200mRetrieving from object TextNode with query What was the total value of 'Cash and cash equivalents' as of December 31, 2023?\n",
      "\u001b[0m\u001b[1;3;38;2;11;159;203mRetrieval entering d28c3033-3ba8-4d2b-8273-c643bcb04a1e: TextNode\n",
      "\u001b[0m\u001b[1;3;38;2;237;90;200mRetrieving from object TextNode with query What was the total value of 'Cash and cash equivalents' as of December 31, 2023?\n",
      "\u001b[0m\u001b[1;3;38;2;11;159;203mRetrieval entering 543a1f12-0ac1-4b96-8203-2cfcc7cd5cf2: TextNode\n",
      "\u001b[0m\u001b[1;3;38;2;237;90;200mRetrieving from object TextNode with query What was the total value of 'Cash and cash equivalents' as of December 31, 2023?\n",
      "\u001b[0m\u001b[1;3;38;2;11;159;203mRetrieval entering bfd075d3-88b4-45ad-8b1b-98439c05ff62: TextNode\n",
      "\u001b[0m\u001b[1;3;38;2;237;90;200mRetrieving from object TextNode with query What was the total value of 'Cash and cash equivalents' as of December 31, 2023?\n",
      "\u001b[0m\u001b[1;3;38;2;11;159;203mRetrieval entering 2ac89e28-cffc-46fe-a045-dd3742ccaedb: TextNode\n",
      "\u001b[0m\u001b[1;3;38;2;237;90;200mRetrieving from object TextNode with query What was the total value of 'Cash and cash equivalents' as of December 31, 2023?\n",
      "\u001b[0m\u001b[1;3;38;2;11;159;203mRetrieval entering b30d1b35-972c-4d29-9f92-44762159405a: TextNode\n",
      "\u001b[0m\u001b[1;3;38;2;237;90;200mRetrieving from object TextNode with query What was the total value of 'Cash and cash equivalents' as of December 31, 2023?\n",
      "\u001b[0m\u001b[1;3;38;2;11;159;203mRetrieval entering be6fe6f3-3353-4911-b29b-dc1505211098: TextNode\n",
      "\u001b[0m\u001b[1;3;38;2;237;90;200mRetrieving from object TextNode with query What was the total value of 'Cash and cash equivalents' as of December 31, 2023?\n",
      "\u001b[0m\u001b[1;3;38;2;11;159;203mRetrieval entering 6aa7f3d1-ea9c-47cb-beb3-4951eb4db7e8: TextNode\n",
      "\u001b[0m\u001b[1;3;38;2;237;90;200mRetrieving from object TextNode with query What was the total value of 'Cash and cash equivalents' as of December 31, 2023?\n",
      "\u001b[0m\u001b[1;3;38;2;11;159;203mRetrieval entering 3fae91a3-2c78-4353-a7e9-d5e19ab75865: TextNode\n",
      "\u001b[0m\u001b[1;3;38;2;237;90;200mRetrieving from object TextNode with query What was the total value of 'Cash and cash equivalents' as of December 31, 2023?\n",
      "\u001b[0m\u001b[1;3;38;2;11;159;203mRetrieval entering 6faf4439-4024-40a8-9667-2f1f6aeb1f5c: TextNode\n",
      "\u001b[0m\u001b[1;3;38;2;237;90;200mRetrieving from object TextNode with query What was the total value of 'Cash and cash equivalents' as of December 31, 2023?\n",
      "\u001b[0m\u001b[1;3;38;2;11;159;203mRetrieval entering 8cb17c8f-0fb9-44d6-abd5-3fa9c5f23ce9: TextNode\n",
      "\u001b[0m\u001b[1;3;38;2;237;90;200mRetrieving from object TextNode with query What was the total value of 'Cash and cash equivalents' as of December 31, 2023?\n",
      "\u001b[0m\u001b[1;3;38;2;11;159;203mRetrieval entering 349ee415-234c-416a-916d-e89ced629ebd: TextNode\n",
      "\u001b[0m\u001b[1;3;38;2;237;90;200mRetrieving from object TextNode with query What was the total value of 'Cash and cash equivalents' as of December 31, 2023?\n",
      "\u001b[0m\u001b[1;3;38;2;11;159;203mRetrieval entering 084e19c6-fcf7-4acb-84af-55d7f63d3e51: TextNode\n",
      "\u001b[0m\u001b[1;3;38;2;237;90;200mRetrieving from object TextNode with query What was the total value of 'Cash and cash equivalents' as of December 31, 2023?\n",
      "\u001b[0m\u001b[1;3;38;2;11;159;203mRetrieval entering 87842e77-6470-4e80-8423-7b1bd23356a6: TextNode\n",
      "\u001b[0m\u001b[1;3;38;2;237;90;200mRetrieving from object TextNode with query What was the total value of 'Cash and cash equivalents' as of December 31, 2023?\n",
      "\u001b[0m\u001b[1;3;38;2;11;159;203mRetrieval entering b4249ee5-5eb9-4ac9-abb3-05114e68c905: TextNode\n",
      "\u001b[0m\u001b[1;3;38;2;237;90;200mRetrieving from object TextNode with query What was the total value of 'Cash and cash equivalents' as of December 31, 2023?\n",
      "\u001b[0m"
     ]
    }
   ],
   "source": [
    "query = \"What was the total value of 'Cash and cash equivalents' as of December 31, 2023?\"\n",
    "response = recursive_query_engine.query(query)"
   ]
  },
  {
   "cell_type": "code",
   "execution_count": 51,
   "metadata": {},
   "outputs": [
    {
     "name": "stdout",
     "output_type": "stream",
     "text": [
      "The total value of 'Cash and cash equivalents' as of December 31, 2023 was $41,862 million.\n"
     ]
    }
   ],
   "source": [
    "print(response)"
   ]
  },
  {
   "cell_type": "code",
   "execution_count": 38,
   "metadata": {},
   "outputs": [
    {
     "name": "stdout",
     "output_type": "stream",
     "text": [
      "\u001b[1;3;38;2;11;159;203mRetrieval entering 7d4b0904-1e9b-4eff-bfb3-50e515a88dda: TextNode\n",
      "\u001b[0m\u001b[1;3;38;2;237;90;200mRetrieving from object TextNode with query What are the names of people with the director title at Meta?\n",
      "\u001b[0m\u001b[1;3;38;2;11;159;203mRetrieval entering d8afde8c-1adc-4319-a767-08488f2b26ce: TextNode\n",
      "\u001b[0m\u001b[1;3;38;2;237;90;200mRetrieving from object TextNode with query What are the names of people with the director title at Meta?\n",
      "\u001b[0m\u001b[1;3;38;2;11;159;203mRetrieval entering 95ee41eb-36bd-4627-a9e0-6ea128972251: TextNode\n",
      "\u001b[0m\u001b[1;3;38;2;237;90;200mRetrieving from object TextNode with query What are the names of people with the director title at Meta?\n",
      "\u001b[0m\u001b[1;3;38;2;11;159;203mRetrieval entering 997660d2-9888-4091-9c78-548c3ff80a93: TextNode\n",
      "\u001b[0m\u001b[1;3;38;2;237;90;200mRetrieving from object TextNode with query What are the names of people with the director title at Meta?\n",
      "\u001b[0m\u001b[1;3;38;2;11;159;203mRetrieval entering 746b8f51-0776-43c7-8822-612c55090199: TextNode\n",
      "\u001b[0m\u001b[1;3;38;2;237;90;200mRetrieving from object TextNode with query What are the names of people with the director title at Meta?\n",
      "\u001b[0m\u001b[1;3;38;2;11;159;203mRetrieval entering 52744026-ee0d-4a13-8d9f-a05df8069d00: TextNode\n",
      "\u001b[0m\u001b[1;3;38;2;237;90;200mRetrieving from object TextNode with query What are the names of people with the director title at Meta?\n",
      "\u001b[0m\u001b[1;3;38;2;11;159;203mRetrieval entering 01de42ea-3232-4a04-82e1-971f89a9672a: TextNode\n",
      "\u001b[0m\u001b[1;3;38;2;237;90;200mRetrieving from object TextNode with query What are the names of people with the director title at Meta?\n",
      "\u001b[0m\u001b[1;3;38;2;11;159;203mRetrieval entering 8e1dfcfe-a401-4d29-8d36-a98abd6463ce: TextNode\n",
      "\u001b[0m\u001b[1;3;38;2;237;90;200mRetrieving from object TextNode with query What are the names of people with the director title at Meta?\n",
      "\u001b[0m\u001b[1;3;38;2;11;159;203mRetrieval entering 39910855-8a15-452f-8c02-5bfc46cc8c31: TextNode\n",
      "\u001b[0m\u001b[1;3;38;2;237;90;200mRetrieving from object TextNode with query What are the names of people with the director title at Meta?\n",
      "\u001b[0m\u001b[1;3;38;2;11;159;203mRetrieval entering 38586126-5a04-4e56-927e-2901ef96e55e: TextNode\n",
      "\u001b[0m\u001b[1;3;38;2;237;90;200mRetrieving from object TextNode with query What are the names of people with the director title at Meta?\n",
      "\u001b[0m\u001b[1;3;38;2;11;159;203mRetrieval entering 275c7291-49b2-43a7-a164-0fbf70866d77: TextNode\n",
      "\u001b[0m\u001b[1;3;38;2;237;90;200mRetrieving from object TextNode with query What are the names of people with the director title at Meta?\n",
      "\u001b[0m\u001b[1;3;38;2;11;159;203mRetrieval entering 110a235a-727e-4f06-966b-0b7aa5ed9e2a: TextNode\n",
      "\u001b[0m\u001b[1;3;38;2;237;90;200mRetrieving from object TextNode with query What are the names of people with the director title at Meta?\n",
      "\u001b[0m\u001b[1;3;38;2;11;159;203mRetrieval entering 782b9cac-ea49-4da8-8211-a7de946e3761: TextNode\n",
      "\u001b[0m\u001b[1;3;38;2;237;90;200mRetrieving from object TextNode with query What are the names of people with the director title at Meta?\n",
      "\u001b[0m\u001b[1;3;38;2;11;159;203mRetrieval entering 473d98c8-030d-4604-9095-fe72aab893c3: TextNode\n",
      "\u001b[0m\u001b[1;3;38;2;237;90;200mRetrieving from object TextNode with query What are the names of people with the director title at Meta?\n",
      "\u001b[0m\u001b[1;3;38;2;11;159;203mRetrieval entering 4239dd26-a88e-4234-a77e-b838726c9418: TextNode\n",
      "\u001b[0m\u001b[1;3;38;2;237;90;200mRetrieving from object TextNode with query What are the names of people with the director title at Meta?\n",
      "\u001b[0m"
     ]
    }
   ],
   "source": [
    "query = \"What are the names of people with the director title at Meta?\"\n",
    "response = recursive_query_engine.query(query)"
   ]
  },
  {
   "cell_type": "code",
   "execution_count": 39,
   "metadata": {},
   "outputs": [
    {
     "name": "stdout",
     "output_type": "stream",
     "text": [
      "Peggy Alford, Marc L. Andreessen, Andrew W. Houston, Nancy Killefer, Robert M. Kimmitt, Sheryl K. Sandberg, Tracey T. Travis, Tony Xu\n"
     ]
    }
   ],
   "source": [
    "print(response)"
   ]
  },
  {
   "cell_type": "code",
   "execution_count": 40,
   "metadata": {},
   "outputs": [
    {
     "name": "stdout",
     "output_type": "stream",
     "text": [
      "\u001b[1;3;38;2;11;159;203mRetrieval entering a24c2f9b-c5d9-415d-9326-c98297beef22: TextNode\n",
      "\u001b[0m\u001b[1;3;38;2;237;90;200mRetrieving from object TextNode with query What are the main sections of the document?\n",
      "\u001b[0m\u001b[1;3;38;2;11;159;203mRetrieval entering 26b13ae4-2b75-4c9e-a058-6c2b5f6c342e: TextNode\n",
      "\u001b[0m\u001b[1;3;38;2;237;90;200mRetrieving from object TextNode with query What are the main sections of the document?\n",
      "\u001b[0m\u001b[1;3;38;2;11;159;203mRetrieval entering c893f3e8-43fe-437b-82fe-bd2c1315a15c: TextNode\n",
      "\u001b[0m\u001b[1;3;38;2;237;90;200mRetrieving from object TextNode with query What are the main sections of the document?\n",
      "\u001b[0m\u001b[1;3;38;2;11;159;203mRetrieval entering 51787609-c5ef-40b2-9b25-a4781ce71bb7: TextNode\n",
      "\u001b[0m\u001b[1;3;38;2;237;90;200mRetrieving from object TextNode with query What are the main sections of the document?\n",
      "\u001b[0m\u001b[1;3;38;2;11;159;203mRetrieval entering 8e5192e9-72f5-4aaa-8339-43a637f3c112: TextNode\n",
      "\u001b[0m\u001b[1;3;38;2;237;90;200mRetrieving from object TextNode with query What are the main sections of the document?\n",
      "\u001b[0m\u001b[1;3;38;2;11;159;203mRetrieval entering 6d5272d2-8979-4f33-bdc0-1b90aa49a29e: TextNode\n",
      "\u001b[0m\u001b[1;3;38;2;237;90;200mRetrieving from object TextNode with query What are the main sections of the document?\n",
      "\u001b[0m\u001b[1;3;38;2;11;159;203mRetrieval entering 457b8158-0ee4-4178-bfc0-147bb71cfb1e: TextNode\n",
      "\u001b[0m\u001b[1;3;38;2;237;90;200mRetrieving from object TextNode with query What are the main sections of the document?\n",
      "\u001b[0m\u001b[1;3;38;2;11;159;203mRetrieval entering 739224bb-8951-4778-a393-14ae51a71963: TextNode\n",
      "\u001b[0m\u001b[1;3;38;2;237;90;200mRetrieving from object TextNode with query What are the main sections of the document?\n",
      "\u001b[0m\u001b[1;3;38;2;11;159;203mRetrieval entering 0673e8e7-36bf-4dd9-a86d-8cfe92256c26: TextNode\n",
      "\u001b[0m\u001b[1;3;38;2;237;90;200mRetrieving from object TextNode with query What are the main sections of the document?\n",
      "\u001b[0m\u001b[1;3;38;2;11;159;203mRetrieval entering d39dec2e-93ff-44ba-afda-03279d2bba0f: TextNode\n",
      "\u001b[0m\u001b[1;3;38;2;237;90;200mRetrieving from object TextNode with query What are the main sections of the document?\n",
      "\u001b[0m\u001b[1;3;38;2;11;159;203mRetrieval entering 78c16cd6-341a-4c30-9971-8d804dbc7390: TextNode\n",
      "\u001b[0m\u001b[1;3;38;2;237;90;200mRetrieving from object TextNode with query What are the main sections of the document?\n",
      "\u001b[0m\u001b[1;3;38;2;11;159;203mRetrieval entering 5ef158df-fa92-4a8b-bec4-043705c5ebf7: TextNode\n",
      "\u001b[0m\u001b[1;3;38;2;237;90;200mRetrieving from object TextNode with query What are the main sections of the document?\n",
      "\u001b[0m\u001b[1;3;38;2;11;159;203mRetrieval entering ae80d8fc-679d-47ae-8d63-351d3a45684e: TextNode\n",
      "\u001b[0m\u001b[1;3;38;2;237;90;200mRetrieving from object TextNode with query What are the main sections of the document?\n",
      "\u001b[0m\u001b[1;3;38;2;11;159;203mRetrieval entering 5f6671f2-ac58-4387-87b2-a0104e06c8c7: TextNode\n",
      "\u001b[0m\u001b[1;3;38;2;237;90;200mRetrieving from object TextNode with query What are the main sections of the document?\n",
      "\u001b[0m\u001b[1;3;38;2;11;159;203mRetrieval entering 83a3c337-9f21-40c4-a58c-fd8aa5a8ef50: TextNode\n",
      "\u001b[0m\u001b[1;3;38;2;237;90;200mRetrieving from object TextNode with query What are the main sections of the document?\n",
      "\u001b[0m"
     ]
    }
   ],
   "source": [
    "query = \"What are the main sections of the document?\"\n",
    "response = recursive_query_engine.query(query)"
   ]
  },
  {
   "cell_type": "code",
   "execution_count": 41,
   "metadata": {},
   "outputs": [
    {
     "name": "stdout",
     "output_type": "stream",
     "text": [
      "The main sections of the document include Directors, Executive Officers and Corporate Governance, Executive Compensation, Security Ownership of Certain Beneficial Owners and Management and Related Stockholder Matters, Certain Relationships and Related Transactions, and Director Independence, and Principal Accountant Fees and Services.\n"
     ]
    }
   ],
   "source": [
    "print(response)"
   ]
  },
  {
   "cell_type": "code",
   "execution_count": 42,
   "metadata": {},
   "outputs": [
    {
     "name": "stdout",
     "output_type": "stream",
     "text": [
      "\u001b[1;3;38;2;11;159;203mRetrieval entering 9c13d365-5d24-4585-a3f4-02f4cfaf735d: TextNode\n",
      "\u001b[0m\u001b[1;3;38;2;237;90;200mRetrieving from object TextNode with query List me the table of contents?\n",
      "\u001b[0m\u001b[1;3;38;2;11;159;203mRetrieval entering 3b477f19-61f2-4187-b971-40841d652538: TextNode\n",
      "\u001b[0m\u001b[1;3;38;2;237;90;200mRetrieving from object TextNode with query List me the table of contents?\n",
      "\u001b[0m\u001b[1;3;38;2;11;159;203mRetrieval entering c893f3e8-43fe-437b-82fe-bd2c1315a15c: TextNode\n",
      "\u001b[0m\u001b[1;3;38;2;237;90;200mRetrieving from object TextNode with query List me the table of contents?\n",
      "\u001b[0m\u001b[1;3;38;2;11;159;203mRetrieval entering 26b13ae4-2b75-4c9e-a058-6c2b5f6c342e: TextNode\n",
      "\u001b[0m\u001b[1;3;38;2;237;90;200mRetrieving from object TextNode with query List me the table of contents?\n",
      "\u001b[0m\u001b[1;3;38;2;11;159;203mRetrieval entering 1adbd1d3-cc5c-4b6d-b511-f28477f8df77: TextNode\n",
      "\u001b[0m\u001b[1;3;38;2;237;90;200mRetrieving from object TextNode with query List me the table of contents?\n",
      "\u001b[0m\u001b[1;3;38;2;11;159;203mRetrieval entering 6c302510-7d8a-45d2-ad2a-45dbd3b25225: TextNode\n",
      "\u001b[0m\u001b[1;3;38;2;237;90;200mRetrieving from object TextNode with query List me the table of contents?\n",
      "\u001b[0m\u001b[1;3;38;2;11;159;203mRetrieval entering 4646cdd8-ef64-42aa-8c34-9a85f1af27a5: TextNode\n",
      "\u001b[0m\u001b[1;3;38;2;237;90;200mRetrieving from object TextNode with query List me the table of contents?\n",
      "\u001b[0m\u001b[1;3;38;2;11;159;203mRetrieval entering 07baa6f5-ae11-4186-8b76-e5852500507a: TextNode\n",
      "\u001b[0m\u001b[1;3;38;2;237;90;200mRetrieving from object TextNode with query List me the table of contents?\n",
      "\u001b[0m\u001b[1;3;38;2;11;159;203mRetrieval entering d8afde8c-1adc-4319-a767-08488f2b26ce: TextNode\n",
      "\u001b[0m\u001b[1;3;38;2;237;90;200mRetrieving from object TextNode with query List me the table of contents?\n",
      "\u001b[0m\u001b[1;3;38;2;11;159;203mRetrieval entering 457b8158-0ee4-4178-bfc0-147bb71cfb1e: TextNode\n",
      "\u001b[0m\u001b[1;3;38;2;237;90;200mRetrieving from object TextNode with query List me the table of contents?\n",
      "\u001b[0m\u001b[1;3;38;2;11;159;203mRetrieval entering 0673e8e7-36bf-4dd9-a86d-8cfe92256c26: TextNode\n",
      "\u001b[0m\u001b[1;3;38;2;237;90;200mRetrieving from object TextNode with query List me the table of contents?\n",
      "\u001b[0m\u001b[1;3;38;2;11;159;203mRetrieval entering 7e12222f-87e4-417f-be41-deed2da241ba: TextNode\n",
      "\u001b[0m\u001b[1;3;38;2;237;90;200mRetrieving from object TextNode with query List me the table of contents?\n",
      "\u001b[0m\u001b[1;3;38;2;11;159;203mRetrieval entering bc047fc3-962b-41bc-90b9-21fdea08f40d: TextNode\n",
      "\u001b[0m\u001b[1;3;38;2;237;90;200mRetrieving from object TextNode with query List me the table of contents?\n",
      "\u001b[0m\u001b[1;3;38;2;11;159;203mRetrieval entering d39dec2e-93ff-44ba-afda-03279d2bba0f: TextNode\n",
      "\u001b[0m\u001b[1;3;38;2;237;90;200mRetrieving from object TextNode with query List me the table of contents?\n",
      "\u001b[0m\u001b[1;3;38;2;11;159;203mRetrieval entering cb42a128-a3be-4d01-90b0-c216f64d2c6b: TextNode\n",
      "\u001b[0m\u001b[1;3;38;2;237;90;200mRetrieving from object TextNode with query List me the table of contents?\n",
      "\u001b[0m"
     ]
    }
   ],
   "source": [
    "query = \"List me the table of contents?\"\n",
    "response = recursive_query_engine.query(query)"
   ]
  },
  {
   "cell_type": "code",
   "execution_count": 43,
   "metadata": {},
   "outputs": [
    {
     "name": "stdout",
     "output_type": "stream",
     "text": [
      "The table of contents includes documents such as Reports of Independent Registered Public Accounting Firm, Consolidated Balance Sheets, Consolidated Statements of Income, Consolidated Statements of Comprehensive Income, Consolidated Statements of Stockholders' Equity, Consolidated Statements of Cash Flows, Notes to Consolidated Financial Statements, Amended and Restated Certificate of Incorporation, Amended and Restated Bylaws, Form of Class A Common Stock Certificate, Form of Class B Common Stock Certificate, Indenture, First Supplemental Indenture, Second Supplemental Indenture, Description of Registrant's Capital Stock, Form of Indemnification Agreement, 2012 Equity Incentive Plan, Third Amendment to the 2012 Equity Incentive Plan, 2012 Equity Incentive Plan forms of award agreements, and 2012 Equity Incentive Plan forms of award agreements (Additional Forms).\n"
     ]
    }
   ],
   "source": [
    "print(response)"
   ]
  }
 ],
 "metadata": {
  "kernelspec": {
   "display_name": "llamaindex_env",
   "language": "python",
   "name": "llamaindex_env"
  },
  "language_info": {
   "codemirror_mode": {
    "name": "ipython",
    "version": 3
   },
   "file_extension": ".py",
   "mimetype": "text/x-python",
   "name": "python",
   "nbconvert_exporter": "python",
   "pygments_lexer": "ipython3",
   "version": "3.11.6"
  }
 },
 "nbformat": 4,
 "nbformat_minor": 2
}
